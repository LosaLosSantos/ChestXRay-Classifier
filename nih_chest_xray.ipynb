{
  "cells": [
    {
      "cell_type": "markdown",
      "metadata": {
        "id": "ddCCa-o5chE0"
      },
      "source": [
        "# Chest X-Ray Classification Project: Leveraging Deep Learning for Medical Image Analysis"
      ]
    },
    {
      "cell_type": "code",
      "execution_count": 1,
      "metadata": {
        "id": "_wF0EoXkFxf0"
      },
      "outputs": [],
      "source": [
        "import numpy as np\n",
        "import pandas as pd\n",
        "import matplotlib.pyplot as plt\n",
        "import matplotlib.image as pli\n",
        "import seaborn as sns\n",
        "import os\n",
        "import tensorflow as tf\n",
        "from PIL import Image\n",
        "import torch\n",
        "from torch import nn\n",
        "from tqdm import tqdm\n",
        "import torch.nn as nn\n",
        "import torch.optim as optim\n",
        "from torch.utils.data import Dataset, DataLoader\n",
        "from torchvision import transforms, models\n",
        "import pandas as pd\n",
        "from sklearn.metrics import classification_report\n",
        "from google.colab import drive\n",
        "from torchvision import transforms\n",
        "from torch.utils.data import ConcatDataset\n",
        "from torchvision.models import mobilenet_v2, MobileNet_V2_Weights\n",
        "import random\n",
        "import torch"
      ]
    },
    {
      "cell_type": "code",
      "execution_count": 2,
      "metadata": {
        "colab": {
          "base_uri": "https://localhost:8080/"
        },
        "id": "vV_3BcLMwXLD",
        "outputId": "c4137610-ad78-4828-dab2-dbfecbd2569d"
      },
      "outputs": [
        {
          "output_type": "stream",
          "name": "stdout",
          "text": [
            "Mounted at /content/drive\n"
          ]
        }
      ],
      "source": [
        "drive.mount('/content/drive')"
      ]
    },
    {
      "cell_type": "code",
      "execution_count": 3,
      "metadata": {
        "colab": {
          "base_uri": "https://localhost:8080/"
        },
        "id": "DkZBYKPXsq0F",
        "outputId": "3888a5fb-503c-4c81-839e-ebaf5a50b7f8"
      },
      "outputs": [
        {
          "output_type": "stream",
          "name": "stdout",
          "text": [
            "[{'image_path': '/content/drive/My Drive/xrays_tot/images_001/images/00000001_000.png', 'labels': ['Cardiomegaly']}, {'image_path': '/content/drive/My Drive/xrays_tot/images_001/images/00000001_001.png', 'labels': ['Cardiomegaly', 'Emphysema']}, {'image_path': '/content/drive/My Drive/xrays_tot/images_001/images/00000001_002.png', 'labels': ['Cardiomegaly', 'Effusion']}, {'image_path': '/content/drive/My Drive/xrays_tot/images_001/images/00000002_000.png', 'labels': ['No Finding']}, {'image_path': '/content/drive/My Drive/xrays_tot/images_001/images/00000003_000.png', 'labels': ['Hernia']}]\n"
          ]
        }
      ],
      "source": [
        "base_path = \"/content/drive/My Drive/xrays_tot\"\n",
        "labels_file = os.path.join(base_path, \"Data_Entry_2017.csv\")\n",
        "\n",
        "labels_df = pd.read_csv(labels_file)\n",
        "image_folders = [f\"images_{str(i).zfill(3)}\" for i in range(1, 11)]\n",
        "\n",
        "data_tot = []\n",
        "for _, row in labels_df.iterrows():\n",
        "    image_name = row[\"Image Index\"]\n",
        "    labels = row[\"Finding Labels\"].split('|')\n",
        "\n",
        "    image_path = None\n",
        "    for folder in image_folders:\n",
        "        potential_path = os.path.join(base_path, folder, \"images\", image_name)\n",
        "        if os.path.exists(potential_path):\n",
        "            image_path = potential_path\n",
        "            break\n",
        "\n",
        "    if image_path:\n",
        "        data_tot.append({'image_path': image_path, 'labels': labels})\n",
        "\n",
        "print(data_tot[:5])"
      ]
    },
    {
      "cell_type": "code",
      "execution_count": 4,
      "metadata": {
        "colab": {
          "base_uri": "https://localhost:8080/"
        },
        "id": "Ell-epsFgiTp",
        "outputId": "3e9deb99-0469-400f-f1d9-f284591b1e78"
      },
      "outputs": [
        {
          "output_type": "stream",
          "name": "stdout",
          "text": [
            "<class 'pandas.core.frame.DataFrame'>\n",
            "RangeIndex: 112120 entries, 0 to 112119\n",
            "Data columns (total 12 columns):\n",
            " #   Column                       Non-Null Count   Dtype  \n",
            "---  ------                       --------------   -----  \n",
            " 0   Image Index                  112120 non-null  object \n",
            " 1   Finding Labels               112120 non-null  object \n",
            " 2   Follow-up #                  112120 non-null  int64  \n",
            " 3   Patient ID                   112120 non-null  int64  \n",
            " 4   Patient Age                  112120 non-null  int64  \n",
            " 5   Patient Gender               112120 non-null  object \n",
            " 6   View Position                112120 non-null  object \n",
            " 7   OriginalImage[Width          112120 non-null  int64  \n",
            " 8   Height]                      112120 non-null  int64  \n",
            " 9   OriginalImagePixelSpacing[x  112120 non-null  float64\n",
            " 10  y]                           112120 non-null  float64\n",
            " 11  Unnamed: 11                  0 non-null       float64\n",
            "dtypes: float64(3), int64(5), object(4)\n",
            "memory usage: 10.3+ MB\n"
          ]
        }
      ],
      "source": [
        "labels_df.info()"
      ]
    },
    {
      "cell_type": "code",
      "execution_count": 5,
      "metadata": {
        "colab": {
          "base_uri": "https://localhost:8080/",
          "height": 243
        },
        "id": "0gGBBM1hggaB",
        "outputId": "27b44214-43e4-42c0-bdea-69a57dda5cf6"
      },
      "outputs": [
        {
          "output_type": "execute_result",
          "data": {
            "text/plain": [
              "        Image Index          Finding Labels  Follow-up #  Patient ID  \\\n",
              "0  00000001_000.png            Cardiomegaly            0           1   \n",
              "1  00000001_001.png  Cardiomegaly|Emphysema            1           1   \n",
              "2  00000001_002.png   Cardiomegaly|Effusion            2           1   \n",
              "3  00000002_000.png              No Finding            0           2   \n",
              "4  00000003_000.png                  Hernia            0           3   \n",
              "\n",
              "   Patient Age Patient Gender View Position  OriginalImage[Width  Height]  \\\n",
              "0           58              M            PA                 2682     2749   \n",
              "1           58              M            PA                 2894     2729   \n",
              "2           58              M            PA                 2500     2048   \n",
              "3           81              M            PA                 2500     2048   \n",
              "4           81              F            PA                 2582     2991   \n",
              "\n",
              "   OriginalImagePixelSpacing[x     y]  Unnamed: 11  \n",
              "0                        0.143  0.143          NaN  \n",
              "1                        0.143  0.143          NaN  \n",
              "2                        0.168  0.168          NaN  \n",
              "3                        0.171  0.171          NaN  \n",
              "4                        0.143  0.143          NaN  "
            ],
            "text/html": [
              "\n",
              "  <div id=\"df-e2b5bfba-51f7-4b42-a381-ac898ad4cfa7\" class=\"colab-df-container\">\n",
              "    <div>\n",
              "<style scoped>\n",
              "    .dataframe tbody tr th:only-of-type {\n",
              "        vertical-align: middle;\n",
              "    }\n",
              "\n",
              "    .dataframe tbody tr th {\n",
              "        vertical-align: top;\n",
              "    }\n",
              "\n",
              "    .dataframe thead th {\n",
              "        text-align: right;\n",
              "    }\n",
              "</style>\n",
              "<table border=\"1\" class=\"dataframe\">\n",
              "  <thead>\n",
              "    <tr style=\"text-align: right;\">\n",
              "      <th></th>\n",
              "      <th>Image Index</th>\n",
              "      <th>Finding Labels</th>\n",
              "      <th>Follow-up #</th>\n",
              "      <th>Patient ID</th>\n",
              "      <th>Patient Age</th>\n",
              "      <th>Patient Gender</th>\n",
              "      <th>View Position</th>\n",
              "      <th>OriginalImage[Width</th>\n",
              "      <th>Height]</th>\n",
              "      <th>OriginalImagePixelSpacing[x</th>\n",
              "      <th>y]</th>\n",
              "      <th>Unnamed: 11</th>\n",
              "    </tr>\n",
              "  </thead>\n",
              "  <tbody>\n",
              "    <tr>\n",
              "      <th>0</th>\n",
              "      <td>00000001_000.png</td>\n",
              "      <td>Cardiomegaly</td>\n",
              "      <td>0</td>\n",
              "      <td>1</td>\n",
              "      <td>58</td>\n",
              "      <td>M</td>\n",
              "      <td>PA</td>\n",
              "      <td>2682</td>\n",
              "      <td>2749</td>\n",
              "      <td>0.143</td>\n",
              "      <td>0.143</td>\n",
              "      <td>NaN</td>\n",
              "    </tr>\n",
              "    <tr>\n",
              "      <th>1</th>\n",
              "      <td>00000001_001.png</td>\n",
              "      <td>Cardiomegaly|Emphysema</td>\n",
              "      <td>1</td>\n",
              "      <td>1</td>\n",
              "      <td>58</td>\n",
              "      <td>M</td>\n",
              "      <td>PA</td>\n",
              "      <td>2894</td>\n",
              "      <td>2729</td>\n",
              "      <td>0.143</td>\n",
              "      <td>0.143</td>\n",
              "      <td>NaN</td>\n",
              "    </tr>\n",
              "    <tr>\n",
              "      <th>2</th>\n",
              "      <td>00000001_002.png</td>\n",
              "      <td>Cardiomegaly|Effusion</td>\n",
              "      <td>2</td>\n",
              "      <td>1</td>\n",
              "      <td>58</td>\n",
              "      <td>M</td>\n",
              "      <td>PA</td>\n",
              "      <td>2500</td>\n",
              "      <td>2048</td>\n",
              "      <td>0.168</td>\n",
              "      <td>0.168</td>\n",
              "      <td>NaN</td>\n",
              "    </tr>\n",
              "    <tr>\n",
              "      <th>3</th>\n",
              "      <td>00000002_000.png</td>\n",
              "      <td>No Finding</td>\n",
              "      <td>0</td>\n",
              "      <td>2</td>\n",
              "      <td>81</td>\n",
              "      <td>M</td>\n",
              "      <td>PA</td>\n",
              "      <td>2500</td>\n",
              "      <td>2048</td>\n",
              "      <td>0.171</td>\n",
              "      <td>0.171</td>\n",
              "      <td>NaN</td>\n",
              "    </tr>\n",
              "    <tr>\n",
              "      <th>4</th>\n",
              "      <td>00000003_000.png</td>\n",
              "      <td>Hernia</td>\n",
              "      <td>0</td>\n",
              "      <td>3</td>\n",
              "      <td>81</td>\n",
              "      <td>F</td>\n",
              "      <td>PA</td>\n",
              "      <td>2582</td>\n",
              "      <td>2991</td>\n",
              "      <td>0.143</td>\n",
              "      <td>0.143</td>\n",
              "      <td>NaN</td>\n",
              "    </tr>\n",
              "  </tbody>\n",
              "</table>\n",
              "</div>\n",
              "    <div class=\"colab-df-buttons\">\n",
              "\n",
              "  <div class=\"colab-df-container\">\n",
              "    <button class=\"colab-df-convert\" onclick=\"convertToInteractive('df-e2b5bfba-51f7-4b42-a381-ac898ad4cfa7')\"\n",
              "            title=\"Convert this dataframe to an interactive table.\"\n",
              "            style=\"display:none;\">\n",
              "\n",
              "  <svg xmlns=\"http://www.w3.org/2000/svg\" height=\"24px\" viewBox=\"0 -960 960 960\">\n",
              "    <path d=\"M120-120v-720h720v720H120Zm60-500h600v-160H180v160Zm220 220h160v-160H400v160Zm0 220h160v-160H400v160ZM180-400h160v-160H180v160Zm440 0h160v-160H620v160ZM180-180h160v-160H180v160Zm440 0h160v-160H620v160Z\"/>\n",
              "  </svg>\n",
              "    </button>\n",
              "\n",
              "  <style>\n",
              "    .colab-df-container {\n",
              "      display:flex;\n",
              "      gap: 12px;\n",
              "    }\n",
              "\n",
              "    .colab-df-convert {\n",
              "      background-color: #E8F0FE;\n",
              "      border: none;\n",
              "      border-radius: 50%;\n",
              "      cursor: pointer;\n",
              "      display: none;\n",
              "      fill: #1967D2;\n",
              "      height: 32px;\n",
              "      padding: 0 0 0 0;\n",
              "      width: 32px;\n",
              "    }\n",
              "\n",
              "    .colab-df-convert:hover {\n",
              "      background-color: #E2EBFA;\n",
              "      box-shadow: 0px 1px 2px rgba(60, 64, 67, 0.3), 0px 1px 3px 1px rgba(60, 64, 67, 0.15);\n",
              "      fill: #174EA6;\n",
              "    }\n",
              "\n",
              "    .colab-df-buttons div {\n",
              "      margin-bottom: 4px;\n",
              "    }\n",
              "\n",
              "    [theme=dark] .colab-df-convert {\n",
              "      background-color: #3B4455;\n",
              "      fill: #D2E3FC;\n",
              "    }\n",
              "\n",
              "    [theme=dark] .colab-df-convert:hover {\n",
              "      background-color: #434B5C;\n",
              "      box-shadow: 0px 1px 3px 1px rgba(0, 0, 0, 0.15);\n",
              "      filter: drop-shadow(0px 1px 2px rgba(0, 0, 0, 0.3));\n",
              "      fill: #FFFFFF;\n",
              "    }\n",
              "  </style>\n",
              "\n",
              "    <script>\n",
              "      const buttonEl =\n",
              "        document.querySelector('#df-e2b5bfba-51f7-4b42-a381-ac898ad4cfa7 button.colab-df-convert');\n",
              "      buttonEl.style.display =\n",
              "        google.colab.kernel.accessAllowed ? 'block' : 'none';\n",
              "\n",
              "      async function convertToInteractive(key) {\n",
              "        const element = document.querySelector('#df-e2b5bfba-51f7-4b42-a381-ac898ad4cfa7');\n",
              "        const dataTable =\n",
              "          await google.colab.kernel.invokeFunction('convertToInteractive',\n",
              "                                                    [key], {});\n",
              "        if (!dataTable) return;\n",
              "\n",
              "        const docLinkHtml = 'Like what you see? Visit the ' +\n",
              "          '<a target=\"_blank\" href=https://colab.research.google.com/notebooks/data_table.ipynb>data table notebook</a>'\n",
              "          + ' to learn more about interactive tables.';\n",
              "        element.innerHTML = '';\n",
              "        dataTable['output_type'] = 'display_data';\n",
              "        await google.colab.output.renderOutput(dataTable, element);\n",
              "        const docLink = document.createElement('div');\n",
              "        docLink.innerHTML = docLinkHtml;\n",
              "        element.appendChild(docLink);\n",
              "      }\n",
              "    </script>\n",
              "  </div>\n",
              "\n",
              "\n",
              "<div id=\"df-e41ec928-e020-4663-9a03-4860d76ea9e9\">\n",
              "  <button class=\"colab-df-quickchart\" onclick=\"quickchart('df-e41ec928-e020-4663-9a03-4860d76ea9e9')\"\n",
              "            title=\"Suggest charts\"\n",
              "            style=\"display:none;\">\n",
              "\n",
              "<svg xmlns=\"http://www.w3.org/2000/svg\" height=\"24px\"viewBox=\"0 0 24 24\"\n",
              "     width=\"24px\">\n",
              "    <g>\n",
              "        <path d=\"M19 3H5c-1.1 0-2 .9-2 2v14c0 1.1.9 2 2 2h14c1.1 0 2-.9 2-2V5c0-1.1-.9-2-2-2zM9 17H7v-7h2v7zm4 0h-2V7h2v10zm4 0h-2v-4h2v4z\"/>\n",
              "    </g>\n",
              "</svg>\n",
              "  </button>\n",
              "\n",
              "<style>\n",
              "  .colab-df-quickchart {\n",
              "      --bg-color: #E8F0FE;\n",
              "      --fill-color: #1967D2;\n",
              "      --hover-bg-color: #E2EBFA;\n",
              "      --hover-fill-color: #174EA6;\n",
              "      --disabled-fill-color: #AAA;\n",
              "      --disabled-bg-color: #DDD;\n",
              "  }\n",
              "\n",
              "  [theme=dark] .colab-df-quickchart {\n",
              "      --bg-color: #3B4455;\n",
              "      --fill-color: #D2E3FC;\n",
              "      --hover-bg-color: #434B5C;\n",
              "      --hover-fill-color: #FFFFFF;\n",
              "      --disabled-bg-color: #3B4455;\n",
              "      --disabled-fill-color: #666;\n",
              "  }\n",
              "\n",
              "  .colab-df-quickchart {\n",
              "    background-color: var(--bg-color);\n",
              "    border: none;\n",
              "    border-radius: 50%;\n",
              "    cursor: pointer;\n",
              "    display: none;\n",
              "    fill: var(--fill-color);\n",
              "    height: 32px;\n",
              "    padding: 0;\n",
              "    width: 32px;\n",
              "  }\n",
              "\n",
              "  .colab-df-quickchart:hover {\n",
              "    background-color: var(--hover-bg-color);\n",
              "    box-shadow: 0 1px 2px rgba(60, 64, 67, 0.3), 0 1px 3px 1px rgba(60, 64, 67, 0.15);\n",
              "    fill: var(--button-hover-fill-color);\n",
              "  }\n",
              "\n",
              "  .colab-df-quickchart-complete:disabled,\n",
              "  .colab-df-quickchart-complete:disabled:hover {\n",
              "    background-color: var(--disabled-bg-color);\n",
              "    fill: var(--disabled-fill-color);\n",
              "    box-shadow: none;\n",
              "  }\n",
              "\n",
              "  .colab-df-spinner {\n",
              "    border: 2px solid var(--fill-color);\n",
              "    border-color: transparent;\n",
              "    border-bottom-color: var(--fill-color);\n",
              "    animation:\n",
              "      spin 1s steps(1) infinite;\n",
              "  }\n",
              "\n",
              "  @keyframes spin {\n",
              "    0% {\n",
              "      border-color: transparent;\n",
              "      border-bottom-color: var(--fill-color);\n",
              "      border-left-color: var(--fill-color);\n",
              "    }\n",
              "    20% {\n",
              "      border-color: transparent;\n",
              "      border-left-color: var(--fill-color);\n",
              "      border-top-color: var(--fill-color);\n",
              "    }\n",
              "    30% {\n",
              "      border-color: transparent;\n",
              "      border-left-color: var(--fill-color);\n",
              "      border-top-color: var(--fill-color);\n",
              "      border-right-color: var(--fill-color);\n",
              "    }\n",
              "    40% {\n",
              "      border-color: transparent;\n",
              "      border-right-color: var(--fill-color);\n",
              "      border-top-color: var(--fill-color);\n",
              "    }\n",
              "    60% {\n",
              "      border-color: transparent;\n",
              "      border-right-color: var(--fill-color);\n",
              "    }\n",
              "    80% {\n",
              "      border-color: transparent;\n",
              "      border-right-color: var(--fill-color);\n",
              "      border-bottom-color: var(--fill-color);\n",
              "    }\n",
              "    90% {\n",
              "      border-color: transparent;\n",
              "      border-bottom-color: var(--fill-color);\n",
              "    }\n",
              "  }\n",
              "</style>\n",
              "\n",
              "  <script>\n",
              "    async function quickchart(key) {\n",
              "      const quickchartButtonEl =\n",
              "        document.querySelector('#' + key + ' button');\n",
              "      quickchartButtonEl.disabled = true;  // To prevent multiple clicks.\n",
              "      quickchartButtonEl.classList.add('colab-df-spinner');\n",
              "      try {\n",
              "        const charts = await google.colab.kernel.invokeFunction(\n",
              "            'suggestCharts', [key], {});\n",
              "      } catch (error) {\n",
              "        console.error('Error during call to suggestCharts:', error);\n",
              "      }\n",
              "      quickchartButtonEl.classList.remove('colab-df-spinner');\n",
              "      quickchartButtonEl.classList.add('colab-df-quickchart-complete');\n",
              "    }\n",
              "    (() => {\n",
              "      let quickchartButtonEl =\n",
              "        document.querySelector('#df-e41ec928-e020-4663-9a03-4860d76ea9e9 button');\n",
              "      quickchartButtonEl.style.display =\n",
              "        google.colab.kernel.accessAllowed ? 'block' : 'none';\n",
              "    })();\n",
              "  </script>\n",
              "</div>\n",
              "\n",
              "    </div>\n",
              "  </div>\n"
            ],
            "application/vnd.google.colaboratory.intrinsic+json": {
              "type": "dataframe",
              "variable_name": "labels_df"
            }
          },
          "metadata": {},
          "execution_count": 5
        }
      ],
      "source": [
        "labels_df.head()"
      ]
    },
    {
      "cell_type": "code",
      "execution_count": 6,
      "metadata": {
        "colab": {
          "base_uri": "https://localhost:8080/"
        },
        "id": "lt_luG2egkrt",
        "outputId": "4fa13cf7-f9ed-4883-bb6b-9af2cf0a7ca7"
      },
      "outputs": [
        {
          "output_type": "execute_result",
          "data": {
            "text/plain": [
              "(112120, 12)"
            ]
          },
          "metadata": {},
          "execution_count": 6
        }
      ],
      "source": [
        "labels_df.shape"
      ]
    },
    {
      "cell_type": "code",
      "execution_count": 7,
      "metadata": {
        "colab": {
          "base_uri": "https://localhost:8080/",
          "height": 489
        },
        "id": "dTnF4zPdgt-1",
        "outputId": "f1ca0281-e4c3-48b7-9e5e-82836b3f3062"
      },
      "outputs": [
        {
          "output_type": "execute_result",
          "data": {
            "text/plain": [
              "Finding Labels\n",
              "No Finding                                                         60361\n",
              "Infiltration                                                        9547\n",
              "Atelectasis                                                         4215\n",
              "Effusion                                                            3955\n",
              "Nodule                                                              2705\n",
              "                                                                   ...  \n",
              "Atelectasis|Consolidation|Edema|Effusion|Infiltration|Pneumonia        1\n",
              "Atelectasis|Consolidation|Effusion|Emphysema|Mass|Pneumothorax         1\n",
              "Cardiomegaly|Effusion|Pleural_Thickening|Pneumothorax                  1\n",
              "Edema|Infiltration|Pneumothorax                                        1\n",
              "Atelectasis|Consolidation|Mass|Pleural_Thickening|Pneumothorax         1\n",
              "Name: count, Length: 836, dtype: int64"
            ],
            "text/html": [
              "<div>\n",
              "<style scoped>\n",
              "    .dataframe tbody tr th:only-of-type {\n",
              "        vertical-align: middle;\n",
              "    }\n",
              "\n",
              "    .dataframe tbody tr th {\n",
              "        vertical-align: top;\n",
              "    }\n",
              "\n",
              "    .dataframe thead th {\n",
              "        text-align: right;\n",
              "    }\n",
              "</style>\n",
              "<table border=\"1\" class=\"dataframe\">\n",
              "  <thead>\n",
              "    <tr style=\"text-align: right;\">\n",
              "      <th></th>\n",
              "      <th>count</th>\n",
              "    </tr>\n",
              "    <tr>\n",
              "      <th>Finding Labels</th>\n",
              "      <th></th>\n",
              "    </tr>\n",
              "  </thead>\n",
              "  <tbody>\n",
              "    <tr>\n",
              "      <th>No Finding</th>\n",
              "      <td>60361</td>\n",
              "    </tr>\n",
              "    <tr>\n",
              "      <th>Infiltration</th>\n",
              "      <td>9547</td>\n",
              "    </tr>\n",
              "    <tr>\n",
              "      <th>Atelectasis</th>\n",
              "      <td>4215</td>\n",
              "    </tr>\n",
              "    <tr>\n",
              "      <th>Effusion</th>\n",
              "      <td>3955</td>\n",
              "    </tr>\n",
              "    <tr>\n",
              "      <th>Nodule</th>\n",
              "      <td>2705</td>\n",
              "    </tr>\n",
              "    <tr>\n",
              "      <th>...</th>\n",
              "      <td>...</td>\n",
              "    </tr>\n",
              "    <tr>\n",
              "      <th>Atelectasis|Consolidation|Edema|Effusion|Infiltration|Pneumonia</th>\n",
              "      <td>1</td>\n",
              "    </tr>\n",
              "    <tr>\n",
              "      <th>Atelectasis|Consolidation|Effusion|Emphysema|Mass|Pneumothorax</th>\n",
              "      <td>1</td>\n",
              "    </tr>\n",
              "    <tr>\n",
              "      <th>Cardiomegaly|Effusion|Pleural_Thickening|Pneumothorax</th>\n",
              "      <td>1</td>\n",
              "    </tr>\n",
              "    <tr>\n",
              "      <th>Edema|Infiltration|Pneumothorax</th>\n",
              "      <td>1</td>\n",
              "    </tr>\n",
              "    <tr>\n",
              "      <th>Atelectasis|Consolidation|Mass|Pleural_Thickening|Pneumothorax</th>\n",
              "      <td>1</td>\n",
              "    </tr>\n",
              "  </tbody>\n",
              "</table>\n",
              "<p>836 rows × 1 columns</p>\n",
              "</div><br><label><b>dtype:</b> int64</label>"
            ]
          },
          "metadata": {},
          "execution_count": 7
        }
      ],
      "source": [
        "labels_df['Finding Labels'].value_counts()"
      ]
    },
    {
      "cell_type": "code",
      "execution_count": 8,
      "metadata": {
        "colab": {
          "base_uri": "https://localhost:8080/"
        },
        "id": "TNsdqb46tAfF",
        "outputId": "eb69d651-230e-47df-a330-3edee40bb99b"
      },
      "outputs": [
        {
          "output_type": "stream",
          "name": "stdout",
          "text": [
            "Class 1 (Infiltration): 15845\n",
            "Class 0 (Not Infiltration): 75599\n"
          ]
        }
      ],
      "source": [
        "num_class_1 = sum([\"Infiltration\" in r[\"labels\"] for r in data_tot])\n",
        "num_class_0 = sum([\"Infiltration\" not in r[\"labels\"] for r in data_tot])\n",
        "\n",
        "print(f\"Class 1 (Infiltration): {num_class_1}\")\n",
        "print(f\"Class 0 (Not Infiltration): {num_class_0}\")"
      ]
    },
    {
      "cell_type": "code",
      "execution_count": 9,
      "metadata": {
        "colab": {
          "base_uri": "https://localhost:8080/"
        },
        "id": "hOjCvitIw7pd",
        "outputId": "c5a48a0a-3608-4a9c-e6b7-8df611fbde45"
      },
      "outputs": [
        {
          "output_type": "stream",
          "name": "stdout",
          "text": [
            "New Class 1 (Infiltration): 5000\n",
            "New Class 0 (Not Infiltration): 6000\n"
          ]
        }
      ],
      "source": [
        "class_1_data = [r for r in data_tot if \"Infiltration\" in r[\"labels\"]]\n",
        "class_0_data = [r for r in data_tot if \"Infiltration\" not in r[\"labels\"]]\n",
        "\n",
        "random.seed(42)\n",
        "class_1_sampled = random.sample(class_1_data, 5000)\n",
        "class_0_sampled = random.sample(class_0_data, 6000)\n",
        "\n",
        "balanced_data = class_0_sampled + class_1_sampled\n",
        "\n",
        "new_num_class_1 = sum([\"Infiltration\" in r[\"labels\"] for r in balanced_data])\n",
        "new_num_class_0 = sum([\"Infiltration\" not in r[\"labels\"] for r in balanced_data])\n",
        "\n",
        "print(f\"New Class 1 (Infiltration): {new_num_class_1}\")\n",
        "print(f\"New Class 0 (Not Infiltration): {new_num_class_0}\")"
      ]
    },
    {
      "cell_type": "code",
      "execution_count": 10,
      "metadata": {
        "id": "jAjEU-farESL"
      },
      "outputs": [],
      "source": [
        "torch.manual_seed(42)\n",
        "random.seed(42)\n",
        "np.random.seed(42)\n",
        "if torch.cuda.is_available():\n",
        "    torch.cuda.manual_seed(42)\n",
        "    torch.cuda.manual_seed_all(42)  # For multi-GPU\n",
        "    torch.backends.cudnn.deterministic = True\n",
        "    torch.backends.cudnn.benchmark = False"
      ]
    },
    {
      "cell_type": "code",
      "execution_count": 11,
      "metadata": {
        "id": "KD0IK5ndrFrZ"
      },
      "outputs": [],
      "source": [
        "tf.random.set_seed(42)\n",
        "np.random.seed(42)\n",
        "random.seed(42)"
      ]
    },
    {
      "cell_type": "markdown",
      "metadata": {
        "id": "obXi_Ijtovpy"
      },
      "source": [
        "# TensorFlow Keras / MobileNetV2"
      ]
    },
    {
      "cell_type": "code",
      "execution_count": 12,
      "metadata": {
        "id": "NhOAknxt0uxM"
      },
      "outputs": [],
      "source": [
        "def preprocess_item(image_path, label):\n",
        "    image = tf.io.read_file(image_path)\n",
        "    image = tf.image.decode_png(image, channels=3)\n",
        "    image = tf.image.resize(image, [224, 224]) / 255.0\n",
        "    return image, label\n",
        "\n",
        "paths = [item['image_path'] for item in balanced_data]\n",
        "labels = [1 if \"Infiltration\" in item[\"labels\"] else 0 for item in balanced_data]\n",
        "\n",
        "dataset = tf.data.Dataset.from_tensor_slices((paths, labels))\n",
        "# Maps the preprocess_item function over the dataset with parallel processing to improve speed\n",
        "# (num_parallel_calls=tf.data.AUTOTUNE)\n",
        "dataset = dataset.map(lambda x, y: preprocess_item(x, y), num_parallel_calls=tf.data.AUTOTUNE)\n",
        "\n",
        "dataset_nobatch = dataset"
      ]
    },
    {
      "cell_type": "code",
      "execution_count": 13,
      "metadata": {
        "id": "Ef3lW3BxsfjE"
      },
      "outputs": [],
      "source": [
        "# Shuffle to improve your workout\n",
        "dataset = dataset.shuffle(buffer_size=3000)\n",
        "\n",
        "# Batch creation. Prefetch to load next batch in parallel\n",
        "dataset = dataset.batch(64).prefetch(tf.data.AUTOTUNE)"
      ]
    },
    {
      "cell_type": "code",
      "execution_count": 14,
      "metadata": {
        "colab": {
          "base_uri": "https://localhost:8080/"
        },
        "id": "qUmewFwJ1CW6",
        "outputId": "5a80339c-a5f1-4996-8bad-940d40e4e1d7"
      },
      "outputs": [
        {
          "output_type": "stream",
          "name": "stdout",
          "text": [
            "Batch shape: (64, 224, 224, 3), Labels shape: (64,)\n"
          ]
        }
      ],
      "source": [
        "for images, labels in dataset.take(1):\n",
        "    print(f\"Batch shape: {images.shape}, Labels shape: {labels.shape}\")"
      ]
    },
    {
      "cell_type": "code",
      "execution_count": 15,
      "metadata": {
        "colab": {
          "base_uri": "https://localhost:8080/"
        },
        "id": "bszIW7AZ2Fbr",
        "outputId": "ed4ed0a7-47c6-4b9a-efa9-a75516e14162"
      },
      "outputs": [
        {
          "output_type": "stream",
          "name": "stdout",
          "text": [
            "Total_number_of: 11000\n"
          ]
        }
      ],
      "source": [
        "total_images = 0\n",
        "for images, labels in dataset:\n",
        "   total_images += images.shape[0]\n",
        "\n",
        "print(f\"Total_number_of: {total_images}\")"
      ]
    },
    {
      "cell_type": "markdown",
      "metadata": {
        "id": "yFiZbA1BXgGJ"
      },
      "source": [
        "**Model Description**  \n",
        "A binary classification model is defined using MobileNetV2 as the base, pretrained on ImageNet. The base model is used as a feature extractor with its weights frozen (trainable=False).\n",
        "\n",
        "Key components include:  \n",
        "- GlobalAveragePooling2D.   \n",
        "- A fully connected layer with 64 units and ReLU activation.\n",
        "- An output layer with 1 unit and sigmoid activation for binary classification.  \n",
        "- Optimizer: Adam, configured with a learning rate of 0.001.\n",
        "- Loss function: Binary crossentropy, suitable for binary classification tasks.\n",
        "- Metric: Accuracy, to evaluate the model’s performance."
      ]
    },
    {
      "cell_type": "code",
      "execution_count": 16,
      "metadata": {
        "colab": {
          "base_uri": "https://localhost:8080/"
        },
        "id": "NwFzd11s-PR6",
        "outputId": "36538dc2-082a-4a39-fb64-e97ae2fcc83c"
      },
      "outputs": [
        {
          "output_type": "stream",
          "name": "stdout",
          "text": [
            "Downloading data from https://storage.googleapis.com/tensorflow/keras-applications/mobilenet_v2/mobilenet_v2_weights_tf_dim_ordering_tf_kernels_1.0_224_no_top.h5\n",
            "\u001b[1m9406464/9406464\u001b[0m \u001b[32m━━━━━━━━━━━━━━━━━━━━\u001b[0m\u001b[37m\u001b[0m \u001b[1m0s\u001b[0m 0us/step\n"
          ]
        }
      ],
      "source": [
        "base_model = tf.keras.applications.MobileNetV2(input_shape=(224, 224, 3), include_top=False, weights='imagenet')\n",
        "# the pre-trained model uses weights derived from training on ImageNet\n",
        "base_model.trainable = False\n",
        "\n",
        "model_tf = tf.keras.Sequential([base_model,\n",
        "    tf.keras.layers.GlobalAveragePooling2D(),\n",
        "    tf.keras.layers.Dense(64, activation='relu'),\n",
        "    tf.keras.layers.Dense(1, activation='sigmoid')])\n",
        "\n",
        "optimizer = tf.keras.optimizers.Adam(learning_rate=0.001)"
      ]
    },
    {
      "cell_type": "code",
      "execution_count": 17,
      "metadata": {
        "id": "_1cJyEG1-yO2"
      },
      "outputs": [],
      "source": [
        "model_tf.compile(optimizer=optimizer,loss='binary_crossentropy',metrics=['accuracy'])"
      ]
    },
    {
      "cell_type": "code",
      "execution_count": 18,
      "metadata": {
        "id": "otmksIiIx1sG"
      },
      "outputs": [],
      "source": [
        "dataset = dataset.shuffle(buffer_size=len(balanced_data))\n",
        "dataset_size = len(dataset)\n",
        "\n",
        "test_size = int(dataset_size * 0.2)\n",
        "train_size = dataset_size - test_size\n",
        "\n",
        "test_set = dataset.take(test_size)  # Top 20% for the test\n",
        "train_set = dataset.skip(test_size)  # Remaining 80% for training"
      ]
    },
    {
      "cell_type": "code",
      "execution_count": 19,
      "metadata": {
        "colab": {
          "base_uri": "https://localhost:8080/"
        },
        "id": "GQtLdrL58WFv",
        "outputId": "c701dc3b-470e-40f4-e839-f95c4784bced"
      },
      "outputs": [
        {
          "output_type": "stream",
          "name": "stdout",
          "text": [
            "Dataset (batch): 172\n",
            "Test set (batch): 34\n",
            "Training set (batch): 138\n"
          ]
        }
      ],
      "source": [
        "print(f\"Dataset (batch): {dataset_size}\")\n",
        "print(f\"Test set (batch): {test_size}\")\n",
        "print(f\"Training set (batch): {train_size}\")"
      ]
    },
    {
      "cell_type": "code",
      "execution_count": 20,
      "metadata": {
        "colab": {
          "base_uri": "https://localhost:8080/"
        },
        "id": "ok8_Fxvb-7x3",
        "outputId": "4127dfdc-0875-43f1-9863-422fe3360762"
      },
      "outputs": [
        {
          "output_type": "stream",
          "name": "stdout",
          "text": [
            "Epoch 1/4\n",
            "\u001b[1m138/138\u001b[0m \u001b[32m━━━━━━━━━━━━━━━━━━━━\u001b[0m\u001b[37m\u001b[0m \u001b[1m68s\u001b[0m 99ms/step - accuracy: 0.5565 - loss: 0.7758\n",
            "Epoch 2/4\n",
            "\u001b[1m138/138\u001b[0m \u001b[32m━━━━━━━━━━━━━━━━━━━━\u001b[0m\u001b[37m\u001b[0m \u001b[1m49s\u001b[0m 56ms/step - accuracy: 0.5628 - loss: 0.7054\n",
            "Epoch 3/4\n",
            "\u001b[1m138/138\u001b[0m \u001b[32m━━━━━━━━━━━━━━━━━━━━\u001b[0m\u001b[37m\u001b[0m \u001b[1m49s\u001b[0m 56ms/step - accuracy: 0.5970 - loss: 0.6669\n",
            "Epoch 4/4\n",
            "\u001b[1m138/138\u001b[0m \u001b[32m━━━━━━━━━━━━━━━━━━━━\u001b[0m\u001b[37m\u001b[0m \u001b[1m48s\u001b[0m 56ms/step - accuracy: 0.5949 - loss: 0.6630\n"
          ]
        }
      ],
      "source": [
        "history = model_tf.fit(train_set, epochs=4)"
      ]
    },
    {
      "cell_type": "code",
      "execution_count": 21,
      "metadata": {
        "id": "QBN_pYAN_Fq0",
        "colab": {
          "base_uri": "https://localhost:8080/"
        },
        "outputId": "b719dfd2-7ae9-4e02-b36f-3c1f765ebf0e"
      },
      "outputs": [
        {
          "output_type": "stream",
          "name": "stdout",
          "text": [
            "\u001b[1m34/34\u001b[0m \u001b[32m━━━━━━━━━━━━━━━━━━━━\u001b[0m\u001b[37m\u001b[0m \u001b[1m47s\u001b[0m 101ms/step - accuracy: 0.6112 - loss: 0.6513\n",
            "Test Loss: 0.6461013555526733, Test Accuracy: 0.6240774989128113\n"
          ]
        }
      ],
      "source": [
        "test_loss, test_accuracy = model_tf.evaluate(test_set)\n",
        "print(f\"Test Loss: {test_loss}, Test Accuracy: {test_accuracy}\")"
      ]
    },
    {
      "cell_type": "code",
      "execution_count": 22,
      "metadata": {
        "colab": {
          "base_uri": "https://localhost:8080/"
        },
        "id": "KPv6X-_LCAYm",
        "outputId": "0372ac70-5fc8-4e60-ea38-96d5b10d64f4"
      },
      "outputs": [
        {
          "output_type": "stream",
          "name": "stdout",
          "text": [
            "\u001b[1m2/2\u001b[0m \u001b[32m━━━━━━━━━━━━━━━━━━━━\u001b[0m\u001b[37m\u001b[0m \u001b[1m9s\u001b[0m 4s/step\n",
            "\u001b[1m2/2\u001b[0m \u001b[32m━━━━━━━━━━━━━━━━━━━━\u001b[0m\u001b[37m\u001b[0m \u001b[1m0s\u001b[0m 22ms/step\n",
            "\u001b[1m2/2\u001b[0m \u001b[32m━━━━━━━━━━━━━━━━━━━━\u001b[0m\u001b[37m\u001b[0m \u001b[1m0s\u001b[0m 22ms/step\n",
            "\u001b[1m2/2\u001b[0m \u001b[32m━━━━━━━━━━━━━━━━━━━━\u001b[0m\u001b[37m\u001b[0m \u001b[1m0s\u001b[0m 22ms/step\n",
            "\u001b[1m2/2\u001b[0m \u001b[32m━━━━━━━━━━━━━━━━━━━━\u001b[0m\u001b[37m\u001b[0m \u001b[1m0s\u001b[0m 22ms/step\n",
            "\u001b[1m2/2\u001b[0m \u001b[32m━━━━━━━━━━━━━━━━━━━━\u001b[0m\u001b[37m\u001b[0m \u001b[1m0s\u001b[0m 22ms/step\n",
            "\u001b[1m2/2\u001b[0m \u001b[32m━━━━━━━━━━━━━━━━━━━━\u001b[0m\u001b[37m\u001b[0m \u001b[1m0s\u001b[0m 22ms/step\n",
            "\u001b[1m2/2\u001b[0m \u001b[32m━━━━━━━━━━━━━━━━━━━━\u001b[0m\u001b[37m\u001b[0m \u001b[1m0s\u001b[0m 22ms/step\n",
            "\u001b[1m2/2\u001b[0m \u001b[32m━━━━━━━━━━━━━━━━━━━━\u001b[0m\u001b[37m\u001b[0m \u001b[1m0s\u001b[0m 22ms/step\n",
            "\u001b[1m2/2\u001b[0m \u001b[32m━━━━━━━━━━━━━━━━━━━━\u001b[0m\u001b[37m\u001b[0m \u001b[1m0s\u001b[0m 22ms/step\n",
            "\u001b[1m2/2\u001b[0m \u001b[32m━━━━━━━━━━━━━━━━━━━━\u001b[0m\u001b[37m\u001b[0m \u001b[1m0s\u001b[0m 22ms/step\n",
            "\u001b[1m2/2\u001b[0m \u001b[32m━━━━━━━━━━━━━━━━━━━━\u001b[0m\u001b[37m\u001b[0m \u001b[1m0s\u001b[0m 22ms/step\n",
            "\u001b[1m2/2\u001b[0m \u001b[32m━━━━━━━━━━━━━━━━━━━━\u001b[0m\u001b[37m\u001b[0m \u001b[1m0s\u001b[0m 22ms/step\n",
            "\u001b[1m2/2\u001b[0m \u001b[32m━━━━━━━━━━━━━━━━━━━━\u001b[0m\u001b[37m\u001b[0m \u001b[1m0s\u001b[0m 22ms/step\n",
            "\u001b[1m2/2\u001b[0m \u001b[32m━━━━━━━━━━━━━━━━━━━━\u001b[0m\u001b[37m\u001b[0m \u001b[1m0s\u001b[0m 22ms/step\n",
            "\u001b[1m2/2\u001b[0m \u001b[32m━━━━━━━━━━━━━━━━━━━━\u001b[0m\u001b[37m\u001b[0m \u001b[1m0s\u001b[0m 22ms/step\n",
            "\u001b[1m2/2\u001b[0m \u001b[32m━━━━━━━━━━━━━━━━━━━━\u001b[0m\u001b[37m\u001b[0m \u001b[1m0s\u001b[0m 22ms/step\n",
            "\u001b[1m2/2\u001b[0m \u001b[32m━━━━━━━━━━━━━━━━━━━━\u001b[0m\u001b[37m\u001b[0m \u001b[1m0s\u001b[0m 22ms/step\n",
            "\u001b[1m2/2\u001b[0m \u001b[32m━━━━━━━━━━━━━━━━━━━━\u001b[0m\u001b[37m\u001b[0m \u001b[1m0s\u001b[0m 22ms/step\n",
            "\u001b[1m2/2\u001b[0m \u001b[32m━━━━━━━━━━━━━━━━━━━━\u001b[0m\u001b[37m\u001b[0m \u001b[1m0s\u001b[0m 22ms/step\n",
            "\u001b[1m2/2\u001b[0m \u001b[32m━━━━━━━━━━━━━━━━━━━━\u001b[0m\u001b[37m\u001b[0m \u001b[1m0s\u001b[0m 22ms/step\n",
            "\u001b[1m2/2\u001b[0m \u001b[32m━━━━━━━━━━━━━━━━━━━━\u001b[0m\u001b[37m\u001b[0m \u001b[1m0s\u001b[0m 22ms/step\n",
            "\u001b[1m2/2\u001b[0m \u001b[32m━━━━━━━━━━━━━━━━━━━━\u001b[0m\u001b[37m\u001b[0m \u001b[1m0s\u001b[0m 22ms/step\n",
            "\u001b[1m2/2\u001b[0m \u001b[32m━━━━━━━━━━━━━━━━━━━━\u001b[0m\u001b[37m\u001b[0m \u001b[1m0s\u001b[0m 22ms/step\n",
            "\u001b[1m2/2\u001b[0m \u001b[32m━━━━━━━━━━━━━━━━━━━━\u001b[0m\u001b[37m\u001b[0m \u001b[1m0s\u001b[0m 22ms/step\n",
            "\u001b[1m2/2\u001b[0m \u001b[32m━━━━━━━━━━━━━━━━━━━━\u001b[0m\u001b[37m\u001b[0m \u001b[1m0s\u001b[0m 22ms/step\n",
            "\u001b[1m2/2\u001b[0m \u001b[32m━━━━━━━━━━━━━━━━━━━━\u001b[0m\u001b[37m\u001b[0m \u001b[1m0s\u001b[0m 22ms/step\n",
            "\u001b[1m2/2\u001b[0m \u001b[32m━━━━━━━━━━━━━━━━━━━━\u001b[0m\u001b[37m\u001b[0m \u001b[1m0s\u001b[0m 22ms/step\n",
            "\u001b[1m2/2\u001b[0m \u001b[32m━━━━━━━━━━━━━━━━━━━━\u001b[0m\u001b[37m\u001b[0m \u001b[1m0s\u001b[0m 22ms/step\n",
            "\u001b[1m2/2\u001b[0m \u001b[32m━━━━━━━━━━━━━━━━━━━━\u001b[0m\u001b[37m\u001b[0m \u001b[1m0s\u001b[0m 22ms/step\n",
            "\u001b[1m2/2\u001b[0m \u001b[32m━━━━━━━━━━━━━━━━━━━━\u001b[0m\u001b[37m\u001b[0m \u001b[1m0s\u001b[0m 22ms/step\n",
            "\u001b[1m2/2\u001b[0m \u001b[32m━━━━━━━━━━━━━━━━━━━━\u001b[0m\u001b[37m\u001b[0m \u001b[1m0s\u001b[0m 22ms/step\n",
            "\u001b[1m2/2\u001b[0m \u001b[32m━━━━━━━━━━━━━━━━━━━━\u001b[0m\u001b[37m\u001b[0m \u001b[1m0s\u001b[0m 22ms/step\n",
            "\u001b[1m2/2\u001b[0m \u001b[32m━━━━━━━━━━━━━━━━━━━━\u001b[0m\u001b[37m\u001b[0m \u001b[1m0s\u001b[0m 22ms/step \n",
            "              precision    recall  f1-score   support\n",
            "\n",
            "           0       0.51      0.81      0.63       951\n",
            "           1       0.73      0.39      0.51      1217\n",
            "\n",
            "    accuracy                           0.58      2168\n",
            "   macro avg       0.62      0.60      0.57      2168\n",
            "weighted avg       0.63      0.58      0.56      2168\n",
            "\n"
          ]
        }
      ],
      "source": [
        "y_true = []\n",
        "y_pred = []\n",
        "for images, labels in test_set:\n",
        "    preds = model_tf.predict(images)\n",
        "    y_true.extend(labels.numpy())\n",
        "    y_pred.extend((preds > 0.5).astype(int).flatten())\n",
        "\n",
        "print(classification_report(y_true, y_pred))"
      ]
    },
    {
      "cell_type": "markdown",
      "metadata": {
        "id": "1HdhOB2rl7OK"
      },
      "source": [
        "This is due to the imbalance of the dataset the model almost always predicts 0, largely failing to detect most of the positive cases.  \n",
        "**Precision for Class 1**:  \n",
        "0.39 indicates that when the model predicts \"Infiltration\", it is correct 39% of the time.  \n",
        "**Recall for Class 1**:  \n",
        "0.14 indicates that the model only identifies 14% of actual \"Infiltration\" cases."
      ]
    },
    {
      "cell_type": "markdown",
      "metadata": {
        "id": "dRjn9PgjNzAh"
      },
      "source": [
        "# Pytorch / MobileNetV2\n",
        "\n"
      ]
    },
    {
      "cell_type": "code",
      "execution_count": 23,
      "metadata": {
        "id": "JCkz6uhxN7la"
      },
      "outputs": [],
      "source": [
        "class ChestXRayDataset(Dataset):\n",
        "    def __init__(self, data, transform=None):\n",
        "        self.data = data\n",
        "        self.transform = transform\n",
        "\n",
        "    def __len__(self):\n",
        "        return len(self.data)\n",
        "\n",
        "    def __getitem__(self, idx):\n",
        "        image_path = self.data[idx]['image_path']\n",
        "        label = 1 if \"Infiltration\" in self.data[idx]['labels'] else 0\n",
        "        image = Image.open(image_path).convert(\"RGB\")\n",
        "\n",
        "        if self.transform:\n",
        "            image = self.transform(image)\n",
        "\n",
        "        return image, label"
      ]
    },
    {
      "cell_type": "code",
      "execution_count": 24,
      "metadata": {
        "id": "ag4Npg9OZYvu"
      },
      "outputs": [],
      "source": [
        "# Transformations\n",
        "transform = transforms.Compose([\n",
        "    transforms.Resize((224, 224)),\n",
        "    transforms.ToTensor()])\n",
        "\n",
        "dataset_pytorch = ChestXRayDataset(balanced_data, transform=transform)\n",
        "train_size = int(0.8 * len(dataset_pytorch))\n",
        "test_size = len(dataset_pytorch) - train_size\n",
        "\n",
        "train_dataset, test_dataset = torch.utils.data.random_split(dataset_pytorch, [train_size, test_size])\n",
        "train_loader = DataLoader(train_dataset, batch_size=64, shuffle=True)\n",
        "test_loader = DataLoader(test_dataset, batch_size=64, shuffle=False)"
      ]
    },
    {
      "cell_type": "markdown",
      "metadata": {
        "id": "4c_TIogewSQi"
      },
      "source": [
        "**Model Description**  \n",
        "A binary classification model is defined using MobileNetV2 as the base, pretrained on ImageNet. The base model is used as a feature extractor with its weights retained from the pretraining.\n",
        "\n",
        "Key components include:\n",
        "  \n",
        "- A linear classifier, replacing the original output layer, with a single output logit for binary classification.\n",
        "- Loss function: BCEWithLogitsLoss, which combines sigmoid activation and binary crossentropy for stable handling of logits.\n",
        "- Optimizer: Adam, configured with a learning rate of 0.001."
      ]
    },
    {
      "cell_type": "code",
      "execution_count": 25,
      "metadata": {
        "id": "mTmkGr1aZcSC",
        "colab": {
          "base_uri": "https://localhost:8080/"
        },
        "outputId": "7a6af66a-581f-495a-8b59-3476ccdf0bb6"
      },
      "outputs": [
        {
          "output_type": "stream",
          "name": "stderr",
          "text": [
            "/usr/local/lib/python3.10/dist-packages/torchvision/models/_utils.py:208: UserWarning: The parameter 'pretrained' is deprecated since 0.13 and may be removed in the future, please use 'weights' instead.\n",
            "  warnings.warn(\n",
            "/usr/local/lib/python3.10/dist-packages/torchvision/models/_utils.py:223: UserWarning: Arguments other than a weight enum or `None` for 'weights' are deprecated since 0.13 and may be removed in the future. The current behavior is equivalent to passing `weights=MobileNet_V2_Weights.IMAGENET1K_V1`. You can also use `weights=MobileNet_V2_Weights.DEFAULT` to get the most up-to-date weights.\n",
            "  warnings.warn(msg)\n",
            "Downloading: \"https://download.pytorch.org/models/mobilenet_v2-b0353104.pth\" to /root/.cache/torch/hub/checkpoints/mobilenet_v2-b0353104.pth\n",
            "100%|██████████| 13.6M/13.6M [00:00<00:00, 113MB/s] \n"
          ]
        }
      ],
      "source": [
        "# Pre-trained model\n",
        "model = models.mobilenet_v2(pretrained=True)\n",
        "model.classifier[1] = nn.Linear(model.last_channel, 1)  # Binary output\n",
        "device = torch.device(\"cuda\" if torch.cuda.is_available() else \"cpu\")\n",
        "model = model.to(device)\n",
        "\n",
        "# Loss and optimizer\n",
        "criterion = nn.BCEWithLogitsLoss()\n",
        "optimizer = optim.Adam(model.parameters(), lr=0.001)"
      ]
    },
    {
      "cell_type": "code",
      "execution_count": 26,
      "metadata": {
        "colab": {
          "base_uri": "https://localhost:8080/"
        },
        "id": "zhsouOD4bH4d",
        "outputId": "39e980e6-9450-4177-9680-12431c71ab17"
      },
      "outputs": [
        {
          "output_type": "stream",
          "name": "stdout",
          "text": [
            "Epoch 1/4, Loss: 0.6560\n",
            "Epoch 2/4, Loss: 0.6276\n",
            "Epoch 3/4, Loss: 0.6128\n",
            "Epoch 4/4, Loss: 0.5998\n"
          ]
        }
      ],
      "source": [
        "# Training\n",
        "num_epochs = 4\n",
        "\n",
        "for epoch in range(num_epochs):\n",
        "    model.train()\n",
        "    running_loss = 0.0\n",
        "    for images, labels in train_loader:\n",
        "        images, labels = images.to(device), labels.to(device).float()\n",
        "        optimizer.zero_grad()\n",
        "        outputs = model(images).squeeze()\n",
        "        loss = criterion(outputs, labels)\n",
        "        loss.backward()\n",
        "        optimizer.step()\n",
        "        running_loss += loss.item()\n",
        "\n",
        "    print(f\"Epoch {epoch+1}/{num_epochs}, Loss: {running_loss/len(train_loader):.4f}\")"
      ]
    },
    {
      "cell_type": "code",
      "execution_count": 27,
      "metadata": {
        "colab": {
          "base_uri": "https://localhost:8080/"
        },
        "id": "Q_xsLrd-b8H5",
        "outputId": "ee27282c-7831-4a6b-ab73-c9e4af6ef194"
      },
      "outputs": [
        {
          "output_type": "stream",
          "name": "stdout",
          "text": [
            "Test Classification Report:\n",
            "              precision    recall  f1-score   support\n",
            "\n",
            "           0       0.63      0.85      0.72      1191\n",
            "           1       0.70      0.40      0.51      1009\n",
            "\n",
            "    accuracy                           0.64      2200\n",
            "   macro avg       0.66      0.62      0.61      2200\n",
            "weighted avg       0.66      0.64      0.62      2200\n",
            "\n"
          ]
        }
      ],
      "source": [
        "# Validation\n",
        "model.eval()\n",
        "y_true, y_pred = [], []\n",
        "with torch.no_grad():\n",
        "    for images, labels in test_loader:\n",
        "        images, labels = images.to(device), labels.to(device)\n",
        "        outputs = model(images).squeeze()\n",
        "        preds = (torch.sigmoid(outputs) > 0.5).int()\n",
        "        y_true.extend(labels.cpu().numpy())\n",
        "        y_pred.extend(preds.cpu().numpy())\n",
        "\n",
        "print(\"Test Classification Report:\")\n",
        "print(classification_report(y_true, y_pred))"
      ]
    },
    {
      "cell_type": "markdown",
      "metadata": {
        "id": "IZrLnI-C2-nQ"
      },
      "source": [
        "The results highlight the significant impact of dataset imbalance on the model's performance.\n",
        "\n",
        "- **Precision for Class 1**:  \n",
        "  With a precision of 0.33, the model is correct 33% of times when it predicts class 1.\n",
        "\n",
        "- **Recall for Class 1**:  \n",
        "  A recall of 0.01 indicates that the model correctly identifies only 1% of actual positive cases.\n",
        "\n",
        "The overall accuracy (83%) and the high performance on **class 0** are driven by the dataset imbalance, as the majority of the samples belong to this class."
      ]
    },
    {
      "cell_type": "markdown",
      "metadata": {
        "id": "KvYl-6cQaNy5"
      },
      "source": [
        "# Data Augmentation and Balancing for Class 1  \n",
        "This section implements data augmentation techniques to balance the dataset and improve the model's ability to detect positive cases (Class 1 - \"Infiltration\"). Augmentation is applied selectively to Class 1 images, and the augmented data is combined with the original dataset for training."
      ]
    },
    {
      "cell_type": "markdown",
      "metadata": {
        "id": "gE92LJTye8on"
      },
      "source": [
        "## TensorFlow Keras / MobileNetV2 (with Data Augmentation)"
      ]
    },
    {
      "cell_type": "code",
      "execution_count": 28,
      "metadata": {
        "id": "-me3D_MdObB_",
        "colab": {
          "base_uri": "https://localhost:8080/"
        },
        "outputId": "90762e2d-22f7-4a71-8f94-bc02d6a0f245"
      },
      "outputs": [
        {
          "output_type": "stream",
          "name": "stdout",
          "text": [
            "1000\n"
          ]
        }
      ],
      "source": [
        "class_1_sampled_to_augment = random.sample(class_1_sampled, 1000)\n",
        "print(len(class_1_sampled_to_augment))"
      ]
    },
    {
      "cell_type": "code",
      "execution_count": 29,
      "metadata": {
        "id": "3S6XTEEHOx15"
      },
      "outputs": [],
      "source": [
        "def augment_image(image):\n",
        "    # Augmentation operations\n",
        "    image = tf.image.random_flip_left_right(image)  # Horizontal Flip\n",
        "    image = tf.image.random_flip_up_down(image)    # Vertical Flip\n",
        "    image = tf.image.rot90(image, k=np.random.randint(1, 4))  # Random rotation\n",
        "    return image\n",
        "\n",
        "# Preprocessing and augmentation function\n",
        "def preprocess_and_augment(image_path, label):\n",
        "    image = tf.io.read_file(image_path)\n",
        "    image = tf.image.decode_png(image, channels=3)\n",
        "    image = tf.image.resize(image, [224, 224]) / 255.0\n",
        "    image = augment_image(image)\n",
        "    return image, label\n",
        "\n",
        "class_1_paths_to_augment = [item['image_path'] for item in class_1_sampled_to_augment]\n",
        "class_1_labels_to_augment = [1] * len(class_1_paths_to_augment)\n",
        "class_1_sampled_to_augment = tf.data.Dataset.from_tensor_slices((class_1_paths_to_augment, class_1_labels_to_augment))\n",
        "\n",
        "class_1_sampled_augmented = class_1_sampled_to_augment.map(preprocess_and_augment, num_parallel_calls=tf.data.AUTOTUNE)"
      ]
    },
    {
      "cell_type": "code",
      "execution_count": 30,
      "metadata": {
        "colab": {
          "base_uri": "https://localhost:8080/"
        },
        "id": "8jI8a0vN9ybR",
        "outputId": "d9c78ff8-774d-4c8d-e47c-0e83f502ad20"
      },
      "outputs": [
        {
          "output_type": "stream",
          "name": "stdout",
          "text": [
            "Number of augmented samples: 1000\n"
          ]
        }
      ],
      "source": [
        "augmented_count = sum(1 for _ in class_1_sampled_augmented)\n",
        "print(f\"Number of augmented samples: {augmented_count}\")"
      ]
    },
    {
      "cell_type": "code",
      "execution_count": 31,
      "metadata": {
        "colab": {
          "base_uri": "https://localhost:8080/"
        },
        "id": "nwaNec1UVc5Q",
        "outputId": "3c9fc7e3-853b-465e-dedb-a2b87629fe98"
      },
      "outputs": [
        {
          "output_type": "stream",
          "name": "stdout",
          "text": [
            "12000\n"
          ]
        }
      ],
      "source": [
        "final_dataset = dataset_nobatch.concatenate(class_1_sampled_augmented)\n",
        "print(len(final_dataset))"
      ]
    },
    {
      "cell_type": "code",
      "execution_count": 32,
      "metadata": {
        "id": "1hUEnEe8X93s"
      },
      "outputs": [],
      "source": [
        "# Apply shuffle and batching to the combined dataset\n",
        "final_dataset = final_dataset.shuffle(buffer_size=len(final_dataset))\n",
        "final_dataset = final_dataset.batch(64).prefetch(tf.data.AUTOTUNE)"
      ]
    },
    {
      "cell_type": "code",
      "execution_count": 33,
      "metadata": {
        "id": "7h5SFQQdyesh"
      },
      "outputs": [],
      "source": [
        "dataset_size = len(final_dataset)\n",
        "test_size = int(dataset_size * 0.2)\n",
        "train_size = dataset_size - test_size\n",
        "\n",
        "test_set = final_dataset.take(test_size)  # Top 20% for the test\n",
        "train_set = final_dataset.skip(test_size)  # Remaining 80% for training"
      ]
    },
    {
      "cell_type": "code",
      "execution_count": 34,
      "metadata": {
        "colab": {
          "base_uri": "https://localhost:8080/"
        },
        "id": "8dymz0-ix2Px",
        "outputId": "3ae58418-14cc-49e6-a0ed-4806ddfcb955"
      },
      "outputs": [
        {
          "output_type": "stream",
          "name": "stdout",
          "text": [
            "Dataset totale: 188\n",
            "Test set: 37\n",
            "Training set: 151\n"
          ]
        }
      ],
      "source": [
        "print(f\"Dataset totale: {dataset_size}\")\n",
        "print(f\"Test set: {test_size}\")\n",
        "print(f\"Training set: {train_size}\")"
      ]
    },
    {
      "cell_type": "code",
      "execution_count": 35,
      "metadata": {
        "id": "70I2YunzrtIB"
      },
      "outputs": [],
      "source": [
        "optimizer = tf.keras.optimizers.Adam(learning_rate=0.001)\n",
        "model_tf.compile(optimizer=optimizer, loss='binary_crossentropy', metrics=['accuracy'])"
      ]
    },
    {
      "cell_type": "code",
      "execution_count": 36,
      "metadata": {
        "colab": {
          "base_uri": "https://localhost:8080/"
        },
        "id": "WQ0zEdcPzP3T",
        "outputId": "387cc282-72d3-4d36-d3fb-1c54595251f2"
      },
      "outputs": [
        {
          "output_type": "stream",
          "name": "stdout",
          "text": [
            "Epoch 1/4\n",
            "\u001b[1m151/151\u001b[0m \u001b[32m━━━━━━━━━━━━━━━━━━━━\u001b[0m\u001b[37m\u001b[0m \u001b[1m61s\u001b[0m 71ms/step - accuracy: 0.6555 - loss: 0.6119\n",
            "Epoch 2/4\n",
            "\u001b[1m151/151\u001b[0m \u001b[32m━━━━━━━━━━━━━━━━━━━━\u001b[0m\u001b[37m\u001b[0m \u001b[1m52s\u001b[0m 58ms/step - accuracy: 0.6728 - loss: 0.5802\n",
            "Epoch 3/4\n",
            "\u001b[1m151/151\u001b[0m \u001b[32m━━━━━━━━━━━━━━━━━━━━\u001b[0m\u001b[37m\u001b[0m \u001b[1m52s\u001b[0m 58ms/step - accuracy: 0.6692 - loss: 0.5824\n",
            "Epoch 4/4\n",
            "\u001b[1m151/151\u001b[0m \u001b[32m━━━━━━━━━━━━━━━━━━━━\u001b[0m\u001b[37m\u001b[0m \u001b[1m52s\u001b[0m 58ms/step - accuracy: 0.6757 - loss: 0.5736\n"
          ]
        }
      ],
      "source": [
        "history = model_tf.fit(train_set, epochs=4)"
      ]
    },
    {
      "cell_type": "code",
      "execution_count": 37,
      "metadata": {
        "colab": {
          "base_uri": "https://localhost:8080/"
        },
        "id": "r0STPpIBzRLa",
        "outputId": "0f8cd113-4a29-4a9d-a7a2-3c3fe3a4bcdf"
      },
      "outputs": [
        {
          "output_type": "stream",
          "name": "stdout",
          "text": [
            "\u001b[1m37/37\u001b[0m \u001b[32m━━━━━━━━━━━━━━━━━━━━\u001b[0m\u001b[37m\u001b[0m \u001b[1m48s\u001b[0m 59ms/step - accuracy: 0.6842 - loss: 0.5612\n",
            "Test Loss: 0.5692644119262695, Test Accuracy: 0.6803209185600281\n"
          ]
        }
      ],
      "source": [
        "test_loss, test_accuracy = model_tf.evaluate(test_set)\n",
        "print(f\"Test Loss: {test_loss}, Test Accuracy: {test_accuracy}\")"
      ]
    },
    {
      "cell_type": "code",
      "execution_count": 38,
      "metadata": {
        "colab": {
          "base_uri": "https://localhost:8080/"
        },
        "id": "v5CELpEyC7we",
        "outputId": "4a10de28-ff5e-4aa6-e9f1-a93d530ee781"
      },
      "outputs": [
        {
          "output_type": "stream",
          "name": "stdout",
          "text": [
            "\u001b[1m2/2\u001b[0m \u001b[32m━━━━━━━━━━━━━━━━━━━━\u001b[0m\u001b[37m\u001b[0m \u001b[1m2s\u001b[0m 24ms/step\n",
            "\u001b[1m2/2\u001b[0m \u001b[32m━━━━━━━━━━━━━━━━━━━━\u001b[0m\u001b[37m\u001b[0m \u001b[1m0s\u001b[0m 32ms/step\n",
            "\u001b[1m2/2\u001b[0m \u001b[32m━━━━━━━━━━━━━━━━━━━━\u001b[0m\u001b[37m\u001b[0m \u001b[1m0s\u001b[0m 32ms/step\n",
            "\u001b[1m2/2\u001b[0m \u001b[32m━━━━━━━━━━━━━━━━━━━━\u001b[0m\u001b[37m\u001b[0m \u001b[1m0s\u001b[0m 27ms/step\n",
            "\u001b[1m2/2\u001b[0m \u001b[32m━━━━━━━━━━━━━━━━━━━━\u001b[0m\u001b[37m\u001b[0m \u001b[1m0s\u001b[0m 27ms/step\n",
            "\u001b[1m2/2\u001b[0m \u001b[32m━━━━━━━━━━━━━━━━━━━━\u001b[0m\u001b[37m\u001b[0m \u001b[1m0s\u001b[0m 27ms/step\n",
            "\u001b[1m2/2\u001b[0m \u001b[32m━━━━━━━━━━━━━━━━━━━━\u001b[0m\u001b[37m\u001b[0m \u001b[1m0s\u001b[0m 25ms/step\n",
            "\u001b[1m2/2\u001b[0m \u001b[32m━━━━━━━━━━━━━━━━━━━━\u001b[0m\u001b[37m\u001b[0m \u001b[1m0s\u001b[0m 24ms/step\n",
            "\u001b[1m2/2\u001b[0m \u001b[32m━━━━━━━━━━━━━━━━━━━━\u001b[0m\u001b[37m\u001b[0m \u001b[1m0s\u001b[0m 24ms/step\n",
            "\u001b[1m2/2\u001b[0m \u001b[32m━━━━━━━━━━━━━━━━━━━━\u001b[0m\u001b[37m\u001b[0m \u001b[1m0s\u001b[0m 24ms/step\n",
            "\u001b[1m2/2\u001b[0m \u001b[32m━━━━━━━━━━━━━━━━━━━━\u001b[0m\u001b[37m\u001b[0m \u001b[1m0s\u001b[0m 24ms/step\n",
            "\u001b[1m2/2\u001b[0m \u001b[32m━━━━━━━━━━━━━━━━━━━━\u001b[0m\u001b[37m\u001b[0m \u001b[1m0s\u001b[0m 24ms/step\n",
            "\u001b[1m2/2\u001b[0m \u001b[32m━━━━━━━━━━━━━━━━━━━━\u001b[0m\u001b[37m\u001b[0m \u001b[1m0s\u001b[0m 24ms/step\n",
            "\u001b[1m2/2\u001b[0m \u001b[32m━━━━━━━━━━━━━━━━━━━━\u001b[0m\u001b[37m\u001b[0m \u001b[1m0s\u001b[0m 23ms/step\n",
            "\u001b[1m2/2\u001b[0m \u001b[32m━━━━━━━━━━━━━━━━━━━━\u001b[0m\u001b[37m\u001b[0m \u001b[1m0s\u001b[0m 23ms/step\n",
            "\u001b[1m2/2\u001b[0m \u001b[32m━━━━━━━━━━━━━━━━━━━━\u001b[0m\u001b[37m\u001b[0m \u001b[1m0s\u001b[0m 23ms/step\n",
            "\u001b[1m2/2\u001b[0m \u001b[32m━━━━━━━━━━━━━━━━━━━━\u001b[0m\u001b[37m\u001b[0m \u001b[1m0s\u001b[0m 22ms/step\n",
            "\u001b[1m2/2\u001b[0m \u001b[32m━━━━━━━━━━━━━━━━━━━━\u001b[0m\u001b[37m\u001b[0m \u001b[1m0s\u001b[0m 22ms/step\n",
            "\u001b[1m2/2\u001b[0m \u001b[32m━━━━━━━━━━━━━━━━━━━━\u001b[0m\u001b[37m\u001b[0m \u001b[1m0s\u001b[0m 22ms/step\n",
            "\u001b[1m2/2\u001b[0m \u001b[32m━━━━━━━━━━━━━━━━━━━━\u001b[0m\u001b[37m\u001b[0m \u001b[1m0s\u001b[0m 22ms/step\n",
            "\u001b[1m2/2\u001b[0m \u001b[32m━━━━━━━━━━━━━━━━━━━━\u001b[0m\u001b[37m\u001b[0m \u001b[1m0s\u001b[0m 22ms/step\n",
            "\u001b[1m2/2\u001b[0m \u001b[32m━━━━━━━━━━━━━━━━━━━━\u001b[0m\u001b[37m\u001b[0m \u001b[1m0s\u001b[0m 22ms/step\n",
            "\u001b[1m2/2\u001b[0m \u001b[32m━━━━━━━━━━━━━━━━━━━━\u001b[0m\u001b[37m\u001b[0m \u001b[1m0s\u001b[0m 23ms/step\n",
            "\u001b[1m2/2\u001b[0m \u001b[32m━━━━━━━━━━━━━━━━━━━━\u001b[0m\u001b[37m\u001b[0m \u001b[1m0s\u001b[0m 22ms/step\n",
            "\u001b[1m2/2\u001b[0m \u001b[32m━━━━━━━━━━━━━━━━━━━━\u001b[0m\u001b[37m\u001b[0m \u001b[1m0s\u001b[0m 22ms/step\n",
            "\u001b[1m2/2\u001b[0m \u001b[32m━━━━━━━━━━━━━━━━━━━━\u001b[0m\u001b[37m\u001b[0m \u001b[1m0s\u001b[0m 22ms/step\n",
            "\u001b[1m2/2\u001b[0m \u001b[32m━━━━━━━━━━━━━━━━━━━━\u001b[0m\u001b[37m\u001b[0m \u001b[1m0s\u001b[0m 22ms/step\n",
            "\u001b[1m2/2\u001b[0m \u001b[32m━━━━━━━━━━━━━━━━━━━━\u001b[0m\u001b[37m\u001b[0m \u001b[1m0s\u001b[0m 22ms/step\n",
            "\u001b[1m2/2\u001b[0m \u001b[32m━━━━━━━━━━━━━━━━━━━━\u001b[0m\u001b[37m\u001b[0m \u001b[1m0s\u001b[0m 22ms/step\n",
            "\u001b[1m2/2\u001b[0m \u001b[32m━━━━━━━━━━━━━━━━━━━━\u001b[0m\u001b[37m\u001b[0m \u001b[1m0s\u001b[0m 22ms/step\n",
            "\u001b[1m2/2\u001b[0m \u001b[32m━━━━━━━━━━━━━━━━━━━━\u001b[0m\u001b[37m\u001b[0m \u001b[1m0s\u001b[0m 22ms/step\n",
            "\u001b[1m2/2\u001b[0m \u001b[32m━━━━━━━━━━━━━━━━━━━━\u001b[0m\u001b[37m\u001b[0m \u001b[1m0s\u001b[0m 22ms/step\n",
            "\u001b[1m2/2\u001b[0m \u001b[32m━━━━━━━━━━━━━━━━━━━━\u001b[0m\u001b[37m\u001b[0m \u001b[1m0s\u001b[0m 22ms/step\n",
            "\u001b[1m2/2\u001b[0m \u001b[32m━━━━━━━━━━━━━━━━━━━━\u001b[0m\u001b[37m\u001b[0m \u001b[1m0s\u001b[0m 23ms/step\n",
            "\u001b[1m2/2\u001b[0m \u001b[32m━━━━━━━━━━━━━━━━━━━━\u001b[0m\u001b[37m\u001b[0m \u001b[1m0s\u001b[0m 22ms/step\n",
            "\u001b[1m2/2\u001b[0m \u001b[32m━━━━━━━━━━━━━━━━━━━━\u001b[0m\u001b[37m\u001b[0m \u001b[1m0s\u001b[0m 23ms/step\n",
            "\u001b[1m2/2\u001b[0m \u001b[32m━━━━━━━━━━━━━━━━━━━━\u001b[0m\u001b[37m\u001b[0m \u001b[1m0s\u001b[0m 22ms/step\n",
            "Classification report for threshold = 0.4\n",
            "              precision    recall  f1-score   support\n",
            "\n",
            "           0       0.73      0.59      0.65      1152\n",
            "           1       0.67      0.79      0.73      1216\n",
            "\n",
            "    accuracy                           0.69      2368\n",
            "   macro avg       0.70      0.69      0.69      2368\n",
            "weighted avg       0.70      0.69      0.69      2368\n",
            "\n",
            "Classification report for threshold = 0.5\n",
            "              precision    recall  f1-score   support\n",
            "\n",
            "           0       0.67      0.77      0.71      1152\n",
            "           1       0.74      0.63      0.68      1216\n",
            "\n",
            "    accuracy                           0.70      2368\n",
            "   macro avg       0.70      0.70      0.70      2368\n",
            "weighted avg       0.71      0.70      0.70      2368\n",
            "\n"
          ]
        }
      ],
      "source": [
        "y_true = []\n",
        "y_pred = []\n",
        "\n",
        "for images, labels in test_set:\n",
        "    preds = model_tf.predict(images)\n",
        "    y_true.extend(labels.numpy())\n",
        "    y_pred.extend(preds.flatten())\n",
        "\n",
        "y_true = np.array(y_true)\n",
        "y_pred = np.array(y_pred)\n",
        "\n",
        "thresholds = [0.4, 0.5]\n",
        "for threshold in thresholds:\n",
        "    y_pred_class = (y_pred > threshold).astype(int)\n",
        "    print(f\"Classification report for threshold = {threshold}\")\n",
        "    print(classification_report(y_true, y_pred_class))\n"
      ]
    },
    {
      "cell_type": "markdown",
      "metadata": {
        "id": "9hR9SZJ_JeZK"
      },
      "source": [
        "The results demonstrate the impact of varying thresholds on the model's performance and its handling of class imbalance. At a low threshold of 0.3, the model achieves high recall for Class 1 (74%) but at the cost of low precision (20%), resulting in many false positives. Increasing the threshold to 0.4 improves overall balance, with Class 1 recall dropping to 57% but precision rising to 23%. At the standard threshold of 0.5, precision for Class 1 improves further (27%), but recall decreases to 44%. These results highlight the trade-off between precision and recall for Class 1 and underscore the need for careful threshold selection and strategies to address dataset imbalance."
      ]
    },
    {
      "cell_type": "markdown",
      "metadata": {
        "id": "LqEAIcv8Rm87"
      },
      "source": [
        "## Pytorch / MobileNetV2 (with Data Augmentation)\n"
      ]
    },
    {
      "cell_type": "code",
      "execution_count": 39,
      "metadata": {
        "id": "4pudLRZjZqGo"
      },
      "outputs": [],
      "source": [
        "# Transformations with Data Augmentation\n",
        "augmentation_transforms = transforms.Compose([\n",
        "    transforms.RandomHorizontalFlip(p=0.5),  # Horizontal Flip\n",
        "    transforms.RandomVerticalFlip(p=0.5),    # Vertical Flip\n",
        "    transforms.RandomRotation(degrees=90),   # Random rotation within 45°\n",
        "    transforms.Resize((224, 224)),\n",
        "    transforms.ToTensor()])\n",
        "\n",
        "# Basic transformations (without augmentation)\n",
        "base_transforms = transforms.Compose([\n",
        "    transforms.Resize((224, 224)),\n",
        "    transforms.ToTensor()])\n",
        "\n",
        "# Original dataset with basic transformations\n",
        "base_dataset = ChestXRayDataset(balanced_data, transform=base_transforms)"
      ]
    },
    {
      "cell_type": "code",
      "execution_count": 40,
      "metadata": {
        "colab": {
          "base_uri": "https://localhost:8080/"
        },
        "id": "QEjbTgaGO8X9",
        "outputId": "90d6b57a-0120-4c97-8180-791dabbf79b5"
      },
      "outputs": [
        {
          "output_type": "stream",
          "name": "stdout",
          "text": [
            "1000\n",
            "12000\n"
          ]
        }
      ],
      "source": [
        "# Dataset augmented for class 1 only\n",
        "class_1_sampled_to_augment = random.sample(class_1_sampled, 1000)\n",
        "class_1_data_augmented = ChestXRayDataset(class_1_sampled_to_augment, transform=augmentation_transforms)\n",
        "print(len(class_1_data_augmented))\n",
        "\n",
        "# Combine the original and augmented dataset\n",
        "combined_dataset = ConcatDataset([base_dataset, class_1_data_augmented])\n",
        "print(len(combined_dataset))"
      ]
    },
    {
      "cell_type": "code",
      "execution_count": 41,
      "metadata": {
        "id": "klJLhhZDPJMj"
      },
      "outputs": [],
      "source": [
        "# DataLoader\n",
        "train_size = int(0.8 * len(combined_dataset))\n",
        "test_size = len(combined_dataset) - train_size\n",
        "\n",
        "train_dataset, test_dataset = torch.utils.data.random_split(combined_dataset, [train_size, test_size])\n",
        "train_loader = DataLoader(train_dataset, batch_size=64, shuffle=True)\n",
        "test_loader = DataLoader(test_dataset, batch_size=64, shuffle=False)"
      ]
    },
    {
      "cell_type": "markdown",
      "metadata": {
        "id": "b1r7kQPK9nQN"
      },
      "source": [
        "______________________________________________________________________________________________________________________________________"
      ]
    },
    {
      "cell_type": "code",
      "execution_count": 42,
      "metadata": {
        "colab": {
          "base_uri": "https://localhost:8080/",
          "height": 1000
        },
        "id": "G_0nsfuzduL7",
        "outputId": "49ceccfa-0d2a-406c-f476-d797fe8c8786"
      },
      "outputs": [
        {
          "output_type": "stream",
          "name": "stderr",
          "text": [
            "Downloading: \"https://download.pytorch.org/models/mobilenet_v2-7ebf99e0.pth\" to /root/.cache/torch/hub/checkpoints/mobilenet_v2-7ebf99e0.pth\n",
            "100%|██████████| 13.6M/13.6M [00:00<00:00, 104MB/s] \n"
          ]
        },
        {
          "output_type": "stream",
          "name": "stdout",
          "text": [
            "\n",
            "--- Training with Learning Rate: 0.01 ---\n",
            "Epoch 1/4, Training Loss: 0.6574, Test Loss: 0.6475\n",
            "Epoch 2/4, Training Loss: 0.6389, Test Loss: 0.6487\n",
            "Epoch 3/4, Training Loss: 0.6424, Test Loss: 0.6415\n",
            "Epoch 4/4, Training Loss: 0.6415, Test Loss: 0.6378\n",
            "Classification report for threshold = 0.4\n",
            "              precision    recall  f1-score   support\n",
            "\n",
            "           0       0.66      0.48      0.56      1208\n",
            "           1       0.59      0.75      0.66      1192\n",
            "\n",
            "    accuracy                           0.61      2400\n",
            "   macro avg       0.62      0.61      0.61      2400\n",
            "weighted avg       0.62      0.61      0.61      2400\n",
            "\n",
            "Classification report for threshold = 0.5\n",
            "              precision    recall  f1-score   support\n",
            "\n",
            "           0       0.63      0.67      0.65      1208\n",
            "           1       0.64      0.60      0.62      1192\n",
            "\n",
            "    accuracy                           0.63      2400\n",
            "   macro avg       0.63      0.63      0.63      2400\n",
            "weighted avg       0.63      0.63      0.63      2400\n",
            "\n"
          ]
        },
        {
          "output_type": "display_data",
          "data": {
            "text/plain": [
              "<Figure size 640x480 with 1 Axes>"
            ],
            "image/png": "[encoded data removed]"
          },
          "metadata": {}
        },
        {
          "output_type": "stream",
          "name": "stdout",
          "text": [
            "\n",
            "--- Training with Learning Rate: 0.001 ---\n",
            "Epoch 1/4, Training Loss: 0.6479, Test Loss: 0.6344\n",
            "Epoch 2/4, Training Loss: 0.6257, Test Loss: 0.6265\n",
            "Epoch 3/4, Training Loss: 0.6168, Test Loss: 0.6303\n",
            "Epoch 4/4, Training Loss: 0.6119, Test Loss: 0.6233\n",
            "Classification report for threshold = 0.4\n",
            "              precision    recall  f1-score   support\n",
            "\n",
            "           0       0.69      0.38      0.49      1208\n",
            "           1       0.57      0.83      0.68      1192\n",
            "\n",
            "    accuracy                           0.60      2400\n",
            "   macro avg       0.63      0.61      0.58      2400\n",
            "weighted avg       0.63      0.60      0.58      2400\n",
            "\n",
            "Classification report for threshold = 0.5\n",
            "              precision    recall  f1-score   support\n",
            "\n",
            "           0       0.65      0.62      0.63      1208\n",
            "           1       0.63      0.66      0.64      1192\n",
            "\n",
            "    accuracy                           0.64      2400\n",
            "   macro avg       0.64      0.64      0.64      2400\n",
            "weighted avg       0.64      0.64      0.64      2400\n",
            "\n"
          ]
        },
        {
          "output_type": "display_data",
          "data": {
            "text/plain": [
              "<Figure size 640x480 with 1 Axes>"
            ],
            "image/png": "[encoded data removed]"
          },
          "metadata": {}
        }
      ],
      "source": [
        "# Define a function to calculate test loss\n",
        "def evaluate_model_loss(model, criterion, data_loader, device):\n",
        "    model.eval()\n",
        "    test_loss = 0.0\n",
        "    with torch.no_grad():\n",
        "        for images, labels in data_loader:\n",
        "            images, labels = images.to(device), labels.to(device).float()\n",
        "            outputs = model(images).squeeze()\n",
        "            loss = criterion(outputs, labels)\n",
        "            test_loss += loss.item()\n",
        "    return test_loss / len(data_loader)\n",
        "\n",
        "# Update train_and_evaluate function\n",
        "def train_and_evaluate(model, optimizer, learning_rate, num_epochs, train_loader, test_loader, thresholds=[0.4, 0.5]):\n",
        "    print(f\"\\n--- Training with Learning Rate: {learning_rate} ---\")\n",
        "    training_losses = []\n",
        "    test_losses = []\n",
        "\n",
        "    for epoch in range(num_epochs):\n",
        "        # Training\n",
        "        model.train()\n",
        "        running_loss = 0.0\n",
        "        for images, labels in train_loader:\n",
        "            images, labels = images.to(device), labels.to(device).float()\n",
        "            optimizer.zero_grad()\n",
        "            outputs = model(images).squeeze()\n",
        "            loss = criterion(outputs, labels)\n",
        "            loss.backward()\n",
        "            optimizer.step()\n",
        "            running_loss += loss.item()\n",
        "\n",
        "        # Calculate average training loss\n",
        "        training_loss = running_loss / len(train_loader)\n",
        "        training_losses.append(training_loss)\n",
        "\n",
        "        # Calculate test loss\n",
        "        test_loss = evaluate_model_loss(model, criterion, test_loader, device)\n",
        "        test_losses.append(test_loss)\n",
        "\n",
        "        print(f\"Epoch {epoch+1}/{num_epochs}, Training Loss: {training_loss:.4f}, Test Loss: {test_loss:.4f}\")\n",
        "\n",
        "    # Evaluation\n",
        "    model.eval()\n",
        "    y_true, y_pred = [], []\n",
        "    with torch.no_grad():\n",
        "        for images, labels in test_loader:\n",
        "            images, labels = images.to(device), labels.to(device)\n",
        "            outputs = model(images).squeeze()\n",
        "            probs = torch.sigmoid(outputs)\n",
        "            y_true.extend(labels.cpu().numpy())\n",
        "            y_pred.extend(probs.cpu().numpy())\n",
        "\n",
        "    y_true = np.array(y_true)\n",
        "    y_pred = np.array(y_pred)\n",
        "\n",
        "    # Metrics for each threshold\n",
        "    for threshold in thresholds:\n",
        "        y_pred_class = (y_pred > threshold).astype(int)\n",
        "        print(f\"Classification report for threshold = {threshold}\")\n",
        "        print(classification_report(y_true, y_pred_class))\n",
        "\n",
        "    # Return metrics and losses for analysis\n",
        "    return y_true, y_pred, training_losses, test_losses\n",
        "\n",
        "# Initialize models, optimizers, and train\n",
        "results = {}\n",
        "learning_rates = [0.01, 0.001]\n",
        "\n",
        "for lr in learning_rates:\n",
        "    # Clone the base model\n",
        "    model = mobilenet_v2(weights=MobileNet_V2_Weights.DEFAULT)\n",
        "    model.classifier[1] = nn.Linear(model.last_channel, 1)\n",
        "    model = model.to(device)\n",
        "\n",
        "    # Define optimizer\n",
        "    optimizer = optim.Adam(model.classifier.parameters(), lr=lr)\n",
        "\n",
        "    # Train and evaluate\n",
        "    y_true, y_pred, training_losses, test_losses = train_and_evaluate(model, optimizer, lr, num_epochs=4, train_loader=train_loader, test_loader=test_loader)\n",
        "\n",
        "    # Store results for further analysis\n",
        "    results[lr] = (y_true, y_pred, training_losses, test_losses)\n",
        "\n",
        "    # Plot Training vs Test Loss for this learning rate\n",
        "    plt.figure()\n",
        "    plt.plot(range(1, len(training_losses) + 1), training_losses, label=\"Training Loss\")\n",
        "    plt.plot(range(1, len(test_losses) + 1), test_losses, label=\"Test Loss\")\n",
        "    plt.xlabel(\"Epochs\")\n",
        "    plt.ylabel(\"Loss\")\n",
        "    plt.title(f\"Training vs Test Loss for Learning Rate {lr}\")\n",
        "    plt.legend()\n",
        "    plt.show()"
      ]
    },
    {
      "cell_type": "code",
      "execution_count": 43,
      "metadata": {
        "colab": {
          "base_uri": "https://localhost:8080/"
        },
        "id": "nAcvD6FXqp0f",
        "outputId": "d4d17b4a-ddb5-4323-b179-27cd700b659b"
      },
      "outputs": [
        {
          "output_type": "stream",
          "name": "stdout",
          "text": [
            "[0 0 0 ... 0 0 0] [0.23046397 0.47524658 0.5950423  ... 0.64902633 0.58995247 0.24024668]\n"
          ]
        }
      ],
      "source": [
        "y_true, y_pred = results[0.01][:2]\n",
        "print(y_true, y_pred)"
      ]
    },
    {
      "cell_type": "code",
      "execution_count": 44,
      "metadata": {
        "colab": {
          "base_uri": "https://localhost:8080/",
          "height": 472
        },
        "id": "mgWu3YdCqpwy",
        "outputId": "ad03b274-3462-45e6-b926-8440f5ec8895"
      },
      "outputs": [
        {
          "output_type": "display_data",
          "data": {
            "text/plain": [
              "<Figure size 640x480 with 1 Axes>"
            ],
            "image/png": "[encoded data removed]"
          },
          "metadata": {}
        }
      ],
      "source": [
        "from sklearn.metrics import roc_curve, auc, confusion_matrix, ConfusionMatrixDisplay\n",
        "import matplotlib.pyplot as plt\n",
        "\n",
        "# ROC Curve\n",
        "fpr, tpr, thresholds_roc = roc_curve(y_true, y_pred)\n",
        "roc_auc = auc(fpr, tpr)\n",
        "\n",
        "plt.figure()\n",
        "plt.plot(fpr, tpr, color='darkorange', lw=2, label=f'ROC curve (AUC = {roc_auc:.2f})')\n",
        "plt.plot([0, 1], [0, 1], color='navy', lw=2, linestyle='--')\n",
        "plt.xlabel('False Positive Rate')\n",
        "plt.ylabel('True Positive Rate')\n",
        "plt.title('Receiver Operating Characteristic (Learning Rate = 0.01)')\n",
        "plt.legend(loc='lower right')\n",
        "plt.show()"
      ]
    },
    {
      "cell_type": "code",
      "execution_count": 46,
      "metadata": {
        "colab": {
          "base_uri": "https://localhost:8080/",
          "height": 1000
        },
        "id": "rjTGNC49q7tB",
        "outputId": "51372dd0-673e-4a79-c2be-f6dcebfb36d8"
      },
      "outputs": [
        {
          "output_type": "stream",
          "name": "stdout",
          "text": [
            "Threshold: inf, FPR: 0.00, TPR: 0.00\n",
            "Threshold: 0.84, FPR: 0.01, TPR: 0.15\n",
            "Threshold: 0.79, FPR: 0.03, TPR: 0.19\n",
            "Threshold: 0.77, FPR: 0.04, TPR: 0.21\n",
            "Threshold: 0.75, FPR: 0.06, TPR: 0.24\n",
            "Threshold: 0.72, FPR: 0.07, TPR: 0.28\n",
            "Threshold: 0.70, FPR: 0.09, TPR: 0.30\n",
            "Threshold: 0.68, FPR: 0.11, TPR: 0.33\n",
            "Threshold: 0.66, FPR: 0.13, TPR: 0.35\n",
            "Threshold: 0.65, FPR: 0.14, TPR: 0.37\n",
            "Threshold: 0.63, FPR: 0.17, TPR: 0.39\n",
            "Threshold: 0.62, FPR: 0.19, TPR: 0.41\n",
            "Threshold: 0.60, FPR: 0.21, TPR: 0.44\n",
            "Threshold: 0.58, FPR: 0.23, TPR: 0.47\n",
            "Threshold: 0.57, FPR: 0.25, TPR: 0.49\n",
            "Threshold: 0.55, FPR: 0.27, TPR: 0.51\n",
            "Threshold: 0.54, FPR: 0.29, TPR: 0.53\n",
            "Threshold: 0.52, FPR: 0.30, TPR: 0.55\n",
            "Threshold: 0.50, FPR: 0.33, TPR: 0.59\n",
            "Threshold: 0.50, FPR: 0.35, TPR: 0.61\n",
            "Threshold: 0.48, FPR: 0.37, TPR: 0.63\n",
            "Threshold: 0.47, FPR: 0.39, TPR: 0.65\n",
            "Threshold: 0.46, FPR: 0.41, TPR: 0.67\n",
            "Threshold: 0.44, FPR: 0.44, TPR: 0.68\n",
            "Threshold: 0.43, FPR: 0.47, TPR: 0.70\n",
            "Threshold: 0.42, FPR: 0.49, TPR: 0.73\n",
            "Threshold: 0.40, FPR: 0.51, TPR: 0.75\n",
            "Threshold: 0.39, FPR: 0.55, TPR: 0.76\n",
            "Threshold: 0.37, FPR: 0.57, TPR: 0.78\n",
            "Threshold: 0.36, FPR: 0.59, TPR: 0.80\n",
            "Threshold: 0.35, FPR: 0.63, TPR: 0.82\n",
            "Threshold: 0.33, FPR: 0.66, TPR: 0.85\n",
            "Threshold: 0.32, FPR: 0.69, TPR: 0.86\n",
            "Threshold: 0.30, FPR: 0.71, TPR: 0.88\n",
            "Threshold: 0.29, FPR: 0.72, TPR: 0.90\n",
            "Threshold: 0.27, FPR: 0.77, TPR: 0.91\n",
            "Threshold: 0.26, FPR: 0.79, TPR: 0.93\n",
            "Threshold: 0.24, FPR: 0.83, TPR: 0.94\n",
            "Threshold: 0.22, FPR: 0.86, TPR: 0.95\n",
            "Threshold: 0.19, FPR: 0.91, TPR: 0.97\n",
            "Threshold: 0.15, FPR: 0.95, TPR: 0.98\n",
            "Threshold: 0.11, FPR: 0.99, TPR: 0.99\n"
          ]
        },
        {
          "output_type": "display_data",
          "data": {
            "text/plain": [
              "<Figure size 640x480 with 2 Axes>"
            ],
            "image/png": "[encoded data removed]"
          },
          "metadata": {}
        }
      ],
      "source": [
        "for i, (thr, fp, tp) in enumerate(zip(thresholds_roc, fpr, tpr)):\n",
        "    if i % 25 == 0:  # Print key thresholds\n",
        "        print(f\"Threshold: {thr:.2f}, FPR: {fp:.2f}, TPR: {tp:.2f}\")\n",
        "\n",
        "# Confusion Matrix for threshold = 0.4\n",
        "threshold = 0.5\n",
        "y_pred_class = (y_pred > threshold).astype(int)\n",
        "cm = confusion_matrix(y_true, y_pred_class)\n",
        "\n",
        "disp = ConfusionMatrixDisplay(confusion_matrix=cm, display_labels=['Class 0', 'Class 1'])\n",
        "disp.plot(cmap='Blues', values_format='d')\n",
        "plt.title('Confusion Matrix (Learning Rate = 0.01, Threshold = 0.4)')\n",
        "plt.show()"
      ]
    },
    {
      "cell_type": "markdown",
      "metadata": {
        "id": "S4tWatrEsn_9"
      },
      "source": [
        "The model demonstrates a good balance in recognizing **Class 0**, with a low false positive rate and high accuracy (87.3%). However, its performance on **Class 1** is disappointing, as it correctly identifies only about 50% of positive cases while misclassifying the other half as false negatives. Although it might seem like the model is \"guessing\" on **Class 1**, it is not entirely equivalent to flipping a coin, given its strong performance on **Class 0**. That said, if the primary goal is to identify **Class 1**, the model is far from reliable. This version, while the best I have been able to achieve with the current dataset and methods, is not suitable for practical applications. Significant improvements, particularly in addressing dataset imbalance and optimizing performance on **Class 1**, are required."
      ]
    }
  ],
  "metadata": {
    "accelerator": "GPU",
    "colab": {
      "collapsed_sections": [
        "dRjn9PgjNzAh"
      ],
      "gpuType": "T4",
      "machine_shape": "hm",
      "provenance": []
    },
    "kernelspec": {
      "display_name": "Python 3",
      "name": "python3"
    },
    "language_info": {
      "name": "python"
    }
  },
  "nbformat": 4,
  "nbformat_minor": 0
}