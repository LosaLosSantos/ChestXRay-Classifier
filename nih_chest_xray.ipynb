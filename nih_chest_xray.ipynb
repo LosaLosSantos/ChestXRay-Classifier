{
 "cells": [
  {
   "cell_type": "markdown",
   "metadata": {
    "id": "ddCCa-o5chE0"
   },
   "source": [
    "# Chest X-Ray Classification Project: Leveraging Deep Learning for Medical Image Analysis"
   ]
  },
  {
   "cell_type": "code",
   "execution_count": 1,
   "metadata": {
    "execution": {
     "iopub.execute_input": "2025-01-21T20:19:09.848021Z",
     "iopub.status.busy": "2025-01-21T20:19:09.847714Z",
     "iopub.status.idle": "2025-01-21T20:19:27.964131Z",
     "shell.execute_reply": "2025-01-21T20:19:27.963276Z",
     "shell.execute_reply.started": "2025-01-21T20:19:09.847998Z"
    },
    "executionInfo": {
     "elapsed": 16929,
     "status": "ok",
     "timestamp": 1737118379408,
     "user": {
      "displayName": "Loris Salsi",
      "userId": "03149293264146914157"
     },
     "user_tz": -60
    },
    "id": "_wF0EoXkFxf0",
    "trusted": true
   },
   "outputs": [],
   "source": [
    "import numpy as np\n",
    "import pandas as pd\n",
    "import matplotlib.pyplot as plt\n",
    "import matplotlib.image as pli\n",
    "import seaborn as sns\n",
    "import os\n",
    "import tensorflow as tf\n",
    "from PIL import Image\n",
    "import torch\n",
    "from torch import nn\n",
    "from tqdm import tqdm\n",
    "import torch.nn as nn\n",
    "import torch.optim as optim\n",
    "from torch.utils.data import Dataset, DataLoader\n",
    "from torchvision import transforms, models\n",
    "import pandas as pd\n",
    "from sklearn.metrics import classification_report\n",
    "from google.colab import drive\n",
    "from torchvision import transforms\n",
    "from torch.utils.data import ConcatDataset\n",
    "from torchvision.models import mobilenet_v2, MobileNet_V2_Weights\n",
    "import random\n",
    "import torch\n",
    "from sklearn.metrics import confusion_matrix, ConfusionMatrixDisplay"
   ]
  },
  {
   "cell_type": "code",
   "execution_count": 2,
   "metadata": {
    "execution": {
     "iopub.execute_input": "2025-01-21T20:19:27.965652Z",
     "iopub.status.busy": "2025-01-21T20:19:27.965126Z",
     "iopub.status.idle": "2025-01-21T20:29:59.524024Z",
     "shell.execute_reply": "2025-01-21T20:29:59.523084Z",
     "shell.execute_reply.started": "2025-01-21T20:19:27.965628Z"
    },
    "trusted": true
   },
   "outputs": [
    {
     "name": "stdout",
     "output_type": "stream",
     "text": [
      "Total number of images found: 112120\n",
      "[{'image_path': '/kaggle/input/data/images_001/images/00000001_000.png', 'labels': ['Cardiomegaly']}, {'image_path': '/kaggle/input/data/images_001/images/00000001_001.png', 'labels': ['Cardiomegaly', 'Emphysema']}, {'image_path': '/kaggle/input/data/images_001/images/00000001_002.png', 'labels': ['Cardiomegaly', 'Effusion']}, {'image_path': '/kaggle/input/data/images_001/images/00000002_000.png', 'labels': ['No Finding']}, {'image_path': '/kaggle/input/data/images_001/images/00000003_000.png', 'labels': ['Hernia']}]\n"
     ]
    }
   ],
   "source": [
    "base_path = \"/kaggle/input/data\"\n",
    "labels_file = os.path.join(base_path, \"Data_Entry_2017.csv\")\n",
    "\n",
    "labels_df = pd.read_csv(labels_file)\n",
    "\n",
    "image_folders = [f\"images_{str(i).zfill(3)}\" for i in range(1, 13)]\n",
    "\n",
    "data_tot = []\n",
    "for _, row in labels_df.iterrows():\n",
    "    image_name = row[\"Image Index\"]\n",
    "    labels = row[\"Finding Labels\"].split('|')\n",
    "\n",
    "    image_path = None\n",
    "    for folder in image_folders:\n",
    "        potential_path = os.path.join(base_path, folder, \"images\", image_name)\n",
    "        if os.path.exists(potential_path):\n",
    "            image_path = potential_path\n",
    "            break\n",
    "\n",
    "    if image_path:\n",
    "        data_tot.append({'image_path': image_path, 'labels': labels})\n",
    "\n",
    "print(f\"Total number of images found: {len(data_tot)}\")\n",
    "print(data_tot[:5])\n"
   ]
  },
  {
   "cell_type": "code",
   "execution_count": 3,
   "metadata": {
    "execution": {
     "iopub.execute_input": "2025-01-21T20:29:59.525981Z",
     "iopub.status.busy": "2025-01-21T20:29:59.525710Z",
     "iopub.status.idle": "2025-01-21T20:29:59.568299Z",
     "shell.execute_reply": "2025-01-21T20:29:59.567442Z",
     "shell.execute_reply.started": "2025-01-21T20:29:59.525960Z"
    },
    "executionInfo": {
     "elapsed": 656,
     "status": "ok",
     "timestamp": 1737118920700,
     "user": {
      "displayName": "Loris Salsi",
      "userId": "03149293264146914157"
     },
     "user_tz": -60
    },
    "id": "Ell-epsFgiTp",
    "outputId": "58207935-526e-4794-8a54-70cca4b9272c",
    "trusted": true
   },
   "outputs": [
    {
     "name": "stdout",
     "output_type": "stream",
     "text": [
      "<class 'pandas.core.frame.DataFrame'>\n",
      "RangeIndex: 112120 entries, 0 to 112119\n",
      "Data columns (total 12 columns):\n",
      " #   Column                       Non-Null Count   Dtype  \n",
      "---  ------                       --------------   -----  \n",
      " 0   Image Index                  112120 non-null  object \n",
      " 1   Finding Labels               112120 non-null  object \n",
      " 2   Follow-up #                  112120 non-null  int64  \n",
      " 3   Patient ID                   112120 non-null  int64  \n",
      " 4   Patient Age                  112120 non-null  int64  \n",
      " 5   Patient Gender               112120 non-null  object \n",
      " 6   View Position                112120 non-null  object \n",
      " 7   OriginalImage[Width          112120 non-null  int64  \n",
      " 8   Height]                      112120 non-null  int64  \n",
      " 9   OriginalImagePixelSpacing[x  112120 non-null  float64\n",
      " 10  y]                           112120 non-null  float64\n",
      " 11  Unnamed: 11                  0 non-null       float64\n",
      "dtypes: float64(3), int64(5), object(4)\n",
      "memory usage: 10.3+ MB\n"
     ]
    }
   ],
   "source": [
    "labels_df.info()"
   ]
  },
  {
   "cell_type": "code",
   "execution_count": 4,
   "metadata": {
    "execution": {
     "iopub.execute_input": "2025-01-21T20:29:59.569902Z",
     "iopub.status.busy": "2025-01-21T20:29:59.569636Z",
     "iopub.status.idle": "2025-01-21T20:29:59.590614Z",
     "shell.execute_reply": "2025-01-21T20:29:59.589842Z",
     "shell.execute_reply.started": "2025-01-21T20:29:59.569879Z"
    },
    "executionInfo": {
     "elapsed": 449,
     "status": "ok",
     "timestamp": 1737118922482,
     "user": {
      "displayName": "Loris Salsi",
      "userId": "03149293264146914157"
     },
     "user_tz": -60
    },
    "id": "0gGBBM1hggaB",
    "outputId": "8323c075-2fec-43fd-e04e-0d4fca71a69d",
    "trusted": true
   },
   "outputs": [
    {
     "name": "stderr",
     "output_type": "stream",
     "text": [
      "/usr/local/lib/python3.10/dist-packages/pandas/io/formats/format.py:1458: RuntimeWarning: invalid value encountered in greater\n",
      "  has_large_values = (abs_vals > 1e6).any()\n",
      "/usr/local/lib/python3.10/dist-packages/pandas/io/formats/format.py:1459: RuntimeWarning: invalid value encountered in less\n",
      "  has_small_values = ((abs_vals < 10 ** (-self.digits)) & (abs_vals > 0)).any()\n",
      "/usr/local/lib/python3.10/dist-packages/pandas/io/formats/format.py:1459: RuntimeWarning: invalid value encountered in greater\n",
      "  has_small_values = ((abs_vals < 10 ** (-self.digits)) & (abs_vals > 0)).any()\n"
     ]
    },
    {
     "data": {
      "text/html": [
       "<div>\n",
       "<style scoped>\n",
       "    .dataframe tbody tr th:only-of-type {\n",
       "        vertical-align: middle;\n",
       "    }\n",
       "\n",
       "    .dataframe tbody tr th {\n",
       "        vertical-align: top;\n",
       "    }\n",
       "\n",
       "    .dataframe thead th {\n",
       "        text-align: right;\n",
       "    }\n",
       "</style>\n",
       "<table border=\"1\" class=\"dataframe\">\n",
       "  <thead>\n",
       "    <tr style=\"text-align: right;\">\n",
       "      <th></th>\n",
       "      <th>Image Index</th>\n",
       "      <th>Finding Labels</th>\n",
       "      <th>Follow-up #</th>\n",
       "      <th>Patient ID</th>\n",
       "      <th>Patient Age</th>\n",
       "      <th>Patient Gender</th>\n",
       "      <th>View Position</th>\n",
       "      <th>OriginalImage[Width</th>\n",
       "      <th>Height]</th>\n",
       "      <th>OriginalImagePixelSpacing[x</th>\n",
       "      <th>y]</th>\n",
       "      <th>Unnamed: 11</th>\n",
       "    </tr>\n",
       "  </thead>\n",
       "  <tbody>\n",
       "    <tr>\n",
       "      <th>0</th>\n",
       "      <td>00000001_000.png</td>\n",
       "      <td>Cardiomegaly</td>\n",
       "      <td>0</td>\n",
       "      <td>1</td>\n",
       "      <td>58</td>\n",
       "      <td>M</td>\n",
       "      <td>PA</td>\n",
       "      <td>2682</td>\n",
       "      <td>2749</td>\n",
       "      <td>0.143</td>\n",
       "      <td>0.143</td>\n",
       "      <td>NaN</td>\n",
       "    </tr>\n",
       "    <tr>\n",
       "      <th>1</th>\n",
       "      <td>00000001_001.png</td>\n",
       "      <td>Cardiomegaly|Emphysema</td>\n",
       "      <td>1</td>\n",
       "      <td>1</td>\n",
       "      <td>58</td>\n",
       "      <td>M</td>\n",
       "      <td>PA</td>\n",
       "      <td>2894</td>\n",
       "      <td>2729</td>\n",
       "      <td>0.143</td>\n",
       "      <td>0.143</td>\n",
       "      <td>NaN</td>\n",
       "    </tr>\n",
       "    <tr>\n",
       "      <th>2</th>\n",
       "      <td>00000001_002.png</td>\n",
       "      <td>Cardiomegaly|Effusion</td>\n",
       "      <td>2</td>\n",
       "      <td>1</td>\n",
       "      <td>58</td>\n",
       "      <td>M</td>\n",
       "      <td>PA</td>\n",
       "      <td>2500</td>\n",
       "      <td>2048</td>\n",
       "      <td>0.168</td>\n",
       "      <td>0.168</td>\n",
       "      <td>NaN</td>\n",
       "    </tr>\n",
       "    <tr>\n",
       "      <th>3</th>\n",
       "      <td>00000002_000.png</td>\n",
       "      <td>No Finding</td>\n",
       "      <td>0</td>\n",
       "      <td>2</td>\n",
       "      <td>81</td>\n",
       "      <td>M</td>\n",
       "      <td>PA</td>\n",
       "      <td>2500</td>\n",
       "      <td>2048</td>\n",
       "      <td>0.171</td>\n",
       "      <td>0.171</td>\n",
       "      <td>NaN</td>\n",
       "    </tr>\n",
       "    <tr>\n",
       "      <th>4</th>\n",
       "      <td>00000003_000.png</td>\n",
       "      <td>Hernia</td>\n",
       "      <td>0</td>\n",
       "      <td>3</td>\n",
       "      <td>81</td>\n",
       "      <td>F</td>\n",
       "      <td>PA</td>\n",
       "      <td>2582</td>\n",
       "      <td>2991</td>\n",
       "      <td>0.143</td>\n",
       "      <td>0.143</td>\n",
       "      <td>NaN</td>\n",
       "    </tr>\n",
       "  </tbody>\n",
       "</table>\n",
       "</div>"
      ],
      "text/plain": [
       "        Image Index          Finding Labels  Follow-up #  Patient ID  \\\n",
       "0  00000001_000.png            Cardiomegaly            0           1   \n",
       "1  00000001_001.png  Cardiomegaly|Emphysema            1           1   \n",
       "2  00000001_002.png   Cardiomegaly|Effusion            2           1   \n",
       "3  00000002_000.png              No Finding            0           2   \n",
       "4  00000003_000.png                  Hernia            0           3   \n",
       "\n",
       "   Patient Age Patient Gender View Position  OriginalImage[Width  Height]  \\\n",
       "0           58              M            PA                 2682     2749   \n",
       "1           58              M            PA                 2894     2729   \n",
       "2           58              M            PA                 2500     2048   \n",
       "3           81              M            PA                 2500     2048   \n",
       "4           81              F            PA                 2582     2991   \n",
       "\n",
       "   OriginalImagePixelSpacing[x     y]  Unnamed: 11  \n",
       "0                        0.143  0.143          NaN  \n",
       "1                        0.143  0.143          NaN  \n",
       "2                        0.168  0.168          NaN  \n",
       "3                        0.171  0.171          NaN  \n",
       "4                        0.143  0.143          NaN  "
      ]
     },
     "execution_count": 4,
     "metadata": {},
     "output_type": "execute_result"
    }
   ],
   "source": [
    "labels_df.head()"
   ]
  },
  {
   "cell_type": "code",
   "execution_count": 5,
   "metadata": {
    "execution": {
     "iopub.execute_input": "2025-01-21T20:29:59.591499Z",
     "iopub.status.busy": "2025-01-21T20:29:59.591279Z",
     "iopub.status.idle": "2025-01-21T20:29:59.596054Z",
     "shell.execute_reply": "2025-01-21T20:29:59.595304Z",
     "shell.execute_reply.started": "2025-01-21T20:29:59.591481Z"
    },
    "executionInfo": {
     "elapsed": 653,
     "status": "ok",
     "timestamp": 1737118925141,
     "user": {
      "displayName": "Loris Salsi",
      "userId": "03149293264146914157"
     },
     "user_tz": -60
    },
    "id": "lt_luG2egkrt",
    "outputId": "19d99d44-4584-433e-a54d-f0c38202a821",
    "trusted": true
   },
   "outputs": [
    {
     "data": {
      "text/plain": [
       "(112120, 12)"
      ]
     },
     "execution_count": 5,
     "metadata": {},
     "output_type": "execute_result"
    }
   ],
   "source": [
    "labels_df.shape"
   ]
  },
  {
   "cell_type": "code",
   "execution_count": 6,
   "metadata": {
    "execution": {
     "iopub.execute_input": "2025-01-21T20:29:59.597177Z",
     "iopub.status.busy": "2025-01-21T20:29:59.596902Z",
     "iopub.status.idle": "2025-01-21T20:29:59.614725Z",
     "shell.execute_reply": "2025-01-21T20:29:59.613956Z",
     "shell.execute_reply.started": "2025-01-21T20:29:59.597151Z"
    },
    "executionInfo": {
     "elapsed": 9,
     "status": "ok",
     "timestamp": 1737118925141,
     "user": {
      "displayName": "Loris Salsi",
      "userId": "03149293264146914157"
     },
     "user_tz": -60
    },
    "id": "dTnF4zPdgt-1",
    "outputId": "1947e322-e61f-47c7-c968-66dec08756cd",
    "trusted": true
   },
   "outputs": [
    {
     "data": {
      "text/plain": [
       "Finding Labels\n",
       "No Finding                                                                      60361\n",
       "Infiltration                                                                     9547\n",
       "Atelectasis                                                                      4215\n",
       "Effusion                                                                         3955\n",
       "Nodule                                                                           2705\n",
       "                                                                                ...  \n",
       "Consolidation|Edema|Effusion|Mass|Nodule                                            1\n",
       "Edema|Infiltration|Mass|Pneumonia|Pneumothorax                                      1\n",
       "Consolidation|Effusion|Infiltration|Mass|Nodule|Pleural_Thickening|Pneumonia        1\n",
       "Consolidation|Mass|Nodule|Pneumothorax                                              1\n",
       "Cardiomegaly|Edema|Effusion|Fibrosis|Infiltration                                   1\n",
       "Name: count, Length: 836, dtype: int64"
      ]
     },
     "execution_count": 6,
     "metadata": {},
     "output_type": "execute_result"
    }
   ],
   "source": [
    "labels_df['Finding Labels'].value_counts()"
   ]
  },
  {
   "cell_type": "code",
   "execution_count": 7,
   "metadata": {
    "execution": {
     "iopub.execute_input": "2025-01-21T20:29:59.615554Z",
     "iopub.status.busy": "2025-01-21T20:29:59.615338Z",
     "iopub.status.idle": "2025-01-21T20:29:59.646082Z",
     "shell.execute_reply": "2025-01-21T20:29:59.645481Z",
     "shell.execute_reply.started": "2025-01-21T20:29:59.615536Z"
    },
    "executionInfo": {
     "elapsed": 970,
     "status": "ok",
     "timestamp": 1737118927972,
     "user": {
      "displayName": "Loris Salsi",
      "userId": "03149293264146914157"
     },
     "user_tz": -60
    },
    "id": "TNsdqb46tAfF",
    "outputId": "8c0c69cf-9b54-47d3-8cd2-1b56b7851d9c",
    "trusted": true
   },
   "outputs": [
    {
     "name": "stdout",
     "output_type": "stream",
     "text": [
      "Class 1 (Infiltration): 19894\n",
      "Class 0 (Not Infiltration): 92226\n"
     ]
    }
   ],
   "source": [
    "num_class_1 = sum([\"Infiltration\" in r[\"labels\"] for r in data_tot])\n",
    "num_class_0 = sum([\"Infiltration\" not in r[\"labels\"] for r in data_tot])\n",
    "\n",
    "print(f\"Class 1 (Infiltration): {num_class_1}\")\n",
    "print(f\"Class 0 (Not Infiltration): {num_class_0}\")"
   ]
  },
  {
   "cell_type": "code",
   "execution_count": 8,
   "metadata": {
    "execution": {
     "iopub.execute_input": "2025-01-21T20:29:59.648675Z",
     "iopub.status.busy": "2025-01-21T20:29:59.648342Z",
     "iopub.status.idle": "2025-01-21T20:29:59.698147Z",
     "shell.execute_reply": "2025-01-21T20:29:59.697563Z",
     "shell.execute_reply.started": "2025-01-21T20:29:59.648642Z"
    },
    "executionInfo": {
     "elapsed": 5,
     "status": "ok",
     "timestamp": 1737118929739,
     "user": {
      "displayName": "Loris Salsi",
      "userId": "03149293264146914157"
     },
     "user_tz": -60
    },
    "id": "hOjCvitIw7pd",
    "outputId": "b9470672-0923-493e-f36d-9e7de50e9e61",
    "trusted": true
   },
   "outputs": [
    {
     "name": "stdout",
     "output_type": "stream",
     "text": [
      "New Class 1 (Infiltration): 6000\n",
      "New Class 0 (Not Infiltration): 8000\n"
     ]
    }
   ],
   "source": [
    "class_1_data = [r for r in data_tot if \"Infiltration\" in r[\"labels\"]]\n",
    "class_0_data = [r for r in data_tot if \"Infiltration\" not in r[\"labels\"]]\n",
    "\n",
    "random.seed(42)\n",
    "class_1_sampled = random.sample(class_1_data, 6000)\n",
    "class_0_sampled = random.sample(class_0_data, 8000)\n",
    "\n",
    "balanced_data = class_0_sampled + class_1_sampled\n",
    "\n",
    "new_num_class_1 = sum([\"Infiltration\" in r[\"labels\"] for r in balanced_data])\n",
    "new_num_class_0 = sum([\"Infiltration\" not in r[\"labels\"] for r in balanced_data])\n",
    "\n",
    "print(f\"New Class 1 (Infiltration): {new_num_class_1}\")\n",
    "print(f\"New Class 0 (Not Infiltration): {new_num_class_0}\")"
   ]
  },
  {
   "cell_type": "code",
   "execution_count": 9,
   "metadata": {
    "execution": {
     "iopub.execute_input": "2025-01-21T20:29:59.699546Z",
     "iopub.status.busy": "2025-01-21T20:29:59.699315Z",
     "iopub.status.idle": "2025-01-21T20:29:59.777849Z",
     "shell.execute_reply": "2025-01-21T20:29:59.777160Z",
     "shell.execute_reply.started": "2025-01-21T20:29:59.699528Z"
    },
    "executionInfo": {
     "elapsed": 547,
     "status": "ok",
     "timestamp": 1737118932202,
     "user": {
      "displayName": "Loris Salsi",
      "userId": "03149293264146914157"
     },
     "user_tz": -60
    },
    "id": "jAjEU-farESL",
    "trusted": true
   },
   "outputs": [],
   "source": [
    "torch.manual_seed(42)\n",
    "random.seed(42)\n",
    "np.random.seed(42)\n",
    "if torch.cuda.is_available():\n",
    "    torch.cuda.manual_seed(42)\n",
    "    torch.cuda.manual_seed_all(42)  # For multi-GPU\n",
    "    torch.backends.cudnn.deterministic = True\n",
    "    torch.backends.cudnn.benchmark = False"
   ]
  },
  {
   "cell_type": "code",
   "execution_count": 10,
   "metadata": {
    "execution": {
     "iopub.execute_input": "2025-01-21T20:29:59.778806Z",
     "iopub.status.busy": "2025-01-21T20:29:59.778599Z",
     "iopub.status.idle": "2025-01-21T20:29:59.782659Z",
     "shell.execute_reply": "2025-01-21T20:29:59.781834Z",
     "shell.execute_reply.started": "2025-01-21T20:29:59.778788Z"
    },
    "executionInfo": {
     "elapsed": 3,
     "status": "ok",
     "timestamp": 1737118932637,
     "user": {
      "displayName": "Loris Salsi",
      "userId": "03149293264146914157"
     },
     "user_tz": -60
    },
    "id": "KD0IK5ndrFrZ",
    "trusted": true
   },
   "outputs": [],
   "source": [
    "tf.random.set_seed(42)\n",
    "np.random.seed(42)\n",
    "random.seed(42)"
   ]
  },
  {
   "cell_type": "markdown",
   "metadata": {
    "id": "3ouT3OP-jDUj"
   },
   "source": [
    "**MobileNetV1** introduced **Depthwise Separable Convolutions**, splitting standard convolutions into two steps: a **depthwise convolution** (applying filters per channel) and a **pointwise convolution** (1x1 to combine channels). This drastically reduced computational cost and parameters compared to traditional CNNs, making the model efficient for mobile devices.\n",
    "\n",
    "**MobileNetV2** improved upon MobileNetV1 with **inverted residuals** and **linear bottlenecks**. Inverted residuals connect bottlenecks (with fewer channels) via shortcuts, reducing computation, while linear bottlenecks avoid non-linear activations in compressed layers to preserve critical information. These innovations increased efficiency and accuracy, further optimizing MobileNetV2 for resource-constrained environments."
   ]
  },
  {
   "cell_type": "markdown",
   "metadata": {},
   "source": [
    "### **Formulas for Precision, Recall, and F1-Score**\n",
    "\n",
    "1. **Precision**: Measures the proportion of correctly predicted positive instances among all predicted positives.\n",
    "\n",
    "$\n",
    "\\text{Precision} = \\frac{\\text{True Positives (TP)}}{\\text{True Positives (TP)} + \\text{False Positives (FP)}}\n",
    "$\n",
    "\n",
    "---\n",
    "\n",
    "2. **Recall (Sensitivity or True Positive Rate)**: Measures the proportion of correctly predicted positive instances among all actual positives.\n",
    "\n",
    "$\n",
    "\\text{Recall} = \\frac{\\text{True Positives (TP)}}{\\text{True Positives (TP)} + \\text{False Negatives (FN)}}\n",
    "$\n",
    "\n",
    "---\n",
    "\n",
    "3. **F1-Score**: The harmonic mean of precision and recall, used to balance both metrics when there is class imbalance.\n",
    "\n",
    "$\n",
    "\\text{F1-Score} = 2 \\times \\frac{\\text{Precision} \\times \\text{Recall}}{\\text{Precision} + \\text{Recall}}\n",
    "$\n",
    "\n",
    "---\n",
    "\n",
    "### Explanation of Variables:\n",
    "- **True Positives (TP)**: Instances correctly classified as positive.\n",
    "- **False Positives (FP)**: Instances incorrectly classified as positive.\n",
    "- **False Negatives (FN)**: Instances incorrectly classified as negative."
   ]
  },
  {
   "cell_type": "markdown",
   "metadata": {
    "id": "obXi_Ijtovpy"
   },
   "source": [
    "# TensorFlow Keras / MobileNetV2"
   ]
  },
  {
   "cell_type": "code",
   "execution_count": 11,
   "metadata": {
    "execution": {
     "iopub.execute_input": "2025-01-21T20:29:59.783832Z",
     "iopub.status.busy": "2025-01-21T20:29:59.783531Z",
     "iopub.status.idle": "2025-01-21T20:30:00.360096Z",
     "shell.execute_reply": "2025-01-21T20:30:00.359480Z",
     "shell.execute_reply.started": "2025-01-21T20:29:59.783805Z"
    },
    "id": "NhOAknxt0uxM",
    "trusted": true
   },
   "outputs": [],
   "source": [
    "def preprocess_item(image_path, label):\n",
    "    image = tf.io.read_file(image_path)\n",
    "    image = tf.image.decode_png(image, channels=3)\n",
    "    image = tf.image.resize(image, [224, 224]) / 255.0\n",
    "    return image, label\n",
    "\n",
    "paths = [item['image_path'] for item in balanced_data]\n",
    "labels = [1 if \"Infiltration\" in item[\"labels\"] else 0 for item in balanced_data]\n",
    "\n",
    "dataset = tf.data.Dataset.from_tensor_slices((paths, labels))\n",
    "# Maps the preprocess_item function over the dataset with parallel processing to improve speed\n",
    "# (num_parallel_calls=tf.data.AUTOTUNE)\n",
    "dataset = dataset.map(lambda x, y: preprocess_item(x, y), num_parallel_calls=tf.data.AUTOTUNE)"
   ]
  },
  {
   "cell_type": "code",
   "execution_count": 12,
   "metadata": {
    "execution": {
     "iopub.execute_input": "2025-01-21T20:30:00.361058Z",
     "iopub.status.busy": "2025-01-21T20:30:00.360757Z",
     "iopub.status.idle": "2025-01-21T20:30:02.096286Z",
     "shell.execute_reply": "2025-01-21T20:30:02.095651Z",
     "shell.execute_reply.started": "2025-01-21T20:30:00.361030Z"
    },
    "id": "Ef3lW3BxsfjE",
    "trusted": true
   },
   "outputs": [],
   "source": [
    "# Shuffle to improve your workout\n",
    "dataset = dataset.shuffle(buffer_size=len(balanced_data))\n",
    "dataset_nobatch = dataset\n",
    "# Batch creation. Prefetch to load next batch in parallel\n",
    "dataset = dataset.batch(64).prefetch(tf.data.AUTOTUNE)"
   ]
  },
  {
   "cell_type": "code",
   "execution_count": 13,
   "metadata": {
    "execution": {
     "iopub.execute_input": "2025-01-21T20:30:02.097403Z",
     "iopub.status.busy": "2025-01-21T20:30:02.097082Z",
     "iopub.status.idle": "2025-01-21T20:31:35.353710Z",
     "shell.execute_reply": "2025-01-21T20:31:35.352967Z",
     "shell.execute_reply.started": "2025-01-21T20:30:02.097372Z"
    },
    "executionInfo": {
     "elapsed": 1896594,
     "status": "ok",
     "timestamp": 1736959529396,
     "user": {
      "displayName": "Loris Salsi",
      "userId": "03149293264146914157"
     },
     "user_tz": -60
    },
    "id": "qUmewFwJ1CW6",
    "outputId": "0c3cefd5-ad4b-42d1-dcb7-8eb40fb2340d",
    "trusted": true
   },
   "outputs": [
    {
     "name": "stdout",
     "output_type": "stream",
     "text": [
      "Batch shape: (64, 224, 224, 3), Labels shape: (64,)\n"
     ]
    }
   ],
   "source": [
    "for images, labels in dataset.take(1):\n",
    "    print(f\"Batch shape: {images.shape}, Labels shape: {labels.shape}\")"
   ]
  },
  {
   "cell_type": "code",
   "execution_count": 14,
   "metadata": {
    "execution": {
     "iopub.execute_input": "2025-01-21T20:31:35.354820Z",
     "iopub.status.busy": "2025-01-21T20:31:35.354590Z",
     "iopub.status.idle": "2025-01-21T20:32:50.657442Z",
     "shell.execute_reply": "2025-01-21T20:32:50.656692Z",
     "shell.execute_reply.started": "2025-01-21T20:31:35.354799Z"
    },
    "executionInfo": {
     "elapsed": 52015,
     "status": "ok",
     "timestamp": 1736959581405,
     "user": {
      "displayName": "Loris Salsi",
      "userId": "03149293264146914157"
     },
     "user_tz": -60
    },
    "id": "bszIW7AZ2Fbr",
    "outputId": "301bd464-a16b-4eca-8317-11b56358f7ce",
    "trusted": true
   },
   "outputs": [
    {
     "name": "stdout",
     "output_type": "stream",
     "text": [
      "Total_number_of: 14000\n"
     ]
    }
   ],
   "source": [
    "total_images = 0\n",
    "for images, labels in dataset:\n",
    "   total_images += images.shape[0]\n",
    "\n",
    "print(f\"Total_number_of: {total_images}\")"
   ]
  },
  {
   "cell_type": "markdown",
   "metadata": {
    "id": "yFiZbA1BXgGJ"
   },
   "source": [
    "**Model Description - Fine Tuning**    \n",
    "A binary classification model is defined using MobileNetV2 as the base, pretrained on ImageNet. The base model is used as a feature extractor with its weights frozen (trainable=False).\n",
    "\n",
    "Key components include:  \n",
    "- GlobalAveragePooling2D.   \n",
    "- A fully connected layer with 64 units and ReLU activation.\n",
    "- An output layer with 1 unit and sigmoid activation for binary classification.  \n",
    "- Optimizer: Adam, configured with a learning rate of 0.001.\n",
    "- Loss function: Binary crossentropy, suitable for binary classification tasks.\n",
    "- Metric: Accuracy, to evaluate the model’s performance."
   ]
  },
  {
   "cell_type": "code",
   "execution_count": 15,
   "metadata": {
    "execution": {
     "iopub.execute_input": "2025-01-21T20:32:50.658553Z",
     "iopub.status.busy": "2025-01-21T20:32:50.658235Z",
     "iopub.status.idle": "2025-01-21T20:32:52.824121Z",
     "shell.execute_reply": "2025-01-21T20:32:52.823468Z",
     "shell.execute_reply.started": "2025-01-21T20:32:50.658530Z"
    },
    "executionInfo": {
     "elapsed": 3304,
     "status": "ok",
     "timestamp": 1736959584685,
     "user": {
      "displayName": "Loris Salsi",
      "userId": "03149293264146914157"
     },
     "user_tz": -60
    },
    "id": "NwFzd11s-PR6",
    "outputId": "9caf6572-5ffb-48d0-bd03-137023e42800",
    "trusted": true
   },
   "outputs": [
    {
     "name": "stdout",
     "output_type": "stream",
     "text": [
      "Downloading data from https://storage.googleapis.com/tensorflow/keras-applications/mobilenet_v2/mobilenet_v2_weights_tf_dim_ordering_tf_kernels_1.0_224_no_top.h5\n",
      "\u001b[1m9406464/9406464\u001b[0m \u001b[32m━━━━━━━━━━━━━━━━━━━━\u001b[0m\u001b[37m\u001b[0m \u001b[1m0s\u001b[0m 0us/step\n"
     ]
    }
   ],
   "source": [
    "base_model = tf.keras.applications.MobileNetV2(input_shape=(224, 224, 3), include_top=False, weights='imagenet')\n",
    "# the pre-trained model uses weights derived from training on ImageNet\n",
    "base_model.trainable = False\n",
    "\n",
    "model_tf = tf.keras.Sequential([base_model,\n",
    "    tf.keras.layers.GlobalAveragePooling2D(),\n",
    "    tf.keras.layers.Dense(64, activation='relu'),\n",
    "    tf.keras.layers.Dense(1, activation='sigmoid')])\n",
    "\n",
    "optimizer = tf.keras.optimizers.Adam(learning_rate=0.001)"
   ]
  },
  {
   "cell_type": "code",
   "execution_count": 16,
   "metadata": {
    "execution": {
     "iopub.execute_input": "2025-01-21T20:32:52.825079Z",
     "iopub.status.busy": "2025-01-21T20:32:52.824867Z",
     "iopub.status.idle": "2025-01-21T20:32:52.832331Z",
     "shell.execute_reply": "2025-01-21T20:32:52.831639Z",
     "shell.execute_reply.started": "2025-01-21T20:32:52.825061Z"
    },
    "id": "_1cJyEG1-yO2",
    "trusted": true
   },
   "outputs": [],
   "source": [
    "model_tf.compile(optimizer=optimizer,loss='binary_crossentropy',metrics=['accuracy'])"
   ]
  },
  {
   "cell_type": "code",
   "execution_count": 17,
   "metadata": {
    "execution": {
     "iopub.execute_input": "2025-01-21T20:32:52.833471Z",
     "iopub.status.busy": "2025-01-21T20:32:52.833135Z",
     "iopub.status.idle": "2025-01-21T20:32:52.852271Z",
     "shell.execute_reply": "2025-01-21T20:32:52.851743Z",
     "shell.execute_reply.started": "2025-01-21T20:32:52.833437Z"
    },
    "id": "otmksIiIx1sG",
    "trusted": true
   },
   "outputs": [],
   "source": [
    "dataset = dataset.shuffle(buffer_size=len(balanced_data))\n",
    "dataset_size = len(dataset)\n",
    "\n",
    "test_size = int(dataset_size * 0.2)\n",
    "train_size = dataset_size - test_size\n",
    "\n",
    "test_set = dataset.take(test_size)  # Top 20% for the test\n",
    "train_set = dataset.skip(test_size)  # Remaining 80% for training"
   ]
  },
  {
   "cell_type": "code",
   "execution_count": 18,
   "metadata": {
    "execution": {
     "iopub.execute_input": "2025-01-21T20:32:52.853200Z",
     "iopub.status.busy": "2025-01-21T20:32:52.852976Z",
     "iopub.status.idle": "2025-01-21T20:32:52.857775Z",
     "shell.execute_reply": "2025-01-21T20:32:52.856993Z",
     "shell.execute_reply.started": "2025-01-21T20:32:52.853181Z"
    },
    "executionInfo": {
     "elapsed": 13,
     "status": "ok",
     "timestamp": 1736959584686,
     "user": {
      "displayName": "Loris Salsi",
      "userId": "03149293264146914157"
     },
     "user_tz": -60
    },
    "id": "GQtLdrL58WFv",
    "outputId": "a6c4aa1e-94f1-49e7-8d04-80ce5aa08f00",
    "trusted": true
   },
   "outputs": [
    {
     "name": "stdout",
     "output_type": "stream",
     "text": [
      "Dataset (batch): 219\n",
      "Test set (batch): 43\n",
      "Training set (batch): 176\n"
     ]
    }
   ],
   "source": [
    "print(f\"Dataset (batch): {dataset_size}\")\n",
    "print(f\"Test set (batch): {test_size}\")\n",
    "print(f\"Training set (batch): {train_size}\")"
   ]
  },
  {
   "cell_type": "code",
   "execution_count": 19,
   "metadata": {
    "execution": {
     "iopub.execute_input": "2025-01-21T20:32:52.859006Z",
     "iopub.status.busy": "2025-01-21T20:32:52.858731Z",
     "iopub.status.idle": "2025-01-21T20:38:47.606271Z",
     "shell.execute_reply": "2025-01-21T20:38:47.604522Z",
     "shell.execute_reply.started": "2025-01-21T20:32:52.858979Z"
    },
    "executionInfo": {
     "elapsed": 263384,
     "status": "ok",
     "timestamp": 1736959848061,
     "user": {
      "displayName": "Loris Salsi",
      "userId": "03149293264146914157"
     },
     "user_tz": -60
    },
    "id": "ok8_Fxvb-7x3",
    "outputId": "9fda767f-9f27-415c-9ddd-0f9be8bf6538",
    "trusted": true
   },
   "outputs": [
    {
     "name": "stdout",
     "output_type": "stream",
     "text": [
      "Epoch 1/4\n",
      "\u001b[1m176/176\u001b[0m \u001b[32m━━━━━━━━━━━━━━━━━━━━\u001b[0m\u001b[37m\u001b[0m \u001b[1m102s\u001b[0m 85ms/step - accuracy: 0.6074 - loss: 0.6763\n",
      "Epoch 2/4\n",
      "\u001b[1m176/176\u001b[0m \u001b[32m━━━━━━━━━━━━━━━━━━━━\u001b[0m\u001b[37m\u001b[0m \u001b[1m84s\u001b[0m 55ms/step - accuracy: 0.6365 - loss: 0.6391\n",
      "Epoch 3/4\n",
      "\u001b[1m176/176\u001b[0m \u001b[32m━━━━━━━━━━━━━━━━━━━━\u001b[0m\u001b[37m\u001b[0m \u001b[1m84s\u001b[0m 56ms/step - accuracy: 0.6556 - loss: 0.6299\n",
      "Epoch 4/4\n",
      "\u001b[1m176/176\u001b[0m \u001b[32m━━━━━━━━━━━━━━━━━━━━\u001b[0m\u001b[37m\u001b[0m \u001b[1m84s\u001b[0m 57ms/step - accuracy: 0.6468 - loss: 0.6358\n"
     ]
    }
   ],
   "source": [
    "history = model_tf.fit(train_set, epochs=4)"
   ]
  },
  {
   "cell_type": "code",
   "execution_count": 20,
   "metadata": {
    "execution": {
     "iopub.execute_input": "2025-01-21T20:38:47.607690Z",
     "iopub.status.busy": "2025-01-21T20:38:47.607380Z",
     "iopub.status.idle": "2025-01-21T20:40:08.859025Z",
     "shell.execute_reply": "2025-01-21T20:40:08.858245Z",
     "shell.execute_reply.started": "2025-01-21T20:38:47.607665Z"
    },
    "executionInfo": {
     "elapsed": 56403,
     "status": "ok",
     "timestamp": 1736959904431,
     "user": {
      "displayName": "Loris Salsi",
      "userId": "03149293264146914157"
     },
     "user_tz": -60
    },
    "id": "QBN_pYAN_Fq0",
    "outputId": "17c0284c-10f9-4056-88dc-d0174b672016",
    "trusted": true
   },
   "outputs": [
    {
     "name": "stdout",
     "output_type": "stream",
     "text": [
      "\u001b[1m43/43\u001b[0m \u001b[32m━━━━━━━━━━━━━━━━━━━━\u001b[0m\u001b[37m\u001b[0m \u001b[1m80s\u001b[0m 57ms/step - accuracy: 0.6748 - loss: 0.6134\n",
      "Test Loss: 0.6101019978523254, Test Accuracy: 0.6809592843055725\n"
     ]
    }
   ],
   "source": [
    "test_loss, test_accuracy = model_tf.evaluate(test_set)\n",
    "print(f\"Test Loss: {test_loss}, Test Accuracy: {test_accuracy}\")"
   ]
  },
  {
   "cell_type": "code",
   "execution_count": 21,
   "metadata": {
    "execution": {
     "iopub.execute_input": "2025-01-21T20:40:08.860131Z",
     "iopub.status.busy": "2025-01-21T20:40:08.859864Z",
     "iopub.status.idle": "2025-01-21T20:41:32.376611Z",
     "shell.execute_reply": "2025-01-21T20:41:32.375702Z",
     "shell.execute_reply.started": "2025-01-21T20:40:08.860109Z"
    },
    "executionInfo": {
     "elapsed": 61551,
     "status": "ok",
     "timestamp": 1736959965956,
     "user": {
      "displayName": "Loris Salsi",
      "userId": "03149293264146914157"
     },
     "user_tz": -60
    },
    "id": "KPv6X-_LCAYm",
    "outputId": "db18358e-104b-4bb7-f4a3-52889c048471",
    "trusted": true
   },
   "outputs": [
    {
     "name": "stdout",
     "output_type": "stream",
     "text": [
      "\u001b[1m2/2\u001b[0m \u001b[32m━━━━━━━━━━━━━━━━━━━━\u001b[0m\u001b[37m\u001b[0m \u001b[1m5s\u001b[0m 36ms/step\n",
      "\u001b[1m2/2\u001b[0m \u001b[32m━━━━━━━━━━━━━━━━━━━━\u001b[0m\u001b[37m\u001b[0m \u001b[1m0s\u001b[0m 21ms/step\n",
      "\u001b[1m2/2\u001b[0m \u001b[32m━━━━━━━━━━━━━━━━━━━━\u001b[0m\u001b[37m\u001b[0m \u001b[1m0s\u001b[0m 22ms/step\n",
      "\u001b[1m2/2\u001b[0m \u001b[32m━━━━━━━━━━━━━━━━━━━━\u001b[0m\u001b[37m\u001b[0m \u001b[1m0s\u001b[0m 21ms/step\n",
      "\u001b[1m2/2\u001b[0m \u001b[32m━━━━━━━━━━━━━━━━━━━━\u001b[0m\u001b[37m\u001b[0m \u001b[1m0s\u001b[0m 22ms/step\n",
      "\u001b[1m2/2\u001b[0m \u001b[32m━━━━━━━━━━━━━━━━━━━━\u001b[0m\u001b[37m\u001b[0m \u001b[1m0s\u001b[0m 22ms/step\n",
      "\u001b[1m2/2\u001b[0m \u001b[32m━━━━━━━━━━━━━━━━━━━━\u001b[0m\u001b[37m\u001b[0m \u001b[1m0s\u001b[0m 22ms/step\n",
      "\u001b[1m2/2\u001b[0m \u001b[32m━━━━━━━━━━━━━━━━━━━━\u001b[0m\u001b[37m\u001b[0m \u001b[1m0s\u001b[0m 22ms/step\n",
      "\u001b[1m2/2\u001b[0m \u001b[32m━━━━━━━━━━━━━━━━━━━━\u001b[0m\u001b[37m\u001b[0m \u001b[1m0s\u001b[0m 22ms/step\n",
      "\u001b[1m2/2\u001b[0m \u001b[32m━━━━━━━━━━━━━━━━━━━━\u001b[0m\u001b[37m\u001b[0m \u001b[1m0s\u001b[0m 22ms/step\n",
      "\u001b[1m2/2\u001b[0m \u001b[32m━━━━━━━━━━━━━━━━━━━━\u001b[0m\u001b[37m\u001b[0m \u001b[1m0s\u001b[0m 22ms/step\n",
      "\u001b[1m2/2\u001b[0m \u001b[32m━━━━━━━━━━━━━━━━━━━━\u001b[0m\u001b[37m\u001b[0m \u001b[1m0s\u001b[0m 22ms/step\n",
      "\u001b[1m2/2\u001b[0m \u001b[32m━━━━━━━━━━━━━━━━━━━━\u001b[0m\u001b[37m\u001b[0m \u001b[1m0s\u001b[0m 22ms/step\n",
      "\u001b[1m2/2\u001b[0m \u001b[32m━━━━━━━━━━━━━━━━━━━━\u001b[0m\u001b[37m\u001b[0m \u001b[1m0s\u001b[0m 22ms/step\n",
      "\u001b[1m2/2\u001b[0m \u001b[32m━━━━━━━━━━━━━━━━━━━━\u001b[0m\u001b[37m\u001b[0m \u001b[1m0s\u001b[0m 22ms/step\n",
      "\u001b[1m2/2\u001b[0m \u001b[32m━━━━━━━━━━━━━━━━━━━━\u001b[0m\u001b[37m\u001b[0m \u001b[1m0s\u001b[0m 22ms/step\n",
      "\u001b[1m2/2\u001b[0m \u001b[32m━━━━━━━━━━━━━━━━━━━━\u001b[0m\u001b[37m\u001b[0m \u001b[1m0s\u001b[0m 22ms/step\n",
      "\u001b[1m2/2\u001b[0m \u001b[32m━━━━━━━━━━━━━━━━━━━━\u001b[0m\u001b[37m\u001b[0m \u001b[1m0s\u001b[0m 22ms/step\n",
      "\u001b[1m2/2\u001b[0m \u001b[32m━━━━━━━━━━━━━━━━━━━━\u001b[0m\u001b[37m\u001b[0m \u001b[1m0s\u001b[0m 23ms/step\n",
      "\u001b[1m2/2\u001b[0m \u001b[32m━━━━━━━━━━━━━━━━━━━━\u001b[0m\u001b[37m\u001b[0m \u001b[1m0s\u001b[0m 23ms/step\n",
      "\u001b[1m2/2\u001b[0m \u001b[32m━━━━━━━━━━━━━━━━━━━━\u001b[0m\u001b[37m\u001b[0m \u001b[1m0s\u001b[0m 22ms/step\n",
      "\u001b[1m2/2\u001b[0m \u001b[32m━━━━━━━━━━━━━━━━━━━━\u001b[0m\u001b[37m\u001b[0m \u001b[1m0s\u001b[0m 21ms/step\n",
      "\u001b[1m2/2\u001b[0m \u001b[32m━━━━━━━━━━━━━━━━━━━━\u001b[0m\u001b[37m\u001b[0m \u001b[1m0s\u001b[0m 23ms/step\n",
      "\u001b[1m2/2\u001b[0m \u001b[32m━━━━━━━━━━━━━━━━━━━━\u001b[0m\u001b[37m\u001b[0m \u001b[1m0s\u001b[0m 23ms/step\n",
      "\u001b[1m2/2\u001b[0m \u001b[32m━━━━━━━━━━━━━━━━━━━━\u001b[0m\u001b[37m\u001b[0m \u001b[1m0s\u001b[0m 21ms/step\n",
      "\u001b[1m2/2\u001b[0m \u001b[32m━━━━━━━━━━━━━━━━━━━━\u001b[0m\u001b[37m\u001b[0m \u001b[1m0s\u001b[0m 23ms/step\n",
      "\u001b[1m2/2\u001b[0m \u001b[32m━━━━━━━━━━━━━━━━━━━━\u001b[0m\u001b[37m\u001b[0m \u001b[1m0s\u001b[0m 22ms/step\n",
      "\u001b[1m2/2\u001b[0m \u001b[32m━━━━━━━━━━━━━━━━━━━━\u001b[0m\u001b[37m\u001b[0m \u001b[1m0s\u001b[0m 23ms/step\n",
      "\u001b[1m2/2\u001b[0m \u001b[32m━━━━━━━━━━━━━━━━━━━━\u001b[0m\u001b[37m\u001b[0m \u001b[1m0s\u001b[0m 22ms/step\n",
      "\u001b[1m2/2\u001b[0m \u001b[32m━━━━━━━━━━━━━━━━━━━━\u001b[0m\u001b[37m\u001b[0m \u001b[1m0s\u001b[0m 22ms/step\n",
      "\u001b[1m2/2\u001b[0m \u001b[32m━━━━━━━━━━━━━━━━━━━━\u001b[0m\u001b[37m\u001b[0m \u001b[1m0s\u001b[0m 22ms/step\n",
      "\u001b[1m2/2\u001b[0m \u001b[32m━━━━━━━━━━━━━━━━━━━━\u001b[0m\u001b[37m\u001b[0m \u001b[1m0s\u001b[0m 22ms/step\n",
      "\u001b[1m2/2\u001b[0m \u001b[32m━━━━━━━━━━━━━━━━━━━━\u001b[0m\u001b[37m\u001b[0m \u001b[1m0s\u001b[0m 22ms/step\n",
      "\u001b[1m2/2\u001b[0m \u001b[32m━━━━━━━━━━━━━━━━━━━━\u001b[0m\u001b[37m\u001b[0m \u001b[1m0s\u001b[0m 22ms/step\n",
      "\u001b[1m2/2\u001b[0m \u001b[32m━━━━━━━━━━━━━━━━━━━━\u001b[0m\u001b[37m\u001b[0m \u001b[1m0s\u001b[0m 22ms/step\n",
      "\u001b[1m2/2\u001b[0m \u001b[32m━━━━━━━━━━━━━━━━━━━━\u001b[0m\u001b[37m\u001b[0m \u001b[1m0s\u001b[0m 22ms/step\n",
      "\u001b[1m2/2\u001b[0m \u001b[32m━━━━━━━━━━━━━━━━━━━━\u001b[0m\u001b[37m\u001b[0m \u001b[1m0s\u001b[0m 22ms/step\n",
      "\u001b[1m2/2\u001b[0m \u001b[32m━━━━━━━━━━━━━━━━━━━━\u001b[0m\u001b[37m\u001b[0m \u001b[1m0s\u001b[0m 22ms/step\n",
      "\u001b[1m2/2\u001b[0m \u001b[32m━━━━━━━━━━━━━━━━━━━━\u001b[0m\u001b[37m\u001b[0m \u001b[1m0s\u001b[0m 22ms/step\n",
      "\u001b[1m2/2\u001b[0m \u001b[32m━━━━━━━━━━━━━━━━━━━━\u001b[0m\u001b[37m\u001b[0m \u001b[1m0s\u001b[0m 22ms/step\n",
      "\u001b[1m2/2\u001b[0m \u001b[32m━━━━━━━━━━━━━━━━━━━━\u001b[0m\u001b[37m\u001b[0m \u001b[1m0s\u001b[0m 22ms/step\n",
      "\u001b[1m2/2\u001b[0m \u001b[32m━━━━━━━━━━━━━━━━━━━━\u001b[0m\u001b[37m\u001b[0m \u001b[1m0s\u001b[0m 22ms/step\n",
      "\u001b[1m2/2\u001b[0m \u001b[32m━━━━━━━━━━━━━━━━━━━━\u001b[0m\u001b[37m\u001b[0m \u001b[1m0s\u001b[0m 21ms/step\n",
      "              precision    recall  f1-score   support\n",
      "\n",
      "           0       0.65      0.86      0.74      1539\n",
      "           1       0.70      0.41      0.51      1213\n",
      "\n",
      "    accuracy                           0.66      2752\n",
      "   macro avg       0.67      0.63      0.63      2752\n",
      "weighted avg       0.67      0.66      0.64      2752\n",
      "\n"
     ]
    }
   ],
   "source": [
    "y_true = []\n",
    "y_pred = []\n",
    "for images, labels in test_set:\n",
    "    preds = model_tf.predict(images)\n",
    "    y_true.extend(labels.numpy())\n",
    "    y_pred.extend((preds > 0.5).astype(int).flatten())\n",
    "\n",
    "print(classification_report(y_true, y_pred))"
   ]
  },
  {
   "cell_type": "markdown",
   "metadata": {
    "id": "dkQkK-NvWBA2"
   },
   "source": [
    "**Class 0 (Not Infiltration)**:\n",
    "   - **Precision**: 65% → Moderate ability to avoid false positives.\n",
    "   - **Recall**: 86% → Excellent ability to identify negatives correctly.\n",
    "\n",
    "**Class 1 (Infiltration)**:\n",
    "   - **Precision**: 70% → Good ability to avoid false positives.\n",
    "   - **Recall**: 41% → Low ability to capture positives (many false negatives).\n",
    "\n",
    "**Accuracy**:  \n",
    "   - 66% → Indicates acceptable general performance with room for improvement.\n"
   ]
  },
  {
   "cell_type": "markdown",
   "metadata": {
    "id": "dRjn9PgjNzAh"
   },
   "source": [
    "# Pytorch / MobileNetV2\n",
    "\n"
   ]
  },
  {
   "cell_type": "code",
   "execution_count": 22,
   "metadata": {
    "execution": {
     "iopub.execute_input": "2025-01-21T20:41:32.377936Z",
     "iopub.status.busy": "2025-01-21T20:41:32.377597Z",
     "iopub.status.idle": "2025-01-21T20:41:32.382870Z",
     "shell.execute_reply": "2025-01-21T20:41:32.382029Z",
     "shell.execute_reply.started": "2025-01-21T20:41:32.377903Z"
    },
    "executionInfo": {
     "elapsed": 494,
     "status": "ok",
     "timestamp": 1737118951358,
     "user": {
      "displayName": "Loris Salsi",
      "userId": "03149293264146914157"
     },
     "user_tz": -60
    },
    "id": "JCkz6uhxN7la",
    "trusted": true
   },
   "outputs": [],
   "source": [
    "class ChestXRayDataset(Dataset):\n",
    "    def __init__(self, data, transform=None):\n",
    "        self.data = data\n",
    "        self.transform = transform\n",
    "\n",
    "    def __len__(self):\n",
    "        return len(self.data)\n",
    "\n",
    "    def __getitem__(self, idx):\n",
    "        image_path = self.data[idx]['image_path']\n",
    "        label = 1 if \"Infiltration\" in self.data[idx]['labels'] else 0\n",
    "        image = Image.open(image_path).convert(\"RGB\")\n",
    "\n",
    "        if self.transform:\n",
    "            image = self.transform(image)\n",
    "\n",
    "        return image, label"
   ]
  },
  {
   "cell_type": "code",
   "execution_count": 23,
   "metadata": {
    "execution": {
     "iopub.execute_input": "2025-01-21T20:41:32.387522Z",
     "iopub.status.busy": "2025-01-21T20:41:32.387164Z",
     "iopub.status.idle": "2025-01-21T20:41:32.421792Z",
     "shell.execute_reply": "2025-01-21T20:41:32.421174Z",
     "shell.execute_reply.started": "2025-01-21T20:41:32.387489Z"
    },
    "executionInfo": {
     "elapsed": 988,
     "status": "ok",
     "timestamp": 1737118959017,
     "user": {
      "displayName": "Loris Salsi",
      "userId": "03149293264146914157"
     },
     "user_tz": -60
    },
    "id": "ag4Npg9OZYvu",
    "trusted": true
   },
   "outputs": [],
   "source": [
    "# Transformations\n",
    "transform = transforms.Compose([\n",
    "    transforms.Resize((224, 224)),\n",
    "    transforms.ToTensor()])\n",
    "\n",
    "dataset_pytorch = ChestXRayDataset(balanced_data, transform=transform)\n",
    "train_size = int(0.8 * len(dataset_pytorch))\n",
    "test_size = len(dataset_pytorch) - train_size\n",
    "\n",
    "train_dataset, test_dataset = torch.utils.data.random_split(dataset_pytorch, [train_size, test_size])\n",
    "train_loader = DataLoader(train_dataset, batch_size=64, shuffle=True)\n",
    "test_loader = DataLoader(test_dataset, batch_size=64, shuffle=False)"
   ]
  },
  {
   "cell_type": "markdown",
   "metadata": {
    "id": "4c_TIogewSQi"
   },
   "source": [
    "**Model Description - Fine Tuning**  \n",
    "A binary classification model is defined using MobileNetV2 as the base, pretrained on ImageNet. The base model is used as a feature extractor with its weights retained from the pretraining.\n",
    "\n",
    "Key components include:\n",
    "  \n",
    "- A linear classifier, replacing the original output layer, with a single output logit for binary classification.\n",
    "- Loss function: BCEWithLogitsLoss, which combines sigmoid activation and binary crossentropy for stable handling of logits.\n",
    "- Optimizer: Adam, configured with a learning rate of 0.001."
   ]
  },
  {
   "cell_type": "code",
   "execution_count": 24,
   "metadata": {
    "execution": {
     "iopub.execute_input": "2025-01-21T20:41:32.423463Z",
     "iopub.status.busy": "2025-01-21T20:41:32.423252Z",
     "iopub.status.idle": "2025-01-21T20:41:32.965692Z",
     "shell.execute_reply": "2025-01-21T20:41:32.964977Z",
     "shell.execute_reply.started": "2025-01-21T20:41:32.423439Z"
    },
    "executionInfo": {
     "elapsed": 1086,
     "status": "ok",
     "timestamp": 1737118968589,
     "user": {
      "displayName": "Loris Salsi",
      "userId": "03149293264146914157"
     },
     "user_tz": -60
    },
    "id": "mTmkGr1aZcSC",
    "outputId": "fc12ff20-379e-4393-eb8e-c97ce1689802",
    "trusted": true
   },
   "outputs": [
    {
     "name": "stderr",
     "output_type": "stream",
     "text": [
      "/usr/local/lib/python3.10/dist-packages/torchvision/models/_utils.py:208: UserWarning: The parameter 'pretrained' is deprecated since 0.13 and may be removed in the future, please use 'weights' instead.\n",
      "  warnings.warn(\n",
      "/usr/local/lib/python3.10/dist-packages/torchvision/models/_utils.py:223: UserWarning: Arguments other than a weight enum or `None` for 'weights' are deprecated since 0.13 and may be removed in the future. The current behavior is equivalent to passing `weights=MobileNet_V2_Weights.IMAGENET1K_V1`. You can also use `weights=MobileNet_V2_Weights.DEFAULT` to get the most up-to-date weights.\n",
      "  warnings.warn(msg)\n",
      "Downloading: \"https://download.pytorch.org/models/mobilenet_v2-b0353104.pth\" to /root/.cache/torch/hub/checkpoints/mobilenet_v2-b0353104.pth\n",
      "100%|██████████| 13.6M/13.6M [00:00<00:00, 124MB/s]\n"
     ]
    }
   ],
   "source": [
    "# Pre-trained model\n",
    "model = models.mobilenet_v2(pretrained=True)\n",
    "model.classifier[1] = nn.Linear(model.last_channel, 1)  # Binary output\n",
    "device = torch.device(\"cuda\" if torch.cuda.is_available() else \"cpu\")\n",
    "model = model.to(device)\n",
    "\n",
    "# Loss and optimizer\n",
    "criterion = nn.BCEWithLogitsLoss()\n",
    "optimizer = optim.Adam(model.parameters(), lr=0.001)"
   ]
  },
  {
   "cell_type": "code",
   "execution_count": 25,
   "metadata": {
    "execution": {
     "iopub.execute_input": "2025-01-21T20:41:32.966708Z",
     "iopub.status.busy": "2025-01-21T20:41:32.966426Z",
     "iopub.status.idle": "2025-01-21T20:59:05.575842Z",
     "shell.execute_reply": "2025-01-21T20:59:05.574840Z",
     "shell.execute_reply.started": "2025-01-21T20:41:32.966680Z"
    },
    "id": "zhsouOD4bH4d",
    "trusted": true
   },
   "outputs": [
    {
     "name": "stdout",
     "output_type": "stream",
     "text": [
      "Epoch 1/4, Loss: 0.6517\n",
      "Epoch 2/4, Loss: 0.6311\n",
      "Epoch 3/4, Loss: 0.6210\n",
      "Epoch 4/4, Loss: 0.6119\n"
     ]
    }
   ],
   "source": [
    "# Training\n",
    "num_epochs = 4\n",
    "\n",
    "for epoch in range(num_epochs):\n",
    "    model.train()\n",
    "    running_loss = 0.0\n",
    "    for images, labels in train_loader:\n",
    "        images, labels = images.to(device), labels.to(device).float()\n",
    "        optimizer.zero_grad()\n",
    "        outputs = model(images).squeeze()\n",
    "        loss = criterion(outputs, labels)\n",
    "        loss.backward()\n",
    "        optimizer.step()\n",
    "        running_loss += loss.item()\n",
    "\n",
    "    print(f\"Epoch {epoch+1}/{num_epochs}, Loss: {running_loss/len(train_loader):.4f}\")"
   ]
  },
  {
   "cell_type": "code",
   "execution_count": 26,
   "metadata": {
    "execution": {
     "iopub.execute_input": "2025-01-21T20:59:05.577076Z",
     "iopub.status.busy": "2025-01-21T20:59:05.576814Z",
     "iopub.status.idle": "2025-01-21T21:00:06.218155Z",
     "shell.execute_reply": "2025-01-21T21:00:06.217300Z",
     "shell.execute_reply.started": "2025-01-21T20:59:05.577055Z"
    },
    "id": "Q_xsLrd-b8H5",
    "trusted": true
   },
   "outputs": [
    {
     "name": "stdout",
     "output_type": "stream",
     "text": [
      "Test Classification Report:\n",
      "              precision    recall  f1-score   support\n",
      "\n",
      "           0       0.66      0.80      0.73      1590\n",
      "           1       0.64      0.47      0.54      1210\n",
      "\n",
      "    accuracy                           0.66      2800\n",
      "   macro avg       0.65      0.64      0.63      2800\n",
      "weighted avg       0.66      0.66      0.65      2800\n",
      "\n"
     ]
    }
   ],
   "source": [
    "# Validation\n",
    "model.eval()\n",
    "y_true, y_pred = [], []\n",
    "with torch.no_grad():\n",
    "    for images, labels in test_loader:\n",
    "        images, labels = images.to(device), labels.to(device)\n",
    "        outputs = model(images).squeeze()\n",
    "        preds = (torch.sigmoid(outputs) > 0.5).int()\n",
    "        y_true.extend(labels.cpu().numpy())\n",
    "        y_pred.extend(preds.cpu().numpy())\n",
    "\n",
    "print(\"Test Classification Report:\")\n",
    "print(classification_report(y_true, y_pred))"
   ]
  },
  {
   "cell_type": "markdown",
   "metadata": {
    "id": "W2etUnBlWg1w"
   },
   "source": [
    "**Class 0 (Not Infiltration)**:\n",
    "- **Precision**: 66% → Moderate ability to avoid false positives.\n",
    "- **Recall**: 80% → Strong ability to correctly identify negatives.\n",
    "\n",
    "**Class 1 (Infiltration)**:\n",
    "- **Precision**: 64% → Moderate ability to avoid false positives.\n",
    "- **Recall**: 47% → Low ability to capture positives, with many false negatives.\n",
    "\n",
    "**Accuracy**:\n",
    "- 66% → Indicates acceptable overall performance, but with room for improvement in minority class detection."
   ]
  },
  {
   "cell_type": "markdown",
   "metadata": {
    "id": "KvYl-6cQaNy5"
   },
   "source": [
    "# Data Augmentation and Balancing for Class 1  \n",
    "This section implements data augmentation techniques to balance the dataset and improve the model's ability to detect positive cases (Class 1 - \"Infiltration\"). Augmentation is applied selectively to Class 1 images, and the augmented data is combined with the original dataset for training."
   ]
  },
  {
   "cell_type": "markdown",
   "metadata": {
    "id": "gE92LJTye8on"
   },
   "source": [
    "## TensorFlow Keras / MobileNetV2 (with Data Augmentation)"
   ]
  },
  {
   "cell_type": "code",
   "execution_count": 27,
   "metadata": {
    "execution": {
     "iopub.execute_input": "2025-01-21T21:00:06.219453Z",
     "iopub.status.busy": "2025-01-21T21:00:06.219089Z",
     "iopub.status.idle": "2025-01-21T21:00:06.225775Z",
     "shell.execute_reply": "2025-01-21T21:00:06.224820Z",
     "shell.execute_reply.started": "2025-01-21T21:00:06.219387Z"
    },
    "executionInfo": {
     "elapsed": 13,
     "status": "ok",
     "timestamp": 1736961176821,
     "user": {
      "displayName": "Loris Salsi",
      "userId": "03149293264146914157"
     },
     "user_tz": -60
    },
    "id": "-me3D_MdObB_",
    "outputId": "f972dd96-473b-4d9a-d283-4ae481eb7e90",
    "trusted": true
   },
   "outputs": [
    {
     "name": "stdout",
     "output_type": "stream",
     "text": [
      "2000\n"
     ]
    }
   ],
   "source": [
    "class_1_sampled_to_augment = random.sample(class_1_sampled, 2000)\n",
    "print(len(class_1_sampled_to_augment))"
   ]
  },
  {
   "cell_type": "code",
   "execution_count": 28,
   "metadata": {
    "execution": {
     "iopub.execute_input": "2025-01-21T21:00:06.227308Z",
     "iopub.status.busy": "2025-01-21T21:00:06.227000Z",
     "iopub.status.idle": "2025-01-21T21:00:06.413787Z",
     "shell.execute_reply": "2025-01-21T21:00:06.413140Z",
     "shell.execute_reply.started": "2025-01-21T21:00:06.227279Z"
    },
    "id": "3S6XTEEHOx15",
    "trusted": true
   },
   "outputs": [],
   "source": [
    "def augment_image(image):\n",
    "    # Augmentation operations\n",
    "    image = tf.image.random_flip_left_right(image)  # Horizontal Flip\n",
    "    image = tf.image.random_flip_up_down(image)    # Vertical Flip\n",
    "    image = tf.image.rot90(image, k=np.random.randint(1, 4))  # Random rotation\n",
    "    return image\n",
    "\n",
    "# Preprocessing and augmentation function\n",
    "def preprocess_and_augment(image_path, label):\n",
    "    image = tf.io.read_file(image_path)\n",
    "    image = tf.image.decode_png(image, channels=3)\n",
    "    image = tf.image.resize(image, [224, 224]) / 255.0\n",
    "    image = augment_image(image)\n",
    "    return image, label\n",
    "\n",
    "class_1_paths_to_augment = [item['image_path'] for item in class_1_sampled_to_augment]\n",
    "class_1_labels_to_augment = [1] * len(class_1_paths_to_augment)\n",
    "class_1_sampled_to_augment = tf.data.Dataset.from_tensor_slices((class_1_paths_to_augment, class_1_labels_to_augment))\n",
    "\n",
    "class_1_sampled_augmented = class_1_sampled_to_augment.map(preprocess_and_augment, num_parallel_calls=tf.data.AUTOTUNE)"
   ]
  },
  {
   "cell_type": "code",
   "execution_count": 29,
   "metadata": {
    "execution": {
     "iopub.execute_input": "2025-01-21T21:00:06.414836Z",
     "iopub.status.busy": "2025-01-21T21:00:06.414560Z",
     "iopub.status.idle": "2025-01-21T21:00:16.585146Z",
     "shell.execute_reply": "2025-01-21T21:00:16.584248Z",
     "shell.execute_reply.started": "2025-01-21T21:00:06.414814Z"
    },
    "executionInfo": {
     "elapsed": 7332,
     "status": "ok",
     "timestamp": 1736961184147,
     "user": {
      "displayName": "Loris Salsi",
      "userId": "03149293264146914157"
     },
     "user_tz": -60
    },
    "id": "8jI8a0vN9ybR",
    "outputId": "ca64fca3-fcf1-4971-c0ef-eb4beb6ef5d5",
    "trusted": true
   },
   "outputs": [
    {
     "name": "stdout",
     "output_type": "stream",
     "text": [
      "Number of augmented samples: 2000\n"
     ]
    }
   ],
   "source": [
    "augmented_count = sum(1 for _ in class_1_sampled_augmented)\n",
    "print(f\"Number of augmented samples: {augmented_count}\")"
   ]
  },
  {
   "cell_type": "code",
   "execution_count": 30,
   "metadata": {
    "execution": {
     "iopub.execute_input": "2025-01-21T21:00:16.586345Z",
     "iopub.status.busy": "2025-01-21T21:00:16.586011Z",
     "iopub.status.idle": "2025-01-21T21:00:16.594867Z",
     "shell.execute_reply": "2025-01-21T21:00:16.593937Z",
     "shell.execute_reply.started": "2025-01-21T21:00:16.586309Z"
    },
    "executionInfo": {
     "elapsed": 18,
     "status": "ok",
     "timestamp": 1736961184147,
     "user": {
      "displayName": "Loris Salsi",
      "userId": "03149293264146914157"
     },
     "user_tz": -60
    },
    "id": "nwaNec1UVc5Q",
    "outputId": "4c8c8f84-a459-4bc8-f180-49c099ae92f8",
    "trusted": true
   },
   "outputs": [
    {
     "name": "stdout",
     "output_type": "stream",
     "text": [
      "16000\n"
     ]
    }
   ],
   "source": [
    "final_dataset = dataset_nobatch.concatenate(class_1_sampled_augmented)\n",
    "print(len(final_dataset))"
   ]
  },
  {
   "cell_type": "code",
   "execution_count": 31,
   "metadata": {
    "execution": {
     "iopub.execute_input": "2025-01-21T21:00:16.596098Z",
     "iopub.status.busy": "2025-01-21T21:00:16.595824Z",
     "iopub.status.idle": "2025-01-21T21:00:16.612068Z",
     "shell.execute_reply": "2025-01-21T21:00:16.611332Z",
     "shell.execute_reply.started": "2025-01-21T21:00:16.596076Z"
    },
    "id": "1hUEnEe8X93s",
    "trusted": true
   },
   "outputs": [],
   "source": [
    "# Apply shuffle and batching to the combined dataset\n",
    "final_dataset = final_dataset.shuffle(buffer_size=len(final_dataset))\n",
    "final_dataset = final_dataset.batch(64).prefetch(tf.data.AUTOTUNE)"
   ]
  },
  {
   "cell_type": "code",
   "execution_count": 32,
   "metadata": {
    "execution": {
     "iopub.execute_input": "2025-01-21T21:00:16.613397Z",
     "iopub.status.busy": "2025-01-21T21:00:16.613075Z",
     "iopub.status.idle": "2025-01-21T21:00:16.620281Z",
     "shell.execute_reply": "2025-01-21T21:00:16.619368Z",
     "shell.execute_reply.started": "2025-01-21T21:00:16.613368Z"
    },
    "id": "7h5SFQQdyesh",
    "trusted": true
   },
   "outputs": [],
   "source": [
    "dataset_size = len(final_dataset)\n",
    "test_size = int(dataset_size * 0.2)\n",
    "train_size = dataset_size - test_size\n",
    "\n",
    "test_set = final_dataset.take(test_size)  # Top 20% for the test\n",
    "train_set = final_dataset.skip(test_size)  # Remaining 80% for training"
   ]
  },
  {
   "cell_type": "code",
   "execution_count": 33,
   "metadata": {
    "execution": {
     "iopub.execute_input": "2025-01-21T21:00:16.621283Z",
     "iopub.status.busy": "2025-01-21T21:00:16.621059Z",
     "iopub.status.idle": "2025-01-21T21:00:16.627987Z",
     "shell.execute_reply": "2025-01-21T21:00:16.627238Z",
     "shell.execute_reply.started": "2025-01-21T21:00:16.621254Z"
    },
    "executionInfo": {
     "elapsed": 15,
     "status": "ok",
     "timestamp": 1736961184149,
     "user": {
      "displayName": "Loris Salsi",
      "userId": "03149293264146914157"
     },
     "user_tz": -60
    },
    "id": "8dymz0-ix2Px",
    "outputId": "c437c21f-8a97-421c-d2fd-23909ed0b5b7",
    "trusted": true
   },
   "outputs": [
    {
     "name": "stdout",
     "output_type": "stream",
     "text": [
      "Dataset totale: 250\n",
      "Test set: 50\n",
      "Training set: 200\n"
     ]
    }
   ],
   "source": [
    "print(f\"Dataset totale: {dataset_size}\")\n",
    "print(f\"Test set: {test_size}\")\n",
    "print(f\"Training set: {train_size}\")"
   ]
  },
  {
   "cell_type": "code",
   "execution_count": 34,
   "metadata": {
    "execution": {
     "iopub.execute_input": "2025-01-21T21:00:16.629098Z",
     "iopub.status.busy": "2025-01-21T21:00:16.628816Z",
     "iopub.status.idle": "2025-01-21T21:00:16.646003Z",
     "shell.execute_reply": "2025-01-21T21:00:16.645277Z",
     "shell.execute_reply.started": "2025-01-21T21:00:16.629069Z"
    },
    "id": "70I2YunzrtIB",
    "trusted": true
   },
   "outputs": [],
   "source": [
    "optimizer = tf.keras.optimizers.Adam(learning_rate=0.001)\n",
    "model_tf.compile(optimizer=optimizer, loss='binary_crossentropy', metrics=['accuracy'])"
   ]
  },
  {
   "cell_type": "code",
   "execution_count": 35,
   "metadata": {
    "execution": {
     "iopub.execute_input": "2025-01-21T21:00:16.646911Z",
     "iopub.status.busy": "2025-01-21T21:00:16.646727Z",
     "iopub.status.idle": "2025-01-21T21:12:19.204912Z",
     "shell.execute_reply": "2025-01-21T21:12:19.203909Z",
     "shell.execute_reply.started": "2025-01-21T21:00:16.646894Z"
    },
    "executionInfo": {
     "elapsed": 520284,
     "status": "ok",
     "timestamp": 1736961704420,
     "user": {
      "displayName": "Loris Salsi",
      "userId": "03149293264146914157"
     },
     "user_tz": -60
    },
    "id": "WQ0zEdcPzP3T",
    "outputId": "64fd97b8-b473-4299-f319-8be03e753d0a",
    "trusted": true
   },
   "outputs": [
    {
     "name": "stdout",
     "output_type": "stream",
     "text": [
      "Epoch 1/4\n",
      "\u001b[1m200/200\u001b[0m \u001b[32m━━━━━━━━━━━━━━━━━━━━\u001b[0m\u001b[37m\u001b[0m \u001b[1m186s\u001b[0m 496ms/step - accuracy: 0.6831 - loss: 0.5752 - val_accuracy: 0.7094 - val_loss: 0.5409\n",
      "Epoch 2/4\n",
      "\u001b[1m200/200\u001b[0m \u001b[32m━━━━━━━━━━━━━━━━━━━━\u001b[0m\u001b[37m\u001b[0m \u001b[1m178s\u001b[0m 485ms/step - accuracy: 0.6968 - loss: 0.5469 - val_accuracy: 0.7128 - val_loss: 0.5353\n",
      "Epoch 3/4\n",
      "\u001b[1m200/200\u001b[0m \u001b[32m━━━━━━━━━━━━━━━━━━━━\u001b[0m\u001b[37m\u001b[0m \u001b[1m180s\u001b[0m 488ms/step - accuracy: 0.7091 - loss: 0.5384 - val_accuracy: 0.7044 - val_loss: 0.5349\n",
      "Epoch 4/4\n",
      "\u001b[1m200/200\u001b[0m \u001b[32m━━━━━━━━━━━━━━━━━━━━\u001b[0m\u001b[37m\u001b[0m \u001b[1m178s\u001b[0m 485ms/step - accuracy: 0.7109 - loss: 0.5377 - val_accuracy: 0.7169 - val_loss: 0.5254\n"
     ]
    }
   ],
   "source": [
    "history = model_tf.fit(train_set, epochs=4, validation_data = test_set)"
   ]
  },
  {
   "cell_type": "code",
   "execution_count": 36,
   "metadata": {
    "execution": {
     "iopub.execute_input": "2025-01-21T21:12:19.206111Z",
     "iopub.status.busy": "2025-01-21T21:12:19.205887Z",
     "iopub.status.idle": "2025-01-21T21:13:42.761750Z",
     "shell.execute_reply": "2025-01-21T21:13:42.760929Z",
     "shell.execute_reply.started": "2025-01-21T21:12:19.206093Z"
    },
    "executionInfo": {
     "elapsed": 59320,
     "status": "ok",
     "timestamp": 1736961763717,
     "user": {
      "displayName": "Loris Salsi",
      "userId": "03149293264146914157"
     },
     "user_tz": -60
    },
    "id": "r0STPpIBzRLa",
    "outputId": "4051260f-1cc8-41da-de99-bbf8e363e504",
    "trusted": true
   },
   "outputs": [
    {
     "name": "stdout",
     "output_type": "stream",
     "text": [
      "\u001b[1m50/50\u001b[0m \u001b[32m━━━━━━━━━━━━━━━━━━━━\u001b[0m\u001b[37m\u001b[0m \u001b[1m83s\u001b[0m 62ms/step - accuracy: 0.7068 - loss: 0.5358\n",
      "Test Loss: 0.5232852697372437, Test Accuracy: 0.71875\n"
     ]
    }
   ],
   "source": [
    "test_loss, test_accuracy = model_tf.evaluate(test_set)\n",
    "print(f\"Test Loss: {test_loss}, Test Accuracy: {test_accuracy}\")"
   ]
  },
  {
   "cell_type": "code",
   "execution_count": 37,
   "metadata": {
    "execution": {
     "iopub.execute_input": "2025-01-21T21:13:42.762896Z",
     "iopub.status.busy": "2025-01-21T21:13:42.762583Z",
     "iopub.status.idle": "2025-01-21T21:15:11.956723Z",
     "shell.execute_reply": "2025-01-21T21:15:11.955798Z",
     "shell.execute_reply.started": "2025-01-21T21:13:42.762864Z"
    },
    "executionInfo": {
     "elapsed": 64419,
     "status": "ok",
     "timestamp": 1736961828114,
     "user": {
      "displayName": "Loris Salsi",
      "userId": "03149293264146914157"
     },
     "user_tz": -60
    },
    "id": "v5CELpEyC7we",
    "outputId": "1f4e6ab8-8c3f-4c86-8831-e046f2cf5170",
    "trusted": true
   },
   "outputs": [
    {
     "name": "stdout",
     "output_type": "stream",
     "text": [
      "\u001b[1m2/2\u001b[0m \u001b[32m━━━━━━━━━━━━━━━━━━━━\u001b[0m\u001b[37m\u001b[0m \u001b[1m2s\u001b[0m 23ms/step\n",
      "\u001b[1m2/2\u001b[0m \u001b[32m━━━━━━━━━━━━━━━━━━━━\u001b[0m\u001b[37m\u001b[0m \u001b[1m0s\u001b[0m 31ms/step\n",
      "\u001b[1m2/2\u001b[0m \u001b[32m━━━━━━━━━━━━━━━━━━━━\u001b[0m\u001b[37m\u001b[0m \u001b[1m0s\u001b[0m 31ms/step\n",
      "\u001b[1m2/2\u001b[0m \u001b[32m━━━━━━━━━━━━━━━━━━━━\u001b[0m\u001b[37m\u001b[0m \u001b[1m0s\u001b[0m 31ms/step\n",
      "\u001b[1m2/2\u001b[0m \u001b[32m━━━━━━━━━━━━━━━━━━━━\u001b[0m\u001b[37m\u001b[0m \u001b[1m0s\u001b[0m 26ms/step\n",
      "\u001b[1m2/2\u001b[0m \u001b[32m━━━━━━━━━━━━━━━━━━━━\u001b[0m\u001b[37m\u001b[0m \u001b[1m0s\u001b[0m 26ms/step\n",
      "\u001b[1m2/2\u001b[0m \u001b[32m━━━━━━━━━━━━━━━━━━━━\u001b[0m\u001b[37m\u001b[0m \u001b[1m0s\u001b[0m 26ms/step\n",
      "\u001b[1m2/2\u001b[0m \u001b[32m━━━━━━━━━━━━━━━━━━━━\u001b[0m\u001b[37m\u001b[0m \u001b[1m0s\u001b[0m 25ms/step\n",
      "\u001b[1m2/2\u001b[0m \u001b[32m━━━━━━━━━━━━━━━━━━━━\u001b[0m\u001b[37m\u001b[0m \u001b[1m0s\u001b[0m 25ms/step\n",
      "\u001b[1m2/2\u001b[0m \u001b[32m━━━━━━━━━━━━━━━━━━━━\u001b[0m\u001b[37m\u001b[0m \u001b[1m0s\u001b[0m 25ms/step\n",
      "\u001b[1m2/2\u001b[0m \u001b[32m━━━━━━━━━━━━━━━━━━━━\u001b[0m\u001b[37m\u001b[0m \u001b[1m0s\u001b[0m 24ms/step\n",
      "\u001b[1m2/2\u001b[0m \u001b[32m━━━━━━━━━━━━━━━━━━━━\u001b[0m\u001b[37m\u001b[0m \u001b[1m0s\u001b[0m 23ms/step\n",
      "\u001b[1m2/2\u001b[0m \u001b[32m━━━━━━━━━━━━━━━━━━━━\u001b[0m\u001b[37m\u001b[0m \u001b[1m0s\u001b[0m 23ms/step\n",
      "\u001b[1m2/2\u001b[0m \u001b[32m━━━━━━━━━━━━━━━━━━━━\u001b[0m\u001b[37m\u001b[0m \u001b[1m0s\u001b[0m 23ms/step\n",
      "\u001b[1m2/2\u001b[0m \u001b[32m━━━━━━━━━━━━━━━━━━━━\u001b[0m\u001b[37m\u001b[0m \u001b[1m0s\u001b[0m 23ms/step\n",
      "\u001b[1m2/2\u001b[0m \u001b[32m━━━━━━━━━━━━━━━━━━━━\u001b[0m\u001b[37m\u001b[0m \u001b[1m0s\u001b[0m 23ms/step\n",
      "\u001b[1m2/2\u001b[0m \u001b[32m━━━━━━━━━━━━━━━━━━━━\u001b[0m\u001b[37m\u001b[0m \u001b[1m0s\u001b[0m 22ms/step\n",
      "\u001b[1m2/2\u001b[0m \u001b[32m━━━━━━━━━━━━━━━━━━━━\u001b[0m\u001b[37m\u001b[0m \u001b[1m0s\u001b[0m 23ms/step\n",
      "\u001b[1m2/2\u001b[0m \u001b[32m━━━━━━━━━━━━━━━━━━━━\u001b[0m\u001b[37m\u001b[0m \u001b[1m0s\u001b[0m 23ms/step\n",
      "\u001b[1m2/2\u001b[0m \u001b[32m━━━━━━━━━━━━━━━━━━━━\u001b[0m\u001b[37m\u001b[0m \u001b[1m0s\u001b[0m 22ms/step\n",
      "\u001b[1m2/2\u001b[0m \u001b[32m━━━━━━━━━━━━━━━━━━━━\u001b[0m\u001b[37m\u001b[0m \u001b[1m0s\u001b[0m 22ms/step\n",
      "\u001b[1m2/2\u001b[0m \u001b[32m━━━━━━━━━━━━━━━━━━━━\u001b[0m\u001b[37m\u001b[0m \u001b[1m0s\u001b[0m 22ms/step\n",
      "\u001b[1m2/2\u001b[0m \u001b[32m━━━━━━━━━━━━━━━━━━━━\u001b[0m\u001b[37m\u001b[0m \u001b[1m0s\u001b[0m 22ms/step\n",
      "\u001b[1m2/2\u001b[0m \u001b[32m━━━━━━━━━━━━━━━━━━━━\u001b[0m\u001b[37m\u001b[0m \u001b[1m0s\u001b[0m 22ms/step\n",
      "\u001b[1m2/2\u001b[0m \u001b[32m━━━━━━━━━━━━━━━━━━━━\u001b[0m\u001b[37m\u001b[0m \u001b[1m0s\u001b[0m 22ms/step\n",
      "\u001b[1m2/2\u001b[0m \u001b[32m━━━━━━━━━━━━━━━━━━━━\u001b[0m\u001b[37m\u001b[0m \u001b[1m0s\u001b[0m 22ms/step\n",
      "\u001b[1m2/2\u001b[0m \u001b[32m━━━━━━━━━━━━━━━━━━━━\u001b[0m\u001b[37m\u001b[0m \u001b[1m0s\u001b[0m 22ms/step\n",
      "\u001b[1m2/2\u001b[0m \u001b[32m━━━━━━━━━━━━━━━━━━━━\u001b[0m\u001b[37m\u001b[0m \u001b[1m0s\u001b[0m 22ms/step\n",
      "\u001b[1m2/2\u001b[0m \u001b[32m━━━━━━━━━━━━━━━━━━━━\u001b[0m\u001b[37m\u001b[0m \u001b[1m0s\u001b[0m 22ms/step\n",
      "\u001b[1m2/2\u001b[0m \u001b[32m━━━━━━━━━━━━━━━━━━━━\u001b[0m\u001b[37m\u001b[0m \u001b[1m0s\u001b[0m 22ms/step\n",
      "\u001b[1m2/2\u001b[0m \u001b[32m━━━━━━━━━━━━━━━━━━━━\u001b[0m\u001b[37m\u001b[0m \u001b[1m0s\u001b[0m 22ms/step\n",
      "\u001b[1m2/2\u001b[0m \u001b[32m━━━━━━━━━━━━━━━━━━━━\u001b[0m\u001b[37m\u001b[0m \u001b[1m0s\u001b[0m 22ms/step\n",
      "\u001b[1m2/2\u001b[0m \u001b[32m━━━━━━━━━━━━━━━━━━━━\u001b[0m\u001b[37m\u001b[0m \u001b[1m0s\u001b[0m 23ms/step\n",
      "\u001b[1m2/2\u001b[0m \u001b[32m━━━━━━━━━━━━━━━━━━━━\u001b[0m\u001b[37m\u001b[0m \u001b[1m0s\u001b[0m 22ms/step\n",
      "\u001b[1m2/2\u001b[0m \u001b[32m━━━━━━━━━━━━━━━━━━━━\u001b[0m\u001b[37m\u001b[0m \u001b[1m0s\u001b[0m 22ms/step\n",
      "\u001b[1m2/2\u001b[0m \u001b[32m━━━━━━━━━━━━━━━━━━━━\u001b[0m\u001b[37m\u001b[0m \u001b[1m0s\u001b[0m 22ms/step\n",
      "\u001b[1m2/2\u001b[0m \u001b[32m━━━━━━━━━━━━━━━━━━━━\u001b[0m\u001b[37m\u001b[0m \u001b[1m0s\u001b[0m 22ms/step\n",
      "\u001b[1m2/2\u001b[0m \u001b[32m━━━━━━━━━━━━━━━━━━━━\u001b[0m\u001b[37m\u001b[0m \u001b[1m0s\u001b[0m 22ms/step\n",
      "\u001b[1m2/2\u001b[0m \u001b[32m━━━━━━━━━━━━━━━━━━━━\u001b[0m\u001b[37m\u001b[0m \u001b[1m0s\u001b[0m 22ms/step\n",
      "\u001b[1m2/2\u001b[0m \u001b[32m━━━━━━━━━━━━━━━━━━━━\u001b[0m\u001b[37m\u001b[0m \u001b[1m0s\u001b[0m 22ms/step\n",
      "\u001b[1m2/2\u001b[0m \u001b[32m━━━━━━━━━━━━━━━━━━━━\u001b[0m\u001b[37m\u001b[0m \u001b[1m0s\u001b[0m 22ms/step\n",
      "\u001b[1m2/2\u001b[0m \u001b[32m━━━━━━━━━━━━━━━━━━━━\u001b[0m\u001b[37m\u001b[0m \u001b[1m0s\u001b[0m 22ms/step\n",
      "\u001b[1m2/2\u001b[0m \u001b[32m━━━━━━━━━━━━━━━━━━━━\u001b[0m\u001b[37m\u001b[0m \u001b[1m0s\u001b[0m 22ms/step\n",
      "\u001b[1m2/2\u001b[0m \u001b[32m━━━━━━━━━━━━━━━━━━━━\u001b[0m\u001b[37m\u001b[0m \u001b[1m0s\u001b[0m 22ms/step\n",
      "\u001b[1m2/2\u001b[0m \u001b[32m━━━━━━━━━━━━━━━━━━━━\u001b[0m\u001b[37m\u001b[0m \u001b[1m0s\u001b[0m 22ms/step\n",
      "\u001b[1m2/2\u001b[0m \u001b[32m━━━━━━━━━━━━━━━━━━━━\u001b[0m\u001b[37m\u001b[0m \u001b[1m0s\u001b[0m 22ms/step\n",
      "\u001b[1m2/2\u001b[0m \u001b[32m━━━━━━━━━━━━━━━━━━━━\u001b[0m\u001b[37m\u001b[0m \u001b[1m0s\u001b[0m 22ms/step\n",
      "\u001b[1m2/2\u001b[0m \u001b[32m━━━━━━━━━━━━━━━━━━━━\u001b[0m\u001b[37m\u001b[0m \u001b[1m0s\u001b[0m 22ms/step\n",
      "\u001b[1m2/2\u001b[0m \u001b[32m━━━━━━━━━━━━━━━━━━━━\u001b[0m\u001b[37m\u001b[0m \u001b[1m0s\u001b[0m 22ms/step\n",
      "\u001b[1m2/2\u001b[0m \u001b[32m━━━━━━━━━━━━━━━━━━━━\u001b[0m\u001b[37m\u001b[0m \u001b[1m0s\u001b[0m 22ms/step\n",
      "Classification report for threshold = 0.4\n",
      "              precision    recall  f1-score   support\n",
      "\n",
      "           0       0.70      0.69      0.70      1589\n",
      "           1       0.70      0.71      0.71      1611\n",
      "\n",
      "    accuracy                           0.70      3200\n",
      "   macro avg       0.70      0.70      0.70      3200\n",
      "weighted avg       0.70      0.70      0.70      3200\n",
      "\n",
      "Classification report for threshold = 0.5\n",
      "              precision    recall  f1-score   support\n",
      "\n",
      "           0       0.67      0.86      0.75      1589\n",
      "           1       0.80      0.58      0.68      1611\n",
      "\n",
      "    accuracy                           0.72      3200\n",
      "   macro avg       0.74      0.72      0.71      3200\n",
      "weighted avg       0.74      0.72      0.71      3200\n",
      "\n"
     ]
    }
   ],
   "source": [
    "y_true = []\n",
    "y_pred = []\n",
    "\n",
    "for images, labels in test_set:\n",
    "    preds = model_tf.predict(images)\n",
    "    y_true.extend(labels.numpy())\n",
    "    y_pred.extend(preds.flatten())\n",
    "\n",
    "y_true = np.array(y_true)\n",
    "y_pred = np.array(y_pred)\n",
    "\n",
    "thresholds = [0.4, 0.5]\n",
    "for threshold in thresholds:\n",
    "    y_pred_class = (y_pred > threshold).astype(int)\n",
    "    print(f\"Classification report for threshold = {threshold}\")\n",
    "    print(classification_report(y_true, y_pred_class))\n"
   ]
  },
  {
   "cell_type": "markdown",
   "metadata": {},
   "source": [
    "**Class 0 (Not Infiltration)**:  \n",
    "- **Precision**: 67% → Moderate ability to avoid false positives.  \n",
    "- **Recall**: 86% → Strong ability to correctly identify negatives.  \n",
    "\n",
    "**Class 1 (Infiltration)**:  \n",
    "- **Precision**: 80% → High ability to avoid false positives.  \n",
    "- **Recall**: 58% → Moderate ability to capture positives, with some false negatives.  \n",
    "\n",
    "**Accuracy**:  \n",
    "- 72% → Indicates good overall performance, but with some room for improvement in detecting positives.  "
   ]
  },
  {
   "cell_type": "code",
   "execution_count": 38,
   "metadata": {
    "execution": {
     "iopub.execute_input": "2025-01-21T21:15:11.957896Z",
     "iopub.status.busy": "2025-01-21T21:15:11.957653Z",
     "iopub.status.idle": "2025-01-21T21:15:12.254580Z",
     "shell.execute_reply": "2025-01-21T21:15:12.253633Z",
     "shell.execute_reply.started": "2025-01-21T21:15:11.957876Z"
    },
    "trusted": true
   },
   "outputs": [
    {
     "data": {
      "image/png": "[encoded data removed]",
      "text/plain": [
       "<Figure size 640x480 with 2 Axes>"
      ]
     },
     "metadata": {},
     "output_type": "display_data"
    }
   ],
   "source": [
    "threshold = 0.5\n",
    "y_pred_class = (y_pred > threshold).astype(int)\n",
    "cm = confusion_matrix(y_true, y_pred_class)\n",
    "\n",
    "disp = ConfusionMatrixDisplay(confusion_matrix=cm, display_labels=['Class 0', 'Class 1'])\n",
    "disp.plot(cmap='Blues', values_format='d')\n",
    "plt.title(f'Confusion Matrix (Threshold = {threshold})')\n",
    "plt.show()"
   ]
  },
  {
   "cell_type": "markdown",
   "metadata": {
    "id": "C3L-2GYM-HJc"
   },
   "source": [
    "**Model Description - Fine Tuning**     \n",
    "A binary classification model is defined using MobileNetV2 as the base, pretrained on ImageNet. The base model is used as a feature extractor with its weights frozen (trainable=False).\n",
    "\n",
    "Key components include:  \n",
    "- GlobalMaxPooling2D.   \n",
    "- A fully connected layer with 64 units and ReLU activation.\n",
    "- An output layer with 1 unit and sigmoid activation for binary classification.  \n",
    "- Optimizer: Adam, configured with a learning rate of 0.001.\n",
    "- Loss function: Binary crossentropy, suitable for binary classification tasks.\n",
    "- Metric: Accuracy, to evaluate the model’s performance."
   ]
  },
  {
   "cell_type": "code",
   "execution_count": 39,
   "metadata": {
    "execution": {
     "iopub.execute_input": "2025-01-21T21:15:12.255784Z",
     "iopub.status.busy": "2025-01-21T21:15:12.255489Z",
     "iopub.status.idle": "2025-01-21T21:15:12.280165Z",
     "shell.execute_reply": "2025-01-21T21:15:12.279346Z",
     "shell.execute_reply.started": "2025-01-21T21:15:12.255751Z"
    },
    "id": "V_8cFFGWl300",
    "trusted": true
   },
   "outputs": [],
   "source": [
    "model_tf_max = tf.keras.Sequential([base_model,\n",
    "    tf.keras.layers.GlobalMaxPooling2D(),\n",
    "    tf.keras.layers.Dense(64, activation='relu'),\n",
    "    tf.keras.layers.Dense(1, activation='sigmoid')])"
   ]
  },
  {
   "cell_type": "code",
   "execution_count": 40,
   "metadata": {
    "execution": {
     "iopub.execute_input": "2025-01-21T21:15:12.281451Z",
     "iopub.status.busy": "2025-01-21T21:15:12.281119Z",
     "iopub.status.idle": "2025-01-21T21:15:12.288964Z",
     "shell.execute_reply": "2025-01-21T21:15:12.288168Z",
     "shell.execute_reply.started": "2025-01-21T21:15:12.281396Z"
    },
    "id": "Jpycp1KimGCl",
    "trusted": true
   },
   "outputs": [],
   "source": [
    "optimizer = tf.keras.optimizers.Adam(learning_rate=0.001)\n",
    "model_tf_max.compile(optimizer=optimizer, loss='binary_crossentropy', metrics=['accuracy'])"
   ]
  },
  {
   "cell_type": "code",
   "execution_count": 41,
   "metadata": {
    "execution": {
     "iopub.execute_input": "2025-01-21T21:15:12.290008Z",
     "iopub.status.busy": "2025-01-21T21:15:12.289745Z",
     "iopub.status.idle": "2025-01-21T21:32:30.857337Z",
     "shell.execute_reply": "2025-01-21T21:32:30.854829Z",
     "shell.execute_reply.started": "2025-01-21T21:15:12.289981Z"
    },
    "id": "b5B4uxZTqZqy",
    "trusted": true
   },
   "outputs": [
    {
     "name": "stdout",
     "output_type": "stream",
     "text": [
      "Epoch 1/5\n",
      "\u001b[1m200/200\u001b[0m \u001b[32m━━━━━━━━━━━━━━━━━━━━\u001b[0m\u001b[37m\u001b[0m \u001b[1m187s\u001b[0m 495ms/step - accuracy: 0.6000 - loss: 1.1732 - val_accuracy: 0.6781 - val_loss: 0.5622\n",
      "Epoch 2/5\n",
      "\u001b[1m200/200\u001b[0m \u001b[32m━━━━━━━━━━━━━━━━━━━━\u001b[0m\u001b[37m\u001b[0m \u001b[1m192s\u001b[0m 554ms/step - accuracy: 0.6711 - loss: 0.5731 - val_accuracy: 0.6894 - val_loss: 0.5529\n",
      "Epoch 3/5\n",
      "\u001b[1m200/200\u001b[0m \u001b[32m━━━━━━━━━━━━━━━━━━━━\u001b[0m\u001b[37m\u001b[0m \u001b[1m183s\u001b[0m 482ms/step - accuracy: 0.6716 - loss: 0.5718 - val_accuracy: 0.6834 - val_loss: 0.5578\n",
      "Epoch 4/5\n",
      "\u001b[1m200/200\u001b[0m \u001b[32m━━━━━━━━━━━━━━━━━━━━\u001b[0m\u001b[37m\u001b[0m \u001b[1m183s\u001b[0m 502ms/step - accuracy: 0.6802 - loss: 0.5643 - val_accuracy: 0.6947 - val_loss: 0.5501\n",
      "Epoch 5/5\n",
      "\u001b[1m200/200\u001b[0m \u001b[32m━━━━━━━━━━━━━━━━━━━━\u001b[0m\u001b[37m\u001b[0m \u001b[1m195s\u001b[0m 513ms/step - accuracy: 0.6890 - loss: 0.5557 - val_accuracy: 0.6891 - val_loss: 0.5567\n",
      "\u001b[1m50/50\u001b[0m \u001b[32m━━━━━━━━━━━━━━━━━━━━\u001b[0m\u001b[37m\u001b[0m \u001b[1m98s\u001b[0m 62ms/step - accuracy: 0.6862 - loss: 0.5549\n",
      "Test Loss: 0.5608054995536804, Test Accuracy: 0.6837499737739563\n"
     ]
    }
   ],
   "source": [
    "history = model_tf_max.fit(train_set, epochs=5,validation_data=test_set)\n",
    "\n",
    "test_loss, test_accuracy = model_tf_max.evaluate(test_set)\n",
    "print(f\"Test Loss: {test_loss}, Test Accuracy: {test_accuracy}\")"
   ]
  },
  {
   "cell_type": "code",
   "execution_count": 42,
   "metadata": {
    "execution": {
     "iopub.execute_input": "2025-01-21T21:32:30.862569Z",
     "iopub.status.busy": "2025-01-21T21:32:30.862093Z",
     "iopub.status.idle": "2025-01-21T21:34:18.649477Z",
     "shell.execute_reply": "2025-01-21T21:34:18.648730Z",
     "shell.execute_reply.started": "2025-01-21T21:32:30.862522Z"
    },
    "id": "k-cQLvtLsvGZ",
    "trusted": true
   },
   "outputs": [
    {
     "name": "stdout",
     "output_type": "stream",
     "text": [
      "\u001b[1m2/2\u001b[0m \u001b[32m━━━━━━━━━━━━━━━━━━━━\u001b[0m\u001b[37m\u001b[0m \u001b[1m4s\u001b[0m 17ms/step\n",
      "\u001b[1m2/2\u001b[0m \u001b[32m━━━━━━━━━━━━━━━━━━━━\u001b[0m\u001b[37m\u001b[0m \u001b[1m0s\u001b[0m 31ms/step\n",
      "\u001b[1m2/2\u001b[0m \u001b[32m━━━━━━━━━━━━━━━━━━━━\u001b[0m\u001b[37m\u001b[0m \u001b[1m0s\u001b[0m 31ms/step\n",
      "\u001b[1m2/2\u001b[0m \u001b[32m━━━━━━━━━━━━━━━━━━━━\u001b[0m\u001b[37m\u001b[0m \u001b[1m0s\u001b[0m 30ms/step\n",
      "\u001b[1m2/2\u001b[0m \u001b[32m━━━━━━━━━━━━━━━━━━━━\u001b[0m\u001b[37m\u001b[0m \u001b[1m0s\u001b[0m 26ms/step\n",
      "\u001b[1m2/2\u001b[0m \u001b[32m━━━━━━━━━━━━━━━━━━━━\u001b[0m\u001b[37m\u001b[0m \u001b[1m0s\u001b[0m 26ms/step\n",
      "\u001b[1m2/2\u001b[0m \u001b[32m━━━━━━━━━━━━━━━━━━━━\u001b[0m\u001b[37m\u001b[0m \u001b[1m0s\u001b[0m 26ms/step\n",
      "\u001b[1m2/2\u001b[0m \u001b[32m━━━━━━━━━━━━━━━━━━━━\u001b[0m\u001b[37m\u001b[0m \u001b[1m0s\u001b[0m 26ms/step\n",
      "\u001b[1m2/2\u001b[0m \u001b[32m━━━━━━━━━━━━━━━━━━━━\u001b[0m\u001b[37m\u001b[0m \u001b[1m0s\u001b[0m 26ms/step\n",
      "\u001b[1m2/2\u001b[0m \u001b[32m━━━━━━━━━━━━━━━━━━━━\u001b[0m\u001b[37m\u001b[0m \u001b[1m0s\u001b[0m 24ms/step\n",
      "\u001b[1m2/2\u001b[0m \u001b[32m━━━━━━━━━━━━━━━━━━━━\u001b[0m\u001b[37m\u001b[0m \u001b[1m0s\u001b[0m 24ms/step\n",
      "\u001b[1m2/2\u001b[0m \u001b[32m━━━━━━━━━━━━━━━━━━━━\u001b[0m\u001b[37m\u001b[0m \u001b[1m0s\u001b[0m 23ms/step\n",
      "\u001b[1m2/2\u001b[0m \u001b[32m━━━━━━━━━━━━━━━━━━━━\u001b[0m\u001b[37m\u001b[0m \u001b[1m0s\u001b[0m 23ms/step\n",
      "\u001b[1m2/2\u001b[0m \u001b[32m━━━━━━━━━━━━━━━━━━━━\u001b[0m\u001b[37m\u001b[0m \u001b[1m0s\u001b[0m 23ms/step\n",
      "\u001b[1m2/2\u001b[0m \u001b[32m━━━━━━━━━━━━━━━━━━━━\u001b[0m\u001b[37m\u001b[0m \u001b[1m0s\u001b[0m 22ms/step\n",
      "\u001b[1m2/2\u001b[0m \u001b[32m━━━━━━━━━━━━━━━━━━━━\u001b[0m\u001b[37m\u001b[0m \u001b[1m0s\u001b[0m 22ms/step\n",
      "\u001b[1m2/2\u001b[0m \u001b[32m━━━━━━━━━━━━━━━━━━━━\u001b[0m\u001b[37m\u001b[0m \u001b[1m0s\u001b[0m 23ms/step\n",
      "\u001b[1m2/2\u001b[0m \u001b[32m━━━━━━━━━━━━━━━━━━━━\u001b[0m\u001b[37m\u001b[0m \u001b[1m0s\u001b[0m 23ms/step\n",
      "\u001b[1m2/2\u001b[0m \u001b[32m━━━━━━━━━━━━━━━━━━━━\u001b[0m\u001b[37m\u001b[0m \u001b[1m0s\u001b[0m 23ms/step\n",
      "\u001b[1m2/2\u001b[0m \u001b[32m━━━━━━━━━━━━━━━━━━━━\u001b[0m\u001b[37m\u001b[0m \u001b[1m0s\u001b[0m 22ms/step\n",
      "\u001b[1m2/2\u001b[0m \u001b[32m━━━━━━━━━━━━━━━━━━━━\u001b[0m\u001b[37m\u001b[0m \u001b[1m0s\u001b[0m 22ms/step\n",
      "\u001b[1m2/2\u001b[0m \u001b[32m━━━━━━━━━━━━━━━━━━━━\u001b[0m\u001b[37m\u001b[0m \u001b[1m0s\u001b[0m 22ms/step\n",
      "\u001b[1m2/2\u001b[0m \u001b[32m━━━━━━━━━━━━━━━━━━━━\u001b[0m\u001b[37m\u001b[0m \u001b[1m0s\u001b[0m 22ms/step\n",
      "\u001b[1m2/2\u001b[0m \u001b[32m━━━━━━━━━━━━━━━━━━━━\u001b[0m\u001b[37m\u001b[0m \u001b[1m0s\u001b[0m 22ms/step\n",
      "\u001b[1m2/2\u001b[0m \u001b[32m━━━━━━━━━━━━━━━━━━━━\u001b[0m\u001b[37m\u001b[0m \u001b[1m0s\u001b[0m 22ms/step\n",
      "\u001b[1m2/2\u001b[0m \u001b[32m━━━━━━━━━━━━━━━━━━━━\u001b[0m\u001b[37m\u001b[0m \u001b[1m0s\u001b[0m 23ms/step\n",
      "\u001b[1m2/2\u001b[0m \u001b[32m━━━━━━━━━━━━━━━━━━━━\u001b[0m\u001b[37m\u001b[0m \u001b[1m0s\u001b[0m 21ms/step\n",
      "\u001b[1m2/2\u001b[0m \u001b[32m━━━━━━━━━━━━━━━━━━━━\u001b[0m\u001b[37m\u001b[0m \u001b[1m0s\u001b[0m 22ms/step\n",
      "\u001b[1m2/2\u001b[0m \u001b[32m━━━━━━━━━━━━━━━━━━━━\u001b[0m\u001b[37m\u001b[0m \u001b[1m0s\u001b[0m 21ms/step\n",
      "\u001b[1m2/2\u001b[0m \u001b[32m━━━━━━━━━━━━━━━━━━━━\u001b[0m\u001b[37m\u001b[0m \u001b[1m0s\u001b[0m 22ms/step\n",
      "\u001b[1m2/2\u001b[0m \u001b[32m━━━━━━━━━━━━━━━━━━━━\u001b[0m\u001b[37m\u001b[0m \u001b[1m0s\u001b[0m 22ms/step\n",
      "\u001b[1m2/2\u001b[0m \u001b[32m━━━━━━━━━━━━━━━━━━━━\u001b[0m\u001b[37m\u001b[0m \u001b[1m0s\u001b[0m 22ms/step\n",
      "\u001b[1m2/2\u001b[0m \u001b[32m━━━━━━━━━━━━━━━━━━━━\u001b[0m\u001b[37m\u001b[0m \u001b[1m0s\u001b[0m 22ms/step\n",
      "\u001b[1m2/2\u001b[0m \u001b[32m━━━━━━━━━━━━━━━━━━━━\u001b[0m\u001b[37m\u001b[0m \u001b[1m0s\u001b[0m 22ms/step\n",
      "\u001b[1m2/2\u001b[0m \u001b[32m━━━━━━━━━━━━━━━━━━━━\u001b[0m\u001b[37m\u001b[0m \u001b[1m0s\u001b[0m 22ms/step\n",
      "\u001b[1m2/2\u001b[0m \u001b[32m━━━━━━━━━━━━━━━━━━━━\u001b[0m\u001b[37m\u001b[0m \u001b[1m0s\u001b[0m 22ms/step\n",
      "\u001b[1m2/2\u001b[0m \u001b[32m━━━━━━━━━━━━━━━━━━━━\u001b[0m\u001b[37m\u001b[0m \u001b[1m0s\u001b[0m 22ms/step\n",
      "\u001b[1m2/2\u001b[0m \u001b[32m━━━━━━━━━━━━━━━━━━━━\u001b[0m\u001b[37m\u001b[0m \u001b[1m0s\u001b[0m 22ms/step\n",
      "\u001b[1m2/2\u001b[0m \u001b[32m━━━━━━━━━━━━━━━━━━━━\u001b[0m\u001b[37m\u001b[0m \u001b[1m0s\u001b[0m 22ms/step\n",
      "\u001b[1m2/2\u001b[0m \u001b[32m━━━━━━━━━━━━━━━━━━━━\u001b[0m\u001b[37m\u001b[0m \u001b[1m0s\u001b[0m 22ms/step\n",
      "\u001b[1m2/2\u001b[0m \u001b[32m━━━━━━━━━━━━━━━━━━━━\u001b[0m\u001b[37m\u001b[0m \u001b[1m0s\u001b[0m 22ms/step\n",
      "\u001b[1m2/2\u001b[0m \u001b[32m━━━━━━━━━━━━━━━━━━━━\u001b[0m\u001b[37m\u001b[0m \u001b[1m0s\u001b[0m 22ms/step\n",
      "\u001b[1m2/2\u001b[0m \u001b[32m━━━━━━━━━━━━━━━━━━━━\u001b[0m\u001b[37m\u001b[0m \u001b[1m0s\u001b[0m 22ms/step\n",
      "\u001b[1m2/2\u001b[0m \u001b[32m━━━━━━━━━━━━━━━━━━━━\u001b[0m\u001b[37m\u001b[0m \u001b[1m0s\u001b[0m 22ms/step\n",
      "\u001b[1m2/2\u001b[0m \u001b[32m━━━━━━━━━━━━━━━━━━━━\u001b[0m\u001b[37m\u001b[0m \u001b[1m0s\u001b[0m 22ms/step\n",
      "\u001b[1m2/2\u001b[0m \u001b[32m━━━━━━━━━━━━━━━━━━━━\u001b[0m\u001b[37m\u001b[0m \u001b[1m0s\u001b[0m 22ms/step\n",
      "\u001b[1m2/2\u001b[0m \u001b[32m━━━━━━━━━━━━━━━━━━━━\u001b[0m\u001b[37m\u001b[0m \u001b[1m0s\u001b[0m 22ms/step\n",
      "\u001b[1m2/2\u001b[0m \u001b[32m━━━━━━━━━━━━━━━━━━━━\u001b[0m\u001b[37m\u001b[0m \u001b[1m0s\u001b[0m 22ms/step\n",
      "\u001b[1m2/2\u001b[0m \u001b[32m━━━━━━━━━━━━━━━━━━━━\u001b[0m\u001b[37m\u001b[0m \u001b[1m0s\u001b[0m 22ms/step\n",
      "\u001b[1m2/2\u001b[0m \u001b[32m━━━━━━━━━━━━━━━━━━━━\u001b[0m\u001b[37m\u001b[0m \u001b[1m0s\u001b[0m 22ms/step\n",
      "Classification report for threshold = 0.4\n",
      "              precision    recall  f1-score   support\n",
      "\n",
      "           0       0.69      0.64      0.66      1592\n",
      "           1       0.67      0.71      0.69      1608\n",
      "\n",
      "    accuracy                           0.68      3200\n",
      "   macro avg       0.68      0.68      0.68      3200\n",
      "weighted avg       0.68      0.68      0.68      3200\n",
      "\n",
      "Classification report for threshold = 0.5\n",
      "              precision    recall  f1-score   support\n",
      "\n",
      "           0       0.65      0.81      0.72      1592\n",
      "           1       0.75      0.58      0.65      1608\n",
      "\n",
      "    accuracy                           0.69      3200\n",
      "   macro avg       0.70      0.69      0.69      3200\n",
      "weighted avg       0.70      0.69      0.69      3200\n",
      "\n"
     ]
    }
   ],
   "source": [
    "y_true = []\n",
    "y_pred = []\n",
    "\n",
    "for images, labels in test_set:\n",
    "    preds = model_tf_max.predict(images)\n",
    "    y_true.extend(labels.numpy())\n",
    "    y_pred.extend(preds.flatten())\n",
    "\n",
    "y_true = np.array(y_true)\n",
    "y_pred = np.array(y_pred)\n",
    "\n",
    "thresholds = [0.4, 0.5]\n",
    "for threshold in thresholds:\n",
    "    y_pred_class = (y_pred > threshold).astype(int)\n",
    "    print(f\"Classification report for threshold = {threshold}\")\n",
    "    print(classification_report(y_true, y_pred_class))"
   ]
  },
  {
   "cell_type": "markdown",
   "metadata": {},
   "source": [
    "**Class 0 (Not Infiltration)**:  \n",
    "- **Precision**: 65% → Moderate ability to avoid false positives.  \n",
    "- **Recall**: 81% → Strong ability to correctly identify negatives.  \n",
    "\n",
    "**Class 1 (Infiltration)**:  \n",
    "- **Precision**: 75% → Good ability to avoid false positives.  \n",
    "- **Recall**: 58% → Moderate ability to capture positives, with some false negatives.  \n",
    "\n",
    "**Accuracy**:  \n",
    "- 69% → Indicates solid overall performance, but improvements are needed in positive case detection.  "
   ]
  },
  {
   "cell_type": "code",
   "execution_count": 43,
   "metadata": {
    "execution": {
     "iopub.execute_input": "2025-01-21T21:34:18.651441Z",
     "iopub.status.busy": "2025-01-21T21:34:18.651168Z",
     "iopub.status.idle": "2025-01-21T21:34:18.894762Z",
     "shell.execute_reply": "2025-01-21T21:34:18.893897Z",
     "shell.execute_reply.started": "2025-01-21T21:34:18.651398Z"
    },
    "trusted": true
   },
   "outputs": [
    {
     "data": {
      "image/png": "[encoded data removed]",
      "text/plain": [
       "<Figure size 640x480 with 2 Axes>"
      ]
     },
     "metadata": {},
     "output_type": "display_data"
    }
   ],
   "source": [
    "threshold = 0.5\n",
    "y_pred_class = (y_pred > threshold).astype(int)\n",
    "cm = confusion_matrix(y_true, y_pred_class)\n",
    "\n",
    "disp = ConfusionMatrixDisplay(confusion_matrix=cm, display_labels=['Class 0', 'Class 1'])\n",
    "disp.plot(cmap='Blues', values_format='d')\n",
    "plt.title(f'Confusion Matrix (Threshold = {threshold})')\n",
    "plt.show()"
   ]
  },
  {
   "cell_type": "markdown",
   "metadata": {
    "id": "LqEAIcv8Rm87"
   },
   "source": [
    "## Pytorch / MobileNetV2 (with Data Augmentation)\n"
   ]
  },
  {
   "cell_type": "code",
   "execution_count": 44,
   "metadata": {
    "execution": {
     "iopub.execute_input": "2025-01-21T21:34:18.896138Z",
     "iopub.status.busy": "2025-01-21T21:34:18.895813Z",
     "iopub.status.idle": "2025-01-21T21:34:18.909523Z",
     "shell.execute_reply": "2025-01-21T21:34:18.908684Z",
     "shell.execute_reply.started": "2025-01-21T21:34:18.896106Z"
    },
    "id": "4pudLRZjZqGo",
    "trusted": true
   },
   "outputs": [],
   "source": [
    "# Transformations with Data Augmentation\n",
    "augmentation_transforms = transforms.Compose([\n",
    "    transforms.RandomHorizontalFlip(p=0.5),  # Horizontal Flip\n",
    "    transforms.RandomVerticalFlip(p=0.5),    # Vertical Flip\n",
    "    transforms.RandomRotation(degrees=90),   # Random rotation within 45°\n",
    "    transforms.Resize((224, 224)),\n",
    "    transforms.ToTensor()])\n",
    "\n",
    "# Basic transformations (without augmentation)\n",
    "base_transforms = transforms.Compose([\n",
    "    transforms.Resize((224, 224)),\n",
    "    transforms.ToTensor()])\n",
    "\n",
    "# Original dataset with basic transformations\n",
    "base_dataset = ChestXRayDataset(balanced_data, transform=base_transforms)"
   ]
  },
  {
   "cell_type": "code",
   "execution_count": 45,
   "metadata": {
    "execution": {
     "iopub.execute_input": "2025-01-21T21:34:18.910511Z",
     "iopub.status.busy": "2025-01-21T21:34:18.910211Z",
     "iopub.status.idle": "2025-01-21T21:34:18.925242Z",
     "shell.execute_reply": "2025-01-21T21:34:18.924690Z",
     "shell.execute_reply.started": "2025-01-21T21:34:18.910482Z"
    },
    "id": "QEjbTgaGO8X9",
    "trusted": true
   },
   "outputs": [
    {
     "name": "stdout",
     "output_type": "stream",
     "text": [
      "2000\n",
      "16000\n"
     ]
    }
   ],
   "source": [
    "# Dataset augmented for class 1 only\n",
    "class_1_sampled_to_augment = random.sample(class_1_sampled, 2000)\n",
    "class_1_data_augmented = ChestXRayDataset(class_1_sampled_to_augment, transform=augmentation_transforms)\n",
    "print(len(class_1_data_augmented))\n",
    "\n",
    "# Combine the original and augmented dataset\n",
    "combined_dataset = ConcatDataset([base_dataset, class_1_data_augmented])\n",
    "print(len(combined_dataset))"
   ]
  },
  {
   "cell_type": "code",
   "execution_count": 46,
   "metadata": {
    "execution": {
     "iopub.execute_input": "2025-01-21T21:34:18.926285Z",
     "iopub.status.busy": "2025-01-21T21:34:18.926054Z",
     "iopub.status.idle": "2025-01-21T21:34:18.990997Z",
     "shell.execute_reply": "2025-01-21T21:34:18.990181Z",
     "shell.execute_reply.started": "2025-01-21T21:34:18.926255Z"
    },
    "id": "klJLhhZDPJMj",
    "trusted": true
   },
   "outputs": [],
   "source": [
    "# DataLoader\n",
    "train_size = int(0.8 * len(combined_dataset))\n",
    "test_size = len(combined_dataset) - train_size\n",
    "\n",
    "train_dataset, test_dataset = torch.utils.data.random_split(combined_dataset, [train_size, test_size])\n",
    "train_loader = DataLoader(train_dataset, batch_size=64, shuffle=True)\n",
    "test_loader = DataLoader(test_dataset, batch_size=64, shuffle=False)"
   ]
  },
  {
   "cell_type": "code",
   "execution_count": 47,
   "metadata": {
    "execution": {
     "iopub.execute_input": "2025-01-21T21:34:18.992120Z",
     "iopub.status.busy": "2025-01-21T21:34:18.991868Z",
     "iopub.status.idle": "2025-01-21T22:40:59.381018Z",
     "shell.execute_reply": "2025-01-21T22:40:59.380200Z",
     "shell.execute_reply.started": "2025-01-21T21:34:18.992101Z"
    },
    "id": "G_0nsfuzduL7",
    "trusted": true
   },
   "outputs": [
    {
     "name": "stderr",
     "output_type": "stream",
     "text": [
      "Downloading: \"https://download.pytorch.org/models/mobilenet_v2-7ebf99e0.pth\" to /root/.cache/torch/hub/checkpoints/mobilenet_v2-7ebf99e0.pth\n",
      "100%|██████████| 13.6M/13.6M [00:00<00:00, 123MB/s]\n"
     ]
    },
    {
     "name": "stdout",
     "output_type": "stream",
     "text": [
      "\n",
      "--- Training with Learning Rate: 0.001 ---\n",
      "Epoch 1/5, Training Loss: 0.6298, Test Loss: 0.5999\n",
      "Epoch 2/5, Training Loss: 0.6061, Test Loss: 0.5947\n",
      "Epoch 3/5, Training Loss: 0.5968, Test Loss: 0.5927\n",
      "Epoch 4/5, Training Loss: 0.5912, Test Loss: 0.5939\n",
      "Epoch 5/5, Training Loss: 0.5891, Test Loss: 0.5919\n",
      "Classification report for threshold = 0.4\n",
      "              precision    recall  f1-score   support\n",
      "\n",
      "           0       0.68      0.55      0.61      1599\n",
      "           1       0.62      0.74      0.68      1601\n",
      "\n",
      "    accuracy                           0.65      3200\n",
      "   macro avg       0.65      0.65      0.64      3200\n",
      "weighted avg       0.65      0.65      0.64      3200\n",
      "\n",
      "Classification report for threshold = 0.5\n",
      "              precision    recall  f1-score   support\n",
      "\n",
      "           0       0.64      0.76      0.69      1599\n",
      "           1       0.70      0.58      0.63      1601\n",
      "\n",
      "    accuracy                           0.67      3200\n",
      "   macro avg       0.67      0.67      0.66      3200\n",
      "weighted avg       0.67      0.67      0.66      3200\n",
      "\n"
     ]
    },
    {
     "data": {
      "image/png": "[encoded data removed]",
      "text/plain": [
       "<Figure size 640x480 with 1 Axes>"
      ]
     },
     "metadata": {},
     "output_type": "display_data"
    },
    {
     "name": "stdout",
     "output_type": "stream",
     "text": [
      "\n",
      "--- Training with Learning Rate: 0.0001 ---\n",
      "Epoch 1/5, Training Loss: 0.6720, Test Loss: 0.6533\n",
      "Epoch 2/5, Training Loss: 0.6474, Test Loss: 0.6342\n",
      "Epoch 3/5, Training Loss: 0.6340, Test Loss: 0.6247\n",
      "Epoch 4/5, Training Loss: 0.6243, Test Loss: 0.6186\n",
      "Epoch 5/5, Training Loss: 0.6199, Test Loss: 0.6134\n",
      "Classification report for threshold = 0.4\n",
      "              precision    recall  f1-score   support\n",
      "\n",
      "           0       0.69      0.42      0.52      1599\n",
      "           1       0.58      0.81      0.68      1601\n",
      "\n",
      "    accuracy                           0.61      3200\n",
      "   macro avg       0.64      0.61      0.60      3200\n",
      "weighted avg       0.64      0.61      0.60      3200\n",
      "\n",
      "Classification report for threshold = 0.5\n",
      "              precision    recall  f1-score   support\n",
      "\n",
      "           0       0.65      0.71      0.68      1599\n",
      "           1       0.68      0.61      0.65      1601\n",
      "\n",
      "    accuracy                           0.66      3200\n",
      "   macro avg       0.66      0.66      0.66      3200\n",
      "weighted avg       0.66      0.66      0.66      3200\n",
      "\n"
     ]
    },
    {
     "data": {
      "image/png": "[encoded data removed]",
      "text/plain": [
       "<Figure size 640x480 with 1 Axes>"
      ]
     },
     "metadata": {},
     "output_type": "display_data"
    }
   ],
   "source": [
    "# Define a function to calculate test loss\n",
    "def evaluate_model_loss(model, criterion, data_loader, device):\n",
    "    model.eval()\n",
    "    test_loss = 0.0\n",
    "    with torch.no_grad():\n",
    "        for images, labels in data_loader:\n",
    "            images, labels = images.to(device), labels.to(device).float()\n",
    "            outputs = model(images).squeeze()\n",
    "            loss = criterion(outputs, labels)\n",
    "            test_loss += loss.item()\n",
    "    return test_loss / len(data_loader)\n",
    "\n",
    "# Update train_and_evaluate function\n",
    "def train_and_evaluate(model, optimizer, learning_rate, num_epochs, train_loader, test_loader, thresholds=[0.4, 0.5]):\n",
    "    print(f\"\\n--- Training with Learning Rate: {learning_rate} ---\")\n",
    "    training_losses = []\n",
    "    test_losses = []\n",
    "\n",
    "    for epoch in range(num_epochs):\n",
    "        # Training\n",
    "        model.train()\n",
    "        running_loss = 0.0\n",
    "        for images, labels in train_loader:\n",
    "            images, labels = images.to(device), labels.to(device).float()\n",
    "            optimizer.zero_grad()\n",
    "            outputs = model(images).squeeze()\n",
    "            loss = criterion(outputs, labels)\n",
    "            loss.backward()\n",
    "            optimizer.step()\n",
    "            running_loss += loss.item()\n",
    "\n",
    "        # Calculate average training loss\n",
    "        training_loss = running_loss / len(train_loader)\n",
    "        training_losses.append(training_loss)\n",
    "\n",
    "        # Calculate test loss\n",
    "        test_loss = evaluate_model_loss(model, criterion, test_loader, device)\n",
    "        test_losses.append(test_loss)\n",
    "\n",
    "        print(f\"Epoch {epoch+1}/{num_epochs}, Training Loss: {training_loss:.4f}, Test Loss: {test_loss:.4f}\")\n",
    "\n",
    "    # Evaluation\n",
    "    model.eval()\n",
    "    y_true, y_pred = [], []\n",
    "    with torch.no_grad():\n",
    "        for images, labels in test_loader:\n",
    "            images, labels = images.to(device), labels.to(device)\n",
    "            outputs = model(images).squeeze()\n",
    "            probs = torch.sigmoid(outputs)\n",
    "            y_true.extend(labels.cpu().numpy())\n",
    "            y_pred.extend(probs.cpu().numpy())\n",
    "\n",
    "    y_true = np.array(y_true)\n",
    "    y_pred = np.array(y_pred)\n",
    "\n",
    "    # Metrics for each threshold\n",
    "    for threshold in thresholds:\n",
    "        y_pred_class = (y_pred > threshold).astype(int)\n",
    "        print(f\"Classification report for threshold = {threshold}\")\n",
    "        print(classification_report(y_true, y_pred_class))\n",
    "\n",
    "    # Return metrics and losses for analysis\n",
    "    return y_true, y_pred, training_losses, test_losses\n",
    "\n",
    "# Initialize models, optimizers, and train\n",
    "results = {}\n",
    "learning_rates = [0.001, 0.0001]\n",
    "\n",
    "for lr in learning_rates:\n",
    "    # Clone the base model\n",
    "    model = mobilenet_v2(weights=MobileNet_V2_Weights.DEFAULT)\n",
    "    model.classifier[1] = nn.Linear(model.last_channel, 1)\n",
    "    model = model.to(device)\n",
    "\n",
    "    # Define optimizer\n",
    "    optimizer = optim.Adam(model.classifier.parameters(), lr=lr)\n",
    "\n",
    "    # Train and evaluate\n",
    "    y_true, y_pred, training_losses, test_losses = train_and_evaluate(model, optimizer, lr, num_epochs=5, train_loader=train_loader, test_loader=test_loader)\n",
    "\n",
    "    # Store results for further analysis\n",
    "    results[lr] = (y_true, y_pred, training_losses, test_losses)\n",
    "\n",
    "    # Plot Training vs Test Loss for this learning rate\n",
    "    plt.figure()\n",
    "    plt.plot(range(1, len(training_losses) + 1), training_losses, label=\"Training Loss\")\n",
    "    plt.plot(range(1, len(test_losses) + 1), test_losses, label=\"Test Loss\")\n",
    "    plt.xlabel(\"Epochs\")\n",
    "    plt.ylabel(\"Loss\")\n",
    "    plt.title(f\"Training vs Test Loss for Learning Rate {lr}\")\n",
    "    plt.legend()\n",
    "    plt.show()"
   ]
  },
  {
   "cell_type": "markdown",
   "metadata": {},
   "source": [
    "**Class 0 (Not Infiltration)**:  \n",
    "- **Precision**: 64% → Moderate ability to avoid false positives.  \n",
    "- **Recall**: 76% → Good ability to correctly identify negatives.  \n",
    "\n",
    "**Class 1 (Infiltration)**:  \n",
    "- **Precision**: 70% → Good ability to avoid false positives.  \n",
    "- **Recall**: 58% → Moderate ability to capture positives, with some false negatives.  \n",
    "\n",
    "**Accuracy**:  \n",
    "- 67% → Indicates acceptable overall performance, with room for improvement in both classes.  "
   ]
  },
  {
   "cell_type": "code",
   "execution_count": 48,
   "metadata": {
    "execution": {
     "iopub.execute_input": "2025-01-21T22:40:59.382033Z",
     "iopub.status.busy": "2025-01-21T22:40:59.381822Z",
     "iopub.status.idle": "2025-01-21T22:40:59.387377Z",
     "shell.execute_reply": "2025-01-21T22:40:59.386597Z",
     "shell.execute_reply.started": "2025-01-21T22:40:59.382015Z"
    },
    "id": "nAcvD6FXqp0f",
    "trusted": true
   },
   "outputs": [
    {
     "name": "stdout",
     "output_type": "stream",
     "text": [
      "[1 1 1 ... 0 1 0] [0.21955071 0.9595804  0.35407686 ... 0.48484266 0.96058786 0.64720243]\n"
     ]
    }
   ],
   "source": [
    "y_true, y_pred = results[0.001][:2]\n",
    "print(y_true, y_pred)"
   ]
  },
  {
   "cell_type": "code",
   "execution_count": 49,
   "metadata": {
    "execution": {
     "iopub.execute_input": "2025-01-21T22:40:59.388358Z",
     "iopub.status.busy": "2025-01-21T22:40:59.388141Z",
     "iopub.status.idle": "2025-01-21T22:40:59.568899Z",
     "shell.execute_reply": "2025-01-21T22:40:59.568173Z",
     "shell.execute_reply.started": "2025-01-21T22:40:59.388340Z"
    },
    "id": "mgWu3YdCqpwy",
    "trusted": true
   },
   "outputs": [
    {
     "data": {
      "image/png": "[encoded data removed]",
      "text/plain": [
       "<Figure size 640x480 with 1 Axes>"
      ]
     },
     "metadata": {},
     "output_type": "display_data"
    }
   ],
   "source": [
    "from sklearn.metrics import roc_curve, auc, confusion_matrix, ConfusionMatrixDisplay\n",
    "import matplotlib.pyplot as plt\n",
    "\n",
    "# ROC Curve\n",
    "fpr, tpr, thresholds_roc = roc_curve(y_true, y_pred)\n",
    "roc_auc = auc(fpr, tpr)\n",
    "\n",
    "plt.figure()\n",
    "plt.plot(fpr, tpr, color='darkorange', lw=2, label=f'ROC curve (AUC = {roc_auc:.2f})')\n",
    "plt.plot([0, 1], [0, 1], color='navy', lw=2, linestyle='--')\n",
    "plt.xlabel('False Positive Rate')\n",
    "plt.ylabel('True Positive Rate')\n",
    "plt.title('Receiver Operating Characteristic (Learning Rate = 0.01)')\n",
    "plt.legend(loc='lower right')\n",
    "plt.show()"
   ]
  },
  {
   "cell_type": "code",
   "execution_count": null,
   "metadata": {
    "execution": {
     "iopub.execute_input": "2025-01-21T22:40:59.570019Z",
     "iopub.status.busy": "2025-01-21T22:40:59.569711Z"
    },
    "id": "QmbEkD16RKtM",
    "trusted": true
   },
   "outputs": [
    {
     "name": "stdout",
     "output_type": "stream",
     "text": [
      "Threshold: 1.99, FPR: 0.00, TPR: 0.00\n",
      "Threshold: 0.75, FPR: 0.01, TPR: 0.25\n",
      "Threshold: 0.71, FPR: 0.02, TPR: 0.29\n",
      "Threshold: 0.68, FPR: 0.03, TPR: 0.31\n",
      "Threshold: 0.66, FPR: 0.04, TPR: 0.33\n",
      "Threshold: 0.65, FPR: 0.05, TPR: 0.34\n",
      "Threshold: 0.63, FPR: 0.07, TPR: 0.37\n",
      "Threshold: 0.62, FPR: 0.08, TPR: 0.39\n",
      "Threshold: 0.61, FPR: 0.09, TPR: 0.40\n",
      "Threshold: 0.60, FPR: 0.11, TPR: 0.42\n",
      "Threshold: 0.58, FPR: 0.12, TPR: 0.44\n",
      "Threshold: 0.57, FPR: 0.13, TPR: 0.46\n",
      "Threshold: 0.56, FPR: 0.15, TPR: 0.48\n",
      "Threshold: 0.55, FPR: 0.17, TPR: 0.49\n",
      "Threshold: 0.54, FPR: 0.18, TPR: 0.51\n",
      "Threshold: 0.53, FPR: 0.20, TPR: 0.52\n",
      "Threshold: 0.52, FPR: 0.21, TPR: 0.54\n",
      "Threshold: 0.51, FPR: 0.23, TPR: 0.56\n",
      "Threshold: 0.50, FPR: 0.24, TPR: 0.58\n",
      "Threshold: 0.49, FPR: 0.26, TPR: 0.59\n",
      "Threshold: 0.48, FPR: 0.28, TPR: 0.60\n",
      "Threshold: 0.47, FPR: 0.29, TPR: 0.62\n",
      "Threshold: 0.47, FPR: 0.31, TPR: 0.63\n",
      "Threshold: 0.46, FPR: 0.32, TPR: 0.65\n",
      "Threshold: 0.45, FPR: 0.34, TPR: 0.66\n",
      "Threshold: 0.44, FPR: 0.36, TPR: 0.67\n",
      "Threshold: 0.43, FPR: 0.38, TPR: 0.69\n",
      "Threshold: 0.43, FPR: 0.39, TPR: 0.70\n",
      "Threshold: 0.42, FPR: 0.41, TPR: 0.71\n",
      "Threshold: 0.41, FPR: 0.42, TPR: 0.72\n",
      "Threshold: 0.40, FPR: 0.44, TPR: 0.74\n",
      "Threshold: 0.40, FPR: 0.46, TPR: 0.75\n",
      "Threshold: 0.39, FPR: 0.47, TPR: 0.76\n",
      "Threshold: 0.38, FPR: 0.50, TPR: 0.77\n",
      "Threshold: 0.37, FPR: 0.51, TPR: 0.78\n",
      "Threshold: 0.36, FPR: 0.54, TPR: 0.79\n",
      "Threshold: 0.36, FPR: 0.56, TPR: 0.80\n",
      "Threshold: 0.35, FPR: 0.58, TPR: 0.82\n",
      "Threshold: 0.34, FPR: 0.60, TPR: 0.83\n",
      "Threshold: 0.33, FPR: 0.61, TPR: 0.84\n",
      "Threshold: 0.33, FPR: 0.64, TPR: 0.85\n",
      "Threshold: 0.32, FPR: 0.66, TPR: 0.86\n",
      "Threshold: 0.31, FPR: 0.68, TPR: 0.87\n",
      "Threshold: 0.30, FPR: 0.70, TPR: 0.88\n",
      "Threshold: 0.29, FPR: 0.73, TPR: 0.90\n",
      "Threshold: 0.28, FPR: 0.76, TPR: 0.90\n",
      "Threshold: 0.27, FPR: 0.78, TPR: 0.91\n",
      "Threshold: 0.26, FPR: 0.80, TPR: 0.92\n",
      "Threshold: 0.25, FPR: 0.82, TPR: 0.94\n",
      "Threshold: 0.24, FPR: 0.85, TPR: 0.95\n",
      "Threshold: 0.23, FPR: 0.88, TPR: 0.96\n",
      "Threshold: 0.20, FPR: 0.93, TPR: 0.97\n",
      "Threshold: 0.19, FPR: 0.94, TPR: 0.99\n",
      "Threshold: 0.14, FPR: 0.98, TPR: 1.00\n"
     ]
    }
   ],
   "source": [
    "for i, (thr, fp, tp) in enumerate(zip(thresholds_roc, fpr, tpr)):\n",
    "    if i % 25 == 0:  # Print key thresholds\n",
    "        print(f\"Threshold: {thr:.2f}, FPR: {fp:.2f}, TPR: {tp:.2f}\")"
   ]
  },
  {
   "cell_type": "code",
   "execution_count": 51,
   "metadata": {
    "execution": {
     "iopub.status.idle": "2025-01-21T22:40:59.768775Z",
     "shell.execute_reply": "2025-01-21T22:40:59.768128Z",
     "shell.execute_reply.started": "2025-01-21T22:40:59.583828Z"
    },
    "id": "rjTGNC49q7tB",
    "trusted": true
   },
   "outputs": [
    {
     "data": {
      "image/png": "[encoded data removed]",
      "text/plain": [
       "<Figure size 640x480 with 2 Axes>"
      ]
     },
     "metadata": {},
     "output_type": "display_data"
    }
   ],
   "source": [
    "# Confusion Matrix for threshold = 0.5\n",
    "threshold = 0.5\n",
    "y_pred_class = (y_pred > threshold).astype(int)\n",
    "cm = confusion_matrix(y_true, y_pred_class)\n",
    "\n",
    "disp = ConfusionMatrixDisplay(confusion_matrix=cm, display_labels=['Class 0', 'Class 1'])\n",
    "disp.plot(cmap='Blues', values_format='d')\n",
    "plt.title('Confusion Matrix (Learning Rate = 0.001, Threshold = 0.5)')\n",
    "plt.show()"
   ]
  }
 ],
 "metadata": {
  "accelerator": "GPU",
  "colab": {
   "collapsed_sections": [
    "ddCCa-o5chE0"
   ],
   "gpuType": "T4",
   "machine_shape": "hm",
   "provenance": []
  },
  "kaggle": {
   "accelerator": "nvidiaTeslaT4",
   "dataSources": [
    {
     "datasetId": 5839,
     "sourceId": 18613,
     "sourceType": "datasetVersion"
    }
   ],
   "dockerImageVersionId": 30840,
   "isGpuEnabled": true,
   "isInternetEnabled": true,
   "language": "python",
   "sourceType": "notebook"
  },
  "kernelspec": {
   "display_name": "Python 3",
   "language": "python",
   "name": "python3"
  },
  "language_info": {
   "codemirror_mode": {
    "name": "ipython",
    "version": 3
   },
   "file_extension": ".py",
   "mimetype": "text/x-python",
   "name": "python",
   "nbconvert_exporter": "python",
   "pygments_lexer": "ipython3",
   "version": "3.10.12"
  }
 },
 "nbformat": 4,
 "nbformat_minor": 4
}
