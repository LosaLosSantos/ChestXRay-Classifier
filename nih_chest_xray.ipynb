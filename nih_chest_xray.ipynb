{
 "cells": [
  {
   "cell_type": "markdown",
   "metadata": {
    "id": "ddCCa-o5chE0"
   },
   "source": [
    "# Chest X-Ray Classification Project: Leveraging Deep Learning for Infiltration Detection"
   ]
  },
  {
   "cell_type": "code",
   "execution_count": 2,
   "metadata": {
    "execution": {
     "iopub.execute_input": "2025-01-28T19:59:46.588759Z",
     "iopub.status.busy": "2025-01-28T19:59:46.587423Z",
     "iopub.status.idle": "2025-01-28T20:00:06.145608Z",
     "shell.execute_reply": "2025-01-28T20:00:06.144641Z",
     "shell.execute_reply.started": "2025-01-28T19:59:46.588511Z"
    },
    "executionInfo": {
     "elapsed": 16929,
     "status": "ok",
     "timestamp": 1737118379408,
     "user": {
      "displayName": "Loris Salsi",
      "userId": "03149293264146914157"
     },
     "user_tz": -60
    },
    "id": "_wF0EoXkFxf0",
    "trusted": true
   },
   "outputs": [],
   "source": [
    "import numpy as np\n",
    "import pandas as pd\n",
    "import matplotlib.pyplot as plt\n",
    "import matplotlib.image as pli\n",
    "import seaborn as sns\n",
    "import os\n",
    "import tensorflow as tf\n",
    "from PIL import Image\n",
    "import torch\n",
    "from torch import nn\n",
    "from tqdm import tqdm\n",
    "import torch.nn as nn\n",
    "import torch.optim as optim\n",
    "from torch.utils.data import Dataset, DataLoader\n",
    "from torchvision import transforms, models\n",
    "import pandas as pd\n",
    "from sklearn.metrics import classification_report\n",
    "from google.colab import drive\n",
    "from torchvision import transforms\n",
    "from torch.utils.data import ConcatDataset\n",
    "from torchvision.models import mobilenet_v2, MobileNet_V2_Weights\n",
    "import random\n",
    "from sklearn.metrics import roc_curve, auc, confusion_matrix, ConfusionMatrixDisplay"
   ]
  },
  {
   "cell_type": "code",
   "execution_count": 3,
   "metadata": {
    "execution": {
     "iopub.execute_input": "2025-01-28T20:00:06.147150Z",
     "iopub.status.busy": "2025-01-28T20:00:06.146573Z",
     "iopub.status.idle": "2025-01-28T20:00:06.151751Z",
     "shell.execute_reply": "2025-01-28T20:00:06.150682Z",
     "shell.execute_reply.started": "2025-01-28T20:00:06.147117Z"
    },
    "trusted": true
   },
   "outputs": [
    {
     "name": "stdout",
     "output_type": "stream",
     "text": [
      "4\n"
     ]
    }
   ],
   "source": [
    "print(os.cpu_count())\n",
    "# for num_workers"
   ]
  },
  {
   "cell_type": "code",
   "execution_count": 4,
   "metadata": {
    "execution": {
     "iopub.execute_input": "2025-01-28T20:01:22.438939Z",
     "iopub.status.busy": "2025-01-28T20:01:22.438626Z",
     "iopub.status.idle": "2025-01-28T20:13:37.335752Z",
     "shell.execute_reply": "2025-01-28T20:13:37.334931Z",
     "shell.execute_reply.started": "2025-01-28T20:01:22.438916Z"
    },
    "trusted": true
   },
   "outputs": [
    {
     "name": "stdout",
     "output_type": "stream",
     "text": [
      "Total number of images found: 112120\n",
      "[{'image_path': '/kaggle/input/data/images_001/images/00000001_000.png', 'labels': ['Cardiomegaly']}, {'image_path': '/kaggle/input/data/images_001/images/00000001_001.png', 'labels': ['Cardiomegaly', 'Emphysema']}, {'image_path': '/kaggle/input/data/images_001/images/00000001_002.png', 'labels': ['Cardiomegaly', 'Effusion']}, {'image_path': '/kaggle/input/data/images_001/images/00000002_000.png', 'labels': ['No Finding']}, {'image_path': '/kaggle/input/data/images_001/images/00000003_000.png', 'labels': ['Hernia']}]\n"
     ]
    }
   ],
   "source": [
    "base_path = \"/kaggle/input/data\"\n",
    "labels_file = os.path.join(base_path, \"Data_Entry_2017.csv\")\n",
    "\n",
    "labels_df = pd.read_csv(labels_file)\n",
    "\n",
    "image_folders = [f\"images_{str(i).zfill(3)}\" for i in range(1, 13)]\n",
    "\n",
    "data_tot = []\n",
    "for _, row in labels_df.iterrows():\n",
    "    image_name = row[\"Image Index\"]\n",
    "    labels = row[\"Finding Labels\"].split('|')\n",
    "\n",
    "    image_path = None\n",
    "    for folder in image_folders:\n",
    "        potential_path = os.path.join(base_path, folder, \"images\", image_name)\n",
    "        if os.path.exists(potential_path):\n",
    "            image_path = potential_path\n",
    "            break\n",
    "\n",
    "    if image_path:\n",
    "        data_tot.append({'image_path': image_path, 'labels': labels})\n",
    "\n",
    "print(f\"Total number of images found: {len(data_tot)}\")\n",
    "print(data_tot[:5])\n"
   ]
  },
  {
   "cell_type": "code",
   "execution_count": 6,
   "metadata": {
    "execution": {
     "iopub.execute_input": "2025-01-28T20:13:37.385426Z",
     "iopub.status.busy": "2025-01-28T20:13:37.385197Z",
     "iopub.status.idle": "2025-01-28T20:13:37.414005Z",
     "shell.execute_reply": "2025-01-28T20:13:37.413156Z",
     "shell.execute_reply.started": "2025-01-28T20:13:37.385408Z"
    },
    "executionInfo": {
     "elapsed": 656,
     "status": "ok",
     "timestamp": 1737118920700,
     "user": {
      "displayName": "Loris Salsi",
      "userId": "03149293264146914157"
     },
     "user_tz": -60
    },
    "id": "Ell-epsFgiTp",
    "outputId": "58207935-526e-4794-8a54-70cca4b9272c",
    "trusted": true
   },
   "outputs": [
    {
     "name": "stdout",
     "output_type": "stream",
     "text": [
      "<class 'pandas.core.frame.DataFrame'>\n",
      "RangeIndex: 112120 entries, 0 to 112119\n",
      "Data columns (total 12 columns):\n",
      " #   Column                       Non-Null Count   Dtype  \n",
      "---  ------                       --------------   -----  \n",
      " 0   Image Index                  112120 non-null  object \n",
      " 1   Finding Labels               112120 non-null  object \n",
      " 2   Follow-up #                  112120 non-null  int64  \n",
      " 3   Patient ID                   112120 non-null  int64  \n",
      " 4   Patient Age                  112120 non-null  int64  \n",
      " 5   Patient Gender               112120 non-null  object \n",
      " 6   View Position                112120 non-null  object \n",
      " 7   OriginalImage[Width          112120 non-null  int64  \n",
      " 8   Height]                      112120 non-null  int64  \n",
      " 9   OriginalImagePixelSpacing[x  112120 non-null  float64\n",
      " 10  y]                           112120 non-null  float64\n",
      " 11  Unnamed: 11                  0 non-null       float64\n",
      "dtypes: float64(3), int64(5), object(4)\n",
      "memory usage: 10.3+ MB\n"
     ]
    }
   ],
   "source": [
    "labels_df.info()"
   ]
  },
  {
   "cell_type": "code",
   "execution_count": 7,
   "metadata": {
    "execution": {
     "iopub.execute_input": "2025-01-28T20:13:37.415350Z",
     "iopub.status.busy": "2025-01-28T20:13:37.415151Z",
     "iopub.status.idle": "2025-01-28T20:13:37.436154Z",
     "shell.execute_reply": "2025-01-28T20:13:37.435384Z",
     "shell.execute_reply.started": "2025-01-28T20:13:37.415332Z"
    },
    "executionInfo": {
     "elapsed": 449,
     "status": "ok",
     "timestamp": 1737118922482,
     "user": {
      "displayName": "Loris Salsi",
      "userId": "03149293264146914157"
     },
     "user_tz": -60
    },
    "id": "0gGBBM1hggaB",
    "outputId": "8323c075-2fec-43fd-e04e-0d4fca71a69d",
    "trusted": true
   },
   "outputs": [
    {
     "name": "stderr",
     "output_type": "stream",
     "text": [
      "/usr/local/lib/python3.10/dist-packages/pandas/io/formats/format.py:1458: RuntimeWarning: invalid value encountered in greater\n",
      "  has_large_values = (abs_vals > 1e6).any()\n",
      "/usr/local/lib/python3.10/dist-packages/pandas/io/formats/format.py:1459: RuntimeWarning: invalid value encountered in less\n",
      "  has_small_values = ((abs_vals < 10 ** (-self.digits)) & (abs_vals > 0)).any()\n",
      "/usr/local/lib/python3.10/dist-packages/pandas/io/formats/format.py:1459: RuntimeWarning: invalid value encountered in greater\n",
      "  has_small_values = ((abs_vals < 10 ** (-self.digits)) & (abs_vals > 0)).any()\n"
     ]
    },
    {
     "data": {
      "text/html": [
       "<div>\n",
       "<style scoped>\n",
       "    .dataframe tbody tr th:only-of-type {\n",
       "        vertical-align: middle;\n",
       "    }\n",
       "\n",
       "    .dataframe tbody tr th {\n",
       "        vertical-align: top;\n",
       "    }\n",
       "\n",
       "    .dataframe thead th {\n",
       "        text-align: right;\n",
       "    }\n",
       "</style>\n",
       "<table border=\"1\" class=\"dataframe\">\n",
       "  <thead>\n",
       "    <tr style=\"text-align: right;\">\n",
       "      <th></th>\n",
       "      <th>Image Index</th>\n",
       "      <th>Finding Labels</th>\n",
       "      <th>Follow-up #</th>\n",
       "      <th>Patient ID</th>\n",
       "      <th>Patient Age</th>\n",
       "      <th>Patient Gender</th>\n",
       "      <th>View Position</th>\n",
       "      <th>OriginalImage[Width</th>\n",
       "      <th>Height]</th>\n",
       "      <th>OriginalImagePixelSpacing[x</th>\n",
       "      <th>y]</th>\n",
       "      <th>Unnamed: 11</th>\n",
       "    </tr>\n",
       "  </thead>\n",
       "  <tbody>\n",
       "    <tr>\n",
       "      <th>0</th>\n",
       "      <td>00000001_000.png</td>\n",
       "      <td>Cardiomegaly</td>\n",
       "      <td>0</td>\n",
       "      <td>1</td>\n",
       "      <td>58</td>\n",
       "      <td>M</td>\n",
       "      <td>PA</td>\n",
       "      <td>2682</td>\n",
       "      <td>2749</td>\n",
       "      <td>0.143</td>\n",
       "      <td>0.143</td>\n",
       "      <td>NaN</td>\n",
       "    </tr>\n",
       "    <tr>\n",
       "      <th>1</th>\n",
       "      <td>00000001_001.png</td>\n",
       "      <td>Cardiomegaly|Emphysema</td>\n",
       "      <td>1</td>\n",
       "      <td>1</td>\n",
       "      <td>58</td>\n",
       "      <td>M</td>\n",
       "      <td>PA</td>\n",
       "      <td>2894</td>\n",
       "      <td>2729</td>\n",
       "      <td>0.143</td>\n",
       "      <td>0.143</td>\n",
       "      <td>NaN</td>\n",
       "    </tr>\n",
       "    <tr>\n",
       "      <th>2</th>\n",
       "      <td>00000001_002.png</td>\n",
       "      <td>Cardiomegaly|Effusion</td>\n",
       "      <td>2</td>\n",
       "      <td>1</td>\n",
       "      <td>58</td>\n",
       "      <td>M</td>\n",
       "      <td>PA</td>\n",
       "      <td>2500</td>\n",
       "      <td>2048</td>\n",
       "      <td>0.168</td>\n",
       "      <td>0.168</td>\n",
       "      <td>NaN</td>\n",
       "    </tr>\n",
       "    <tr>\n",
       "      <th>3</th>\n",
       "      <td>00000002_000.png</td>\n",
       "      <td>No Finding</td>\n",
       "      <td>0</td>\n",
       "      <td>2</td>\n",
       "      <td>81</td>\n",
       "      <td>M</td>\n",
       "      <td>PA</td>\n",
       "      <td>2500</td>\n",
       "      <td>2048</td>\n",
       "      <td>0.171</td>\n",
       "      <td>0.171</td>\n",
       "      <td>NaN</td>\n",
       "    </tr>\n",
       "    <tr>\n",
       "      <th>4</th>\n",
       "      <td>00000003_000.png</td>\n",
       "      <td>Hernia</td>\n",
       "      <td>0</td>\n",
       "      <td>3</td>\n",
       "      <td>81</td>\n",
       "      <td>F</td>\n",
       "      <td>PA</td>\n",
       "      <td>2582</td>\n",
       "      <td>2991</td>\n",
       "      <td>0.143</td>\n",
       "      <td>0.143</td>\n",
       "      <td>NaN</td>\n",
       "    </tr>\n",
       "  </tbody>\n",
       "</table>\n",
       "</div>"
      ],
      "text/plain": [
       "        Image Index          Finding Labels  Follow-up #  Patient ID  \\\n",
       "0  00000001_000.png            Cardiomegaly            0           1   \n",
       "1  00000001_001.png  Cardiomegaly|Emphysema            1           1   \n",
       "2  00000001_002.png   Cardiomegaly|Effusion            2           1   \n",
       "3  00000002_000.png              No Finding            0           2   \n",
       "4  00000003_000.png                  Hernia            0           3   \n",
       "\n",
       "   Patient Age Patient Gender View Position  OriginalImage[Width  Height]  \\\n",
       "0           58              M            PA                 2682     2749   \n",
       "1           58              M            PA                 2894     2729   \n",
       "2           58              M            PA                 2500     2048   \n",
       "3           81              M            PA                 2500     2048   \n",
       "4           81              F            PA                 2582     2991   \n",
       "\n",
       "   OriginalImagePixelSpacing[x     y]  Unnamed: 11  \n",
       "0                        0.143  0.143          NaN  \n",
       "1                        0.143  0.143          NaN  \n",
       "2                        0.168  0.168          NaN  \n",
       "3                        0.171  0.171          NaN  \n",
       "4                        0.143  0.143          NaN  "
      ]
     },
     "execution_count": 7,
     "metadata": {},
     "output_type": "execute_result"
    }
   ],
   "source": [
    "labels_df.head()"
   ]
  },
  {
   "cell_type": "code",
   "execution_count": 8,
   "metadata": {
    "execution": {
     "iopub.execute_input": "2025-01-28T20:13:37.437193Z",
     "iopub.status.busy": "2025-01-28T20:13:37.436913Z",
     "iopub.status.idle": "2025-01-28T20:13:37.441890Z",
     "shell.execute_reply": "2025-01-28T20:13:37.441046Z",
     "shell.execute_reply.started": "2025-01-28T20:13:37.437173Z"
    },
    "executionInfo": {
     "elapsed": 653,
     "status": "ok",
     "timestamp": 1737118925141,
     "user": {
      "displayName": "Loris Salsi",
      "userId": "03149293264146914157"
     },
     "user_tz": -60
    },
    "id": "lt_luG2egkrt",
    "outputId": "19d99d44-4584-433e-a54d-f0c38202a821",
    "trusted": true
   },
   "outputs": [
    {
     "data": {
      "text/plain": [
       "(112120, 12)"
      ]
     },
     "execution_count": 8,
     "metadata": {},
     "output_type": "execute_result"
    }
   ],
   "source": [
    "labels_df.shape"
   ]
  },
  {
   "cell_type": "code",
   "execution_count": 9,
   "metadata": {
    "execution": {
     "iopub.execute_input": "2025-01-28T20:13:37.443012Z",
     "iopub.status.busy": "2025-01-28T20:13:37.442774Z",
     "iopub.status.idle": "2025-01-28T20:13:37.462434Z",
     "shell.execute_reply": "2025-01-28T20:13:37.461673Z",
     "shell.execute_reply.started": "2025-01-28T20:13:37.442984Z"
    },
    "executionInfo": {
     "elapsed": 9,
     "status": "ok",
     "timestamp": 1737118925141,
     "user": {
      "displayName": "Loris Salsi",
      "userId": "03149293264146914157"
     },
     "user_tz": -60
    },
    "id": "dTnF4zPdgt-1",
    "outputId": "1947e322-e61f-47c7-c968-66dec08756cd",
    "trusted": true
   },
   "outputs": [
    {
     "data": {
      "text/plain": [
       "Finding Labels\n",
       "No Finding                                                                      60361\n",
       "Infiltration                                                                     9547\n",
       "Atelectasis                                                                      4215\n",
       "Effusion                                                                         3955\n",
       "Nodule                                                                           2705\n",
       "                                                                                ...  \n",
       "Consolidation|Edema|Effusion|Mass|Nodule                                            1\n",
       "Edema|Infiltration|Mass|Pneumonia|Pneumothorax                                      1\n",
       "Consolidation|Effusion|Infiltration|Mass|Nodule|Pleural_Thickening|Pneumonia        1\n",
       "Consolidation|Mass|Nodule|Pneumothorax                                              1\n",
       "Cardiomegaly|Edema|Effusion|Fibrosis|Infiltration                                   1\n",
       "Name: count, Length: 836, dtype: int64"
      ]
     },
     "execution_count": 9,
     "metadata": {},
     "output_type": "execute_result"
    }
   ],
   "source": [
    "labels_df['Finding Labels'].value_counts()"
   ]
  },
  {
   "cell_type": "code",
   "execution_count": 10,
   "metadata": {
    "execution": {
     "iopub.execute_input": "2025-01-28T20:13:37.463859Z",
     "iopub.status.busy": "2025-01-28T20:13:37.463546Z",
     "iopub.status.idle": "2025-01-28T20:13:37.493974Z",
     "shell.execute_reply": "2025-01-28T20:13:37.493191Z",
     "shell.execute_reply.started": "2025-01-28T20:13:37.463829Z"
    },
    "executionInfo": {
     "elapsed": 970,
     "status": "ok",
     "timestamp": 1737118927972,
     "user": {
      "displayName": "Loris Salsi",
      "userId": "03149293264146914157"
     },
     "user_tz": -60
    },
    "id": "TNsdqb46tAfF",
    "outputId": "8c0c69cf-9b54-47d3-8cd2-1b56b7851d9c",
    "trusted": true
   },
   "outputs": [
    {
     "name": "stdout",
     "output_type": "stream",
     "text": [
      "Class 1 (Infiltration): 19894\n",
      "Class 0 (Not Infiltration): 92226\n"
     ]
    }
   ],
   "source": [
    "num_class_1 = sum([\"Infiltration\" in r[\"labels\"] for r in data_tot])\n",
    "num_class_0 = sum([\"Infiltration\" not in r[\"labels\"] for r in data_tot])\n",
    "\n",
    "print(f\"Class 1 (Infiltration): {num_class_1}\")\n",
    "print(f\"Class 0 (Not Infiltration): {num_class_0}\")"
   ]
  },
  {
   "cell_type": "code",
   "execution_count": 11,
   "metadata": {
    "execution": {
     "iopub.execute_input": "2025-01-28T20:13:37.496720Z",
     "iopub.status.busy": "2025-01-28T20:13:37.496489Z",
     "iopub.status.idle": "2025-01-28T20:13:37.545432Z",
     "shell.execute_reply": "2025-01-28T20:13:37.544806Z",
     "shell.execute_reply.started": "2025-01-28T20:13:37.496691Z"
    },
    "executionInfo": {
     "elapsed": 5,
     "status": "ok",
     "timestamp": 1737118929739,
     "user": {
      "displayName": "Loris Salsi",
      "userId": "03149293264146914157"
     },
     "user_tz": -60
    },
    "id": "hOjCvitIw7pd",
    "outputId": "b9470672-0923-493e-f36d-9e7de50e9e61",
    "trusted": true
   },
   "outputs": [
    {
     "name": "stdout",
     "output_type": "stream",
     "text": [
      "New Class 1 (Infiltration): 6000\n",
      "New Class 0 (Not Infiltration): 8000\n"
     ]
    }
   ],
   "source": [
    "class_1_data = [r for r in data_tot if \"Infiltration\" in r[\"labels\"]]\n",
    "class_0_data = [r for r in data_tot if \"Infiltration\" not in r[\"labels\"]]\n",
    "\n",
    "random.seed(42)\n",
    "class_1_sampled = random.sample(class_1_data, 6000)\n",
    "class_0_sampled = random.sample(class_0_data, 8000)\n",
    "\n",
    "balanced_data = class_0_sampled + class_1_sampled\n",
    "\n",
    "new_num_class_1 = sum([\"Infiltration\" in r[\"labels\"] for r in balanced_data])\n",
    "new_num_class_0 = sum([\"Infiltration\" not in r[\"labels\"] for r in balanced_data])\n",
    "\n",
    "print(f\"New Class 1 (Infiltration): {new_num_class_1}\")\n",
    "print(f\"New Class 0 (Not Infiltration): {new_num_class_0}\")"
   ]
  },
  {
   "cell_type": "code",
   "execution_count": 12,
   "metadata": {
    "execution": {
     "iopub.execute_input": "2025-01-28T20:13:37.547280Z",
     "iopub.status.busy": "2025-01-28T20:13:37.546972Z",
     "iopub.status.idle": "2025-01-28T20:13:37.632122Z",
     "shell.execute_reply": "2025-01-28T20:13:37.631480Z",
     "shell.execute_reply.started": "2025-01-28T20:13:37.547252Z"
    },
    "executionInfo": {
     "elapsed": 547,
     "status": "ok",
     "timestamp": 1737118932202,
     "user": {
      "displayName": "Loris Salsi",
      "userId": "03149293264146914157"
     },
     "user_tz": -60
    },
    "id": "jAjEU-farESL",
    "trusted": true
   },
   "outputs": [],
   "source": [
    "torch.manual_seed(42)\n",
    "random.seed(42)\n",
    "np.random.seed(42)\n",
    "if torch.cuda.is_available():\n",
    "    torch.cuda.manual_seed(42)\n",
    "    torch.cuda.manual_seed_all(42)  # For multi-GPU\n",
    "    torch.backends.cudnn.deterministic = True\n",
    "    torch.backends.cudnn.benchmark = False"
   ]
  },
  {
   "cell_type": "code",
   "execution_count": 13,
   "metadata": {
    "execution": {
     "iopub.execute_input": "2025-01-28T20:13:37.633210Z",
     "iopub.status.busy": "2025-01-28T20:13:37.632908Z",
     "iopub.status.idle": "2025-01-28T20:13:37.637158Z",
     "shell.execute_reply": "2025-01-28T20:13:37.636393Z",
     "shell.execute_reply.started": "2025-01-28T20:13:37.633189Z"
    },
    "executionInfo": {
     "elapsed": 3,
     "status": "ok",
     "timestamp": 1737118932637,
     "user": {
      "displayName": "Loris Salsi",
      "userId": "03149293264146914157"
     },
     "user_tz": -60
    },
    "id": "KD0IK5ndrFrZ",
    "trusted": true
   },
   "outputs": [],
   "source": [
    "tf.random.set_seed(42)\n",
    "np.random.seed(42)\n",
    "random.seed(42)"
   ]
  },
  {
   "cell_type": "markdown",
   "metadata": {},
   "source": [
    "**MobileNetV1** introduced **Depthwise Separable Convolutions**, splitting standard convolutions into two steps: a **depthwise convolution** (applying filters per channel) and a **pointwise convolution** (1x1 to combine channels). This drastically reduced computational cost and parameters compared to traditional CNNs, making the model efficient for mobile devices.\n",
    "\n",
    "**MobileNetV2** improved upon MobileNetV1 with **inverted residuals** and **linear bottlenecks**. Inverted residuals connect bottlenecks (with fewer channels) via shortcuts, reducing computation, while linear bottlenecks avoid non-linear activations in compressed layers to preserve critical information. These innovations increased efficiency and accuracy, further optimizing MobileNetV2 for resource-constrained environments."
   ]
  },
  {
   "cell_type": "markdown",
   "metadata": {},
   "source": [
    "### **Formulas for Precision, Recall, and F1-Score**\n",
    "\n",
    "1. **Precision**: Measures the proportion of correctly predicted positive instances among all predicted positives.\n",
    "\n",
    "$\n",
    "\\text{Precision} = \\frac{\\text{True Positives (TP)}}{\\text{True Positives (TP)} + \\text{False Positives (FP)}}\n",
    "$\n",
    "\n",
    "---\n",
    "\n",
    "2. **Recall (Sensitivity or True Positive Rate)**: Measures the proportion of correctly predicted positive instances among all actual positives.\n",
    "\n",
    "$\n",
    "\\text{Recall} = \\frac{\\text{True Positives (TP)}}{\\text{True Positives (TP)} + \\text{False Negatives (FN)}}\n",
    "$\n",
    "\n",
    "---\n",
    "\n",
    "3. **F1-Score**: The harmonic mean of precision and recall, used to balance both metrics when there is class imbalance.\n",
    "\n",
    "$\n",
    "\\text{F1-Score} = 2 \\times \\frac{\\text{Precision} \\times \\text{Recall}}{\\text{Precision} + \\text{Recall}}\n",
    "$\n",
    "\n",
    "---\n",
    "\n",
    "### Explanation of Variables:\n",
    "- **True Positives (TP)**: Instances correctly classified as positive.\n",
    "- **False Positives (FP)**: Instances incorrectly classified as positive.\n",
    "- **False Negatives (FN)**: Instances incorrectly classified as negative."
   ]
  },
  {
   "cell_type": "markdown",
   "metadata": {
    "id": "obXi_Ijtovpy"
   },
   "source": [
    "# TensorFlow Keras / MobileNetV2"
   ]
  },
  {
   "cell_type": "code",
   "execution_count": 14,
   "metadata": {
    "execution": {
     "iopub.execute_input": "2025-01-28T20:13:37.638557Z",
     "iopub.status.busy": "2025-01-28T20:13:37.638213Z",
     "iopub.status.idle": "2025-01-28T20:13:38.267536Z",
     "shell.execute_reply": "2025-01-28T20:13:38.266658Z",
     "shell.execute_reply.started": "2025-01-28T20:13:37.638520Z"
    },
    "id": "NhOAknxt0uxM",
    "trusted": true
   },
   "outputs": [],
   "source": [
    "def preprocess_item(image_path, label):\n",
    "    image = tf.io.read_file(image_path)\n",
    "    image = tf.image.decode_png(image, channels=3)\n",
    "    image = tf.image.resize(image, [224, 224]) / 255.0\n",
    "    return image, label\n",
    "\n",
    "paths = [item['image_path'] for item in balanced_data]\n",
    "labels = [1 if \"Infiltration\" in item[\"labels\"] else 0 for item in balanced_data]\n",
    "\n",
    "dataset = tf.data.Dataset.from_tensor_slices((paths, labels))\n",
    "# Maps the preprocess_item function over the dataset with parallel processing to improve speed\n",
    "# (num_parallel_calls=tf.data.AUTOTUNE)\n",
    "dataset = dataset.map(lambda x, y: preprocess_item(x, y), \n",
    "                      num_parallel_calls=tf.data.AUTOTUNE)"
   ]
  },
  {
   "cell_type": "code",
   "execution_count": 15,
   "metadata": {
    "execution": {
     "iopub.execute_input": "2025-01-28T20:13:38.268593Z",
     "iopub.status.busy": "2025-01-28T20:13:38.268346Z",
     "iopub.status.idle": "2025-01-28T20:13:39.954787Z",
     "shell.execute_reply": "2025-01-28T20:13:39.953816Z",
     "shell.execute_reply.started": "2025-01-28T20:13:38.268572Z"
    },
    "id": "Ef3lW3BxsfjE",
    "trusted": true
   },
   "outputs": [],
   "source": [
    "# Shuffle to improve your workout\n",
    "dataset = dataset.shuffle(buffer_size=len(balanced_data))\n",
    "dataset_nobatch = dataset\n",
    "# Batch creation. Prefetch to load next batch in parallel\n",
    "dataset = dataset.batch(64).prefetch(tf.data.AUTOTUNE)"
   ]
  },
  {
   "cell_type": "code",
   "execution_count": 16,
   "metadata": {
    "execution": {
     "iopub.execute_input": "2025-01-28T20:13:39.956280Z",
     "iopub.status.busy": "2025-01-28T20:13:39.955875Z",
     "iopub.status.idle": "2025-01-28T20:15:24.648211Z",
     "shell.execute_reply": "2025-01-28T20:15:24.647251Z",
     "shell.execute_reply.started": "2025-01-28T20:13:39.956243Z"
    },
    "executionInfo": {
     "elapsed": 1896594,
     "status": "ok",
     "timestamp": 1736959529396,
     "user": {
      "displayName": "Loris Salsi",
      "userId": "03149293264146914157"
     },
     "user_tz": -60
    },
    "id": "qUmewFwJ1CW6",
    "outputId": "0c3cefd5-ad4b-42d1-dcb7-8eb40fb2340d",
    "trusted": true
   },
   "outputs": [
    {
     "name": "stdout",
     "output_type": "stream",
     "text": [
      "Batch shape: (64, 224, 224, 3), Labels shape: (64,)\n"
     ]
    }
   ],
   "source": [
    "for images, labels in dataset.take(1):\n",
    "    print(f\"Batch shape: {images.shape}, Labels shape: {labels.shape}\")"
   ]
  },
  {
   "cell_type": "code",
   "execution_count": 17,
   "metadata": {
    "execution": {
     "iopub.execute_input": "2025-01-28T20:15:24.649690Z",
     "iopub.status.busy": "2025-01-28T20:15:24.649313Z",
     "iopub.status.idle": "2025-01-28T20:16:40.089702Z",
     "shell.execute_reply": "2025-01-28T20:16:40.088449Z",
     "shell.execute_reply.started": "2025-01-28T20:15:24.649664Z"
    },
    "executionInfo": {
     "elapsed": 52015,
     "status": "ok",
     "timestamp": 1736959581405,
     "user": {
      "displayName": "Loris Salsi",
      "userId": "03149293264146914157"
     },
     "user_tz": -60
    },
    "id": "bszIW7AZ2Fbr",
    "outputId": "301bd464-a16b-4eca-8317-11b56358f7ce",
    "trusted": true
   },
   "outputs": [
    {
     "name": "stdout",
     "output_type": "stream",
     "text": [
      "Total_number_of: 14000\n"
     ]
    }
   ],
   "source": [
    "total_images = 0\n",
    "for images, labels in dataset:\n",
    "   total_images += images.shape[0]\n",
    "\n",
    "print(f\"Total_number_of: {total_images}\")"
   ]
  },
  {
   "cell_type": "markdown",
   "metadata": {
    "id": "yFiZbA1BXgGJ"
   },
   "source": [
    "**Model Description - Fine Tuning**    \n",
    "A binary classification model is defined using MobileNetV2 as the base, pretrained on ImageNet. The base model is used as a feature extractor with its weights frozen (trainable=False).\n",
    "\n",
    "Key components include:  \n",
    "- GlobalAveragePooling2D.   \n",
    "- A fully connected layer with 64 units and ReLU activation.\n",
    "- An output layer with 1 unit and sigmoid activation for binary classification.  \n",
    "- Optimizer: Adam, configured with a learning rate of 0.001.\n",
    "- Loss function: Binary crossentropy, suitable for binary classification tasks.\n",
    "- Metric: Accuracy, to evaluate the model’s performance."
   ]
  },
  {
   "cell_type": "code",
   "execution_count": 18,
   "metadata": {
    "execution": {
     "iopub.execute_input": "2025-01-28T20:16:40.090755Z",
     "iopub.status.busy": "2025-01-28T20:16:40.090455Z",
     "iopub.status.idle": "2025-01-28T20:16:42.107363Z",
     "shell.execute_reply": "2025-01-28T20:16:42.106696Z",
     "shell.execute_reply.started": "2025-01-28T20:16:40.090732Z"
    },
    "executionInfo": {
     "elapsed": 3304,
     "status": "ok",
     "timestamp": 1736959584685,
     "user": {
      "displayName": "Loris Salsi",
      "userId": "03149293264146914157"
     },
     "user_tz": -60
    },
    "id": "NwFzd11s-PR6",
    "outputId": "9caf6572-5ffb-48d0-bd03-137023e42800",
    "trusted": true
   },
   "outputs": [
    {
     "name": "stdout",
     "output_type": "stream",
     "text": [
      "Downloading data from https://storage.googleapis.com/tensorflow/keras-applications/mobilenet_v2/mobilenet_v2_weights_tf_dim_ordering_tf_kernels_1.0_224_no_top.h5\n",
      "\u001b[1m9406464/9406464\u001b[0m \u001b[32m━━━━━━━━━━━━━━━━━━━━\u001b[0m\u001b[37m\u001b[0m \u001b[1m0s\u001b[0m 0us/step\n"
     ]
    }
   ],
   "source": [
    "base_model = tf.keras.applications.MobileNetV2(input_shape=(224, 224, 3), \n",
    "                                               include_top=False, weights='imagenet')\n",
    "# the pre-trained model uses weights derived from training on ImageNet\n",
    "base_model.trainable = False\n",
    "\n",
    "model_tf = tf.keras.Sequential([base_model,\n",
    "    tf.keras.layers.GlobalAveragePooling2D(),\n",
    "    tf.keras.layers.Dense(64, activation='relu'),\n",
    "    tf.keras.layers.Dense(1, activation='sigmoid')])\n",
    "\n",
    "optimizer = tf.keras.optimizers.Adam(learning_rate=0.001)"
   ]
  },
  {
   "cell_type": "code",
   "execution_count": 19,
   "metadata": {
    "execution": {
     "iopub.execute_input": "2025-01-28T20:16:42.108434Z",
     "iopub.status.busy": "2025-01-28T20:16:42.108109Z",
     "iopub.status.idle": "2025-01-28T20:16:42.115034Z",
     "shell.execute_reply": "2025-01-28T20:16:42.114410Z",
     "shell.execute_reply.started": "2025-01-28T20:16:42.108404Z"
    },
    "id": "_1cJyEG1-yO2",
    "trusted": true
   },
   "outputs": [],
   "source": [
    "model_tf.compile(optimizer=optimizer,loss='binary_crossentropy',metrics=['accuracy'])"
   ]
  },
  {
   "cell_type": "code",
   "execution_count": 20,
   "metadata": {
    "execution": {
     "iopub.execute_input": "2025-01-28T20:16:42.116024Z",
     "iopub.status.busy": "2025-01-28T20:16:42.115783Z",
     "iopub.status.idle": "2025-01-28T20:16:42.133432Z",
     "shell.execute_reply": "2025-01-28T20:16:42.132622Z",
     "shell.execute_reply.started": "2025-01-28T20:16:42.115994Z"
    },
    "id": "otmksIiIx1sG",
    "trusted": true
   },
   "outputs": [],
   "source": [
    "dataset = dataset.shuffle(buffer_size=len(balanced_data))\n",
    "dataset_size = len(dataset)\n",
    "\n",
    "test_size = int(dataset_size * 0.2)\n",
    "train_size = dataset_size - test_size\n",
    "\n",
    "test_set = dataset.take(test_size)  # Top 20% for the test\n",
    "train_set = dataset.skip(test_size)  # Remaining 80% for training"
   ]
  },
  {
   "cell_type": "code",
   "execution_count": 21,
   "metadata": {
    "execution": {
     "iopub.execute_input": "2025-01-28T20:16:42.134469Z",
     "iopub.status.busy": "2025-01-28T20:16:42.134239Z",
     "iopub.status.idle": "2025-01-28T20:16:42.139900Z",
     "shell.execute_reply": "2025-01-28T20:16:42.139067Z",
     "shell.execute_reply.started": "2025-01-28T20:16:42.134451Z"
    },
    "executionInfo": {
     "elapsed": 13,
     "status": "ok",
     "timestamp": 1736959584686,
     "user": {
      "displayName": "Loris Salsi",
      "userId": "03149293264146914157"
     },
     "user_tz": -60
    },
    "id": "GQtLdrL58WFv",
    "outputId": "a6c4aa1e-94f1-49e7-8d04-80ce5aa08f00",
    "trusted": true
   },
   "outputs": [
    {
     "name": "stdout",
     "output_type": "stream",
     "text": [
      "Dataset (batch): 219\n",
      "Test set (batch): 43\n",
      "Training set (batch): 176\n"
     ]
    }
   ],
   "source": [
    "print(f\"Dataset (batch): {dataset_size}\")\n",
    "print(f\"Test set (batch): {test_size}\")\n",
    "print(f\"Training set (batch): {train_size}\")"
   ]
  },
  {
   "cell_type": "code",
   "execution_count": 22,
   "metadata": {
    "execution": {
     "iopub.execute_input": "2025-01-28T20:16:42.140725Z",
     "iopub.status.busy": "2025-01-28T20:16:42.140547Z",
     "iopub.status.idle": "2025-01-28T20:22:34.170277Z",
     "shell.execute_reply": "2025-01-28T20:22:34.169534Z",
     "shell.execute_reply.started": "2025-01-28T20:16:42.140709Z"
    },
    "executionInfo": {
     "elapsed": 263384,
     "status": "ok",
     "timestamp": 1736959848061,
     "user": {
      "displayName": "Loris Salsi",
      "userId": "03149293264146914157"
     },
     "user_tz": -60
    },
    "id": "ok8_Fxvb-7x3",
    "outputId": "9fda767f-9f27-415c-9ddd-0f9be8bf6538",
    "trusted": true
   },
   "outputs": [
    {
     "name": "stdout",
     "output_type": "stream",
     "text": [
      "Epoch 1/4\n",
      "\u001b[1m176/176\u001b[0m \u001b[32m━━━━━━━━━━━━━━━━━━━━\u001b[0m\u001b[37m\u001b[0m \u001b[1m101s\u001b[0m 85ms/step - accuracy: 0.6074 - loss: 0.6763\n",
      "Epoch 2/4\n",
      "\u001b[1m176/176\u001b[0m \u001b[32m━━━━━━━━━━━━━━━━━━━━\u001b[0m\u001b[37m\u001b[0m \u001b[1m84s\u001b[0m 56ms/step - accuracy: 0.6365 - loss: 0.6391\n",
      "Epoch 3/4\n",
      "\u001b[1m176/176\u001b[0m \u001b[32m━━━━━━━━━━━━━━━━━━━━\u001b[0m\u001b[37m\u001b[0m \u001b[1m83s\u001b[0m 56ms/step - accuracy: 0.6556 - loss: 0.6299\n",
      "Epoch 4/4\n",
      "\u001b[1m176/176\u001b[0m \u001b[32m━━━━━━━━━━━━━━━━━━━━\u001b[0m\u001b[37m\u001b[0m \u001b[1m83s\u001b[0m 56ms/step - accuracy: 0.6468 - loss: 0.6358\n"
     ]
    }
   ],
   "source": [
    "history = model_tf.fit(train_set, epochs=4)"
   ]
  },
  {
   "cell_type": "code",
   "execution_count": 23,
   "metadata": {
    "execution": {
     "iopub.execute_input": "2025-01-28T20:22:34.171478Z",
     "iopub.status.busy": "2025-01-28T20:22:34.171208Z",
     "iopub.status.idle": "2025-01-28T20:23:53.026017Z",
     "shell.execute_reply": "2025-01-28T20:23:53.025245Z",
     "shell.execute_reply.started": "2025-01-28T20:22:34.171456Z"
    },
    "executionInfo": {
     "elapsed": 56403,
     "status": "ok",
     "timestamp": 1736959904431,
     "user": {
      "displayName": "Loris Salsi",
      "userId": "03149293264146914157"
     },
     "user_tz": -60
    },
    "id": "QBN_pYAN_Fq0",
    "outputId": "17c0284c-10f9-4056-88dc-d0174b672016",
    "trusted": true
   },
   "outputs": [
    {
     "name": "stdout",
     "output_type": "stream",
     "text": [
      "\u001b[1m43/43\u001b[0m \u001b[32m━━━━━━━━━━━━━━━━━━━━\u001b[0m\u001b[37m\u001b[0m \u001b[1m78s\u001b[0m 57ms/step - accuracy: 0.6748 - loss: 0.6134\n",
      "Test Loss: 0.6101019978523254, Test Accuracy: 0.6809592843055725\n"
     ]
    }
   ],
   "source": [
    "test_loss, test_accuracy = model_tf.evaluate(test_set)\n",
    "print(f\"Test Loss: {test_loss}, Test Accuracy: {test_accuracy}\")"
   ]
  },
  {
   "cell_type": "code",
   "execution_count": 24,
   "metadata": {
    "execution": {
     "iopub.execute_input": "2025-01-28T20:23:53.027147Z",
     "iopub.status.busy": "2025-01-28T20:23:53.026858Z",
     "iopub.status.idle": "2025-01-28T20:25:16.888864Z",
     "shell.execute_reply": "2025-01-28T20:25:16.888114Z",
     "shell.execute_reply.started": "2025-01-28T20:23:53.027111Z"
    },
    "executionInfo": {
     "elapsed": 61551,
     "status": "ok",
     "timestamp": 1736959965956,
     "user": {
      "displayName": "Loris Salsi",
      "userId": "03149293264146914157"
     },
     "user_tz": -60
    },
    "id": "KPv6X-_LCAYm",
    "outputId": "db18358e-104b-4bb7-f4a3-52889c048471",
    "trusted": true
   },
   "outputs": [
    {
     "name": "stdout",
     "output_type": "stream",
     "text": [
      "\u001b[1m2/2\u001b[0m \u001b[32m━━━━━━━━━━━━━━━━━━━━\u001b[0m\u001b[37m\u001b[0m \u001b[1m5s\u001b[0m 14ms/step\n",
      "\u001b[1m2/2\u001b[0m \u001b[32m━━━━━━━━━━━━━━━━━━━━\u001b[0m\u001b[37m\u001b[0m \u001b[1m0s\u001b[0m 21ms/step\n",
      "\u001b[1m2/2\u001b[0m \u001b[32m━━━━━━━━━━━━━━━━━━━━\u001b[0m\u001b[37m\u001b[0m \u001b[1m0s\u001b[0m 21ms/step\n",
      "\u001b[1m2/2\u001b[0m \u001b[32m━━━━━━━━━━━━━━━━━━━━\u001b[0m\u001b[37m\u001b[0m \u001b[1m0s\u001b[0m 21ms/step\n",
      "\u001b[1m2/2\u001b[0m \u001b[32m━━━━━━━━━━━━━━━━━━━━\u001b[0m\u001b[37m\u001b[0m \u001b[1m0s\u001b[0m 22ms/step\n",
      "\u001b[1m2/2\u001b[0m \u001b[32m━━━━━━━━━━━━━━━━━━━━\u001b[0m\u001b[37m\u001b[0m \u001b[1m0s\u001b[0m 20ms/step\n",
      "\u001b[1m2/2\u001b[0m \u001b[32m━━━━━━━━━━━━━━━━━━━━\u001b[0m\u001b[37m\u001b[0m \u001b[1m0s\u001b[0m 22ms/step\n",
      "\u001b[1m2/2\u001b[0m \u001b[32m━━━━━━━━━━━━━━━━━━━━\u001b[0m\u001b[37m\u001b[0m \u001b[1m0s\u001b[0m 22ms/step\n",
      "\u001b[1m2/2\u001b[0m \u001b[32m━━━━━━━━━━━━━━━━━━━━\u001b[0m\u001b[37m\u001b[0m \u001b[1m0s\u001b[0m 22ms/step\n",
      "\u001b[1m2/2\u001b[0m \u001b[32m━━━━━━━━━━━━━━━━━━━━\u001b[0m\u001b[37m\u001b[0m \u001b[1m0s\u001b[0m 22ms/step\n",
      "\u001b[1m2/2\u001b[0m \u001b[32m━━━━━━━━━━━━━━━━━━━━\u001b[0m\u001b[37m\u001b[0m \u001b[1m0s\u001b[0m 22ms/step\n",
      "\u001b[1m2/2\u001b[0m \u001b[32m━━━━━━━━━━━━━━━━━━━━\u001b[0m\u001b[37m\u001b[0m \u001b[1m0s\u001b[0m 22ms/step\n",
      "\u001b[1m2/2\u001b[0m \u001b[32m━━━━━━━━━━━━━━━━━━━━\u001b[0m\u001b[37m\u001b[0m \u001b[1m0s\u001b[0m 22ms/step\n",
      "\u001b[1m2/2\u001b[0m \u001b[32m━━━━━━━━━━━━━━━━━━━━\u001b[0m\u001b[37m\u001b[0m \u001b[1m0s\u001b[0m 22ms/step\n",
      "\u001b[1m2/2\u001b[0m \u001b[32m━━━━━━━━━━━━━━━━━━━━\u001b[0m\u001b[37m\u001b[0m \u001b[1m0s\u001b[0m 22ms/step\n",
      "\u001b[1m2/2\u001b[0m \u001b[32m━━━━━━━━━━━━━━━━━━━━\u001b[0m\u001b[37m\u001b[0m \u001b[1m0s\u001b[0m 22ms/step\n",
      "\u001b[1m2/2\u001b[0m \u001b[32m━━━━━━━━━━━━━━━━━━━━\u001b[0m\u001b[37m\u001b[0m \u001b[1m0s\u001b[0m 22ms/step\n",
      "\u001b[1m2/2\u001b[0m \u001b[32m━━━━━━━━━━━━━━━━━━━━\u001b[0m\u001b[37m\u001b[0m \u001b[1m0s\u001b[0m 22ms/step\n",
      "\u001b[1m2/2\u001b[0m \u001b[32m━━━━━━━━━━━━━━━━━━━━\u001b[0m\u001b[37m\u001b[0m \u001b[1m0s\u001b[0m 22ms/step\n",
      "\u001b[1m2/2\u001b[0m \u001b[32m━━━━━━━━━━━━━━━━━━━━\u001b[0m\u001b[37m\u001b[0m \u001b[1m0s\u001b[0m 22ms/step\n",
      "\u001b[1m2/2\u001b[0m \u001b[32m━━━━━━━━━━━━━━━━━━━━\u001b[0m\u001b[37m\u001b[0m \u001b[1m0s\u001b[0m 22ms/step\n",
      "\u001b[1m2/2\u001b[0m \u001b[32m━━━━━━━━━━━━━━━━━━━━\u001b[0m\u001b[37m\u001b[0m \u001b[1m0s\u001b[0m 22ms/step\n",
      "\u001b[1m2/2\u001b[0m \u001b[32m━━━━━━━━━━━━━━━━━━━━\u001b[0m\u001b[37m\u001b[0m \u001b[1m0s\u001b[0m 22ms/step\n",
      "\u001b[1m2/2\u001b[0m \u001b[32m━━━━━━━━━━━━━━━━━━━━\u001b[0m\u001b[37m\u001b[0m \u001b[1m0s\u001b[0m 22ms/step\n",
      "\u001b[1m2/2\u001b[0m \u001b[32m━━━━━━━━━━━━━━━━━━━━\u001b[0m\u001b[37m\u001b[0m \u001b[1m0s\u001b[0m 23ms/step\n",
      "\u001b[1m2/2\u001b[0m \u001b[32m━━━━━━━━━━━━━━━━━━━━\u001b[0m\u001b[37m\u001b[0m \u001b[1m0s\u001b[0m 23ms/step\n",
      "\u001b[1m2/2\u001b[0m \u001b[32m━━━━━━━━━━━━━━━━━━━━\u001b[0m\u001b[37m\u001b[0m \u001b[1m0s\u001b[0m 22ms/step\n",
      "\u001b[1m2/2\u001b[0m \u001b[32m━━━━━━━━━━━━━━━━━━━━\u001b[0m\u001b[37m\u001b[0m \u001b[1m0s\u001b[0m 23ms/step\n",
      "\u001b[1m2/2\u001b[0m \u001b[32m━━━━━━━━━━━━━━━━━━━━\u001b[0m\u001b[37m\u001b[0m \u001b[1m0s\u001b[0m 22ms/step\n",
      "\u001b[1m2/2\u001b[0m \u001b[32m━━━━━━━━━━━━━━━━━━━━\u001b[0m\u001b[37m\u001b[0m \u001b[1m0s\u001b[0m 22ms/step\n",
      "\u001b[1m2/2\u001b[0m \u001b[32m━━━━━━━━━━━━━━━━━━━━\u001b[0m\u001b[37m\u001b[0m \u001b[1m0s\u001b[0m 22ms/step\n",
      "\u001b[1m2/2\u001b[0m \u001b[32m━━━━━━━━━━━━━━━━━━━━\u001b[0m\u001b[37m\u001b[0m \u001b[1m0s\u001b[0m 22ms/step\n",
      "\u001b[1m2/2\u001b[0m \u001b[32m━━━━━━━━━━━━━━━━━━━━\u001b[0m\u001b[37m\u001b[0m \u001b[1m0s\u001b[0m 22ms/step\n",
      "\u001b[1m2/2\u001b[0m \u001b[32m━━━━━━━━━━━━━━━━━━━━\u001b[0m\u001b[37m\u001b[0m \u001b[1m0s\u001b[0m 23ms/step\n",
      "\u001b[1m2/2\u001b[0m \u001b[32m━━━━━━━━━━━━━━━━━━━━\u001b[0m\u001b[37m\u001b[0m \u001b[1m0s\u001b[0m 22ms/step\n",
      "\u001b[1m2/2\u001b[0m \u001b[32m━━━━━━━━━━━━━━━━━━━━\u001b[0m\u001b[37m\u001b[0m \u001b[1m0s\u001b[0m 22ms/step\n",
      "\u001b[1m2/2\u001b[0m \u001b[32m━━━━━━━━━━━━━━━━━━━━\u001b[0m\u001b[37m\u001b[0m \u001b[1m0s\u001b[0m 22ms/step\n",
      "\u001b[1m2/2\u001b[0m \u001b[32m━━━━━━━━━━━━━━━━━━━━\u001b[0m\u001b[37m\u001b[0m \u001b[1m0s\u001b[0m 22ms/step\n",
      "\u001b[1m2/2\u001b[0m \u001b[32m━━━━━━━━━━━━━━━━━━━━\u001b[0m\u001b[37m\u001b[0m \u001b[1m0s\u001b[0m 22ms/step\n",
      "\u001b[1m2/2\u001b[0m \u001b[32m━━━━━━━━━━━━━━━━━━━━\u001b[0m\u001b[37m\u001b[0m \u001b[1m0s\u001b[0m 22ms/step\n",
      "\u001b[1m2/2\u001b[0m \u001b[32m━━━━━━━━━━━━━━━━━━━━\u001b[0m\u001b[37m\u001b[0m \u001b[1m0s\u001b[0m 22ms/step\n",
      "\u001b[1m2/2\u001b[0m \u001b[32m━━━━━━━━━━━━━━━━━━━━\u001b[0m\u001b[37m\u001b[0m \u001b[1m0s\u001b[0m 22ms/step\n",
      "\u001b[1m2/2\u001b[0m \u001b[32m━━━━━━━━━━━━━━━━━━━━\u001b[0m\u001b[37m\u001b[0m \u001b[1m0s\u001b[0m 22ms/step \n",
      "              precision    recall  f1-score   support\n",
      "\n",
      "           0       0.65      0.86      0.74      1539\n",
      "           1       0.70      0.41      0.51      1213\n",
      "\n",
      "    accuracy                           0.66      2752\n",
      "   macro avg       0.67      0.63      0.63      2752\n",
      "weighted avg       0.67      0.66      0.64      2752\n",
      "\n"
     ]
    }
   ],
   "source": [
    "y_true = []\n",
    "y_pred = []\n",
    "for images, labels in test_set:\n",
    "    preds = model_tf.predict(images)\n",
    "    y_true.extend(labels.numpy())\n",
    "    y_pred.extend((preds > 0.5).astype(int).flatten())\n",
    "\n",
    "print(classification_report(y_true, y_pred))"
   ]
  },
  {
   "cell_type": "markdown",
   "metadata": {
    "id": "dkQkK-NvWBA2"
   },
   "source": [
    "**Class 0 (Not Infiltration)**:\n",
    "   - **Precision**: 65% → Moderate ability to avoid false positives.\n",
    "   - **Recall**: 86% → Excellent ability to identify negatives correctly.\n",
    "\n",
    "**Class 1 (Infiltration)**:\n",
    "   - **Precision**: 70% → Good ability to avoid false positives.\n",
    "   - **Recall**: 41% → Low ability to capture positives (many false negatives).\n",
    "\n",
    "**Accuracy**:  \n",
    "   - 66% → Indicates acceptable general performance with room for improvement."
   ]
  },
  {
   "cell_type": "markdown",
   "metadata": {
    "id": "dRjn9PgjNzAh"
   },
   "source": [
    "# Pytorch / MobileNetV2\n",
    "\n"
   ]
  },
  {
   "cell_type": "code",
   "execution_count": 25,
   "metadata": {
    "execution": {
     "iopub.execute_input": "2025-01-28T20:25:16.890307Z",
     "iopub.status.busy": "2025-01-28T20:25:16.889891Z",
     "iopub.status.idle": "2025-01-28T20:25:16.895863Z",
     "shell.execute_reply": "2025-01-28T20:25:16.894983Z",
     "shell.execute_reply.started": "2025-01-28T20:25:16.890259Z"
    },
    "executionInfo": {
     "elapsed": 494,
     "status": "ok",
     "timestamp": 1737118951358,
     "user": {
      "displayName": "Loris Salsi",
      "userId": "03149293264146914157"
     },
     "user_tz": -60
    },
    "id": "JCkz6uhxN7la",
    "trusted": true
   },
   "outputs": [],
   "source": [
    "class ChestXRayDataset(Dataset):\n",
    "    def __init__(self, data, transform=None):\n",
    "        self.data = data\n",
    "        self.transform = transform\n",
    "\n",
    "    def __len__(self):\n",
    "        return len(self.data)\n",
    "\n",
    "    def __getitem__(self, idx):\n",
    "        image_path = self.data[idx]['image_path']\n",
    "        label = 1 if \"Infiltration\" in self.data[idx]['labels'] else 0\n",
    "        image = Image.open(image_path).convert(\"RGB\")\n",
    "\n",
    "        if self.transform:\n",
    "            image = self.transform(image)\n",
    "\n",
    "        return image, label"
   ]
  },
  {
   "cell_type": "code",
   "execution_count": 26,
   "metadata": {
    "execution": {
     "iopub.execute_input": "2025-01-28T20:25:16.900269Z",
     "iopub.status.busy": "2025-01-28T20:25:16.899929Z",
     "iopub.status.idle": "2025-01-28T20:25:16.942023Z",
     "shell.execute_reply": "2025-01-28T20:25:16.941158Z",
     "shell.execute_reply.started": "2025-01-28T20:25:16.900226Z"
    },
    "executionInfo": {
     "elapsed": 988,
     "status": "ok",
     "timestamp": 1737118959017,
     "user": {
      "displayName": "Loris Salsi",
      "userId": "03149293264146914157"
     },
     "user_tz": -60
    },
    "id": "ag4Npg9OZYvu",
    "trusted": true
   },
   "outputs": [],
   "source": [
    "# Transformations\n",
    "transform = transforms.Compose([\n",
    "    transforms.Resize((224, 224)),\n",
    "    transforms.ToTensor()])\n",
    "\n",
    "dataset_pytorch = ChestXRayDataset(balanced_data, transform=transform)\n",
    "train_size = int(0.8 * len(dataset_pytorch))\n",
    "test_size = len(dataset_pytorch) - train_size\n",
    "\n",
    "train_dataset, test_dataset = torch.utils.data.random_split(dataset_pytorch, \n",
    "                                                            [train_size, test_size])\n",
    "train_loader = DataLoader(train_dataset, batch_size=64, shuffle=True, num_workers=2)\n",
    "test_loader = DataLoader(test_dataset, batch_size=64, shuffle=False)"
   ]
  },
  {
   "cell_type": "markdown",
   "metadata": {
    "id": "4c_TIogewSQi"
   },
   "source": [
    "**Model Description - Fine Tuning**  \n",
    "A binary classification model is defined using MobileNetV2 as the base, pretrained on ImageNet. The base model is used as a feature extractor with its weights retained from the pretraining.\n",
    "\n",
    "Key components include:\n",
    "  \n",
    "- A linear classifier, replacing the original output layer, with a single output logit for binary classification.\n",
    "- Loss function: BCEWithLogitsLoss, which combines sigmoid activation and binary crossentropy for stable handling of logits.\n",
    "- Optimizer: Adam, configured with a learning rate of 0.001."
   ]
  },
  {
   "cell_type": "code",
   "execution_count": 27,
   "metadata": {
    "execution": {
     "iopub.execute_input": "2025-01-28T20:25:16.943829Z",
     "iopub.status.busy": "2025-01-28T20:25:16.943624Z",
     "iopub.status.idle": "2025-01-28T20:25:17.402184Z",
     "shell.execute_reply": "2025-01-28T20:25:17.401280Z",
     "shell.execute_reply.started": "2025-01-28T20:25:16.943812Z"
    },
    "executionInfo": {
     "elapsed": 1086,
     "status": "ok",
     "timestamp": 1737118968589,
     "user": {
      "displayName": "Loris Salsi",
      "userId": "03149293264146914157"
     },
     "user_tz": -60
    },
    "id": "mTmkGr1aZcSC",
    "outputId": "fc12ff20-379e-4393-eb8e-c97ce1689802",
    "trusted": true
   },
   "outputs": [
    {
     "name": "stderr",
     "output_type": "stream",
     "text": [
      "Downloading: \"https://download.pytorch.org/models/mobilenet_v2-7ebf99e0.pth\" to /root/.cache/torch/hub/checkpoints/mobilenet_v2-7ebf99e0.pth\n",
      "100%|██████████| 13.6M/13.6M [00:00<00:00, 112MB/s] \n"
     ]
    }
   ],
   "source": [
    "# Pre-trained model\n",
    "model = mobilenet_v2(weights=MobileNet_V2_Weights.DEFAULT)\n",
    "model.classifier[1] = nn.Linear(model.last_channel, 1)  # Binary output\n",
    "device = torch.device(\"cuda\" if torch.cuda.is_available() else \"cpu\")\n",
    "model = model.to(device)\n",
    "\n",
    "# Loss and optimizer\n",
    "criterion = nn.BCEWithLogitsLoss()\n",
    "optimizer = optim.Adam(model.parameters(), lr=0.001)"
   ]
  },
  {
   "cell_type": "code",
   "execution_count": 28,
   "metadata": {
    "execution": {
     "iopub.execute_input": "2025-01-28T20:25:17.403252Z",
     "iopub.status.busy": "2025-01-28T20:25:17.402986Z",
     "iopub.status.idle": "2025-01-28T20:33:42.692581Z",
     "shell.execute_reply": "2025-01-28T20:33:42.691512Z",
     "shell.execute_reply.started": "2025-01-28T20:25:17.403224Z"
    },
    "id": "zhsouOD4bH4d",
    "trusted": true
   },
   "outputs": [
    {
     "name": "stdout",
     "output_type": "stream",
     "text": [
      "Epoch 1/4, Loss: 0.6444\n",
      "Epoch 2/4, Loss: 0.6181\n",
      "Epoch 3/4, Loss: 0.6057\n",
      "Epoch 4/4, Loss: 0.5858\n"
     ]
    }
   ],
   "source": [
    "# Training\n",
    "num_epochs = 4\n",
    "\n",
    "for epoch in range(num_epochs):\n",
    "    model.train()\n",
    "    running_loss = 0.0\n",
    "    for images, labels in train_loader:\n",
    "        images, labels = images.to(device), labels.to(device).float()\n",
    "        optimizer.zero_grad()\n",
    "        outputs = model(images).squeeze()\n",
    "        loss = criterion(outputs, labels)\n",
    "        loss.backward()\n",
    "        optimizer.step()\n",
    "        running_loss += loss.item()\n",
    "\n",
    "    print(f\"Epoch {epoch+1}/{num_epochs}, Loss: {running_loss/len(train_loader):.4f}\")"
   ]
  },
  {
   "cell_type": "code",
   "execution_count": 29,
   "metadata": {
    "execution": {
     "iopub.execute_input": "2025-01-28T20:33:42.694025Z",
     "iopub.status.busy": "2025-01-28T20:33:42.693739Z",
     "iopub.status.idle": "2025-01-28T20:34:41.705455Z",
     "shell.execute_reply": "2025-01-28T20:34:41.704432Z",
     "shell.execute_reply.started": "2025-01-28T20:33:42.694002Z"
    },
    "id": "Q_xsLrd-b8H5",
    "trusted": true
   },
   "outputs": [
    {
     "name": "stdout",
     "output_type": "stream",
     "text": [
      "Test Classification Report:\n",
      "              precision    recall  f1-score   support\n",
      "\n",
      "           0       0.67      0.77      0.72      1590\n",
      "           1       0.63      0.51      0.56      1210\n",
      "\n",
      "    accuracy                           0.66      2800\n",
      "   macro avg       0.65      0.64      0.64      2800\n",
      "weighted avg       0.65      0.66      0.65      2800\n",
      "\n"
     ]
    }
   ],
   "source": [
    "# Validation\n",
    "model.eval()\n",
    "y_true, y_pred = [], []\n",
    "with torch.no_grad():\n",
    "    for images, labels in test_loader:\n",
    "        images, labels = images.to(device), labels.to(device)\n",
    "        outputs = model(images).squeeze()\n",
    "        preds = (torch.sigmoid(outputs) > 0.5).int()\n",
    "        y_true.extend(labels.cpu().numpy())\n",
    "        y_pred.extend(preds.cpu().numpy())\n",
    "\n",
    "print(\"Test Classification Report:\")\n",
    "print(classification_report(y_true, y_pred))"
   ]
  },
  {
   "cell_type": "markdown",
   "metadata": {
    "id": "W2etUnBlWg1w"
   },
   "source": [
    "**Class 0 (Not Infiltration)**:\n",
    "   - **Precision**: 67% \n",
    "   - **Recall**: 63% \n",
    "\n",
    "**Class 1 (Infiltration)**:\n",
    "   - **Precision**: 77% \n",
    "   - **Recall**: 51%\n",
    "\n",
    "**Accuracy**:  \n",
    "   - 66% → Indicates acceptable general performance with room for improvement."
   ]
  },
  {
   "cell_type": "markdown",
   "metadata": {
    "id": "KvYl-6cQaNy5"
   },
   "source": [
    "# Data Augmentation and Balancing for Class 1  \n",
    "This section implements data augmentation techniques to balance the dataset and improve the model's ability to detect positive cases (Class 1 - \"Infiltration\"). Augmentation is applied selectively to Class 1 images, and the augmented data is combined with the original dataset for training."
   ]
  },
  {
   "cell_type": "markdown",
   "metadata": {
    "id": "gE92LJTye8on"
   },
   "source": [
    "## TensorFlow Keras / MobileNetV2 (with Data Augmentation)"
   ]
  },
  {
   "cell_type": "code",
   "execution_count": 30,
   "metadata": {
    "execution": {
     "iopub.execute_input": "2025-01-28T20:34:41.706781Z",
     "iopub.status.busy": "2025-01-28T20:34:41.706443Z",
     "iopub.status.idle": "2025-01-28T20:34:41.714918Z",
     "shell.execute_reply": "2025-01-28T20:34:41.713932Z",
     "shell.execute_reply.started": "2025-01-28T20:34:41.706745Z"
    },
    "executionInfo": {
     "elapsed": 13,
     "status": "ok",
     "timestamp": 1736961176821,
     "user": {
      "displayName": "Loris Salsi",
      "userId": "03149293264146914157"
     },
     "user_tz": -60
    },
    "id": "-me3D_MdObB_",
    "outputId": "f972dd96-473b-4d9a-d283-4ae481eb7e90",
    "trusted": true
   },
   "outputs": [
    {
     "name": "stdout",
     "output_type": "stream",
     "text": [
      "2000\n"
     ]
    }
   ],
   "source": [
    "class_1_sampled_to_augment = random.sample(class_1_sampled, 2000)\n",
    "print(len(class_1_sampled_to_augment))"
   ]
  },
  {
   "cell_type": "code",
   "execution_count": 31,
   "metadata": {
    "execution": {
     "iopub.execute_input": "2025-01-28T20:34:41.716160Z",
     "iopub.status.busy": "2025-01-28T20:34:41.715803Z",
     "iopub.status.idle": "2025-01-28T20:34:41.916921Z",
     "shell.execute_reply": "2025-01-28T20:34:41.916300Z",
     "shell.execute_reply.started": "2025-01-28T20:34:41.716122Z"
    },
    "id": "3S6XTEEHOx15",
    "trusted": true
   },
   "outputs": [],
   "source": [
    "def augment_image(image):\n",
    "    # Augmentation operations\n",
    "    image = tf.image.random_flip_left_right(image)  # Horizontal Flip\n",
    "    image = tf.image.random_flip_up_down(image)    # Vertical Flip\n",
    "    image = tf.image.rot90(image, k=np.random.randint(1, 4))  # Random rotation\n",
    "    return image\n",
    "\n",
    "# Preprocessing and augmentation function\n",
    "def preprocess_and_augment(image_path, label):\n",
    "    image = tf.io.read_file(image_path)\n",
    "    image = tf.image.decode_png(image, channels=3)\n",
    "    image = tf.image.resize(image, [224, 224]) / 255.0\n",
    "    image = augment_image(image)\n",
    "    return image, label\n",
    "\n",
    "class_1_paths_to_augment = [item['image_path'] for item in class_1_sampled_to_augment]\n",
    "class_1_labels_to_augment = [1] * len(class_1_paths_to_augment)\n",
    "class_1_sampled_to_augment = tf.data.Dataset.from_tensor_slices((class_1_paths_to_augment, \n",
    "                                                                 class_1_labels_to_augment))\n",
    "\n",
    "class_1_sampled_augmented = class_1_sampled_to_augment.map(preprocess_and_augment, \n",
    "                                                           num_parallel_calls=tf.data.AUTOTUNE)"
   ]
  },
  {
   "cell_type": "code",
   "execution_count": 32,
   "metadata": {
    "execution": {
     "iopub.execute_input": "2025-01-28T20:34:41.918223Z",
     "iopub.status.busy": "2025-01-28T20:34:41.917905Z",
     "iopub.status.idle": "2025-01-28T20:34:52.047026Z",
     "shell.execute_reply": "2025-01-28T20:34:52.046038Z",
     "shell.execute_reply.started": "2025-01-28T20:34:41.918194Z"
    },
    "executionInfo": {
     "elapsed": 7332,
     "status": "ok",
     "timestamp": 1736961184147,
     "user": {
      "displayName": "Loris Salsi",
      "userId": "03149293264146914157"
     },
     "user_tz": -60
    },
    "id": "8jI8a0vN9ybR",
    "outputId": "ca64fca3-fcf1-4971-c0ef-eb4beb6ef5d5",
    "trusted": true
   },
   "outputs": [
    {
     "name": "stdout",
     "output_type": "stream",
     "text": [
      "Number of augmented samples: 2000\n"
     ]
    }
   ],
   "source": [
    "augmented_count = sum(1 for _ in class_1_sampled_augmented)\n",
    "print(f\"Number of augmented samples: {augmented_count}\")"
   ]
  },
  {
   "cell_type": "code",
   "execution_count": 33,
   "metadata": {
    "execution": {
     "iopub.execute_input": "2025-01-28T20:34:52.048391Z",
     "iopub.status.busy": "2025-01-28T20:34:52.048034Z",
     "iopub.status.idle": "2025-01-28T20:34:52.057646Z",
     "shell.execute_reply": "2025-01-28T20:34:52.056785Z",
     "shell.execute_reply.started": "2025-01-28T20:34:52.048357Z"
    },
    "executionInfo": {
     "elapsed": 18,
     "status": "ok",
     "timestamp": 1736961184147,
     "user": {
      "displayName": "Loris Salsi",
      "userId": "03149293264146914157"
     },
     "user_tz": -60
    },
    "id": "nwaNec1UVc5Q",
    "outputId": "4c8c8f84-a459-4bc8-f180-49c099ae92f8",
    "trusted": true
   },
   "outputs": [
    {
     "name": "stdout",
     "output_type": "stream",
     "text": [
      "16000\n"
     ]
    }
   ],
   "source": [
    "final_dataset = dataset_nobatch.concatenate(class_1_sampled_augmented)\n",
    "print(len(final_dataset))"
   ]
  },
  {
   "cell_type": "code",
   "execution_count": 34,
   "metadata": {
    "execution": {
     "iopub.execute_input": "2025-01-28T20:34:52.058821Z",
     "iopub.status.busy": "2025-01-28T20:34:52.058559Z",
     "iopub.status.idle": "2025-01-28T20:34:52.071269Z",
     "shell.execute_reply": "2025-01-28T20:34:52.070367Z",
     "shell.execute_reply.started": "2025-01-28T20:34:52.058798Z"
    },
    "id": "1hUEnEe8X93s",
    "trusted": true
   },
   "outputs": [],
   "source": [
    "# Apply shuffle and batching to the combined dataset\n",
    "final_dataset = final_dataset.shuffle(buffer_size=len(final_dataset))\n",
    "final_dataset = final_dataset.batch(64).prefetch(tf.data.AUTOTUNE)"
   ]
  },
  {
   "cell_type": "code",
   "execution_count": 35,
   "metadata": {
    "execution": {
     "iopub.execute_input": "2025-01-28T20:34:52.072666Z",
     "iopub.status.busy": "2025-01-28T20:34:52.072150Z",
     "iopub.status.idle": "2025-01-28T20:34:52.079999Z",
     "shell.execute_reply": "2025-01-28T20:34:52.079220Z",
     "shell.execute_reply.started": "2025-01-28T20:34:52.072630Z"
    },
    "id": "7h5SFQQdyesh",
    "trusted": true
   },
   "outputs": [],
   "source": [
    "dataset_size = len(final_dataset)\n",
    "test_size = int(dataset_size * 0.2)\n",
    "train_size = dataset_size - test_size\n",
    "\n",
    "test_set = final_dataset.take(test_size)  # Top 20% for the test\n",
    "train_set = final_dataset.skip(test_size)  # Remaining 80% for training"
   ]
  },
  {
   "cell_type": "code",
   "execution_count": 36,
   "metadata": {
    "execution": {
     "iopub.execute_input": "2025-01-28T20:34:52.081052Z",
     "iopub.status.busy": "2025-01-28T20:34:52.080859Z",
     "iopub.status.idle": "2025-01-28T20:34:52.087099Z",
     "shell.execute_reply": "2025-01-28T20:34:52.086445Z",
     "shell.execute_reply.started": "2025-01-28T20:34:52.081036Z"
    },
    "executionInfo": {
     "elapsed": 15,
     "status": "ok",
     "timestamp": 1736961184149,
     "user": {
      "displayName": "Loris Salsi",
      "userId": "03149293264146914157"
     },
     "user_tz": -60
    },
    "id": "8dymz0-ix2Px",
    "outputId": "c437c21f-8a97-421c-d2fd-23909ed0b5b7",
    "trusted": true
   },
   "outputs": [
    {
     "name": "stdout",
     "output_type": "stream",
     "text": [
      "Dataset totale: 250\n",
      "Test set: 50\n",
      "Training set: 200\n"
     ]
    }
   ],
   "source": [
    "print(f\"Dataset totale: {dataset_size}\")\n",
    "print(f\"Test set: {test_size}\")\n",
    "print(f\"Training set: {train_size}\")"
   ]
  },
  {
   "cell_type": "code",
   "execution_count": 37,
   "metadata": {
    "execution": {
     "iopub.execute_input": "2025-01-28T20:34:52.088307Z",
     "iopub.status.busy": "2025-01-28T20:34:52.087987Z",
     "iopub.status.idle": "2025-01-28T20:34:52.104490Z",
     "shell.execute_reply": "2025-01-28T20:34:52.103722Z",
     "shell.execute_reply.started": "2025-01-28T20:34:52.088276Z"
    },
    "id": "70I2YunzrtIB",
    "trusted": true
   },
   "outputs": [],
   "source": [
    "optimizer = tf.keras.optimizers.Adam(learning_rate=0.001)\n",
    "model_tf.compile(optimizer=optimizer, loss='binary_crossentropy', metrics=['accuracy'])"
   ]
  },
  {
   "cell_type": "code",
   "execution_count": 38,
   "metadata": {
    "execution": {
     "iopub.execute_input": "2025-01-28T20:34:52.105611Z",
     "iopub.status.busy": "2025-01-28T20:34:52.105410Z",
     "iopub.status.idle": "2025-01-28T20:46:54.697307Z",
     "shell.execute_reply": "2025-01-28T20:46:54.696325Z",
     "shell.execute_reply.started": "2025-01-28T20:34:52.105588Z"
    },
    "executionInfo": {
     "elapsed": 520284,
     "status": "ok",
     "timestamp": 1736961704420,
     "user": {
      "displayName": "Loris Salsi",
      "userId": "03149293264146914157"
     },
     "user_tz": -60
    },
    "id": "WQ0zEdcPzP3T",
    "outputId": "64fd97b8-b473-4299-f319-8be03e753d0a",
    "trusted": true
   },
   "outputs": [
    {
     "name": "stdout",
     "output_type": "stream",
     "text": [
      "Epoch 1/4\n",
      "\u001b[1m200/200\u001b[0m \u001b[32m━━━━━━━━━━━━━━━━━━━━\u001b[0m\u001b[37m\u001b[0m \u001b[1m188s\u001b[0m 500ms/step - accuracy: 0.6841 - loss: 0.5750 - val_accuracy: 0.7038 - val_loss: 0.5427\n",
      "Epoch 2/4\n",
      "\u001b[1m200/200\u001b[0m \u001b[32m━━━━━━━━━━━━━━━━━━━━\u001b[0m\u001b[37m\u001b[0m \u001b[1m178s\u001b[0m 485ms/step - accuracy: 0.6990 - loss: 0.5457 - val_accuracy: 0.7175 - val_loss: 0.5341\n",
      "Epoch 3/4\n",
      "\u001b[1m200/200\u001b[0m \u001b[32m━━━━━━━━━━━━━━━━━━━━\u001b[0m\u001b[37m\u001b[0m \u001b[1m179s\u001b[0m 487ms/step - accuracy: 0.7047 - loss: 0.5398 - val_accuracy: 0.7009 - val_loss: 0.5392\n",
      "Epoch 4/4\n",
      "\u001b[1m200/200\u001b[0m \u001b[32m━━━━━━━━━━━━━━━━━━━━\u001b[0m\u001b[37m\u001b[0m \u001b[1m177s\u001b[0m 481ms/step - accuracy: 0.7098 - loss: 0.5377 - val_accuracy: 0.7163 - val_loss: 0.5259\n"
     ]
    }
   ],
   "source": [
    "history = model_tf.fit(train_set, epochs=4, validation_data = test_set)"
   ]
  },
  {
   "cell_type": "code",
   "execution_count": 39,
   "metadata": {
    "execution": {
     "iopub.execute_input": "2025-01-28T20:46:54.698675Z",
     "iopub.status.busy": "2025-01-28T20:46:54.698359Z",
     "iopub.status.idle": "2025-01-28T20:48:18.262255Z",
     "shell.execute_reply": "2025-01-28T20:48:18.261506Z",
     "shell.execute_reply.started": "2025-01-28T20:46:54.698645Z"
    },
    "executionInfo": {
     "elapsed": 59320,
     "status": "ok",
     "timestamp": 1736961763717,
     "user": {
      "displayName": "Loris Salsi",
      "userId": "03149293264146914157"
     },
     "user_tz": -60
    },
    "id": "r0STPpIBzRLa",
    "outputId": "4051260f-1cc8-41da-de99-bbf8e363e504",
    "trusted": true
   },
   "outputs": [
    {
     "name": "stdout",
     "output_type": "stream",
     "text": [
      "\u001b[1m50/50\u001b[0m \u001b[32m━━━━━━━━━━━━━━━━━━━━\u001b[0m\u001b[37m\u001b[0m \u001b[1m83s\u001b[0m 61ms/step - accuracy: 0.7145 - loss: 0.5348\n",
      "Test Loss: 0.5229731798171997, Test Accuracy: 0.7221875190734863\n"
     ]
    }
   ],
   "source": [
    "test_loss, test_accuracy = model_tf.evaluate(test_set)\n",
    "print(f\"Test Loss: {test_loss}, Test Accuracy: {test_accuracy}\")"
   ]
  },
  {
   "cell_type": "code",
   "execution_count": 40,
   "metadata": {
    "execution": {
     "iopub.execute_input": "2025-01-28T20:48:18.263408Z",
     "iopub.status.busy": "2025-01-28T20:48:18.263063Z",
     "iopub.status.idle": "2025-01-28T20:49:47.152710Z",
     "shell.execute_reply": "2025-01-28T20:49:47.151928Z",
     "shell.execute_reply.started": "2025-01-28T20:48:18.263373Z"
    },
    "executionInfo": {
     "elapsed": 64419,
     "status": "ok",
     "timestamp": 1736961828114,
     "user": {
      "displayName": "Loris Salsi",
      "userId": "03149293264146914157"
     },
     "user_tz": -60
    },
    "id": "v5CELpEyC7we",
    "outputId": "1f4e6ab8-8c3f-4c86-8831-e046f2cf5170",
    "trusted": true
   },
   "outputs": [
    {
     "name": "stdout",
     "output_type": "stream",
     "text": [
      "\u001b[1m2/2\u001b[0m \u001b[32m━━━━━━━━━━━━━━━━━━━━\u001b[0m\u001b[37m\u001b[0m \u001b[1m2s\u001b[0m 23ms/step\n",
      "\u001b[1m2/2\u001b[0m \u001b[32m━━━━━━━━━━━━━━━━━━━━\u001b[0m\u001b[37m\u001b[0m \u001b[1m0s\u001b[0m 32ms/step\n",
      "\u001b[1m2/2\u001b[0m \u001b[32m━━━━━━━━━━━━━━━━━━━━\u001b[0m\u001b[37m\u001b[0m \u001b[1m0s\u001b[0m 32ms/step\n",
      "\u001b[1m2/2\u001b[0m \u001b[32m━━━━━━━━━━━━━━━━━━━━\u001b[0m\u001b[37m\u001b[0m \u001b[1m0s\u001b[0m 32ms/step\n",
      "\u001b[1m2/2\u001b[0m \u001b[32m━━━━━━━━━━━━━━━━━━━━\u001b[0m\u001b[37m\u001b[0m \u001b[1m0s\u001b[0m 26ms/step\n",
      "\u001b[1m2/2\u001b[0m \u001b[32m━━━━━━━━━━━━━━━━━━━━\u001b[0m\u001b[37m\u001b[0m \u001b[1m0s\u001b[0m 26ms/step\n",
      "\u001b[1m2/2\u001b[0m \u001b[32m━━━━━━━━━━━━━━━━━━━━\u001b[0m\u001b[37m\u001b[0m \u001b[1m0s\u001b[0m 23ms/step\n",
      "\u001b[1m2/2\u001b[0m \u001b[32m━━━━━━━━━━━━━━━━━━━━\u001b[0m\u001b[37m\u001b[0m \u001b[1m0s\u001b[0m 25ms/step\n",
      "\u001b[1m2/2\u001b[0m \u001b[32m━━━━━━━━━━━━━━━━━━━━\u001b[0m\u001b[37m\u001b[0m \u001b[1m0s\u001b[0m 25ms/step\n",
      "\u001b[1m2/2\u001b[0m \u001b[32m━━━━━━━━━━━━━━━━━━━━\u001b[0m\u001b[37m\u001b[0m \u001b[1m0s\u001b[0m 25ms/step\n",
      "\u001b[1m2/2\u001b[0m \u001b[32m━━━━━━━━━━━━━━━━━━━━\u001b[0m\u001b[37m\u001b[0m \u001b[1m0s\u001b[0m 24ms/step\n",
      "\u001b[1m2/2\u001b[0m \u001b[32m━━━━━━━━━━━━━━━━━━━━\u001b[0m\u001b[37m\u001b[0m \u001b[1m0s\u001b[0m 23ms/step\n",
      "\u001b[1m2/2\u001b[0m \u001b[32m━━━━━━━━━━━━━━━━━━━━\u001b[0m\u001b[37m\u001b[0m \u001b[1m0s\u001b[0m 23ms/step\n",
      "\u001b[1m2/2\u001b[0m \u001b[32m━━━━━━━━━━━━━━━━━━━━\u001b[0m\u001b[37m\u001b[0m \u001b[1m0s\u001b[0m 23ms/step\n",
      "\u001b[1m2/2\u001b[0m \u001b[32m━━━━━━━━━━━━━━━━━━━━\u001b[0m\u001b[37m\u001b[0m \u001b[1m0s\u001b[0m 23ms/step\n",
      "\u001b[1m2/2\u001b[0m \u001b[32m━━━━━━━━━━━━━━━━━━━━\u001b[0m\u001b[37m\u001b[0m \u001b[1m0s\u001b[0m 22ms/step\n",
      "\u001b[1m2/2\u001b[0m \u001b[32m━━━━━━━━━━━━━━━━━━━━\u001b[0m\u001b[37m\u001b[0m \u001b[1m0s\u001b[0m 22ms/step\n",
      "\u001b[1m2/2\u001b[0m \u001b[32m━━━━━━━━━━━━━━━━━━━━\u001b[0m\u001b[37m\u001b[0m \u001b[1m0s\u001b[0m 22ms/step\n",
      "\u001b[1m2/2\u001b[0m \u001b[32m━━━━━━━━━━━━━━━━━━━━\u001b[0m\u001b[37m\u001b[0m \u001b[1m0s\u001b[0m 23ms/step\n",
      "\u001b[1m2/2\u001b[0m \u001b[32m━━━━━━━━━━━━━━━━━━━━\u001b[0m\u001b[37m\u001b[0m \u001b[1m0s\u001b[0m 22ms/step\n",
      "\u001b[1m2/2\u001b[0m \u001b[32m━━━━━━━━━━━━━━━━━━━━\u001b[0m\u001b[37m\u001b[0m \u001b[1m0s\u001b[0m 23ms/step\n",
      "\u001b[1m2/2\u001b[0m \u001b[32m━━━━━━━━━━━━━━━━━━━━\u001b[0m\u001b[37m\u001b[0m \u001b[1m0s\u001b[0m 23ms/step\n",
      "\u001b[1m2/2\u001b[0m \u001b[32m━━━━━━━━━━━━━━━━━━━━\u001b[0m\u001b[37m\u001b[0m \u001b[1m0s\u001b[0m 23ms/step\n",
      "\u001b[1m2/2\u001b[0m \u001b[32m━━━━━━━━━━━━━━━━━━━━\u001b[0m\u001b[37m\u001b[0m \u001b[1m0s\u001b[0m 22ms/step\n",
      "\u001b[1m2/2\u001b[0m \u001b[32m━━━━━━━━━━━━━━━━━━━━\u001b[0m\u001b[37m\u001b[0m \u001b[1m0s\u001b[0m 22ms/step\n",
      "\u001b[1m2/2\u001b[0m \u001b[32m━━━━━━━━━━━━━━━━━━━━\u001b[0m\u001b[37m\u001b[0m \u001b[1m0s\u001b[0m 22ms/step\n",
      "\u001b[1m2/2\u001b[0m \u001b[32m━━━━━━━━━━━━━━━━━━━━\u001b[0m\u001b[37m\u001b[0m \u001b[1m0s\u001b[0m 21ms/step\n",
      "\u001b[1m2/2\u001b[0m \u001b[32m━━━━━━━━━━━━━━━━━━━━\u001b[0m\u001b[37m\u001b[0m \u001b[1m0s\u001b[0m 23ms/step\n",
      "\u001b[1m2/2\u001b[0m \u001b[32m━━━━━━━━━━━━━━━━━━━━\u001b[0m\u001b[37m\u001b[0m \u001b[1m0s\u001b[0m 22ms/step\n",
      "\u001b[1m2/2\u001b[0m \u001b[32m━━━━━━━━━━━━━━━━━━━━\u001b[0m\u001b[37m\u001b[0m \u001b[1m0s\u001b[0m 22ms/step\n",
      "\u001b[1m2/2\u001b[0m \u001b[32m━━━━━━━━━━━━━━━━━━━━\u001b[0m\u001b[37m\u001b[0m \u001b[1m0s\u001b[0m 23ms/step\n",
      "\u001b[1m2/2\u001b[0m \u001b[32m━━━━━━━━━━━━━━━━━━━━\u001b[0m\u001b[37m\u001b[0m \u001b[1m0s\u001b[0m 22ms/step\n",
      "\u001b[1m2/2\u001b[0m \u001b[32m━━━━━━━━━━━━━━━━━━━━\u001b[0m\u001b[37m\u001b[0m \u001b[1m0s\u001b[0m 22ms/step\n",
      "\u001b[1m2/2\u001b[0m \u001b[32m━━━━━━━━━━━━━━━━━━━━\u001b[0m\u001b[37m\u001b[0m \u001b[1m0s\u001b[0m 23ms/step\n",
      "\u001b[1m2/2\u001b[0m \u001b[32m━━━━━━━━━━━━━━━━━━━━\u001b[0m\u001b[37m\u001b[0m \u001b[1m0s\u001b[0m 22ms/step\n",
      "\u001b[1m2/2\u001b[0m \u001b[32m━━━━━━━━━━━━━━━━━━━━\u001b[0m\u001b[37m\u001b[0m \u001b[1m0s\u001b[0m 23ms/step\n",
      "\u001b[1m2/2\u001b[0m \u001b[32m━━━━━━━━━━━━━━━━━━━━\u001b[0m\u001b[37m\u001b[0m \u001b[1m0s\u001b[0m 22ms/step\n",
      "\u001b[1m2/2\u001b[0m \u001b[32m━━━━━━━━━━━━━━━━━━━━\u001b[0m\u001b[37m\u001b[0m \u001b[1m0s\u001b[0m 22ms/step\n",
      "\u001b[1m2/2\u001b[0m \u001b[32m━━━━━━━━━━━━━━━━━━━━\u001b[0m\u001b[37m\u001b[0m \u001b[1m0s\u001b[0m 22ms/step\n",
      "\u001b[1m2/2\u001b[0m \u001b[32m━━━━━━━━━━━━━━━━━━━━\u001b[0m\u001b[37m\u001b[0m \u001b[1m0s\u001b[0m 22ms/step\n",
      "\u001b[1m2/2\u001b[0m \u001b[32m━━━━━━━━━━━━━━━━━━━━\u001b[0m\u001b[37m\u001b[0m \u001b[1m0s\u001b[0m 22ms/step\n",
      "\u001b[1m2/2\u001b[0m \u001b[32m━━━━━━━━━━━━━━━━━━━━\u001b[0m\u001b[37m\u001b[0m \u001b[1m0s\u001b[0m 23ms/step\n",
      "\u001b[1m2/2\u001b[0m \u001b[32m━━━━━━━━━━━━━━━━━━━━\u001b[0m\u001b[37m\u001b[0m \u001b[1m0s\u001b[0m 22ms/step\n",
      "\u001b[1m2/2\u001b[0m \u001b[32m━━━━━━━━━━━━━━━━━━━━\u001b[0m\u001b[37m\u001b[0m \u001b[1m0s\u001b[0m 22ms/step\n",
      "\u001b[1m2/2\u001b[0m \u001b[32m━━━━━━━━━━━━━━━━━━━━\u001b[0m\u001b[37m\u001b[0m \u001b[1m0s\u001b[0m 22ms/step\n",
      "\u001b[1m2/2\u001b[0m \u001b[32m━━━━━━━━━━━━━━━━━━━━\u001b[0m\u001b[37m\u001b[0m \u001b[1m0s\u001b[0m 22ms/step\n",
      "\u001b[1m2/2\u001b[0m \u001b[32m━━━━━━━━━━━━━━━━━━━━\u001b[0m\u001b[37m\u001b[0m \u001b[1m0s\u001b[0m 22ms/step\n",
      "\u001b[1m2/2\u001b[0m \u001b[32m━━━━━━━━━━━━━━━━━━━━\u001b[0m\u001b[37m\u001b[0m \u001b[1m0s\u001b[0m 22ms/step\n",
      "\u001b[1m2/2\u001b[0m \u001b[32m━━━━━━━━━━━━━━━━━━━━\u001b[0m\u001b[37m\u001b[0m \u001b[1m0s\u001b[0m 22ms/step\n",
      "\u001b[1m2/2\u001b[0m \u001b[32m━━━━━━━━━━━━━━━━━━━━\u001b[0m\u001b[37m\u001b[0m \u001b[1m0s\u001b[0m 22ms/step\n",
      "Classification report for threshold = 0.4\n",
      "              precision    recall  f1-score   support\n",
      "\n",
      "           0       0.71      0.71      0.71      1589\n",
      "           1       0.72      0.71      0.71      1611\n",
      "\n",
      "    accuracy                           0.71      3200\n",
      "   macro avg       0.71      0.71      0.71      3200\n",
      "weighted avg       0.71      0.71      0.71      3200\n",
      "\n",
      "Classification report for threshold = 0.5\n",
      "              precision    recall  f1-score   support\n",
      "\n",
      "           0       0.67      0.87      0.75      1589\n",
      "           1       0.81      0.57      0.67      1611\n",
      "\n",
      "    accuracy                           0.72      3200\n",
      "   macro avg       0.74      0.72      0.71      3200\n",
      "weighted avg       0.74      0.72      0.71      3200\n",
      "\n"
     ]
    }
   ],
   "source": [
    "y_true = []\n",
    "y_pred = []\n",
    "\n",
    "for images, labels in test_set:\n",
    "    preds = model_tf.predict(images)\n",
    "    y_true.extend(labels.numpy())\n",
    "    y_pred.extend(preds.flatten())\n",
    "\n",
    "y_true = np.array(y_true)\n",
    "y_pred = np.array(y_pred)\n",
    "\n",
    "thresholds = [0.4, 0.5]\n",
    "for threshold in thresholds:\n",
    "    y_pred_class = (y_pred > threshold).astype(int)\n",
    "    print(f\"Classification report for threshold = {threshold}\")\n",
    "    print(classification_report(y_true, y_pred_class))\n"
   ]
  },
  {
   "cell_type": "markdown",
   "metadata": {},
   "source": [
    "**Class 0 (Not Infiltration)**  \n",
    "- **Precision**: 67% → When the model predicts \"Not Infiltration,\" it is correct 67% of the time. This means that 33% of these predictions are actually false negatives.  \n",
    "- **Recall**: 87% → The model successfully identifies 87% of all true negatives, demonstrating a strong ability to recognize cases without infiltration.\n",
    "\n",
    "**Class 1 (Infiltration)**  \n",
    "- **Precision**: 81% → When the model predicts \"Infiltration,\" it is correct 81% of the time, indicating good performance in avoiding false positives.  \n",
    "- **Recall**: 57% → The model captures only 57% of actual infiltration cases, meaning 43% of true positives are missed, highlighting a need for improvement in detecting this class.\n",
    "\n",
    "**Accuracy**  \n",
    "- 72% → The model achieves an overall accuracy of 72%, which is acceptable but leaves room for improvement, especially in correctly identifying infiltration cases."
   ]
  },
  {
   "cell_type": "code",
   "execution_count": 41,
   "metadata": {
    "execution": {
     "iopub.execute_input": "2025-01-28T20:49:47.153884Z",
     "iopub.status.busy": "2025-01-28T20:49:47.153561Z",
     "iopub.status.idle": "2025-01-28T20:49:47.401494Z",
     "shell.execute_reply": "2025-01-28T20:49:47.400620Z",
     "shell.execute_reply.started": "2025-01-28T20:49:47.153851Z"
    },
    "trusted": true
   },
   "outputs": [
    {
     "data": {
      "image/png": "[encoded data removed]",
      "text/plain": [
       "<Figure size 640x480 with 2 Axes>"
      ]
     },
     "metadata": {},
     "output_type": "display_data"
    }
   ],
   "source": [
    "threshold = 0.5\n",
    "y_pred_class = (y_pred > threshold).astype(int)\n",
    "cm = confusion_matrix(y_true, y_pred_class)\n",
    "\n",
    "disp = ConfusionMatrixDisplay(confusion_matrix=cm, display_labels=['Class 0', 'Class 1'])\n",
    "disp.plot(cmap='Blues', values_format='d')\n",
    "plt.title(f'Confusion Matrix (Threshold = {threshold})')\n",
    "plt.show()"
   ]
  },
  {
   "cell_type": "markdown",
   "metadata": {
    "id": "C3L-2GYM-HJc"
   },
   "source": [
    "**Model Description - Fine Tuning**     \n",
    "A binary classification model is defined using MobileNetV2 as the base, pretrained on ImageNet. The base model is used as a feature extractor with its weights frozen (trainable=False).\n",
    "\n",
    "Key components include:  \n",
    "- GlobalMaxPooling2D.   \n",
    "- A fully connected layer with 64 units and ReLU activation.\n",
    "- An output layer with 1 unit and sigmoid activation for binary classification.  \n",
    "- Optimizer: Adam, configured with a learning rate of 0.001.\n",
    "- Loss function: Binary crossentropy, suitable for binary classification tasks.\n",
    "- Metric: Accuracy, to evaluate the model’s performance."
   ]
  },
  {
   "cell_type": "code",
   "execution_count": 42,
   "metadata": {
    "execution": {
     "iopub.execute_input": "2025-01-28T20:49:47.402579Z",
     "iopub.status.busy": "2025-01-28T20:49:47.402345Z",
     "iopub.status.idle": "2025-01-28T20:49:47.426924Z",
     "shell.execute_reply": "2025-01-28T20:49:47.426271Z",
     "shell.execute_reply.started": "2025-01-28T20:49:47.402559Z"
    },
    "id": "V_8cFFGWl300",
    "trusted": true
   },
   "outputs": [],
   "source": [
    "model_tf_max = tf.keras.Sequential([base_model,\n",
    "    tf.keras.layers.GlobalMaxPooling2D(),\n",
    "    tf.keras.layers.Dense(64, activation='relu'),\n",
    "    tf.keras.layers.Dense(1, activation='sigmoid')])"
   ]
  },
  {
   "cell_type": "code",
   "execution_count": 43,
   "metadata": {
    "execution": {
     "iopub.execute_input": "2025-01-28T20:49:47.428005Z",
     "iopub.status.busy": "2025-01-28T20:49:47.427761Z",
     "iopub.status.idle": "2025-01-28T20:49:47.436225Z",
     "shell.execute_reply": "2025-01-28T20:49:47.435557Z",
     "shell.execute_reply.started": "2025-01-28T20:49:47.427985Z"
    },
    "id": "Jpycp1KimGCl",
    "trusted": true
   },
   "outputs": [],
   "source": [
    "optimizer = tf.keras.optimizers.Adam(learning_rate=0.001)\n",
    "model_tf_max.compile(optimizer=optimizer, loss='binary_crossentropy', metrics=['accuracy'])"
   ]
  },
  {
   "cell_type": "code",
   "execution_count": 44,
   "metadata": {
    "execution": {
     "iopub.execute_input": "2025-01-28T20:49:47.437555Z",
     "iopub.status.busy": "2025-01-28T20:49:47.437235Z",
     "iopub.status.idle": "2025-01-28T21:09:00.263755Z",
     "shell.execute_reply": "2025-01-28T21:09:00.261541Z",
     "shell.execute_reply.started": "2025-01-28T20:49:47.437523Z"
    },
    "id": "b5B4uxZTqZqy",
    "trusted": true
   },
   "outputs": [
    {
     "name": "stdout",
     "output_type": "stream",
     "text": [
      "Epoch 1/5\n",
      "\u001b[1m200/200\u001b[0m \u001b[32m━━━━━━━━━━━━━━━━━━━━\u001b[0m\u001b[37m\u001b[0m \u001b[1m214s\u001b[0m 634ms/step - accuracy: 0.6014 - loss: 1.1714 - val_accuracy: 0.6812 - val_loss: 0.5624\n",
      "Epoch 2/5\n",
      "\u001b[1m200/200\u001b[0m \u001b[32m━━━━━━━━━━━━━━━━━━━━\u001b[0m\u001b[37m\u001b[0m \u001b[1m208s\u001b[0m 563ms/step - accuracy: 0.6768 - loss: 0.5736 - val_accuracy: 0.6853 - val_loss: 0.5557\n",
      "Epoch 3/5\n",
      "\u001b[1m200/200\u001b[0m \u001b[32m━━━━━━━━━━━━━━━━━━━━\u001b[0m\u001b[37m\u001b[0m \u001b[1m212s\u001b[0m 588ms/step - accuracy: 0.6757 - loss: 0.5703 - val_accuracy: 0.6934 - val_loss: 0.5555\n",
      "Epoch 4/5\n",
      "\u001b[1m200/200\u001b[0m \u001b[32m━━━━━━━━━━━━━━━━━━━━\u001b[0m\u001b[37m\u001b[0m \u001b[1m207s\u001b[0m 573ms/step - accuracy: 0.6804 - loss: 0.5639 - val_accuracy: 0.6825 - val_loss: 0.5565\n",
      "Epoch 5/5\n",
      "\u001b[1m200/200\u001b[0m \u001b[32m━━━━━━━━━━━━━━━━━━━━\u001b[0m\u001b[37m\u001b[0m \u001b[1m210s\u001b[0m 558ms/step - accuracy: 0.6856 - loss: 0.5551 - val_accuracy: 0.7044 - val_loss: 0.5430\n",
      "\u001b[1m50/50\u001b[0m \u001b[32m━━━━━━━━━━━━━━━━━━━━\u001b[0m\u001b[37m\u001b[0m \u001b[1m101s\u001b[0m 62ms/step - accuracy: 0.7048 - loss: 0.5465\n",
      "Test Loss: 0.5513942837715149, Test Accuracy: 0.6943749785423279\n"
     ]
    }
   ],
   "source": [
    "history = model_tf_max.fit(train_set, epochs=5,validation_data=test_set)\n",
    "\n",
    "test_loss, test_accuracy = model_tf_max.evaluate(test_set)\n",
    "print(f\"Test Loss: {test_loss}, Test Accuracy: {test_accuracy}\")"
   ]
  },
  {
   "cell_type": "code",
   "execution_count": 45,
   "metadata": {
    "execution": {
     "iopub.execute_input": "2025-01-28T21:09:00.268748Z",
     "iopub.status.busy": "2025-01-28T21:09:00.268512Z",
     "iopub.status.idle": "2025-01-28T21:10:59.183804Z",
     "shell.execute_reply": "2025-01-28T21:10:59.182077Z",
     "shell.execute_reply.started": "2025-01-28T21:09:00.268728Z"
    },
    "id": "k-cQLvtLsvGZ",
    "trusted": true
   },
   "outputs": [
    {
     "name": "stdout",
     "output_type": "stream",
     "text": [
      "\u001b[1m2/2\u001b[0m \u001b[32m━━━━━━━━━━━━━━━━━━━━\u001b[0m\u001b[37m\u001b[0m \u001b[1m4s\u001b[0m 16ms/step\n",
      "\u001b[1m2/2\u001b[0m \u001b[32m━━━━━━━━━━━━━━━━━━━━\u001b[0m\u001b[37m\u001b[0m \u001b[1m0s\u001b[0m 32ms/step\n",
      "\u001b[1m2/2\u001b[0m \u001b[32m━━━━━━━━━━━━━━━━━━━━\u001b[0m\u001b[37m\u001b[0m \u001b[1m0s\u001b[0m 32ms/step\n",
      "\u001b[1m2/2\u001b[0m \u001b[32m━━━━━━━━━━━━━━━━━━━━\u001b[0m\u001b[37m\u001b[0m \u001b[1m0s\u001b[0m 31ms/step\n",
      "\u001b[1m2/2\u001b[0m \u001b[32m━━━━━━━━━━━━━━━━━━━━\u001b[0m\u001b[37m\u001b[0m \u001b[1m0s\u001b[0m 27ms/step\n",
      "\u001b[1m2/2\u001b[0m \u001b[32m━━━━━━━━━━━━━━━━━━━━\u001b[0m\u001b[37m\u001b[0m \u001b[1m0s\u001b[0m 27ms/step\n",
      "\u001b[1m2/2\u001b[0m \u001b[32m━━━━━━━━━━━━━━━━━━━━\u001b[0m\u001b[37m\u001b[0m \u001b[1m0s\u001b[0m 27ms/step\n",
      "\u001b[1m2/2\u001b[0m \u001b[32m━━━━━━━━━━━━━━━━━━━━\u001b[0m\u001b[37m\u001b[0m \u001b[1m0s\u001b[0m 24ms/step\n",
      "\u001b[1m2/2\u001b[0m \u001b[32m━━━━━━━━━━━━━━━━━━━━\u001b[0m\u001b[37m\u001b[0m \u001b[1m0s\u001b[0m 24ms/step\n",
      "\u001b[1m2/2\u001b[0m \u001b[32m━━━━━━━━━━━━━━━━━━━━\u001b[0m\u001b[37m\u001b[0m \u001b[1m0s\u001b[0m 24ms/step\n",
      "\u001b[1m2/2\u001b[0m \u001b[32m━━━━━━━━━━━━━━━━━━━━\u001b[0m\u001b[37m\u001b[0m \u001b[1m0s\u001b[0m 23ms/step\n",
      "\u001b[1m2/2\u001b[0m \u001b[32m━━━━━━━━━━━━━━━━━━━━\u001b[0m\u001b[37m\u001b[0m \u001b[1m0s\u001b[0m 23ms/step\n",
      "\u001b[1m2/2\u001b[0m \u001b[32m━━━━━━━━━━━━━━━━━━━━\u001b[0m\u001b[37m\u001b[0m \u001b[1m0s\u001b[0m 23ms/step\n",
      "\u001b[1m2/2\u001b[0m \u001b[32m━━━━━━━━━━━━━━━━━━━━\u001b[0m\u001b[37m\u001b[0m \u001b[1m0s\u001b[0m 23ms/step\n",
      "\u001b[1m2/2\u001b[0m \u001b[32m━━━━━━━━━━━━━━━━━━━━\u001b[0m\u001b[37m\u001b[0m \u001b[1m0s\u001b[0m 23ms/step\n",
      "\u001b[1m2/2\u001b[0m \u001b[32m━━━━━━━━━━━━━━━━━━━━\u001b[0m\u001b[37m\u001b[0m \u001b[1m0s\u001b[0m 23ms/step\n",
      "\u001b[1m2/2\u001b[0m \u001b[32m━━━━━━━━━━━━━━━━━━━━\u001b[0m\u001b[37m\u001b[0m \u001b[1m0s\u001b[0m 23ms/step\n",
      "\u001b[1m2/2\u001b[0m \u001b[32m━━━━━━━━━━━━━━━━━━━━\u001b[0m\u001b[37m\u001b[0m \u001b[1m0s\u001b[0m 22ms/step\n",
      "\u001b[1m2/2\u001b[0m \u001b[32m━━━━━━━━━━━━━━━━━━━━\u001b[0m\u001b[37m\u001b[0m \u001b[1m0s\u001b[0m 23ms/step\n",
      "\u001b[1m2/2\u001b[0m \u001b[32m━━━━━━━━━━━━━━━━━━━━\u001b[0m\u001b[37m\u001b[0m \u001b[1m0s\u001b[0m 22ms/step\n",
      "\u001b[1m2/2\u001b[0m \u001b[32m━━━━━━━━━━━━━━━━━━━━\u001b[0m\u001b[37m\u001b[0m \u001b[1m0s\u001b[0m 22ms/step\n",
      "\u001b[1m2/2\u001b[0m \u001b[32m━━━━━━━━━━━━━━━━━━━━\u001b[0m\u001b[37m\u001b[0m \u001b[1m0s\u001b[0m 22ms/step\n",
      "\u001b[1m2/2\u001b[0m \u001b[32m━━━━━━━━━━━━━━━━━━━━\u001b[0m\u001b[37m\u001b[0m \u001b[1m0s\u001b[0m 22ms/step\n",
      "\u001b[1m2/2\u001b[0m \u001b[32m━━━━━━━━━━━━━━━━━━━━\u001b[0m\u001b[37m\u001b[0m \u001b[1m0s\u001b[0m 22ms/step\n",
      "\u001b[1m2/2\u001b[0m \u001b[32m━━━━━━━━━━━━━━━━━━━━\u001b[0m\u001b[37m\u001b[0m \u001b[1m0s\u001b[0m 22ms/step\n",
      "\u001b[1m2/2\u001b[0m \u001b[32m━━━━━━━━━━━━━━━━━━━━\u001b[0m\u001b[37m\u001b[0m \u001b[1m0s\u001b[0m 22ms/step\n",
      "\u001b[1m2/2\u001b[0m \u001b[32m━━━━━━━━━━━━━━━━━━━━\u001b[0m\u001b[37m\u001b[0m \u001b[1m0s\u001b[0m 22ms/step\n",
      "\u001b[1m2/2\u001b[0m \u001b[32m━━━━━━━━━━━━━━━━━━━━\u001b[0m\u001b[37m\u001b[0m \u001b[1m0s\u001b[0m 22ms/step\n",
      "\u001b[1m2/2\u001b[0m \u001b[32m━━━━━━━━━━━━━━━━━━━━\u001b[0m\u001b[37m\u001b[0m \u001b[1m0s\u001b[0m 22ms/step\n",
      "\u001b[1m2/2\u001b[0m \u001b[32m━━━━━━━━━━━━━━━━━━━━\u001b[0m\u001b[37m\u001b[0m \u001b[1m0s\u001b[0m 22ms/step\n",
      "\u001b[1m2/2\u001b[0m \u001b[32m━━━━━━━━━━━━━━━━━━━━\u001b[0m\u001b[37m\u001b[0m \u001b[1m0s\u001b[0m 22ms/step\n",
      "\u001b[1m2/2\u001b[0m \u001b[32m━━━━━━━━━━━━━━━━━━━━\u001b[0m\u001b[37m\u001b[0m \u001b[1m0s\u001b[0m 22ms/step\n",
      "\u001b[1m2/2\u001b[0m \u001b[32m━━━━━━━━━━━━━━━━━━━━\u001b[0m\u001b[37m\u001b[0m \u001b[1m0s\u001b[0m 22ms/step\n",
      "\u001b[1m2/2\u001b[0m \u001b[32m━━━━━━━━━━━━━━━━━━━━\u001b[0m\u001b[37m\u001b[0m \u001b[1m0s\u001b[0m 21ms/step\n",
      "\u001b[1m2/2\u001b[0m \u001b[32m━━━━━━━━━━━━━━━━━━━━\u001b[0m\u001b[37m\u001b[0m \u001b[1m0s\u001b[0m 23ms/step\n",
      "\u001b[1m2/2\u001b[0m \u001b[32m━━━━━━━━━━━━━━━━━━━━\u001b[0m\u001b[37m\u001b[0m \u001b[1m0s\u001b[0m 22ms/step\n",
      "\u001b[1m2/2\u001b[0m \u001b[32m━━━━━━━━━━━━━━━━━━━━\u001b[0m\u001b[37m\u001b[0m \u001b[1m0s\u001b[0m 22ms/step\n",
      "\u001b[1m2/2\u001b[0m \u001b[32m━━━━━━━━━━━━━━━━━━━━\u001b[0m\u001b[37m\u001b[0m \u001b[1m0s\u001b[0m 22ms/step\n",
      "\u001b[1m2/2\u001b[0m \u001b[32m━━━━━━━━━━━━━━━━━━━━\u001b[0m\u001b[37m\u001b[0m \u001b[1m0s\u001b[0m 22ms/step\n",
      "\u001b[1m2/2\u001b[0m \u001b[32m━━━━━━━━━━━━━━━━━━━━\u001b[0m\u001b[37m\u001b[0m \u001b[1m0s\u001b[0m 22ms/step\n",
      "\u001b[1m2/2\u001b[0m \u001b[32m━━━━━━━━━━━━━━━━━━━━\u001b[0m\u001b[37m\u001b[0m \u001b[1m0s\u001b[0m 22ms/step\n",
      "\u001b[1m2/2\u001b[0m \u001b[32m━━━━━━━━━━━━━━━━━━━━\u001b[0m\u001b[37m\u001b[0m \u001b[1m0s\u001b[0m 22ms/step\n",
      "\u001b[1m2/2\u001b[0m \u001b[32m━━━━━━━━━━━━━━━━━━━━\u001b[0m\u001b[37m\u001b[0m \u001b[1m0s\u001b[0m 22ms/step\n",
      "\u001b[1m2/2\u001b[0m \u001b[32m━━━━━━━━━━━━━━━━━━━━\u001b[0m\u001b[37m\u001b[0m \u001b[1m0s\u001b[0m 23ms/step\n",
      "\u001b[1m2/2\u001b[0m \u001b[32m━━━━━━━━━━━━━━━━━━━━\u001b[0m\u001b[37m\u001b[0m \u001b[1m0s\u001b[0m 22ms/step\n",
      "\u001b[1m2/2\u001b[0m \u001b[32m━━━━━━━━━━━━━━━━━━━━\u001b[0m\u001b[37m\u001b[0m \u001b[1m0s\u001b[0m 22ms/step\n",
      "\u001b[1m2/2\u001b[0m \u001b[32m━━━━━━━━━━━━━━━━━━━━\u001b[0m\u001b[37m\u001b[0m \u001b[1m0s\u001b[0m 22ms/step\n",
      "\u001b[1m2/2\u001b[0m \u001b[32m━━━━━━━━━━━━━━━━━━━━\u001b[0m\u001b[37m\u001b[0m \u001b[1m0s\u001b[0m 23ms/step\n",
      "\u001b[1m2/2\u001b[0m \u001b[32m━━━━━━━━━━━━━━━━━━━━\u001b[0m\u001b[37m\u001b[0m \u001b[1m0s\u001b[0m 22ms/step\n",
      "\u001b[1m2/2\u001b[0m \u001b[32m━━━━━━━━━━━━━━━━━━━━\u001b[0m\u001b[37m\u001b[0m \u001b[1m0s\u001b[0m 22ms/step\n",
      "Classification report for threshold = 0.4\n",
      "              precision    recall  f1-score   support\n",
      "\n",
      "           0       0.71      0.59      0.64      1592\n",
      "           1       0.65      0.76      0.70      1608\n",
      "\n",
      "    accuracy                           0.68      3200\n",
      "   macro avg       0.68      0.67      0.67      3200\n",
      "weighted avg       0.68      0.68      0.67      3200\n",
      "\n",
      "Classification report for threshold = 0.5\n",
      "              precision    recall  f1-score   support\n",
      "\n",
      "           0       0.66      0.79      0.72      1592\n",
      "           1       0.74      0.60      0.66      1608\n",
      "\n",
      "    accuracy                           0.69      3200\n",
      "   macro avg       0.70      0.69      0.69      3200\n",
      "weighted avg       0.70      0.69      0.69      3200\n",
      "\n"
     ]
    }
   ],
   "source": [
    "y_true = []\n",
    "y_pred = []\n",
    "\n",
    "for images, labels in test_set:\n",
    "    preds = model_tf_max.predict(images)\n",
    "    y_true.extend(labels.numpy())\n",
    "    y_pred.extend(preds.flatten())\n",
    "\n",
    "y_true = np.array(y_true)\n",
    "y_pred = np.array(y_pred)\n",
    "\n",
    "thresholds = [0.4, 0.5]\n",
    "for threshold in thresholds:\n",
    "    y_pred_class = (y_pred > threshold).astype(int)\n",
    "    print(f\"Classification report for threshold = {threshold}\")\n",
    "    print(classification_report(y_true, y_pred_class))"
   ]
  },
  {
   "cell_type": "markdown",
   "metadata": {},
   "source": [
    "**Class 0 (Not Infiltration)**  \n",
    "- **Precision**: 66% \n",
    "- **Recall**: 79%  \n",
    "\n",
    "**Class 1 (Infiltration)**  \n",
    "- **Precision**: 74% \n",
    "- **Recall**: 60% → The model captures 60% of actual infiltration cases, missing 40%.  \n",
    "\n",
    "**Accuracy**  \n",
    "- 69% → Moderate performance, with room for improvement in detecting infiltration cases."
   ]
  },
  {
   "cell_type": "code",
   "execution_count": 46,
   "metadata": {
    "execution": {
     "iopub.execute_input": "2025-01-28T21:10:59.188279Z",
     "iopub.status.busy": "2025-01-28T21:10:59.188013Z",
     "iopub.status.idle": "2025-01-28T21:10:59.461060Z",
     "shell.execute_reply": "2025-01-28T21:10:59.460289Z",
     "shell.execute_reply.started": "2025-01-28T21:10:59.188257Z"
    },
    "trusted": true
   },
   "outputs": [
    {
     "data": {
      "image/png": "[encoded data removed]",
      "text/plain": [
       "<Figure size 640x480 with 2 Axes>"
      ]
     },
     "metadata": {},
     "output_type": "display_data"
    }
   ],
   "source": [
    "threshold = 0.5\n",
    "y_pred_class = (y_pred > threshold).astype(int)\n",
    "cm = confusion_matrix(y_true, y_pred_class)\n",
    "\n",
    "disp = ConfusionMatrixDisplay(confusion_matrix=cm, display_labels=['Class 0', 'Class 1'])\n",
    "disp.plot(cmap='Blues', values_format='d')\n",
    "plt.title(f'Confusion Matrix (Threshold = {threshold})')\n",
    "plt.show()"
   ]
  },
  {
   "cell_type": "markdown",
   "metadata": {
    "id": "LqEAIcv8Rm87"
   },
   "source": [
    "## Pytorch / MobileNetV2 (with Data Augmentation)\n"
   ]
  },
  {
   "cell_type": "code",
   "execution_count": 47,
   "metadata": {
    "execution": {
     "iopub.execute_input": "2025-01-28T21:10:59.462358Z",
     "iopub.status.busy": "2025-01-28T21:10:59.462031Z",
     "iopub.status.idle": "2025-01-28T21:10:59.473559Z",
     "shell.execute_reply": "2025-01-28T21:10:59.472497Z",
     "shell.execute_reply.started": "2025-01-28T21:10:59.462333Z"
    },
    "id": "4pudLRZjZqGo",
    "trusted": true
   },
   "outputs": [],
   "source": [
    "# Transformations with Data Augmentation\n",
    "augmentation_transforms = transforms.Compose([\n",
    "    transforms.RandomHorizontalFlip(p=0.5),  # Horizontal Flip\n",
    "    transforms.RandomVerticalFlip(p=0.5),    # Vertical Flip\n",
    "    transforms.RandomRotation(degrees=90),   # Random rotation within 45°\n",
    "    transforms.Resize((224, 224)),\n",
    "    transforms.ToTensor()])\n",
    "\n",
    "# Basic transformations (without augmentation)\n",
    "base_transforms = transforms.Compose([\n",
    "    transforms.Resize((224, 224)),\n",
    "    transforms.ToTensor()])\n",
    "\n",
    "# Original dataset with basic transformations\n",
    "base_dataset = ChestXRayDataset(balanced_data, transform=base_transforms)"
   ]
  },
  {
   "cell_type": "code",
   "execution_count": 48,
   "metadata": {
    "execution": {
     "iopub.execute_input": "2025-01-28T21:10:59.474687Z",
     "iopub.status.busy": "2025-01-28T21:10:59.474446Z",
     "iopub.status.idle": "2025-01-28T21:10:59.494260Z",
     "shell.execute_reply": "2025-01-28T21:10:59.493549Z",
     "shell.execute_reply.started": "2025-01-28T21:10:59.474667Z"
    },
    "id": "QEjbTgaGO8X9",
    "trusted": true
   },
   "outputs": [
    {
     "name": "stdout",
     "output_type": "stream",
     "text": [
      "2000\n",
      "16000\n"
     ]
    }
   ],
   "source": [
    "# Dataset augmented for class 1 only\n",
    "class_1_sampled_to_augment = random.sample(class_1_sampled, 2000)\n",
    "class_1_data_augmented = ChestXRayDataset(class_1_sampled_to_augment, \n",
    "                                          transform=augmentation_transforms)\n",
    "print(len(class_1_data_augmented))\n",
    "\n",
    "# Combine the original and augmented dataset\n",
    "combined_dataset = ConcatDataset([base_dataset, class_1_data_augmented])\n",
    "print(len(combined_dataset))"
   ]
  },
  {
   "cell_type": "code",
   "execution_count": 49,
   "metadata": {
    "execution": {
     "iopub.execute_input": "2025-01-28T21:10:59.495420Z",
     "iopub.status.busy": "2025-01-28T21:10:59.495109Z",
     "iopub.status.idle": "2025-01-28T21:10:59.565154Z",
     "shell.execute_reply": "2025-01-28T21:10:59.564544Z",
     "shell.execute_reply.started": "2025-01-28T21:10:59.495390Z"
    },
    "id": "klJLhhZDPJMj",
    "trusted": true
   },
   "outputs": [],
   "source": [
    "# DataLoader\n",
    "train_size = int(0.8 * len(combined_dataset))\n",
    "test_size = len(combined_dataset) - train_size\n",
    "\n",
    "train_dataset, test_dataset = torch.utils.data.random_split(combined_dataset, \n",
    "                                                            [train_size, test_size])\n",
    "train_loader = DataLoader(train_dataset, batch_size=64, shuffle=True, num_workers=2)\n",
    "test_loader = DataLoader(test_dataset, batch_size=64, shuffle=False)"
   ]
  },
  {
   "cell_type": "code",
   "execution_count": 50,
   "metadata": {
    "execution": {
     "iopub.execute_input": "2025-01-28T21:10:59.566188Z",
     "iopub.status.busy": "2025-01-28T21:10:59.565931Z",
     "iopub.status.idle": "2025-01-28T21:50:39.289110Z",
     "shell.execute_reply": "2025-01-28T21:50:39.288019Z",
     "shell.execute_reply.started": "2025-01-28T21:10:59.566166Z"
    },
    "id": "G_0nsfuzduL7",
    "trusted": true
   },
   "outputs": [
    {
     "name": "stdout",
     "output_type": "stream",
     "text": [
      "\n",
      "--- Training with Learning Rate: 0.001 ---\n",
      "Epoch 1/5, Training Loss: 0.6299, Test Loss: 0.6031\n",
      "Epoch 2/5, Training Loss: 0.6031, Test Loss: 0.5979\n",
      "Epoch 3/5, Training Loss: 0.5964, Test Loss: 0.6026\n",
      "Epoch 4/5, Training Loss: 0.5941, Test Loss: 0.5954\n",
      "Epoch 5/5, Training Loss: 0.5900, Test Loss: 0.6014\n",
      "Classification report for threshold = 0.4\n",
      "              precision    recall  f1-score   support\n",
      "\n",
      "           0       0.72      0.30      0.42      1599\n",
      "           1       0.56      0.88      0.68      1601\n",
      "\n",
      "    accuracy                           0.59      3200\n",
      "   macro avg       0.64      0.59      0.55      3200\n",
      "weighted avg       0.64      0.59      0.55      3200\n",
      "\n",
      "Classification report for threshold = 0.5\n",
      "              precision    recall  f1-score   support\n",
      "\n",
      "           0       0.69      0.56      0.62      1599\n",
      "           1       0.63      0.75      0.68      1601\n",
      "\n",
      "    accuracy                           0.65      3200\n",
      "   macro avg       0.66      0.65      0.65      3200\n",
      "weighted avg       0.66      0.65      0.65      3200\n",
      "\n"
     ]
    },
    {
     "data": {
      "image/png": "[encoded data removed]",
      "text/plain": [
       "<Figure size 640x480 with 1 Axes>"
      ]
     },
     "metadata": {},
     "output_type": "display_data"
    },
    {
     "name": "stdout",
     "output_type": "stream",
     "text": [
      "\n",
      "--- Training with Learning Rate: 0.0001 ---\n",
      "Epoch 1/5, Training Loss: 0.6784, Test Loss: 0.6577\n",
      "Epoch 2/5, Training Loss: 0.6498, Test Loss: 0.6369\n",
      "Epoch 3/5, Training Loss: 0.6357, Test Loss: 0.6270\n",
      "Epoch 4/5, Training Loss: 0.6267, Test Loss: 0.6184\n",
      "Epoch 5/5, Training Loss: 0.6215, Test Loss: 0.6143\n",
      "Classification report for threshold = 0.4\n",
      "              precision    recall  f1-score   support\n",
      "\n",
      "           0       0.69      0.39      0.50      1599\n",
      "           1       0.58      0.83      0.68      1601\n",
      "\n",
      "    accuracy                           0.61      3200\n",
      "   macro avg       0.63      0.61      0.59      3200\n",
      "weighted avg       0.63      0.61      0.59      3200\n",
      "\n",
      "Classification report for threshold = 0.5\n",
      "              precision    recall  f1-score   support\n",
      "\n",
      "           0       0.66      0.70      0.68      1599\n",
      "           1       0.68      0.64      0.66      1601\n",
      "\n",
      "    accuracy                           0.67      3200\n",
      "   macro avg       0.67      0.67      0.67      3200\n",
      "weighted avg       0.67      0.67      0.67      3200\n",
      "\n"
     ]
    },
    {
     "data": {
      "image/png": "[encoded data removed]",
      "text/plain": [
       "<Figure size 640x480 with 1 Axes>"
      ]
     },
     "metadata": {},
     "output_type": "display_data"
    }
   ],
   "source": [
    "# Define a function to calculate test loss\n",
    "def evaluate_model_loss(model, criterion, data_loader, device):\n",
    "    model.eval()\n",
    "    test_loss = 0.0\n",
    "    with torch.no_grad():\n",
    "        for images, labels in data_loader:\n",
    "            images, labels = images.to(device), labels.to(device).float()\n",
    "            outputs = model(images).squeeze()\n",
    "            loss = criterion(outputs, labels)\n",
    "            test_loss += loss.item()\n",
    "    return test_loss / len(data_loader)\n",
    "\n",
    "# Update train_and_evaluate function\n",
    "def train_and_evaluate(model, optimizer, learning_rate, num_epochs, train_loader, \n",
    "                       test_loader, thresholds=[0.4, 0.5]):\n",
    "    print(f\"\\n--- Training with Learning Rate: {learning_rate} ---\")\n",
    "    training_losses = []\n",
    "    test_losses = []\n",
    "\n",
    "    for epoch in range(num_epochs):\n",
    "        # Training\n",
    "        model.train()\n",
    "        running_loss = 0.0\n",
    "        for images, labels in train_loader:\n",
    "            images, labels = images.to(device), labels.to(device).float()\n",
    "            optimizer.zero_grad()\n",
    "            outputs = model(images).squeeze()\n",
    "            loss = criterion(outputs, labels)\n",
    "            loss.backward()\n",
    "            optimizer.step()\n",
    "            running_loss += loss.item()\n",
    "\n",
    "        # Calculate average training loss\n",
    "        training_loss = running_loss / len(train_loader)\n",
    "        training_losses.append(training_loss)\n",
    "\n",
    "        # Calculate test loss\n",
    "        test_loss = evaluate_model_loss(model, criterion, test_loader, device)\n",
    "        test_losses.append(test_loss)\n",
    "\n",
    "        print(f\"Epoch {epoch+1}/{num_epochs}, Training Loss: {training_loss:.4f}, \n",
    "        Test Loss: {test_loss:.4f}\")\n",
    "\n",
    "    # Evaluation\n",
    "    model.eval()\n",
    "    y_true, y_pred = [], []\n",
    "    with torch.no_grad():\n",
    "        for images, labels in test_loader:\n",
    "            images, labels = images.to(device), labels.to(device)\n",
    "            outputs = model(images).squeeze()\n",
    "            probs = torch.sigmoid(outputs)\n",
    "            y_true.extend(labels.cpu().numpy())\n",
    "            y_pred.extend(probs.cpu().numpy())\n",
    "\n",
    "    y_true = np.array(y_true)\n",
    "    y_pred = np.array(y_pred)\n",
    "\n",
    "    # Metrics for each threshold\n",
    "    for threshold in thresholds:\n",
    "        y_pred_class = (y_pred > threshold).astype(int)\n",
    "        print(f\"Classification report for threshold = {threshold}\")\n",
    "        print(classification_report(y_true, y_pred_class))\n",
    "\n",
    "    # Return metrics and losses for analysis\n",
    "    return y_true, y_pred, training_losses, test_losses\n",
    "\n",
    "# Initialize models, optimizers, and train\n",
    "results = {}\n",
    "learning_rates = [0.001, 0.0001]\n",
    "\n",
    "for lr in learning_rates:\n",
    "    # Clone the base model\n",
    "    model = mobilenet_v2(weights=MobileNet_V2_Weights.DEFAULT)\n",
    "    model.classifier[1] = nn.Linear(model.last_channel, 1)\n",
    "    model = model.to(device)\n",
    "\n",
    "    # Define optimizer\n",
    "    optimizer = optim.Adam(model.classifier.parameters(), lr=lr)\n",
    "\n",
    "    # Train and evaluate\n",
    "    y_true, y_pred, training_losses, test_losses = train_and_evaluate(model, optimizer, \n",
    "                                                                      lr, num_epochs=5, \n",
    "                                                                      train_loader=train_loader, \n",
    "                                                                      test_loader=test_loader)\n",
    "    # Store results for further analysis\n",
    "    results[lr] = (y_true, y_pred, training_losses, test_losses)\n",
    "\n",
    "    # Plot Training vs Test Loss for this learning rate\n",
    "    plt.figure()\n",
    "    plt.plot(range(1, len(training_losses) + 1), training_losses, label=\"Training Loss\")\n",
    "    plt.plot(range(1, len(test_losses) + 1), test_losses, label=\"Test Loss\")\n",
    "    plt.xlabel(\"Epochs\")\n",
    "    plt.ylabel(\"Loss\")\n",
    "    plt.title(f\"Training vs Test Loss for Learning Rate {lr}\")\n",
    "    plt.legend()\n",
    "    plt.show()"
   ]
  },
  {
   "cell_type": "markdown",
   "metadata": {},
   "source": [
    "#### Classification report for threshold = 0.5, lr = 0.001\n",
    "**Class 0 (Not Infiltration)**  \n",
    "- **Precision**: 69% → 69% of \"Not Infiltration\" predictions are correct.  \n",
    "- **Recall**: 56% → The model captures only 56% of actual negatives, missing many.  \n",
    "\n",
    "**Class 1 (Infiltration)**  \n",
    "- **Precision**: 63% → 63% of \"Infiltration\" predictions are correct.  \n",
    "- **Recall**: 75% → The model detects 75% of actual infiltration cases.  \n",
    "\n",
    "**Accuracy**  \n",
    "- **65%** → Balanced but moderate performance, with weaknesses in negative case detection."
   ]
  },
  {
   "cell_type": "code",
   "execution_count": 51,
   "metadata": {
    "execution": {
     "iopub.execute_input": "2025-01-28T21:50:39.290823Z",
     "iopub.status.busy": "2025-01-28T21:50:39.290445Z",
     "iopub.status.idle": "2025-01-28T21:50:39.296482Z",
     "shell.execute_reply": "2025-01-28T21:50:39.295520Z",
     "shell.execute_reply.started": "2025-01-28T21:50:39.290776Z"
    },
    "id": "nAcvD6FXqp0f",
    "trusted": true
   },
   "outputs": [
    {
     "name": "stdout",
     "output_type": "stream",
     "text": [
      "[1 1 1 ... 0 1 0] [0.29545334 0.58941996 0.4310601  ... 0.5337723  0.68424183 0.722143  ]\n"
     ]
    }
   ],
   "source": [
    "y_true, y_pred = results[0.001][:2]\n",
    "print(y_true, y_pred)"
   ]
  },
  {
   "cell_type": "code",
   "execution_count": 52,
   "metadata": {
    "execution": {
     "iopub.execute_input": "2025-01-28T21:50:39.297550Z",
     "iopub.status.busy": "2025-01-28T21:50:39.297307Z",
     "iopub.status.idle": "2025-01-28T21:50:39.495705Z",
     "shell.execute_reply": "2025-01-28T21:50:39.494862Z",
     "shell.execute_reply.started": "2025-01-28T21:50:39.297529Z"
    },
    "id": "mgWu3YdCqpwy",
    "trusted": true
   },
   "outputs": [
    {
     "data": {
      "image/png": "[encoded data removed]",
      "text/plain": [
       "<Figure size 640x480 with 1 Axes>"
      ]
     },
     "metadata": {},
     "output_type": "display_data"
    }
   ],
   "source": [
    "# ROC Curve\n",
    "fpr, tpr, thresholds_roc = roc_curve(y_true, y_pred)\n",
    "roc_auc = auc(fpr, tpr)\n",
    "\n",
    "plt.figure()\n",
    "plt.plot(fpr, tpr, color='darkorange', lw=2, label=f'ROC curve (AUC = {roc_auc:.2f})')\n",
    "plt.plot([0, 1], [0, 1], color='navy', lw=2, linestyle='--')\n",
    "plt.xlabel('False Positive Rate')\n",
    "plt.ylabel('True Positive Rate')\n",
    "plt.title('Receiver Operating Characteristic (Learning Rate = 0.001)')\n",
    "plt.legend(loc='lower right')\n",
    "plt.show()"
   ]
  },
  {
   "cell_type": "code",
   "execution_count": 53,
   "metadata": {
    "execution": {
     "iopub.execute_input": "2025-01-28T21:50:39.496979Z",
     "iopub.status.busy": "2025-01-28T21:50:39.496659Z",
     "iopub.status.idle": "2025-01-28T21:50:39.507425Z",
     "shell.execute_reply": "2025-01-28T21:50:39.506454Z",
     "shell.execute_reply.started": "2025-01-28T21:50:39.496948Z"
    },
    "id": "QmbEkD16RKtM",
    "trusted": true
   },
   "outputs": [
    {
     "name": "stdout",
     "output_type": "stream",
     "text": [
      "Threshold: 1.99, FPR: 0.00, TPR: 0.00\n",
      "Threshold: 0.83, FPR: 0.01, TPR: 0.24\n",
      "Threshold: 0.79, FPR: 0.02, TPR: 0.28\n",
      "Threshold: 0.77, FPR: 0.03, TPR: 0.30\n",
      "Threshold: 0.76, FPR: 0.04, TPR: 0.32\n",
      "Threshold: 0.74, FPR: 0.05, TPR: 0.34\n",
      "Threshold: 0.73, FPR: 0.06, TPR: 0.36\n",
      "Threshold: 0.72, FPR: 0.08, TPR: 0.38\n",
      "Threshold: 0.70, FPR: 0.09, TPR: 0.40\n",
      "Threshold: 0.69, FPR: 0.10, TPR: 0.41\n",
      "Threshold: 0.68, FPR: 0.11, TPR: 0.43\n",
      "Threshold: 0.67, FPR: 0.13, TPR: 0.44\n",
      "Threshold: 0.67, FPR: 0.14, TPR: 0.46\n",
      "Threshold: 0.66, FPR: 0.16, TPR: 0.47\n",
      "Threshold: 0.65, FPR: 0.18, TPR: 0.49\n",
      "Threshold: 0.64, FPR: 0.19, TPR: 0.50\n",
      "Threshold: 0.63, FPR: 0.20, TPR: 0.53\n",
      "Threshold: 0.62, FPR: 0.22, TPR: 0.54\n",
      "Threshold: 0.61, FPR: 0.23, TPR: 0.55\n",
      "Threshold: 0.60, FPR: 0.25, TPR: 0.57\n",
      "Threshold: 0.59, FPR: 0.27, TPR: 0.59\n",
      "Threshold: 0.59, FPR: 0.28, TPR: 0.60\n",
      "Threshold: 0.58, FPR: 0.29, TPR: 0.62\n",
      "Threshold: 0.57, FPR: 0.30, TPR: 0.63\n",
      "Threshold: 0.56, FPR: 0.32, TPR: 0.65\n",
      "Threshold: 0.55, FPR: 0.34, TPR: 0.67\n",
      "Threshold: 0.54, FPR: 0.36, TPR: 0.68\n",
      "Threshold: 0.54, FPR: 0.38, TPR: 0.70\n",
      "Threshold: 0.53, FPR: 0.39, TPR: 0.71\n",
      "Threshold: 0.52, FPR: 0.41, TPR: 0.72\n",
      "Threshold: 0.51, FPR: 0.42, TPR: 0.73\n",
      "Threshold: 0.50, FPR: 0.44, TPR: 0.75\n",
      "Threshold: 0.49, FPR: 0.46, TPR: 0.76\n",
      "Threshold: 0.48, FPR: 0.48, TPR: 0.77\n",
      "Threshold: 0.48, FPR: 0.49, TPR: 0.79\n",
      "Threshold: 0.47, FPR: 0.52, TPR: 0.79\n",
      "Threshold: 0.46, FPR: 0.55, TPR: 0.81\n",
      "Threshold: 0.45, FPR: 0.59, TPR: 0.82\n",
      "Threshold: 0.44, FPR: 0.60, TPR: 0.83\n",
      "Threshold: 0.43, FPR: 0.63, TPR: 0.84\n",
      "Threshold: 0.42, FPR: 0.65, TPR: 0.86\n",
      "Threshold: 0.41, FPR: 0.67, TPR: 0.87\n",
      "Threshold: 0.40, FPR: 0.70, TPR: 0.88\n",
      "Threshold: 0.39, FPR: 0.73, TPR: 0.89\n",
      "Threshold: 0.38, FPR: 0.75, TPR: 0.90\n",
      "Threshold: 0.37, FPR: 0.78, TPR: 0.91\n",
      "Threshold: 0.35, FPR: 0.81, TPR: 0.93\n",
      "Threshold: 0.34, FPR: 0.83, TPR: 0.94\n",
      "Threshold: 0.33, FPR: 0.85, TPR: 0.95\n",
      "Threshold: 0.31, FPR: 0.88, TPR: 0.96\n",
      "Threshold: 0.29, FPR: 0.91, TPR: 0.97\n",
      "Threshold: 0.26, FPR: 0.94, TPR: 0.98\n",
      "Threshold: 0.25, FPR: 0.96, TPR: 0.99\n"
     ]
    }
   ],
   "source": [
    "for i, (thr, fp, tp) in enumerate(zip(thresholds_roc, fpr, tpr)):\n",
    "    if i % 25 == 0:  # Print key thresholds\n",
    "        print(f\"Threshold: {thr:.2f}, FPR: {fp:.2f}, TPR: {tp:.2f}\")"
   ]
  },
  {
   "cell_type": "code",
   "execution_count": 54,
   "metadata": {
    "execution": {
     "iopub.execute_input": "2025-01-28T21:50:39.511182Z",
     "iopub.status.busy": "2025-01-28T21:50:39.510856Z",
     "iopub.status.idle": "2025-01-28T21:50:39.705492Z",
     "shell.execute_reply": "2025-01-28T21:50:39.704726Z",
     "shell.execute_reply.started": "2025-01-28T21:50:39.511151Z"
    },
    "id": "rjTGNC49q7tB",
    "trusted": true
   },
   "outputs": [
    {
     "data": {
      "image/png": "[encoded data removed]",
      "text/plain": [
       "<Figure size 640x480 with 2 Axes>"
      ]
     },
     "metadata": {},
     "output_type": "display_data"
    }
   ],
   "source": [
    "# Confusion Matrix for threshold = 0.5\n",
    "threshold = 0.5\n",
    "y_pred_class = (y_pred > threshold).astype(int)\n",
    "cm = confusion_matrix(y_true, y_pred_class)\n",
    "\n",
    "disp = ConfusionMatrixDisplay(confusion_matrix=cm, display_labels=['Class 0', 'Class 1'])\n",
    "disp.plot(cmap='Blues', values_format='d')\n",
    "plt.title('Confusion Matrix (Learning Rate = 0.001, Threshold = 0.5)')\n",
    "plt.show()"
   ]
  }
 ],
 "metadata": {
  "accelerator": "GPU",
  "colab": {
   "collapsed_sections": [
    "ddCCa-o5chE0"
   ],
   "gpuType": "T4",
   "machine_shape": "hm",
   "provenance": []
  },
  "kaggle": {
   "accelerator": "nvidiaTeslaT4",
   "dataSources": [
    {
     "datasetId": 5839,
     "sourceId": 18613,
     "sourceType": "datasetVersion"
    }
   ],
   "dockerImageVersionId": 30840,
   "isGpuEnabled": true,
   "isInternetEnabled": true,
   "language": "python",
   "sourceType": "notebook"
  },
  "kernelspec": {
   "display_name": "Python 3",
   "language": "python",
   "name": "python3"
  },
  "language_info": {
   "codemirror_mode": {
    "name": "ipython",
    "version": 3
   },
   "file_extension": ".py",
   "mimetype": "text/x-python",
   "name": "python",
   "nbconvert_exporter": "python",
   "pygments_lexer": "ipython3",
   "version": "3.10.12"
  }
 },
 "nbformat": 4,
 "nbformat_minor": 4
}
