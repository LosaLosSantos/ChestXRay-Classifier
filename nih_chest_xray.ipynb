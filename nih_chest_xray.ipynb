{
  "cells": [
    {
      "cell_type": "code",
      "source": [
        "\"\"\"import os\n",
        "import shutil\n",
        "\n",
        "os.makedirs('/root/.config/kaggle', exist_ok=True)\n",
        "shutil.copy('/content/drive/My Drive/kaggle.json', '/root/.config/kaggle/kaggle.json')\n",
        "\n",
        "os.chmod('/root/.config/kaggle/kaggle.json', 600)\n",
        "from kaggle.api.kaggle_api_extended import KaggleApi\n",
        "\n",
        "api = KaggleApi()\n",
        "api.authenticate()\"\"\""
      ],
      "metadata": {
        "id": "aBJmJ_2ByY72",
        "colab": {
          "base_uri": "https://localhost:8080/",
          "height": 54
        },
        "outputId": "abac69a3-34d7-47ab-9e5e-68c3f92c7f23"
      },
      "execution_count": 1,
      "outputs": [
        {
          "output_type": "execute_result",
          "data": {
            "text/plain": [
              "\"import os\\nimport shutil\\n\\nos.makedirs('/root/.config/kaggle', exist_ok=True)\\nshutil.copy('/content/drive/My Drive/kaggle.json', '/root/.config/kaggle/kaggle.json')\\n\\nos.chmod('/root/.config/kaggle/kaggle.json', 600)\\nfrom kaggle.api.kaggle_api_extended import KaggleApi\\n\\napi = KaggleApi()\\napi.authenticate()\""
            ],
            "application/vnd.google.colaboratory.intrinsic+json": {
              "type": "string"
            }
          },
          "metadata": {},
          "execution_count": 1
        }
      ]
    },
    {
      "cell_type": "code",
      "source": [
        "\"\"\"xrays_tot = \"nih-chest-xrays/data\"\n",
        "download_path = \"/content/drive/My Drive/xrays_tot\"\n",
        "\n",
        "os.makedirs(download_path, exist_ok=True)\n",
        "api.dataset_download_files(xrays_tot, path=download_path, unzip=True)\n",
        "\n",
        "print(f\"Dataset downloaded and saved to: {download_path}\")\"\"\""
      ],
      "metadata": {
        "id": "8C7Rl-Dr4ZOP",
        "colab": {
          "base_uri": "https://localhost:8080/",
          "height": 54
        },
        "outputId": "efa271aa-5f8d-4202-bee1-c07337c76fcf"
      },
      "execution_count": 2,
      "outputs": [
        {
          "output_type": "execute_result",
          "data": {
            "text/plain": [
              "'xrays_tot = \"nih-chest-xrays/data\"\\ndownload_path = \"/content/drive/My Drive/xrays_tot\"\\n\\nos.makedirs(download_path, exist_ok=True)\\napi.dataset_download_files(xrays_tot, path=download_path, unzip=True)\\n\\nprint(f\"Dataset downloaded and saved to: {download_path}\")'"
            ],
            "application/vnd.google.colaboratory.intrinsic+json": {
              "type": "string"
            }
          },
          "metadata": {},
          "execution_count": 2
        }
      ]
    },
    {
      "cell_type": "markdown",
      "source": [
        "# Chest X-Ray Classification Project: Leveraging Deep Learning for Medical Image Analysis"
      ],
      "metadata": {
        "id": "ddCCa-o5chE0"
      }
    },
    {
      "cell_type": "code",
      "execution_count": 3,
      "metadata": {
        "id": "_wF0EoXkFxf0"
      },
      "outputs": [],
      "source": [
        "import numpy as np\n",
        "import pandas as pd\n",
        "import matplotlib.pyplot as plt\n",
        "import matplotlib.image as pli\n",
        "import seaborn as sns\n",
        "import os\n",
        "import tensorflow as tf\n",
        "from PIL import Image\n",
        "import torch\n",
        "from torch import nn\n",
        "from tqdm import tqdm\n",
        "import torch.nn as nn\n",
        "import torch.optim as optim\n",
        "from torch.utils.data import Dataset, DataLoader\n",
        "from torchvision import transforms, models\n",
        "import pandas as pd\n",
        "from sklearn.metrics import classification_report\n",
        "from google.colab import drive\n",
        "from torchvision import transforms\n",
        "from torch.utils.data import ConcatDataset\n",
        "from torchvision.models import mobilenet_v2, MobileNet_V2_Weights\n",
        "import random\n",
        "import torch"
      ]
    },
    {
      "cell_type": "code",
      "source": [
        "drive.mount('/content/drive')"
      ],
      "metadata": {
        "id": "vV_3BcLMwXLD",
        "colab": {
          "base_uri": "https://localhost:8080/"
        },
        "outputId": "31ffdba4-4ace-4a89-8b13-a463bdaa3bb0"
      },
      "execution_count": 4,
      "outputs": [
        {
          "output_type": "stream",
          "name": "stdout",
          "text": [
            "Mounted at /content/drive\n"
          ]
        }
      ]
    },
    {
      "cell_type": "code",
      "source": [
        "base_path = \"/content/drive/My Drive/xrays_tot\"\n",
        "labels_file = os.path.join(base_path, \"Data_Entry_2017.csv\")\n",
        "\n",
        "labels_df = pd.read_csv(labels_file)\n",
        "image_folders = [f\"images_{str(i).zfill(3)}\" for i in range(1, 11)]\n",
        "\n",
        "data_tot = []\n",
        "for _, row in labels_df.iterrows():\n",
        "    image_name = row[\"Image Index\"]\n",
        "    labels = row[\"Finding Labels\"].split('|')\n",
        "\n",
        "    image_path = None\n",
        "    for folder in image_folders:\n",
        "        potential_path = os.path.join(base_path, folder, \"images\", image_name)\n",
        "        if os.path.exists(potential_path):\n",
        "            image_path = potential_path\n",
        "            break\n",
        "\n",
        "    if image_path:\n",
        "        data_tot.append({'image_path': image_path, 'labels': labels})\n",
        "\n",
        "print(data_tot[:5])"
      ],
      "metadata": {
        "id": "DkZBYKPXsq0F",
        "colab": {
          "base_uri": "https://localhost:8080/"
        },
        "outputId": "5ea19239-ab41-4afc-ecff-51d88fa74703"
      },
      "execution_count": 5,
      "outputs": [
        {
          "output_type": "stream",
          "name": "stdout",
          "text": [
            "[{'image_path': '/content/drive/My Drive/xrays_tot/images_001/images/00000001_000.png', 'labels': ['Cardiomegaly']}, {'image_path': '/content/drive/My Drive/xrays_tot/images_001/images/00000001_001.png', 'labels': ['Cardiomegaly', 'Emphysema']}, {'image_path': '/content/drive/My Drive/xrays_tot/images_001/images/00000001_002.png', 'labels': ['Cardiomegaly', 'Effusion']}, {'image_path': '/content/drive/My Drive/xrays_tot/images_001/images/00000002_000.png', 'labels': ['No Finding']}, {'image_path': '/content/drive/My Drive/xrays_tot/images_001/images/00000003_000.png', 'labels': ['Hernia']}]\n"
          ]
        }
      ]
    },
    {
      "cell_type": "code",
      "execution_count": 6,
      "metadata": {
        "id": "Ell-epsFgiTp",
        "colab": {
          "base_uri": "https://localhost:8080/"
        },
        "outputId": "c093cbc8-dbb9-463f-ac6f-6526310fe97d"
      },
      "outputs": [
        {
          "output_type": "stream",
          "name": "stdout",
          "text": [
            "<class 'pandas.core.frame.DataFrame'>\n",
            "RangeIndex: 112120 entries, 0 to 112119\n",
            "Data columns (total 12 columns):\n",
            " #   Column                       Non-Null Count   Dtype  \n",
            "---  ------                       --------------   -----  \n",
            " 0   Image Index                  112120 non-null  object \n",
            " 1   Finding Labels               112120 non-null  object \n",
            " 2   Follow-up #                  112120 non-null  int64  \n",
            " 3   Patient ID                   112120 non-null  int64  \n",
            " 4   Patient Age                  112120 non-null  int64  \n",
            " 5   Patient Gender               112120 non-null  object \n",
            " 6   View Position                112120 non-null  object \n",
            " 7   OriginalImage[Width          112120 non-null  int64  \n",
            " 8   Height]                      112120 non-null  int64  \n",
            " 9   OriginalImagePixelSpacing[x  112120 non-null  float64\n",
            " 10  y]                           112120 non-null  float64\n",
            " 11  Unnamed: 11                  0 non-null       float64\n",
            "dtypes: float64(3), int64(5), object(4)\n",
            "memory usage: 10.3+ MB\n"
          ]
        }
      ],
      "source": [
        "labels_df.info()"
      ]
    },
    {
      "cell_type": "code",
      "execution_count": 7,
      "metadata": {
        "id": "0gGBBM1hggaB",
        "colab": {
          "base_uri": "https://localhost:8080/",
          "height": 243
        },
        "outputId": "4df760d3-62cf-474d-c11b-7f6eac381d16"
      },
      "outputs": [
        {
          "output_type": "execute_result",
          "data": {
            "text/plain": [
              "        Image Index          Finding Labels  Follow-up #  Patient ID  \\\n",
              "0  00000001_000.png            Cardiomegaly            0           1   \n",
              "1  00000001_001.png  Cardiomegaly|Emphysema            1           1   \n",
              "2  00000001_002.png   Cardiomegaly|Effusion            2           1   \n",
              "3  00000002_000.png              No Finding            0           2   \n",
              "4  00000003_000.png                  Hernia            0           3   \n",
              "\n",
              "   Patient Age Patient Gender View Position  OriginalImage[Width  Height]  \\\n",
              "0           58              M            PA                 2682     2749   \n",
              "1           58              M            PA                 2894     2729   \n",
              "2           58              M            PA                 2500     2048   \n",
              "3           81              M            PA                 2500     2048   \n",
              "4           81              F            PA                 2582     2991   \n",
              "\n",
              "   OriginalImagePixelSpacing[x     y]  Unnamed: 11  \n",
              "0                        0.143  0.143          NaN  \n",
              "1                        0.143  0.143          NaN  \n",
              "2                        0.168  0.168          NaN  \n",
              "3                        0.171  0.171          NaN  \n",
              "4                        0.143  0.143          NaN  "
            ],
            "text/html": [
              "\n",
              "  <div id=\"df-597e9061-9aaf-43fd-803a-4d744095060a\" class=\"colab-df-container\">\n",
              "    <div>\n",
              "<style scoped>\n",
              "    .dataframe tbody tr th:only-of-type {\n",
              "        vertical-align: middle;\n",
              "    }\n",
              "\n",
              "    .dataframe tbody tr th {\n",
              "        vertical-align: top;\n",
              "    }\n",
              "\n",
              "    .dataframe thead th {\n",
              "        text-align: right;\n",
              "    }\n",
              "</style>\n",
              "<table border=\"1\" class=\"dataframe\">\n",
              "  <thead>\n",
              "    <tr style=\"text-align: right;\">\n",
              "      <th></th>\n",
              "      <th>Image Index</th>\n",
              "      <th>Finding Labels</th>\n",
              "      <th>Follow-up #</th>\n",
              "      <th>Patient ID</th>\n",
              "      <th>Patient Age</th>\n",
              "      <th>Patient Gender</th>\n",
              "      <th>View Position</th>\n",
              "      <th>OriginalImage[Width</th>\n",
              "      <th>Height]</th>\n",
              "      <th>OriginalImagePixelSpacing[x</th>\n",
              "      <th>y]</th>\n",
              "      <th>Unnamed: 11</th>\n",
              "    </tr>\n",
              "  </thead>\n",
              "  <tbody>\n",
              "    <tr>\n",
              "      <th>0</th>\n",
              "      <td>00000001_000.png</td>\n",
              "      <td>Cardiomegaly</td>\n",
              "      <td>0</td>\n",
              "      <td>1</td>\n",
              "      <td>58</td>\n",
              "      <td>M</td>\n",
              "      <td>PA</td>\n",
              "      <td>2682</td>\n",
              "      <td>2749</td>\n",
              "      <td>0.143</td>\n",
              "      <td>0.143</td>\n",
              "      <td>NaN</td>\n",
              "    </tr>\n",
              "    <tr>\n",
              "      <th>1</th>\n",
              "      <td>00000001_001.png</td>\n",
              "      <td>Cardiomegaly|Emphysema</td>\n",
              "      <td>1</td>\n",
              "      <td>1</td>\n",
              "      <td>58</td>\n",
              "      <td>M</td>\n",
              "      <td>PA</td>\n",
              "      <td>2894</td>\n",
              "      <td>2729</td>\n",
              "      <td>0.143</td>\n",
              "      <td>0.143</td>\n",
              "      <td>NaN</td>\n",
              "    </tr>\n",
              "    <tr>\n",
              "      <th>2</th>\n",
              "      <td>00000001_002.png</td>\n",
              "      <td>Cardiomegaly|Effusion</td>\n",
              "      <td>2</td>\n",
              "      <td>1</td>\n",
              "      <td>58</td>\n",
              "      <td>M</td>\n",
              "      <td>PA</td>\n",
              "      <td>2500</td>\n",
              "      <td>2048</td>\n",
              "      <td>0.168</td>\n",
              "      <td>0.168</td>\n",
              "      <td>NaN</td>\n",
              "    </tr>\n",
              "    <tr>\n",
              "      <th>3</th>\n",
              "      <td>00000002_000.png</td>\n",
              "      <td>No Finding</td>\n",
              "      <td>0</td>\n",
              "      <td>2</td>\n",
              "      <td>81</td>\n",
              "      <td>M</td>\n",
              "      <td>PA</td>\n",
              "      <td>2500</td>\n",
              "      <td>2048</td>\n",
              "      <td>0.171</td>\n",
              "      <td>0.171</td>\n",
              "      <td>NaN</td>\n",
              "    </tr>\n",
              "    <tr>\n",
              "      <th>4</th>\n",
              "      <td>00000003_000.png</td>\n",
              "      <td>Hernia</td>\n",
              "      <td>0</td>\n",
              "      <td>3</td>\n",
              "      <td>81</td>\n",
              "      <td>F</td>\n",
              "      <td>PA</td>\n",
              "      <td>2582</td>\n",
              "      <td>2991</td>\n",
              "      <td>0.143</td>\n",
              "      <td>0.143</td>\n",
              "      <td>NaN</td>\n",
              "    </tr>\n",
              "  </tbody>\n",
              "</table>\n",
              "</div>\n",
              "    <div class=\"colab-df-buttons\">\n",
              "\n",
              "  <div class=\"colab-df-container\">\n",
              "    <button class=\"colab-df-convert\" onclick=\"convertToInteractive('df-597e9061-9aaf-43fd-803a-4d744095060a')\"\n",
              "            title=\"Convert this dataframe to an interactive table.\"\n",
              "            style=\"display:none;\">\n",
              "\n",
              "  <svg xmlns=\"http://www.w3.org/2000/svg\" height=\"24px\" viewBox=\"0 -960 960 960\">\n",
              "    <path d=\"M120-120v-720h720v720H120Zm60-500h600v-160H180v160Zm220 220h160v-160H400v160Zm0 220h160v-160H400v160ZM180-400h160v-160H180v160Zm440 0h160v-160H620v160ZM180-180h160v-160H180v160Zm440 0h160v-160H620v160Z\"/>\n",
              "  </svg>\n",
              "    </button>\n",
              "\n",
              "  <style>\n",
              "    .colab-df-container {\n",
              "      display:flex;\n",
              "      gap: 12px;\n",
              "    }\n",
              "\n",
              "    .colab-df-convert {\n",
              "      background-color: #E8F0FE;\n",
              "      border: none;\n",
              "      border-radius: 50%;\n",
              "      cursor: pointer;\n",
              "      display: none;\n",
              "      fill: #1967D2;\n",
              "      height: 32px;\n",
              "      padding: 0 0 0 0;\n",
              "      width: 32px;\n",
              "    }\n",
              "\n",
              "    .colab-df-convert:hover {\n",
              "      background-color: #E2EBFA;\n",
              "      box-shadow: 0px 1px 2px rgba(60, 64, 67, 0.3), 0px 1px 3px 1px rgba(60, 64, 67, 0.15);\n",
              "      fill: #174EA6;\n",
              "    }\n",
              "\n",
              "    .colab-df-buttons div {\n",
              "      margin-bottom: 4px;\n",
              "    }\n",
              "\n",
              "    [theme=dark] .colab-df-convert {\n",
              "      background-color: #3B4455;\n",
              "      fill: #D2E3FC;\n",
              "    }\n",
              "\n",
              "    [theme=dark] .colab-df-convert:hover {\n",
              "      background-color: #434B5C;\n",
              "      box-shadow: 0px 1px 3px 1px rgba(0, 0, 0, 0.15);\n",
              "      filter: drop-shadow(0px 1px 2px rgba(0, 0, 0, 0.3));\n",
              "      fill: #FFFFFF;\n",
              "    }\n",
              "  </style>\n",
              "\n",
              "    <script>\n",
              "      const buttonEl =\n",
              "        document.querySelector('#df-597e9061-9aaf-43fd-803a-4d744095060a button.colab-df-convert');\n",
              "      buttonEl.style.display =\n",
              "        google.colab.kernel.accessAllowed ? 'block' : 'none';\n",
              "\n",
              "      async function convertToInteractive(key) {\n",
              "        const element = document.querySelector('#df-597e9061-9aaf-43fd-803a-4d744095060a');\n",
              "        const dataTable =\n",
              "          await google.colab.kernel.invokeFunction('convertToInteractive',\n",
              "                                                    [key], {});\n",
              "        if (!dataTable) return;\n",
              "\n",
              "        const docLinkHtml = 'Like what you see? Visit the ' +\n",
              "          '<a target=\"_blank\" href=https://colab.research.google.com/notebooks/data_table.ipynb>data table notebook</a>'\n",
              "          + ' to learn more about interactive tables.';\n",
              "        element.innerHTML = '';\n",
              "        dataTable['output_type'] = 'display_data';\n",
              "        await google.colab.output.renderOutput(dataTable, element);\n",
              "        const docLink = document.createElement('div');\n",
              "        docLink.innerHTML = docLinkHtml;\n",
              "        element.appendChild(docLink);\n",
              "      }\n",
              "    </script>\n",
              "  </div>\n",
              "\n",
              "\n",
              "<div id=\"df-e56c4c14-aad9-4297-a7b7-765c3347d5a0\">\n",
              "  <button class=\"colab-df-quickchart\" onclick=\"quickchart('df-e56c4c14-aad9-4297-a7b7-765c3347d5a0')\"\n",
              "            title=\"Suggest charts\"\n",
              "            style=\"display:none;\">\n",
              "\n",
              "<svg xmlns=\"http://www.w3.org/2000/svg\" height=\"24px\"viewBox=\"0 0 24 24\"\n",
              "     width=\"24px\">\n",
              "    <g>\n",
              "        <path d=\"M19 3H5c-1.1 0-2 .9-2 2v14c0 1.1.9 2 2 2h14c1.1 0 2-.9 2-2V5c0-1.1-.9-2-2-2zM9 17H7v-7h2v7zm4 0h-2V7h2v10zm4 0h-2v-4h2v4z\"/>\n",
              "    </g>\n",
              "</svg>\n",
              "  </button>\n",
              "\n",
              "<style>\n",
              "  .colab-df-quickchart {\n",
              "      --bg-color: #E8F0FE;\n",
              "      --fill-color: #1967D2;\n",
              "      --hover-bg-color: #E2EBFA;\n",
              "      --hover-fill-color: #174EA6;\n",
              "      --disabled-fill-color: #AAA;\n",
              "      --disabled-bg-color: #DDD;\n",
              "  }\n",
              "\n",
              "  [theme=dark] .colab-df-quickchart {\n",
              "      --bg-color: #3B4455;\n",
              "      --fill-color: #D2E3FC;\n",
              "      --hover-bg-color: #434B5C;\n",
              "      --hover-fill-color: #FFFFFF;\n",
              "      --disabled-bg-color: #3B4455;\n",
              "      --disabled-fill-color: #666;\n",
              "  }\n",
              "\n",
              "  .colab-df-quickchart {\n",
              "    background-color: var(--bg-color);\n",
              "    border: none;\n",
              "    border-radius: 50%;\n",
              "    cursor: pointer;\n",
              "    display: none;\n",
              "    fill: var(--fill-color);\n",
              "    height: 32px;\n",
              "    padding: 0;\n",
              "    width: 32px;\n",
              "  }\n",
              "\n",
              "  .colab-df-quickchart:hover {\n",
              "    background-color: var(--hover-bg-color);\n",
              "    box-shadow: 0 1px 2px rgba(60, 64, 67, 0.3), 0 1px 3px 1px rgba(60, 64, 67, 0.15);\n",
              "    fill: var(--button-hover-fill-color);\n",
              "  }\n",
              "\n",
              "  .colab-df-quickchart-complete:disabled,\n",
              "  .colab-df-quickchart-complete:disabled:hover {\n",
              "    background-color: var(--disabled-bg-color);\n",
              "    fill: var(--disabled-fill-color);\n",
              "    box-shadow: none;\n",
              "  }\n",
              "\n",
              "  .colab-df-spinner {\n",
              "    border: 2px solid var(--fill-color);\n",
              "    border-color: transparent;\n",
              "    border-bottom-color: var(--fill-color);\n",
              "    animation:\n",
              "      spin 1s steps(1) infinite;\n",
              "  }\n",
              "\n",
              "  @keyframes spin {\n",
              "    0% {\n",
              "      border-color: transparent;\n",
              "      border-bottom-color: var(--fill-color);\n",
              "      border-left-color: var(--fill-color);\n",
              "    }\n",
              "    20% {\n",
              "      border-color: transparent;\n",
              "      border-left-color: var(--fill-color);\n",
              "      border-top-color: var(--fill-color);\n",
              "    }\n",
              "    30% {\n",
              "      border-color: transparent;\n",
              "      border-left-color: var(--fill-color);\n",
              "      border-top-color: var(--fill-color);\n",
              "      border-right-color: var(--fill-color);\n",
              "    }\n",
              "    40% {\n",
              "      border-color: transparent;\n",
              "      border-right-color: var(--fill-color);\n",
              "      border-top-color: var(--fill-color);\n",
              "    }\n",
              "    60% {\n",
              "      border-color: transparent;\n",
              "      border-right-color: var(--fill-color);\n",
              "    }\n",
              "    80% {\n",
              "      border-color: transparent;\n",
              "      border-right-color: var(--fill-color);\n",
              "      border-bottom-color: var(--fill-color);\n",
              "    }\n",
              "    90% {\n",
              "      border-color: transparent;\n",
              "      border-bottom-color: var(--fill-color);\n",
              "    }\n",
              "  }\n",
              "</style>\n",
              "\n",
              "  <script>\n",
              "    async function quickchart(key) {\n",
              "      const quickchartButtonEl =\n",
              "        document.querySelector('#' + key + ' button');\n",
              "      quickchartButtonEl.disabled = true;  // To prevent multiple clicks.\n",
              "      quickchartButtonEl.classList.add('colab-df-spinner');\n",
              "      try {\n",
              "        const charts = await google.colab.kernel.invokeFunction(\n",
              "            'suggestCharts', [key], {});\n",
              "      } catch (error) {\n",
              "        console.error('Error during call to suggestCharts:', error);\n",
              "      }\n",
              "      quickchartButtonEl.classList.remove('colab-df-spinner');\n",
              "      quickchartButtonEl.classList.add('colab-df-quickchart-complete');\n",
              "    }\n",
              "    (() => {\n",
              "      let quickchartButtonEl =\n",
              "        document.querySelector('#df-e56c4c14-aad9-4297-a7b7-765c3347d5a0 button');\n",
              "      quickchartButtonEl.style.display =\n",
              "        google.colab.kernel.accessAllowed ? 'block' : 'none';\n",
              "    })();\n",
              "  </script>\n",
              "</div>\n",
              "\n",
              "    </div>\n",
              "  </div>\n"
            ],
            "application/vnd.google.colaboratory.intrinsic+json": {
              "type": "dataframe",
              "variable_name": "labels_df"
            }
          },
          "metadata": {},
          "execution_count": 7
        }
      ],
      "source": [
        "labels_df.head()"
      ]
    },
    {
      "cell_type": "code",
      "execution_count": 8,
      "metadata": {
        "id": "lt_luG2egkrt",
        "colab": {
          "base_uri": "https://localhost:8080/"
        },
        "outputId": "07f7820a-386a-47fe-f1a3-e7d70bc344c3"
      },
      "outputs": [
        {
          "output_type": "execute_result",
          "data": {
            "text/plain": [
              "(112120, 12)"
            ]
          },
          "metadata": {},
          "execution_count": 8
        }
      ],
      "source": [
        "labels_df.shape"
      ]
    },
    {
      "cell_type": "code",
      "execution_count": 9,
      "metadata": {
        "id": "dTnF4zPdgt-1",
        "colab": {
          "base_uri": "https://localhost:8080/",
          "height": 489
        },
        "outputId": "e4709fdd-2968-42c4-94e2-bca0c449f022"
      },
      "outputs": [
        {
          "output_type": "execute_result",
          "data": {
            "text/plain": [
              "Finding Labels\n",
              "No Finding                                                         60361\n",
              "Infiltration                                                        9547\n",
              "Atelectasis                                                         4215\n",
              "Effusion                                                            3955\n",
              "Nodule                                                              2705\n",
              "                                                                   ...  \n",
              "Atelectasis|Consolidation|Edema|Effusion|Infiltration|Pneumonia        1\n",
              "Atelectasis|Consolidation|Effusion|Emphysema|Mass|Pneumothorax         1\n",
              "Cardiomegaly|Effusion|Pleural_Thickening|Pneumothorax                  1\n",
              "Edema|Infiltration|Pneumothorax                                        1\n",
              "Atelectasis|Consolidation|Mass|Pleural_Thickening|Pneumothorax         1\n",
              "Name: count, Length: 836, dtype: int64"
            ],
            "text/html": [
              "<div>\n",
              "<style scoped>\n",
              "    .dataframe tbody tr th:only-of-type {\n",
              "        vertical-align: middle;\n",
              "    }\n",
              "\n",
              "    .dataframe tbody tr th {\n",
              "        vertical-align: top;\n",
              "    }\n",
              "\n",
              "    .dataframe thead th {\n",
              "        text-align: right;\n",
              "    }\n",
              "</style>\n",
              "<table border=\"1\" class=\"dataframe\">\n",
              "  <thead>\n",
              "    <tr style=\"text-align: right;\">\n",
              "      <th></th>\n",
              "      <th>count</th>\n",
              "    </tr>\n",
              "    <tr>\n",
              "      <th>Finding Labels</th>\n",
              "      <th></th>\n",
              "    </tr>\n",
              "  </thead>\n",
              "  <tbody>\n",
              "    <tr>\n",
              "      <th>No Finding</th>\n",
              "      <td>60361</td>\n",
              "    </tr>\n",
              "    <tr>\n",
              "      <th>Infiltration</th>\n",
              "      <td>9547</td>\n",
              "    </tr>\n",
              "    <tr>\n",
              "      <th>Atelectasis</th>\n",
              "      <td>4215</td>\n",
              "    </tr>\n",
              "    <tr>\n",
              "      <th>Effusion</th>\n",
              "      <td>3955</td>\n",
              "    </tr>\n",
              "    <tr>\n",
              "      <th>Nodule</th>\n",
              "      <td>2705</td>\n",
              "    </tr>\n",
              "    <tr>\n",
              "      <th>...</th>\n",
              "      <td>...</td>\n",
              "    </tr>\n",
              "    <tr>\n",
              "      <th>Atelectasis|Consolidation|Edema|Effusion|Infiltration|Pneumonia</th>\n",
              "      <td>1</td>\n",
              "    </tr>\n",
              "    <tr>\n",
              "      <th>Atelectasis|Consolidation|Effusion|Emphysema|Mass|Pneumothorax</th>\n",
              "      <td>1</td>\n",
              "    </tr>\n",
              "    <tr>\n",
              "      <th>Cardiomegaly|Effusion|Pleural_Thickening|Pneumothorax</th>\n",
              "      <td>1</td>\n",
              "    </tr>\n",
              "    <tr>\n",
              "      <th>Edema|Infiltration|Pneumothorax</th>\n",
              "      <td>1</td>\n",
              "    </tr>\n",
              "    <tr>\n",
              "      <th>Atelectasis|Consolidation|Mass|Pleural_Thickening|Pneumothorax</th>\n",
              "      <td>1</td>\n",
              "    </tr>\n",
              "  </tbody>\n",
              "</table>\n",
              "<p>836 rows × 1 columns</p>\n",
              "</div><br><label><b>dtype:</b> int64</label>"
            ]
          },
          "metadata": {},
          "execution_count": 9
        }
      ],
      "source": [
        "labels_df['Finding Labels'].value_counts()"
      ]
    },
    {
      "cell_type": "code",
      "source": [
        "num_class_1 = sum([\"Infiltration\" in r[\"labels\"] for r in data_tot])\n",
        "num_class_0 = sum([\"Infiltration\" not in r[\"labels\"] for r in data_tot])\n",
        "\n",
        "print(f\"Class 1 (Infiltration): {num_class_1}\")\n",
        "print(f\"Class 0 (Not Infiltration): {num_class_0}\")"
      ],
      "metadata": {
        "id": "TNsdqb46tAfF",
        "colab": {
          "base_uri": "https://localhost:8080/"
        },
        "outputId": "310d7295-d2de-4601-a202-aed7eec589e4"
      },
      "execution_count": 10,
      "outputs": [
        {
          "output_type": "stream",
          "name": "stdout",
          "text": [
            "Class 1 (Infiltration): 15845\n",
            "Class 0 (Not Infiltration): 75599\n"
          ]
        }
      ]
    },
    {
      "cell_type": "code",
      "source": [
        "class_1_data = [r for r in data_tot if \"Infiltration\" in r[\"labels\"]]\n",
        "class_0_data = [r for r in data_tot if \"Infiltration\" not in r[\"labels\"]]\n",
        "\n",
        "random.seed(42)\n",
        "class_1_sampled = random.sample(class_1_data, 3500)\n",
        "class_0_sampled = random.sample(class_0_data, 4500)\n",
        "\n",
        "balanced_data = class_0_sampled + class_1_sampled\n",
        "\n",
        "new_num_class_1 = sum([\"Infiltration\" in r[\"labels\"] for r in balanced_data])\n",
        "new_num_class_0 = sum([\"Infiltration\" not in r[\"labels\"] for r in balanced_data])\n",
        "\n",
        "print(f\"New Class 1 (Infiltration): {new_num_class_1}\")\n",
        "print(f\"New Class 0 (Not Infiltration): {new_num_class_0}\")"
      ],
      "metadata": {
        "id": "hOjCvitIw7pd",
        "colab": {
          "base_uri": "https://localhost:8080/"
        },
        "outputId": "75780f55-8a95-4a31-d140-b794f0fc65a0"
      },
      "execution_count": 43,
      "outputs": [
        {
          "output_type": "stream",
          "name": "stdout",
          "text": [
            "New Class 1 (Infiltration): 3500\n",
            "New Class 0 (Not Infiltration): 4500\n"
          ]
        }
      ]
    },
    {
      "cell_type": "code",
      "source": [
        "torch.manual_seed(42)\n",
        "random.seed(42)\n",
        "np.random.seed(42)\n",
        "if torch.cuda.is_available():\n",
        "    torch.cuda.manual_seed(42)\n",
        "    torch.cuda.manual_seed_all(42)  # For multi-GPU\n",
        "    torch.backends.cudnn.deterministic = True\n",
        "    torch.backends.cudnn.benchmark = False"
      ],
      "metadata": {
        "id": "jAjEU-farESL"
      },
      "execution_count": 44,
      "outputs": []
    },
    {
      "cell_type": "code",
      "source": [
        "tf.random.set_seed(42)\n",
        "np.random.seed(42)\n",
        "random.seed(42)"
      ],
      "metadata": {
        "id": "KD0IK5ndrFrZ"
      },
      "execution_count": 45,
      "outputs": []
    },
    {
      "cell_type": "markdown",
      "source": [
        "# TensorFlow Keras / MobileNetV2"
      ],
      "metadata": {
        "id": "obXi_Ijtovpy"
      }
    },
    {
      "cell_type": "code",
      "execution_count": 46,
      "metadata": {
        "id": "NhOAknxt0uxM"
      },
      "outputs": [],
      "source": [
        "def preprocess_item(image_path, label):\n",
        "    image = tf.io.read_file(image_path)\n",
        "    image = tf.image.decode_png(image, channels=3)\n",
        "    image = tf.image.resize(image, [224, 224]) / 255.0\n",
        "    return image, label\n",
        "\n",
        "paths = [item['image_path'] for item in balanced_data]\n",
        "labels = [1 if \"Infiltration\" in item[\"labels\"] else 0 for item in balanced_data]\n",
        "\n",
        "dataset = tf.data.Dataset.from_tensor_slices((paths, labels))\n",
        "# Maps the preprocess_item function over the dataset with parallel processing to improve speed\n",
        "# (num_parallel_calls=tf.data.AUTOTUNE)\n",
        "dataset = dataset.map(lambda x, y: preprocess_item(x, y), num_parallel_calls=tf.data.AUTOTUNE)\n",
        "\n",
        "dataset_nobatch = dataset"
      ]
    },
    {
      "cell_type": "code",
      "source": [
        "# Shuffle to improve your workout\n",
        "dataset = dataset.shuffle(buffer_size=3000)\n",
        "\n",
        "# Batch creation. Prefetch to load next batch in parallel\n",
        "dataset = dataset.batch(64).prefetch(tf.data.AUTOTUNE)"
      ],
      "metadata": {
        "id": "Ef3lW3BxsfjE"
      },
      "execution_count": 47,
      "outputs": []
    },
    {
      "cell_type": "code",
      "execution_count": 48,
      "metadata": {
        "id": "qUmewFwJ1CW6",
        "colab": {
          "base_uri": "https://localhost:8080/"
        },
        "outputId": "fbcb75dc-04da-4feb-ef6b-11e1cf0067cb"
      },
      "outputs": [
        {
          "output_type": "stream",
          "name": "stdout",
          "text": [
            "Batch shape: (64, 224, 224, 3), Labels shape: (64,)\n"
          ]
        }
      ],
      "source": [
        "for images, labels in dataset.take(1):\n",
        "    print(f\"Batch shape: {images.shape}, Labels shape: {labels.shape}\")"
      ]
    },
    {
      "cell_type": "code",
      "execution_count": 49,
      "metadata": {
        "id": "bszIW7AZ2Fbr",
        "colab": {
          "base_uri": "https://localhost:8080/"
        },
        "outputId": "57eb32a6-b8b1-45bd-e74c-35fc48cb5b46"
      },
      "outputs": [
        {
          "output_type": "stream",
          "name": "stdout",
          "text": [
            "Total_number_of: 8000\n"
          ]
        }
      ],
      "source": [
        "total_images = 0\n",
        "for images, labels in dataset:\n",
        "   total_images += images.shape[0]\n",
        "\n",
        "print(f\"Total_number_of: {total_images}\")"
      ]
    },
    {
      "cell_type": "markdown",
      "source": [
        "**Model Description**  \n",
        "A binary classification model is defined using MobileNetV2 as the base, pretrained on ImageNet. The base model is used as a feature extractor with its weights frozen (trainable=False).\n",
        "\n",
        "Key components include:  \n",
        "- GlobalAveragePooling2D.   \n",
        "- A fully connected layer with 64 units and ReLU activation.\n",
        "- An output layer with 1 unit and sigmoid activation for binary classification.  \n",
        "- Optimizer: Adam, configured with a learning rate of 0.001.\n",
        "- Loss function: Binary crossentropy, suitable for binary classification tasks.\n",
        "- Metric: Accuracy, to evaluate the model’s performance."
      ],
      "metadata": {
        "id": "yFiZbA1BXgGJ"
      }
    },
    {
      "cell_type": "code",
      "execution_count": 50,
      "metadata": {
        "id": "NwFzd11s-PR6"
      },
      "outputs": [],
      "source": [
        "base_model = tf.keras.applications.MobileNetV2(input_shape=(224, 224, 3), include_top=False, weights='imagenet')\n",
        "# the pre-trained model uses weights derived from training on ImageNet\n",
        "base_model.trainable = False\n",
        "\n",
        "model_tf = tf.keras.Sequential([base_model,\n",
        "    tf.keras.layers.GlobalAveragePooling2D(),\n",
        "    tf.keras.layers.Dense(64, activation='relu'),\n",
        "    tf.keras.layers.Dense(1, activation='sigmoid')])\n",
        "\n",
        "optimizer = tf.keras.optimizers.Adam(learning_rate=0.001)"
      ]
    },
    {
      "cell_type": "code",
      "execution_count": 51,
      "metadata": {
        "id": "_1cJyEG1-yO2"
      },
      "outputs": [],
      "source": [
        "model_tf.compile(optimizer=optimizer,loss='binary_crossentropy',metrics=['accuracy'])"
      ]
    },
    {
      "cell_type": "code",
      "execution_count": 52,
      "metadata": {
        "id": "otmksIiIx1sG"
      },
      "outputs": [],
      "source": [
        "dataset = dataset.shuffle(buffer_size=len(balanced_data))\n",
        "dataset_size = len(dataset)\n",
        "\n",
        "test_size = int(dataset_size * 0.2)\n",
        "train_size = dataset_size - test_size\n",
        "\n",
        "test_set = dataset.take(test_size)  # Top 20% for the test\n",
        "train_set = dataset.skip(test_size)  # Remaining 80% for training"
      ]
    },
    {
      "cell_type": "code",
      "execution_count": 53,
      "metadata": {
        "colab": {
          "base_uri": "https://localhost:8080/"
        },
        "id": "GQtLdrL58WFv",
        "outputId": "0e1ef866-edfc-4279-8bd3-daac2b04631a"
      },
      "outputs": [
        {
          "output_type": "stream",
          "name": "stdout",
          "text": [
            "Dataset (batch): 125\n",
            "Test set (batch): 25\n",
            "Training set (batch): 100\n"
          ]
        }
      ],
      "source": [
        "print(f\"Dataset (batch): {dataset_size}\")\n",
        "print(f\"Test set (batch): {test_size}\")\n",
        "print(f\"Training set (batch): {train_size}\")"
      ]
    },
    {
      "cell_type": "code",
      "execution_count": 54,
      "metadata": {
        "id": "ok8_Fxvb-7x3",
        "colab": {
          "base_uri": "https://localhost:8080/"
        },
        "outputId": "f295a7c6-acf3-4882-e6d7-9d4d89c592d2"
      },
      "outputs": [
        {
          "output_type": "stream",
          "name": "stdout",
          "text": [
            "Epoch 1/3\n",
            "\u001b[1m100/100\u001b[0m \u001b[32m━━━━━━━━━━━━━━━━━━━━\u001b[0m\u001b[37m\u001b[0m \u001b[1m40s\u001b[0m 54ms/step - accuracy: 0.5335 - loss: 0.7655\n",
            "Epoch 2/3\n",
            "\u001b[1m100/100\u001b[0m \u001b[32m━━━━━━━━━━━━━━━━━━━━\u001b[0m\u001b[37m\u001b[0m \u001b[1m34s\u001b[0m 54ms/step - accuracy: 0.5909 - loss: 0.6904\n",
            "Epoch 3/3\n",
            "\u001b[1m100/100\u001b[0m \u001b[32m━━━━━━━━━━━━━━━━━━━━\u001b[0m\u001b[37m\u001b[0m \u001b[1m34s\u001b[0m 54ms/step - accuracy: 0.6766 - loss: 0.6021\n"
          ]
        }
      ],
      "source": [
        "history = model_tf.fit(train_set, epochs=3)"
      ]
    },
    {
      "cell_type": "code",
      "execution_count": 55,
      "metadata": {
        "id": "QBN_pYAN_Fq0",
        "colab": {
          "base_uri": "https://localhost:8080/"
        },
        "outputId": "078263a0-f236-4173-dfb6-550e25168993"
      },
      "outputs": [
        {
          "output_type": "stream",
          "name": "stdout",
          "text": [
            "\u001b[1m25/25\u001b[0m \u001b[32m━━━━━━━━━━━━━━━━━━━━\u001b[0m\u001b[37m\u001b[0m \u001b[1m33s\u001b[0m 57ms/step - accuracy: 0.6163 - loss: 0.6468\n",
            "Test Loss: 0.657154381275177, Test Accuracy: 0.6087499856948853\n"
          ]
        }
      ],
      "source": [
        "test_loss, test_accuracy = model_tf.evaluate(test_set)\n",
        "print(f\"Test Loss: {test_loss}, Test Accuracy: {test_accuracy}\")"
      ]
    },
    {
      "cell_type": "code",
      "execution_count": 56,
      "metadata": {
        "id": "KPv6X-_LCAYm",
        "colab": {
          "base_uri": "https://localhost:8080/"
        },
        "outputId": "141a7b47-3b12-4dc1-8e7b-29be4d9d00cc"
      },
      "outputs": [
        {
          "output_type": "stream",
          "name": "stdout",
          "text": [
            "\u001b[1m2/2\u001b[0m \u001b[32m━━━━━━━━━━━━━━━━━━━━\u001b[0m\u001b[37m\u001b[0m \u001b[1m2s\u001b[0m 25ms/step\n",
            "\u001b[1m2/2\u001b[0m \u001b[32m━━━━━━━━━━━━━━━━━━━━\u001b[0m\u001b[37m\u001b[0m \u001b[1m0s\u001b[0m 32ms/step\n",
            "\u001b[1m2/2\u001b[0m \u001b[32m━━━━━━━━━━━━━━━━━━━━\u001b[0m\u001b[37m\u001b[0m \u001b[1m0s\u001b[0m 31ms/step\n",
            "\u001b[1m2/2\u001b[0m \u001b[32m━━━━━━━━━━━━━━━━━━━━\u001b[0m\u001b[37m\u001b[0m \u001b[1m0s\u001b[0m 32ms/step\n",
            "\u001b[1m2/2\u001b[0m \u001b[32m━━━━━━━━━━━━━━━━━━━━\u001b[0m\u001b[37m\u001b[0m \u001b[1m0s\u001b[0m 26ms/step\n",
            "\u001b[1m2/2\u001b[0m \u001b[32m━━━━━━━━━━━━━━━━━━━━\u001b[0m\u001b[37m\u001b[0m \u001b[1m0s\u001b[0m 26ms/step\n",
            "\u001b[1m2/2\u001b[0m \u001b[32m━━━━━━━━━━━━━━━━━━━━\u001b[0m\u001b[37m\u001b[0m \u001b[1m0s\u001b[0m 24ms/step\n",
            "\u001b[1m2/2\u001b[0m \u001b[32m━━━━━━━━━━━━━━━━━━━━\u001b[0m\u001b[37m\u001b[0m \u001b[1m0s\u001b[0m 24ms/step\n",
            "\u001b[1m2/2\u001b[0m \u001b[32m━━━━━━━━━━━━━━━━━━━━\u001b[0m\u001b[37m\u001b[0m \u001b[1m0s\u001b[0m 24ms/step\n",
            "\u001b[1m2/2\u001b[0m \u001b[32m━━━━━━━━━━━━━━━━━━━━\u001b[0m\u001b[37m\u001b[0m \u001b[1m0s\u001b[0m 24ms/step\n",
            "\u001b[1m2/2\u001b[0m \u001b[32m━━━━━━━━━━━━━━━━━━━━\u001b[0m\u001b[37m\u001b[0m \u001b[1m0s\u001b[0m 24ms/step\n",
            "\u001b[1m2/2\u001b[0m \u001b[32m━━━━━━━━━━━━━━━━━━━━\u001b[0m\u001b[37m\u001b[0m \u001b[1m0s\u001b[0m 24ms/step\n",
            "\u001b[1m2/2\u001b[0m \u001b[32m━━━━━━━━━━━━━━━━━━━━\u001b[0m\u001b[37m\u001b[0m \u001b[1m0s\u001b[0m 24ms/step\n",
            "\u001b[1m2/2\u001b[0m \u001b[32m━━━━━━━━━━━━━━━━━━━━\u001b[0m\u001b[37m\u001b[0m \u001b[1m0s\u001b[0m 23ms/step\n",
            "\u001b[1m2/2\u001b[0m \u001b[32m━━━━━━━━━━━━━━━━━━━━\u001b[0m\u001b[37m\u001b[0m \u001b[1m0s\u001b[0m 23ms/step\n",
            "\u001b[1m2/2\u001b[0m \u001b[32m━━━━━━━━━━━━━━━━━━━━\u001b[0m\u001b[37m\u001b[0m \u001b[1m0s\u001b[0m 22ms/step\n",
            "\u001b[1m2/2\u001b[0m \u001b[32m━━━━━━━━━━━━━━━━━━━━\u001b[0m\u001b[37m\u001b[0m \u001b[1m0s\u001b[0m 22ms/step\n",
            "\u001b[1m2/2\u001b[0m \u001b[32m━━━━━━━━━━━━━━━━━━━━\u001b[0m\u001b[37m\u001b[0m \u001b[1m0s\u001b[0m 22ms/step\n",
            "\u001b[1m2/2\u001b[0m \u001b[32m━━━━━━━━━━━━━━━━━━━━\u001b[0m\u001b[37m\u001b[0m \u001b[1m0s\u001b[0m 22ms/step\n",
            "\u001b[1m2/2\u001b[0m \u001b[32m━━━━━━━━━━━━━━━━━━━━\u001b[0m\u001b[37m\u001b[0m \u001b[1m0s\u001b[0m 22ms/step\n",
            "\u001b[1m2/2\u001b[0m \u001b[32m━━━━━━━━━━━━━━━━━━━━\u001b[0m\u001b[37m\u001b[0m \u001b[1m0s\u001b[0m 22ms/step\n",
            "\u001b[1m2/2\u001b[0m \u001b[32m━━━━━━━━━━━━━━━━━━━━\u001b[0m\u001b[37m\u001b[0m \u001b[1m0s\u001b[0m 22ms/step\n",
            "\u001b[1m2/2\u001b[0m \u001b[32m━━━━━━━━━━━━━━━━━━━━\u001b[0m\u001b[37m\u001b[0m \u001b[1m0s\u001b[0m 22ms/step\n",
            "\u001b[1m2/2\u001b[0m \u001b[32m━━━━━━━━━━━━━━━━━━━━\u001b[0m\u001b[37m\u001b[0m \u001b[1m0s\u001b[0m 22ms/step\n",
            "\u001b[1m2/2\u001b[0m \u001b[32m━━━━━━━━━━━━━━━━━━━━\u001b[0m\u001b[37m\u001b[0m \u001b[1m0s\u001b[0m 22ms/step \n",
            "              precision    recall  f1-score   support\n",
            "\n",
            "           0       0.76      0.59      0.66      1004\n",
            "           1       0.50      0.69      0.58       596\n",
            "\n",
            "    accuracy                           0.63      1600\n",
            "   macro avg       0.63      0.64      0.62      1600\n",
            "weighted avg       0.66      0.63      0.63      1600\n",
            "\n"
          ]
        }
      ],
      "source": [
        "y_true = []\n",
        "y_pred = []\n",
        "for images, labels in test_set:\n",
        "    preds = model_tf.predict(images)\n",
        "    y_true.extend(labels.numpy())\n",
        "    y_pred.extend((preds > 0.5).astype(int).flatten())\n",
        "\n",
        "print(classification_report(y_true, y_pred))"
      ]
    },
    {
      "cell_type": "markdown",
      "source": [
        "This is due to the imbalance of the dataset the model almost always predicts 0, largely failing to detect most of the positive cases.  \n",
        "**Precision for Class 1**:  \n",
        "0.39 indicates that when the model predicts \"Infiltration\", it is correct 39% of the time.  \n",
        "**Recall for Class 1**:  \n",
        "0.14 indicates that the model only identifies 14% of actual \"Infiltration\" cases."
      ],
      "metadata": {
        "id": "1HdhOB2rl7OK"
      }
    },
    {
      "cell_type": "markdown",
      "source": [
        "# Pytorch / MobileNetV2\n",
        "\n"
      ],
      "metadata": {
        "id": "dRjn9PgjNzAh"
      }
    },
    {
      "cell_type": "code",
      "source": [
        "class ChestXRayDataset(Dataset):\n",
        "    def __init__(self, data, transform=None):\n",
        "        self.data = data\n",
        "        self.transform = transform\n",
        "\n",
        "    def __len__(self):\n",
        "        return len(self.data)\n",
        "\n",
        "    def __getitem__(self, idx):\n",
        "        image_path = self.data[idx]['image_path']\n",
        "        label = 1 if \"Infiltration\" in self.data[idx]['labels'] else 0\n",
        "        image = Image.open(image_path).convert(\"RGB\")\n",
        "\n",
        "        if self.transform:\n",
        "            image = self.transform(image)\n",
        "\n",
        "        return image, label"
      ],
      "metadata": {
        "id": "JCkz6uhxN7la"
      },
      "execution_count": 57,
      "outputs": []
    },
    {
      "cell_type": "code",
      "source": [
        "# Transformations\n",
        "transform = transforms.Compose([\n",
        "    transforms.Resize((224, 224)),\n",
        "    transforms.ToTensor()])\n",
        "\n",
        "dataset_pytorch = ChestXRayDataset(balanced_data, transform=transform)\n",
        "train_size = int(0.8 * len(dataset_pytorch))\n",
        "test_size = len(dataset_pytorch) - train_size\n",
        "\n",
        "train_dataset, test_dataset = torch.utils.data.random_split(dataset_pytorch, [train_size, test_size])\n",
        "train_loader = DataLoader(train_dataset, batch_size=64, shuffle=True)\n",
        "test_loader = DataLoader(test_dataset, batch_size=64, shuffle=False)"
      ],
      "metadata": {
        "id": "ag4Npg9OZYvu"
      },
      "execution_count": 58,
      "outputs": []
    },
    {
      "cell_type": "markdown",
      "source": [
        "**Model Description**  \n",
        "A binary classification model is defined using MobileNetV2 as the base, pretrained on ImageNet. The base model is used as a feature extractor with its weights retained from the pretraining.\n",
        "\n",
        "Key components include:\n",
        "  \n",
        "- A linear classifier, replacing the original output layer, with a single output logit for binary classification.\n",
        "- Loss function: BCEWithLogitsLoss, which combines sigmoid activation and binary crossentropy for stable handling of logits.\n",
        "- Optimizer: Adam, configured with a learning rate of 0.001."
      ],
      "metadata": {
        "id": "4c_TIogewSQi"
      }
    },
    {
      "cell_type": "code",
      "source": [
        "# Pre-trained model\n",
        "model = models.mobilenet_v2(pretrained=True)\n",
        "model.classifier[1] = nn.Linear(model.last_channel, 1)  # Binary output\n",
        "device = torch.device(\"cuda\" if torch.cuda.is_available() else \"cpu\")\n",
        "model = model.to(device)\n",
        "\n",
        "# Loss and optimizer\n",
        "criterion = nn.BCEWithLogitsLoss()\n",
        "optimizer = optim.Adam(model.parameters(), lr=0.001)"
      ],
      "metadata": {
        "colab": {
          "base_uri": "https://localhost:8080/"
        },
        "id": "mTmkGr1aZcSC",
        "outputId": "fa75bc8b-29be-4084-847d-a56295c30b79"
      },
      "execution_count": 59,
      "outputs": [
        {
          "output_type": "stream",
          "name": "stderr",
          "text": [
            "/usr/local/lib/python3.10/dist-packages/torchvision/models/_utils.py:208: UserWarning: The parameter 'pretrained' is deprecated since 0.13 and may be removed in the future, please use 'weights' instead.\n",
            "  warnings.warn(\n",
            "/usr/local/lib/python3.10/dist-packages/torchvision/models/_utils.py:223: UserWarning: Arguments other than a weight enum or `None` for 'weights' are deprecated since 0.13 and may be removed in the future. The current behavior is equivalent to passing `weights=MobileNet_V2_Weights.IMAGENET1K_V1`. You can also use `weights=MobileNet_V2_Weights.DEFAULT` to get the most up-to-date weights.\n",
            "  warnings.warn(msg)\n"
          ]
        }
      ]
    },
    {
      "cell_type": "code",
      "source": [
        "# Training\n",
        "num_epochs = 3\n",
        "\n",
        "for epoch in range(num_epochs):\n",
        "    model.train()\n",
        "    running_loss = 0.0\n",
        "    for images, labels in train_loader:\n",
        "        images, labels = images.to(device), labels.to(device).float()\n",
        "        optimizer.zero_grad()\n",
        "        outputs = model(images).squeeze()\n",
        "        loss = criterion(outputs, labels)\n",
        "        loss.backward()\n",
        "        optimizer.step()\n",
        "        running_loss += loss.item()\n",
        "\n",
        "    print(f\"Epoch {epoch+1}/{num_epochs}, Loss: {running_loss/len(train_loader):.4f}\")"
      ],
      "metadata": {
        "id": "zhsouOD4bH4d",
        "colab": {
          "base_uri": "https://localhost:8080/"
        },
        "outputId": "ac697365-e767-4be9-f26d-8253e0d178bd"
      },
      "execution_count": 60,
      "outputs": [
        {
          "output_type": "stream",
          "name": "stdout",
          "text": [
            "Epoch 1/3, Loss: 0.6723\n",
            "Epoch 2/3, Loss: 0.6339\n",
            "Epoch 3/3, Loss: 0.6195\n"
          ]
        }
      ]
    },
    {
      "cell_type": "code",
      "source": [
        "# Validation\n",
        "model.eval()\n",
        "y_true, y_pred = [], []\n",
        "with torch.no_grad():\n",
        "    for images, labels in test_loader:\n",
        "        images, labels = images.to(device), labels.to(device)\n",
        "        outputs = model(images).squeeze()\n",
        "        preds = (torch.sigmoid(outputs) > 0.5).int()\n",
        "        y_true.extend(labels.cpu().numpy())\n",
        "        y_pred.extend(preds.cpu().numpy())\n",
        "\n",
        "print(\"Test Classification Report:\")\n",
        "print(classification_report(y_true, y_pred))"
      ],
      "metadata": {
        "id": "Q_xsLrd-b8H5",
        "colab": {
          "base_uri": "https://localhost:8080/"
        },
        "outputId": "99a226b3-83c8-4d36-d29f-31d3e8159872"
      },
      "execution_count": 61,
      "outputs": [
        {
          "output_type": "stream",
          "name": "stdout",
          "text": [
            "Test Classification Report:\n",
            "              precision    recall  f1-score   support\n",
            "\n",
            "           0       0.70      0.54      0.61       905\n",
            "           1       0.54      0.70      0.61       695\n",
            "\n",
            "    accuracy                           0.61      1600\n",
            "   macro avg       0.62      0.62      0.61      1600\n",
            "weighted avg       0.63      0.61      0.61      1600\n",
            "\n"
          ]
        }
      ]
    },
    {
      "cell_type": "markdown",
      "source": [
        "The results highlight the significant impact of dataset imbalance on the model's performance.\n",
        "\n",
        "- **Precision for Class 1**:  \n",
        "  With a precision of 0.33, the model is correct 33% of times when it predicts class 1.\n",
        "\n",
        "- **Recall for Class 1**:  \n",
        "  A recall of 0.01 indicates that the model correctly identifies only 1% of actual positive cases.\n",
        "\n",
        "The overall accuracy (83%) and the high performance on **class 0** are driven by the dataset imbalance, as the majority of the samples belong to this class."
      ],
      "metadata": {
        "id": "IZrLnI-C2-nQ"
      }
    },
    {
      "cell_type": "markdown",
      "source": [
        "# Data Augmentation and Balancing for Class 1  \n",
        "This section implements data augmentation techniques to balance the dataset and improve the model's ability to detect positive cases (Class 1 - \"Infiltration\"). Augmentation is applied selectively to Class 1 images, and the augmented data is combined with the original dataset for training."
      ],
      "metadata": {
        "id": "KvYl-6cQaNy5"
      }
    },
    {
      "cell_type": "markdown",
      "metadata": {
        "id": "gE92LJTye8on"
      },
      "source": [
        "## TensorFlow Keras / MobileNetV2 (with Data Augmentation)"
      ]
    },
    {
      "cell_type": "code",
      "source": [
        "class_1_sampled_to_augment = random.sample(class_1_sampled, 1000)\n",
        "print(len(class_1_sampled_to_augment))"
      ],
      "metadata": {
        "colab": {
          "base_uri": "https://localhost:8080/"
        },
        "id": "-me3D_MdObB_",
        "outputId": "ca556bfb-326c-4976-a803-8f8cd6447c2a"
      },
      "execution_count": 62,
      "outputs": [
        {
          "output_type": "stream",
          "name": "stdout",
          "text": [
            "1000\n"
          ]
        }
      ]
    },
    {
      "cell_type": "code",
      "source": [
        "def augment_image(image):\n",
        "    # Augmentation operations\n",
        "    image = tf.image.random_flip_left_right(image)  # Horizontal Flip\n",
        "    image = tf.image.random_flip_up_down(image)    # Vertical Flip\n",
        "    image = tf.image.rot90(image, k=np.random.randint(1, 4))  # Random rotation\n",
        "    return image\n",
        "\n",
        "# Preprocessing and augmentation function\n",
        "def preprocess_and_augment(image_path, label):\n",
        "    image = tf.io.read_file(image_path)\n",
        "    image = tf.image.decode_png(image, channels=3)\n",
        "    image = tf.image.resize(image, [224, 224]) / 255.0\n",
        "    image = augment_image(image)\n",
        "    return image, label\n",
        "\n",
        "class_1_paths_to_augment = [item['image_path'] for item in class_1_sampled_to_augment]\n",
        "class_1_labels_to_augment = [1] * len(class_1_paths_to_augment)\n",
        "class_1_sampled_to_augment = tf.data.Dataset.from_tensor_slices((class_1_paths_to_augment, class_1_labels_to_augment))\n",
        "\n",
        "class_1_sampled_augmented = class_1_sampled_to_augment.map(preprocess_and_augment, num_parallel_calls=tf.data.AUTOTUNE)"
      ],
      "metadata": {
        "id": "3S6XTEEHOx15"
      },
      "execution_count": 63,
      "outputs": []
    },
    {
      "cell_type": "code",
      "source": [
        "augmented_count = sum(1 for _ in class_1_sampled_augmented)\n",
        "print(f\"Number of augmented samples: {augmented_count}\")"
      ],
      "metadata": {
        "id": "8jI8a0vN9ybR",
        "colab": {
          "base_uri": "https://localhost:8080/"
        },
        "outputId": "70f788e2-6243-4ea7-9801-1c6506bd63a7"
      },
      "execution_count": 64,
      "outputs": [
        {
          "output_type": "stream",
          "name": "stdout",
          "text": [
            "Number of augmented samples: 1000\n"
          ]
        }
      ]
    },
    {
      "cell_type": "code",
      "source": [
        "final_dataset = dataset_nobatch.concatenate(class_1_sampled_augmented)\n",
        "print(len(final_dataset))"
      ],
      "metadata": {
        "id": "nwaNec1UVc5Q",
        "colab": {
          "base_uri": "https://localhost:8080/"
        },
        "outputId": "5c166743-d571-4b22-e2ac-892c4f87bf23"
      },
      "execution_count": 65,
      "outputs": [
        {
          "output_type": "stream",
          "name": "stdout",
          "text": [
            "9000\n"
          ]
        }
      ]
    },
    {
      "cell_type": "code",
      "source": [
        "# Apply shuffle and batching to the combined dataset\n",
        "final_dataset = final_dataset.shuffle(buffer_size=len(final_dataset))\n",
        "final_dataset = final_dataset.batch(64).prefetch(tf.data.AUTOTUNE)"
      ],
      "metadata": {
        "id": "1hUEnEe8X93s"
      },
      "execution_count": 66,
      "outputs": []
    },
    {
      "cell_type": "code",
      "execution_count": 67,
      "metadata": {
        "id": "7h5SFQQdyesh"
      },
      "outputs": [],
      "source": [
        "dataset_size = len(final_dataset)\n",
        "test_size = int(dataset_size * 0.2)\n",
        "train_size = dataset_size - test_size\n",
        "\n",
        "test_set = final_dataset.take(test_size)  # Top 20% for the test\n",
        "train_set = final_dataset.skip(test_size)  # Remaining 80% for training"
      ]
    },
    {
      "cell_type": "code",
      "execution_count": 68,
      "metadata": {
        "id": "8dymz0-ix2Px",
        "colab": {
          "base_uri": "https://localhost:8080/"
        },
        "outputId": "661e748c-fd57-4cde-fdea-7fa29aadb21d"
      },
      "outputs": [
        {
          "output_type": "stream",
          "name": "stdout",
          "text": [
            "Dataset totale: 141\n",
            "Test set: 28\n",
            "Training set: 113\n"
          ]
        }
      ],
      "source": [
        "print(f\"Dataset totale: {dataset_size}\")\n",
        "print(f\"Test set: {test_size}\")\n",
        "print(f\"Training set: {train_size}\")"
      ]
    },
    {
      "cell_type": "code",
      "source": [
        "optimizer = tf.keras.optimizers.Adam(learning_rate=0.001)\n",
        "model_tf.compile(optimizer=optimizer, loss='binary_crossentropy', metrics=['accuracy'])"
      ],
      "metadata": {
        "id": "70I2YunzrtIB"
      },
      "execution_count": 69,
      "outputs": []
    },
    {
      "cell_type": "code",
      "execution_count": 70,
      "metadata": {
        "id": "WQ0zEdcPzP3T",
        "colab": {
          "base_uri": "https://localhost:8080/"
        },
        "outputId": "669122db-839d-4ee2-edbb-21184277283b"
      },
      "outputs": [
        {
          "output_type": "stream",
          "name": "stdout",
          "text": [
            "Epoch 1/3\n",
            "\u001b[1m113/113\u001b[0m \u001b[32m━━━━━━━━━━━━━━━━━━━━\u001b[0m\u001b[37m\u001b[0m \u001b[1m49s\u001b[0m 101ms/step - accuracy: 0.6752 - loss: 0.5979\n",
            "Epoch 2/3\n",
            "\u001b[1m113/113\u001b[0m \u001b[32m━━━━━━━━━━━━━━━━━━━━\u001b[0m\u001b[37m\u001b[0m \u001b[1m39s\u001b[0m 56ms/step - accuracy: 0.6757 - loss: 0.5704\n",
            "Epoch 3/3\n",
            "\u001b[1m113/113\u001b[0m \u001b[32m━━━━━━━━━━━━━━━━━━━━\u001b[0m\u001b[37m\u001b[0m \u001b[1m38s\u001b[0m 56ms/step - accuracy: 0.6841 - loss: 0.5634\n"
          ]
        }
      ],
      "source": [
        "history = model_tf.fit(train_set, epochs=3)"
      ]
    },
    {
      "cell_type": "code",
      "execution_count": 71,
      "metadata": {
        "id": "r0STPpIBzRLa",
        "colab": {
          "base_uri": "https://localhost:8080/"
        },
        "outputId": "79db3e83-d167-42ab-b73e-e9b635c87394"
      },
      "outputs": [
        {
          "output_type": "stream",
          "name": "stdout",
          "text": [
            "\u001b[1m28/28\u001b[0m \u001b[32m━━━━━━━━━━━━━━━━━━━━\u001b[0m\u001b[37m\u001b[0m \u001b[1m37s\u001b[0m 58ms/step - accuracy: 0.7027 - loss: 0.5382\n",
            "Test Loss: 0.5406719446182251, Test Accuracy: 0.7047991156578064\n"
          ]
        }
      ],
      "source": [
        "test_loss, test_accuracy = model_tf.evaluate(test_set)\n",
        "print(f\"Test Loss: {test_loss}, Test Accuracy: {test_accuracy}\")"
      ]
    },
    {
      "cell_type": "code",
      "source": [
        "y_true = []\n",
        "y_pred = []\n",
        "\n",
        "for images, labels in test_set:\n",
        "    preds = model_tf.predict(images)\n",
        "    y_true.extend(labels.numpy())\n",
        "    y_pred.extend(preds.flatten())\n",
        "\n",
        "y_true = np.array(y_true)\n",
        "y_pred = np.array(y_pred)\n",
        "\n",
        "thresholds = [0.4, 0.5]\n",
        "for threshold in thresholds:\n",
        "    y_pred_class = (y_pred > threshold).astype(int)\n",
        "    print(f\"Classification report for threshold = {threshold}\")\n",
        "    print(classification_report(y_true, y_pred_class))\n"
      ],
      "metadata": {
        "colab": {
          "base_uri": "https://localhost:8080/"
        },
        "id": "v5CELpEyC7we",
        "outputId": "90c72560-58c2-4e7c-9d7b-020d76d32b4e"
      },
      "execution_count": 72,
      "outputs": [
        {
          "output_type": "stream",
          "name": "stdout",
          "text": [
            "\u001b[1m2/2\u001b[0m \u001b[32m━━━━━━━━━━━━━━━━━━━━\u001b[0m\u001b[37m\u001b[0m \u001b[1m2s\u001b[0m 25ms/step\n",
            "\u001b[1m2/2\u001b[0m \u001b[32m━━━━━━━━━━━━━━━━━━━━\u001b[0m\u001b[37m\u001b[0m \u001b[1m0s\u001b[0m 31ms/step\n",
            "\u001b[1m2/2\u001b[0m \u001b[32m━━━━━━━━━━━━━━━━━━━━\u001b[0m\u001b[37m\u001b[0m \u001b[1m0s\u001b[0m 30ms/step\n",
            "\u001b[1m2/2\u001b[0m \u001b[32m━━━━━━━━━━━━━━━━━━━━\u001b[0m\u001b[37m\u001b[0m \u001b[1m0s\u001b[0m 30ms/step\n",
            "\u001b[1m2/2\u001b[0m \u001b[32m━━━━━━━━━━━━━━━━━━━━\u001b[0m\u001b[37m\u001b[0m \u001b[1m0s\u001b[0m 25ms/step\n",
            "\u001b[1m2/2\u001b[0m \u001b[32m━━━━━━━━━━━━━━━━━━━━\u001b[0m\u001b[37m\u001b[0m \u001b[1m0s\u001b[0m 25ms/step\n",
            "\u001b[1m2/2\u001b[0m \u001b[32m━━━━━━━━━━━━━━━━━━━━\u001b[0m\u001b[37m\u001b[0m \u001b[1m0s\u001b[0m 24ms/step\n",
            "\u001b[1m2/2\u001b[0m \u001b[32m━━━━━━━━━━━━━━━━━━━━\u001b[0m\u001b[37m\u001b[0m \u001b[1m0s\u001b[0m 24ms/step\n",
            "\u001b[1m2/2\u001b[0m \u001b[32m━━━━━━━━━━━━━━━━━━━━\u001b[0m\u001b[37m\u001b[0m \u001b[1m0s\u001b[0m 25ms/step\n",
            "\u001b[1m2/2\u001b[0m \u001b[32m━━━━━━━━━━━━━━━━━━━━\u001b[0m\u001b[37m\u001b[0m \u001b[1m0s\u001b[0m 24ms/step\n",
            "\u001b[1m2/2\u001b[0m \u001b[32m━━━━━━━━━━━━━━━━━━━━\u001b[0m\u001b[37m\u001b[0m \u001b[1m0s\u001b[0m 24ms/step\n",
            "\u001b[1m2/2\u001b[0m \u001b[32m━━━━━━━━━━━━━━━━━━━━\u001b[0m\u001b[37m\u001b[0m \u001b[1m0s\u001b[0m 23ms/step\n",
            "\u001b[1m2/2\u001b[0m \u001b[32m━━━━━━━━━━━━━━━━━━━━\u001b[0m\u001b[37m\u001b[0m \u001b[1m0s\u001b[0m 23ms/step\n",
            "\u001b[1m2/2\u001b[0m \u001b[32m━━━━━━━━━━━━━━━━━━━━\u001b[0m\u001b[37m\u001b[0m \u001b[1m0s\u001b[0m 22ms/step\n",
            "\u001b[1m2/2\u001b[0m \u001b[32m━━━━━━━━━━━━━━━━━━━━\u001b[0m\u001b[37m\u001b[0m \u001b[1m0s\u001b[0m 23ms/step\n",
            "\u001b[1m2/2\u001b[0m \u001b[32m━━━━━━━━━━━━━━━━━━━━\u001b[0m\u001b[37m\u001b[0m \u001b[1m0s\u001b[0m 23ms/step\n",
            "\u001b[1m2/2\u001b[0m \u001b[32m━━━━━━━━━━━━━━━━━━━━\u001b[0m\u001b[37m\u001b[0m \u001b[1m0s\u001b[0m 22ms/step\n",
            "\u001b[1m2/2\u001b[0m \u001b[32m━━━━━━━━━━━━━━━━━━━━\u001b[0m\u001b[37m\u001b[0m \u001b[1m0s\u001b[0m 24ms/step\n",
            "\u001b[1m2/2\u001b[0m \u001b[32m━━━━━━━━━━━━━━━━━━━━\u001b[0m\u001b[37m\u001b[0m \u001b[1m0s\u001b[0m 22ms/step\n",
            "\u001b[1m2/2\u001b[0m \u001b[32m━━━━━━━━━━━━━━━━━━━━\u001b[0m\u001b[37m\u001b[0m \u001b[1m0s\u001b[0m 22ms/step\n",
            "\u001b[1m2/2\u001b[0m \u001b[32m━━━━━━━━━━━━━━━━━━━━\u001b[0m\u001b[37m\u001b[0m \u001b[1m0s\u001b[0m 22ms/step\n",
            "\u001b[1m2/2\u001b[0m \u001b[32m━━━━━━━━━━━━━━━━━━━━\u001b[0m\u001b[37m\u001b[0m \u001b[1m0s\u001b[0m 22ms/step\n",
            "\u001b[1m2/2\u001b[0m \u001b[32m━━━━━━━━━━━━━━━━━━━━\u001b[0m\u001b[37m\u001b[0m \u001b[1m0s\u001b[0m 23ms/step\n",
            "\u001b[1m2/2\u001b[0m \u001b[32m━━━━━━━━━━━━━━━━━━━━\u001b[0m\u001b[37m\u001b[0m \u001b[1m0s\u001b[0m 21ms/step\n",
            "\u001b[1m2/2\u001b[0m \u001b[32m━━━━━━━━━━━━━━━━━━━━\u001b[0m\u001b[37m\u001b[0m \u001b[1m0s\u001b[0m 22ms/step\n",
            "\u001b[1m2/2\u001b[0m \u001b[32m━━━━━━━━━━━━━━━━━━━━\u001b[0m\u001b[37m\u001b[0m \u001b[1m0s\u001b[0m 22ms/step\n",
            "\u001b[1m2/2\u001b[0m \u001b[32m━━━━━━━━━━━━━━━━━━━━\u001b[0m\u001b[37m\u001b[0m \u001b[1m0s\u001b[0m 22ms/step\n",
            "\u001b[1m2/2\u001b[0m \u001b[32m━━━━━━━━━━━━━━━━━━━━\u001b[0m\u001b[37m\u001b[0m \u001b[1m0s\u001b[0m 22ms/step\n",
            "Classification report for threshold = 0.4\n",
            "              precision    recall  f1-score   support\n",
            "\n",
            "           0       0.77      0.47      0.58       919\n",
            "           1       0.60      0.85      0.71       873\n",
            "\n",
            "    accuracy                           0.66      1792\n",
            "   macro avg       0.69      0.66      0.65      1792\n",
            "weighted avg       0.69      0.66      0.64      1792\n",
            "\n",
            "Classification report for threshold = 0.5\n",
            "              precision    recall  f1-score   support\n",
            "\n",
            "           0       0.72      0.69      0.70       919\n",
            "           1       0.69      0.71      0.70       873\n",
            "\n",
            "    accuracy                           0.70      1792\n",
            "   macro avg       0.70      0.70      0.70      1792\n",
            "weighted avg       0.70      0.70      0.70      1792\n",
            "\n"
          ]
        }
      ]
    },
    {
      "cell_type": "markdown",
      "source": [
        "The results demonstrate the impact of varying thresholds on the model's performance and its handling of class imbalance. At a low threshold of 0.3, the model achieves high recall for Class 1 (74%) but at the cost of low precision (20%), resulting in many false positives. Increasing the threshold to 0.4 improves overall balance, with Class 1 recall dropping to 57% but precision rising to 23%. At the standard threshold of 0.5, precision for Class 1 improves further (27%), but recall decreases to 44%. These results highlight the trade-off between precision and recall for Class 1 and underscore the need for careful threshold selection and strategies to address dataset imbalance."
      ],
      "metadata": {
        "id": "9hR9SZJ_JeZK"
      }
    },
    {
      "cell_type": "markdown",
      "source": [
        "## Pytorch / MobileNetV2 (with Data Augmentation)\n"
      ],
      "metadata": {
        "id": "LqEAIcv8Rm87"
      }
    },
    {
      "cell_type": "code",
      "source": [
        "# Transformations with Data Augmentation\n",
        "augmentation_transforms = transforms.Compose([\n",
        "    transforms.RandomHorizontalFlip(p=0.5),  # Horizontal Flip\n",
        "    transforms.RandomVerticalFlip(p=0.5),    # Vertical Flip\n",
        "    transforms.RandomRotation(degrees=90),   # Random rotation within 45°\n",
        "    transforms.Resize((224, 224)),\n",
        "    transforms.ToTensor()])\n",
        "\n",
        "# Basic transformations (without augmentation)\n",
        "base_transforms = transforms.Compose([\n",
        "    transforms.Resize((224, 224)),\n",
        "    transforms.ToTensor()])\n",
        "\n",
        "# Original dataset with basic transformations\n",
        "base_dataset = ChestXRayDataset(balanced_data, transform=base_transforms)"
      ],
      "metadata": {
        "id": "4pudLRZjZqGo"
      },
      "execution_count": 80,
      "outputs": []
    },
    {
      "cell_type": "code",
      "source": [
        "# Dataset augmented for class 1 only\n",
        "class_1_sampled_to_augment = random.sample(class_1_sampled, 1000)\n",
        "class_1_data_augmented = ChestXRayDataset(class_1_sampled_to_augment, transform=augmentation_transforms)\n",
        "print(len(class_1_data_augmented))\n",
        "\n",
        "# Combine the original and augmented dataset\n",
        "combined_dataset = ConcatDataset([base_dataset, class_1_data_augmented])\n",
        "print(len(combined_dataset))"
      ],
      "metadata": {
        "colab": {
          "base_uri": "https://localhost:8080/"
        },
        "id": "QEjbTgaGO8X9",
        "outputId": "bcfbbcd8-eb27-4356-ad26-519b5dccb359"
      },
      "execution_count": 81,
      "outputs": [
        {
          "output_type": "stream",
          "name": "stdout",
          "text": [
            "1000\n",
            "9000\n"
          ]
        }
      ]
    },
    {
      "cell_type": "code",
      "source": [
        "# DataLoader\n",
        "train_size = int(0.8 * len(combined_dataset))\n",
        "test_size = len(combined_dataset) - train_size\n",
        "\n",
        "train_dataset, test_dataset = torch.utils.data.random_split(combined_dataset, [train_size, test_size])\n",
        "train_loader = DataLoader(train_dataset, batch_size=64, shuffle=True)\n",
        "test_loader = DataLoader(test_dataset, batch_size=64, shuffle=False)"
      ],
      "metadata": {
        "id": "klJLhhZDPJMj"
      },
      "execution_count": 82,
      "outputs": []
    },
    {
      "cell_type": "markdown",
      "source": [
        "______________________________________________________________________________________________________________________________________"
      ],
      "metadata": {
        "id": "b1r7kQPK9nQN"
      }
    },
    {
      "cell_type": "code",
      "source": [
        "# Define a function to calculate test loss\n",
        "def evaluate_model_loss(model, criterion, data_loader, device):\n",
        "    model.eval()\n",
        "    test_loss = 0.0\n",
        "    with torch.no_grad():\n",
        "        for images, labels in data_loader:\n",
        "            images, labels = images.to(device), labels.to(device).float()\n",
        "            outputs = model(images).squeeze()\n",
        "            loss = criterion(outputs, labels)\n",
        "            test_loss += loss.item()\n",
        "    return test_loss / len(data_loader)\n",
        "\n",
        "# Update train_and_evaluate function\n",
        "def train_and_evaluate(model, optimizer, learning_rate, num_epochs, train_loader, test_loader, thresholds=[0.4, 0.5]):\n",
        "    print(f\"\\n--- Training with Learning Rate: {learning_rate} ---\")\n",
        "    training_losses = []\n",
        "    test_losses = []\n",
        "\n",
        "    for epoch in range(num_epochs):\n",
        "        # Training\n",
        "        model.train()\n",
        "        running_loss = 0.0\n",
        "        for images, labels in train_loader:\n",
        "            images, labels = images.to(device), labels.to(device).float()\n",
        "            optimizer.zero_grad()\n",
        "            outputs = model(images).squeeze()\n",
        "            loss = criterion(outputs, labels)\n",
        "            loss.backward()\n",
        "            optimizer.step()\n",
        "            running_loss += loss.item()\n",
        "\n",
        "        # Calculate average training loss\n",
        "        training_loss = running_loss / len(train_loader)\n",
        "        training_losses.append(training_loss)\n",
        "\n",
        "        # Calculate test loss\n",
        "        test_loss = evaluate_model_loss(model, criterion, test_loader, device)\n",
        "        test_losses.append(test_loss)\n",
        "\n",
        "        print(f\"Epoch {epoch+1}/{num_epochs}, Training Loss: {training_loss:.4f}, Test Loss: {test_loss:.4f}\")\n",
        "\n",
        "    # Evaluation\n",
        "    model.eval()\n",
        "    y_true, y_pred = [], []\n",
        "    with torch.no_grad():\n",
        "        for images, labels in test_loader:\n",
        "            images, labels = images.to(device), labels.to(device)\n",
        "            outputs = model(images).squeeze()\n",
        "            probs = torch.sigmoid(outputs)\n",
        "            y_true.extend(labels.cpu().numpy())\n",
        "            y_pred.extend(probs.cpu().numpy())\n",
        "\n",
        "    y_true = np.array(y_true)\n",
        "    y_pred = np.array(y_pred)\n",
        "\n",
        "    # Metrics for each threshold\n",
        "    for threshold in thresholds:\n",
        "        y_pred_class = (y_pred > threshold).astype(int)\n",
        "        print(f\"Classification report for threshold = {threshold}\")\n",
        "        print(classification_report(y_true, y_pred_class))\n",
        "\n",
        "    # Return metrics and losses for analysis\n",
        "    return y_true, y_pred, training_losses, test_losses\n",
        "\n",
        "# Initialize models, optimizers, and train\n",
        "results = {}\n",
        "learning_rates = [0.01, 0.001]\n",
        "\n",
        "for lr in learning_rates:\n",
        "    # Clone the base model\n",
        "    model = mobilenet_v2(weights=MobileNet_V2_Weights.DEFAULT)\n",
        "    model.classifier[1] = nn.Linear(model.last_channel, 1)\n",
        "    model = model.to(device)\n",
        "\n",
        "    # Define optimizer\n",
        "    optimizer = optim.Adam(model.classifier.parameters(), lr=lr)\n",
        "\n",
        "    # Train and evaluate\n",
        "    y_true, y_pred, training_losses, test_losses = train_and_evaluate(model, optimizer, lr, num_epochs=3, train_loader=train_loader, test_loader=test_loader)\n",
        "\n",
        "    # Store results for further analysis\n",
        "    results[lr] = (y_true, y_pred, training_losses, test_losses)\n",
        "\n",
        "    # Plot Training vs Test Loss for this learning rate\n",
        "    plt.figure()\n",
        "    plt.plot(range(1, len(training_losses) + 1), training_losses, label=\"Training Loss\")\n",
        "    plt.plot(range(1, len(test_losses) + 1), test_losses, label=\"Test Loss\")\n",
        "    plt.xlabel(\"Epochs\")\n",
        "    plt.ylabel(\"Loss\")\n",
        "    plt.title(f\"Training vs Test Loss for Learning Rate {lr}\")\n",
        "    plt.legend()\n",
        "    plt.show()"
      ],
      "metadata": {
        "colab": {
          "base_uri": "https://localhost:8080/",
          "height": 1000
        },
        "id": "G_0nsfuzduL7",
        "outputId": "01fbd702-53c5-47cd-ef56-aea224558d24"
      },
      "execution_count": 83,
      "outputs": [
        {
          "output_type": "stream",
          "name": "stdout",
          "text": [
            "\n",
            "--- Training with Learning Rate: 0.01 ---\n",
            "Epoch 1/3, Training Loss: 0.6636, Test Loss: 0.6454\n",
            "Epoch 2/3, Training Loss: 0.6235, Test Loss: 0.6202\n",
            "Epoch 3/3, Training Loss: 0.6047, Test Loss: 0.6335\n",
            "Classification report for threshold = 0.4\n",
            "              precision    recall  f1-score   support\n",
            "\n",
            "           0       0.64      0.64      0.64       910\n",
            "           1       0.63      0.64      0.64       890\n",
            "\n",
            "    accuracy                           0.64      1800\n",
            "   macro avg       0.64      0.64      0.64      1800\n",
            "weighted avg       0.64      0.64      0.64      1800\n",
            "\n",
            "Classification report for threshold = 0.5\n",
            "              precision    recall  f1-score   support\n",
            "\n",
            "           0       0.63      0.80      0.70       910\n",
            "           1       0.71      0.51      0.60       890\n",
            "\n",
            "    accuracy                           0.66      1800\n",
            "   macro avg       0.67      0.66      0.65      1800\n",
            "weighted avg       0.67      0.66      0.65      1800\n",
            "\n"
          ]
        },
        {
          "output_type": "display_data",
          "data": {
            "text/plain": [
              "<Figure size 640x480 with 1 Axes>"
            ],
            "image/png": "[encoded data removed]"
          },
          "metadata": {}
        },
        {
          "output_type": "stream",
          "name": "stdout",
          "text": [
            "\n",
            "--- Training with Learning Rate: 0.001 ---\n",
            "Epoch 1/3, Training Loss: 0.6420, Test Loss: 0.6389\n",
            "Epoch 2/3, Training Loss: 0.6137, Test Loss: 0.6183\n",
            "Epoch 3/3, Training Loss: 0.6068, Test Loss: 0.6154\n",
            "Classification report for threshold = 0.4\n",
            "              precision    recall  f1-score   support\n",
            "\n",
            "           0       0.69      0.40      0.51       910\n",
            "           1       0.57      0.82      0.67       890\n",
            "\n",
            "    accuracy                           0.61      1800\n",
            "   macro avg       0.63      0.61      0.59      1800\n",
            "weighted avg       0.63      0.61      0.59      1800\n",
            "\n",
            "Classification report for threshold = 0.5\n",
            "              precision    recall  f1-score   support\n",
            "\n",
            "           0       0.66      0.66      0.66       910\n",
            "           1       0.65      0.65      0.65       890\n",
            "\n",
            "    accuracy                           0.66      1800\n",
            "   macro avg       0.66      0.66      0.66      1800\n",
            "weighted avg       0.66      0.66      0.66      1800\n",
            "\n"
          ]
        },
        {
          "output_type": "display_data",
          "data": {
            "text/plain": [
              "<Figure size 640x480 with 1 Axes>"
            ],
            "image/png": "[encoded data removed]"
          },
          "metadata": {}
        }
      ]
    },
    {
      "cell_type": "code",
      "source": [
        "y_true, y_pred = results[0.01][:2]\n",
        "print(y_true, y_pred)"
      ],
      "metadata": {
        "colab": {
          "base_uri": "https://localhost:8080/"
        },
        "id": "nAcvD6FXqp0f",
        "outputId": "333389c2-57c7-4d6c-d713-f8998b0c5341"
      },
      "execution_count": 84,
      "outputs": [
        {
          "output_type": "stream",
          "name": "stdout",
          "text": [
            "[0 1 1 ... 0 0 0] [0.5336489  0.3371043  0.30929422 ... 0.2958738  0.2623158  0.25114608]\n"
          ]
        }
      ]
    },
    {
      "cell_type": "code",
      "source": [
        "from sklearn.metrics import roc_curve, auc, confusion_matrix, ConfusionMatrixDisplay\n",
        "import matplotlib.pyplot as plt\n",
        "\n",
        "# ROC Curve\n",
        "fpr, tpr, thresholds_roc = roc_curve(y_true, y_pred)\n",
        "roc_auc = auc(fpr, tpr)\n",
        "\n",
        "plt.figure()\n",
        "plt.plot(fpr, tpr, color='darkorange', lw=2, label=f'ROC curve (AUC = {roc_auc:.2f})')\n",
        "plt.plot([0, 1], [0, 1], color='navy', lw=2, linestyle='--')\n",
        "plt.xlabel('False Positive Rate')\n",
        "plt.ylabel('True Positive Rate')\n",
        "plt.title('Receiver Operating Characteristic (Learning Rate = 0.01)')\n",
        "plt.legend(loc='lower right')\n",
        "plt.show()"
      ],
      "metadata": {
        "colab": {
          "base_uri": "https://localhost:8080/",
          "height": 472
        },
        "id": "mgWu3YdCqpwy",
        "outputId": "9d450f3a-8561-4f64-9162-1a0a94137540"
      },
      "execution_count": 85,
      "outputs": [
        {
          "output_type": "display_data",
          "data": {
            "text/plain": [
              "<Figure size 640x480 with 1 Axes>"
            ],
            "image/png": "[encoded data removed]"
          },
          "metadata": {}
        }
      ]
    },
    {
      "cell_type": "code",
      "source": [
        "for i, (thr, fp, tp) in enumerate(zip(thresholds_roc, fpr, tpr)):\n",
        "    if i % 25 == 0:  # Print key thresholds\n",
        "        print(f\"Threshold: {thr:.2f}, FPR: {fp:.2f}, TPR: {tp:.2f}\")\n",
        "\n",
        "# Confusion Matrix for threshold = 0.4\n",
        "threshold = 0.4\n",
        "y_pred_class = (y_pred > threshold).astype(int)\n",
        "cm = confusion_matrix(y_true, y_pred_class)\n",
        "\n",
        "disp = ConfusionMatrixDisplay(confusion_matrix=cm, display_labels=['Class 0', 'Class 1'])\n",
        "disp.plot(cmap='Blues', values_format='d')\n",
        "plt.title('Confusion Matrix (Learning Rate = 0.01, Threshold = 0.4)')\n",
        "plt.show()"
      ],
      "metadata": {
        "colab": {
          "base_uri": "https://localhost:8080/",
          "height": 1000
        },
        "id": "rjTGNC49q7tB",
        "outputId": "798238b4-17bf-4f38-eb6c-5ae8c4b19898"
      },
      "execution_count": 86,
      "outputs": [
        {
          "output_type": "stream",
          "name": "stdout",
          "text": [
            "Threshold: inf, FPR: 0.00, TPR: 0.00\n",
            "Threshold: 0.80, FPR: 0.02, TPR: 0.18\n",
            "Threshold: 0.76, FPR: 0.04, TPR: 0.22\n",
            "Threshold: 0.70, FPR: 0.06, TPR: 0.28\n",
            "Threshold: 0.66, FPR: 0.08, TPR: 0.32\n",
            "Threshold: 0.62, FPR: 0.10, TPR: 0.37\n",
            "Threshold: 0.60, FPR: 0.12, TPR: 0.40\n",
            "Threshold: 0.56, FPR: 0.15, TPR: 0.43\n",
            "Threshold: 0.53, FPR: 0.18, TPR: 0.47\n",
            "Threshold: 0.50, FPR: 0.20, TPR: 0.51\n",
            "Threshold: 0.48, FPR: 0.23, TPR: 0.53\n",
            "Threshold: 0.46, FPR: 0.26, TPR: 0.56\n",
            "Threshold: 0.44, FPR: 0.28, TPR: 0.60\n",
            "Threshold: 0.41, FPR: 0.33, TPR: 0.63\n",
            "Threshold: 0.40, FPR: 0.37, TPR: 0.64\n",
            "Threshold: 0.38, FPR: 0.39, TPR: 0.66\n",
            "Threshold: 0.36, FPR: 0.42, TPR: 0.70\n",
            "Threshold: 0.34, FPR: 0.46, TPR: 0.73\n",
            "Threshold: 0.32, FPR: 0.50, TPR: 0.76\n",
            "Threshold: 0.30, FPR: 0.54, TPR: 0.78\n",
            "Threshold: 0.29, FPR: 0.57, TPR: 0.80\n",
            "Threshold: 0.27, FPR: 0.60, TPR: 0.82\n",
            "Threshold: 0.26, FPR: 0.63, TPR: 0.85\n",
            "Threshold: 0.24, FPR: 0.67, TPR: 0.87\n",
            "Threshold: 0.23, FPR: 0.71, TPR: 0.89\n",
            "Threshold: 0.20, FPR: 0.78, TPR: 0.92\n",
            "Threshold: 0.18, FPR: 0.83, TPR: 0.94\n",
            "Threshold: 0.16, FPR: 0.87, TPR: 0.96\n",
            "Threshold: 0.13, FPR: 0.92, TPR: 0.98\n",
            "Threshold: 0.07, FPR: 0.99, TPR: 1.00\n"
          ]
        },
        {
          "output_type": "display_data",
          "data": {
            "text/plain": [
              "<Figure size 640x480 with 2 Axes>"
            ],
            "image/png": "[encoded data removed]"
          },
          "metadata": {}
        }
      ]
    },
    {
      "cell_type": "markdown",
      "source": [
        "The model demonstrates a good balance in recognizing **Class 0**, with a low false positive rate and high accuracy (87.3%). However, its performance on **Class 1** is disappointing, as it correctly identifies only about 50% of positive cases while misclassifying the other half as false negatives. Although it might seem like the model is \"guessing\" on **Class 1**, it is not entirely equivalent to flipping a coin, given its strong performance on **Class 0**. That said, if the primary goal is to identify **Class 1**, the model is far from reliable. This version, while the best I have been able to achieve with the current dataset and methods, is not suitable for practical applications. Significant improvements, particularly in addressing dataset imbalance and optimizing performance on **Class 1**, are required."
      ],
      "metadata": {
        "id": "S4tWatrEsn_9"
      }
    }
  ],
  "metadata": {
    "colab": {
      "provenance": [],
      "gpuType": "T4",
      "machine_shape": "hm"
    },
    "kernelspec": {
      "display_name": "Python 3",
      "name": "python3"
    },
    "language_info": {
      "name": "python"
    },
    "accelerator": "GPU"
  },
  "nbformat": 4,
  "nbformat_minor": 0
}