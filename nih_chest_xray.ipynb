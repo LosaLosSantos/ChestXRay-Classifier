{
<<<<<<< HEAD
 "cells": [
  {
   "cell_type": "markdown",
   "metadata": {
    "id": "ddCCa-o5chE0"
   },
   "source": [
    "# Chest X-Ray Classification Project: Leveraging Deep Learning for Medical Image Analysis"
   ]
  },
  {
   "cell_type": "code",
   "execution_count": 1,
   "metadata": {
    "execution": {
     "iopub.execute_input": "2025-01-17T21:40:35.105544Z",
     "iopub.status.busy": "2025-01-17T21:40:35.105284Z",
     "iopub.status.idle": "2025-01-17T21:40:59.542071Z",
     "shell.execute_reply": "2025-01-17T21:40:59.541215Z",
     "shell.execute_reply.started": "2025-01-17T21:40:35.105522Z"
    },
    "executionInfo": {
     "elapsed": 16929,
     "status": "ok",
     "timestamp": 1737118379408,
     "user": {
      "displayName": "Loris Salsi",
      "userId": "03149293264146914157"
     },
     "user_tz": -60
    },
    "id": "_wF0EoXkFxf0",
    "trusted": true
   },
   "outputs": [],
   "source": [
    "import numpy as np\n",
    "import pandas as pd\n",
    "import matplotlib.pyplot as plt\n",
    "import matplotlib.image as pli\n",
    "import seaborn as sns\n",
    "import os\n",
    "import tensorflow as tf\n",
    "from PIL import Image\n",
    "import torch\n",
    "from torch import nn\n",
    "from tqdm import tqdm\n",
    "import torch.nn as nn\n",
    "import torch.optim as optim\n",
    "from torch.utils.data import Dataset, DataLoader\n",
    "from torchvision import transforms, models\n",
    "import pandas as pd\n",
    "from sklearn.metrics import classification_report\n",
    "from google.colab import drive\n",
    "from torchvision import transforms\n",
    "from torch.utils.data import ConcatDataset\n",
    "from torchvision.models import mobilenet_v2, MobileNet_V2_Weights\n",
    "import random\n",
    "import torch\n",
    "from sklearn.metrics import confusion_matrix, ConfusionMatrixDisplay\n",
    "from sklearn.metrics import roc_curve, auc, confusion_matrix, ConfusionMatrixDisplay"
   ]
  },
  {
   "cell_type": "code",
   "execution_count": 2,
   "metadata": {
    "execution": {
     "iopub.execute_input": "2025-01-17T21:40:59.543671Z",
     "iopub.status.busy": "2025-01-17T21:40:59.543111Z",
     "iopub.status.idle": "2025-01-17T21:51:46.757748Z",
     "shell.execute_reply": "2025-01-17T21:51:46.756930Z",
     "shell.execute_reply.started": "2025-01-17T21:40:59.543612Z"
    },
    "trusted": true
   },
   "outputs": [
    {
     "name": "stdout",
     "output_type": "stream",
     "text": [
      "Numero totale di immagini trovate: 112120\n",
      "[{'image_path': '/kaggle/input/data/images_001/images/00000001_000.png', 'labels': ['Cardiomegaly']}, {'image_path': '/kaggle/input/data/images_001/images/00000001_001.png', 'labels': ['Cardiomegaly', 'Emphysema']}, {'image_path': '/kaggle/input/data/images_001/images/00000001_002.png', 'labels': ['Cardiomegaly', 'Effusion']}, {'image_path': '/kaggle/input/data/images_001/images/00000002_000.png', 'labels': ['No Finding']}, {'image_path': '/kaggle/input/data/images_001/images/00000003_000.png', 'labels': ['Hernia']}]\n"
     ]
    }
   ],
   "source": [
    "# Percorso base del dataset su Kaggle\n",
    "base_path = \"/kaggle/input/data\"\n",
    "labels_file = os.path.join(base_path, \"Data_Entry_2017.csv\")\n",
    "\n",
    "# Carica il file CSV\n",
    "labels_df = pd.read_csv(labels_file)\n",
    "\n",
    "# Elenco delle cartelle di immagini (Kaggle usa images_001 fino a images_012)\n",
    "image_folders = [f\"images_{str(i).zfill(3)}\" for i in range(1, 13)]  # Include images_011 e images_012\n",
    "\n",
    "# Creazione della lista dei dati\n",
    "data_tot = []\n",
    "for _, row in labels_df.iterrows():\n",
    "    image_name = row[\"Image Index\"]\n",
    "    labels = row[\"Finding Labels\"].split('|')\n",
    "\n",
    "    image_path = None\n",
    "    for folder in image_folders:\n",
    "        potential_path = os.path.join(base_path, folder, \"images\", image_name)  # Aggiunto \"images\"\n",
    "        if os.path.exists(potential_path):\n",
    "            image_path = potential_path\n",
    "            break\n",
    "\n",
    "    if image_path:\n",
    "        data_tot.append({'image_path': image_path, 'labels': labels})\n",
    "\n",
    "print(f\"Numero totale di immagini trovate: {len(data_tot)}\")\n",
    "print(data_tot[:5])  # Mostra i primi 5 record\n"
   ]
  },
  {
   "cell_type": "code",
   "execution_count": 3,
   "metadata": {
    "colab": {
     "base_uri": "https://localhost:8080/"
    },
    "execution": {
     "iopub.execute_input": "2025-01-17T21:51:46.759105Z",
     "iopub.status.busy": "2025-01-17T21:51:46.758813Z",
     "iopub.status.idle": "2025-01-17T21:51:46.824708Z",
     "shell.execute_reply": "2025-01-17T21:51:46.823948Z",
     "shell.execute_reply.started": "2025-01-17T21:51:46.759082Z"
    },
    "executionInfo": {
     "elapsed": 656,
     "status": "ok",
     "timestamp": 1737118920700,
     "user": {
      "displayName": "Loris Salsi",
      "userId": "03149293264146914157"
     },
     "user_tz": -60
    },
    "id": "Ell-epsFgiTp",
    "outputId": "58207935-526e-4794-8a54-70cca4b9272c",
    "trusted": true
   },
   "outputs": [
    {
     "name": "stdout",
     "output_type": "stream",
     "text": [
      "<class 'pandas.core.frame.DataFrame'>\n",
      "RangeIndex: 112120 entries, 0 to 112119\n",
      "Data columns (total 12 columns):\n",
      " #   Column                       Non-Null Count   Dtype  \n",
      "---  ------                       --------------   -----  \n",
      " 0   Image Index                  112120 non-null  object \n",
      " 1   Finding Labels               112120 non-null  object \n",
      " 2   Follow-up #                  112120 non-null  int64  \n",
      " 3   Patient ID                   112120 non-null  int64  \n",
      " 4   Patient Age                  112120 non-null  int64  \n",
      " 5   Patient Gender               112120 non-null  object \n",
      " 6   View Position                112120 non-null  object \n",
      " 7   OriginalImage[Width          112120 non-null  int64  \n",
      " 8   Height]                      112120 non-null  int64  \n",
      " 9   OriginalImagePixelSpacing[x  112120 non-null  float64\n",
      " 10  y]                           112120 non-null  float64\n",
      " 11  Unnamed: 11                  0 non-null       float64\n",
      "dtypes: float64(3), int64(5), object(4)\n",
      "memory usage: 10.3+ MB\n"
     ]
    }
   ],
   "source": [
    "labels_df.info()"
   ]
  },
  {
   "cell_type": "code",
   "execution_count": 4,
   "metadata": {
    "colab": {
     "base_uri": "https://localhost:8080/",
     "height": 243
    },
    "execution": {
     "iopub.execute_input": "2025-01-17T21:51:46.827181Z",
     "iopub.status.busy": "2025-01-17T21:51:46.826928Z",
     "iopub.status.idle": "2025-01-17T21:51:46.854224Z",
     "shell.execute_reply": "2025-01-17T21:51:46.853407Z",
     "shell.execute_reply.started": "2025-01-17T21:51:46.827159Z"
    },
    "executionInfo": {
     "elapsed": 449,
     "status": "ok",
     "timestamp": 1737118922482,
     "user": {
      "displayName": "Loris Salsi",
      "userId": "03149293264146914157"
     },
     "user_tz": -60
    },
    "id": "0gGBBM1hggaB",
    "outputId": "8323c075-2fec-43fd-e04e-0d4fca71a69d",
    "trusted": true
   },
   "outputs": [
    {
     "name": "stderr",
     "output_type": "stream",
     "text": [
      "/usr/local/lib/python3.10/dist-packages/pandas/io/formats/format.py:1458: RuntimeWarning: invalid value encountered in greater\n",
      "  has_large_values = (abs_vals > 1e6).any()\n",
      "/usr/local/lib/python3.10/dist-packages/pandas/io/formats/format.py:1459: RuntimeWarning: invalid value encountered in less\n",
      "  has_small_values = ((abs_vals < 10 ** (-self.digits)) & (abs_vals > 0)).any()\n",
      "/usr/local/lib/python3.10/dist-packages/pandas/io/formats/format.py:1459: RuntimeWarning: invalid value encountered in greater\n",
      "  has_small_values = ((abs_vals < 10 ** (-self.digits)) & (abs_vals > 0)).any()\n"
     ]
    },
    {
     "data": {
      "text/html": [
       "<div>\n",
       "<style scoped>\n",
       "    .dataframe tbody tr th:only-of-type {\n",
       "        vertical-align: middle;\n",
       "    }\n",
       "\n",
       "    .dataframe tbody tr th {\n",
       "        vertical-align: top;\n",
       "    }\n",
       "\n",
       "    .dataframe thead th {\n",
       "        text-align: right;\n",
       "    }\n",
       "</style>\n",
       "<table border=\"1\" class=\"dataframe\">\n",
       "  <thead>\n",
       "    <tr style=\"text-align: right;\">\n",
       "      <th></th>\n",
       "      <th>Image Index</th>\n",
       "      <th>Finding Labels</th>\n",
       "      <th>Follow-up #</th>\n",
       "      <th>Patient ID</th>\n",
       "      <th>Patient Age</th>\n",
       "      <th>Patient Gender</th>\n",
       "      <th>View Position</th>\n",
       "      <th>OriginalImage[Width</th>\n",
       "      <th>Height]</th>\n",
       "      <th>OriginalImagePixelSpacing[x</th>\n",
       "      <th>y]</th>\n",
       "      <th>Unnamed: 11</th>\n",
       "    </tr>\n",
       "  </thead>\n",
       "  <tbody>\n",
       "    <tr>\n",
       "      <th>0</th>\n",
       "      <td>00000001_000.png</td>\n",
       "      <td>Cardiomegaly</td>\n",
       "      <td>0</td>\n",
       "      <td>1</td>\n",
       "      <td>58</td>\n",
       "      <td>M</td>\n",
       "      <td>PA</td>\n",
       "      <td>2682</td>\n",
       "      <td>2749</td>\n",
       "      <td>0.143</td>\n",
       "      <td>0.143</td>\n",
       "      <td>NaN</td>\n",
       "    </tr>\n",
       "    <tr>\n",
       "      <th>1</th>\n",
       "      <td>00000001_001.png</td>\n",
       "      <td>Cardiomegaly|Emphysema</td>\n",
       "      <td>1</td>\n",
       "      <td>1</td>\n",
       "      <td>58</td>\n",
       "      <td>M</td>\n",
       "      <td>PA</td>\n",
       "      <td>2894</td>\n",
       "      <td>2729</td>\n",
       "      <td>0.143</td>\n",
       "      <td>0.143</td>\n",
       "      <td>NaN</td>\n",
       "    </tr>\n",
       "    <tr>\n",
       "      <th>2</th>\n",
       "      <td>00000001_002.png</td>\n",
       "      <td>Cardiomegaly|Effusion</td>\n",
       "      <td>2</td>\n",
       "      <td>1</td>\n",
       "      <td>58</td>\n",
       "      <td>M</td>\n",
       "      <td>PA</td>\n",
       "      <td>2500</td>\n",
       "      <td>2048</td>\n",
       "      <td>0.168</td>\n",
       "      <td>0.168</td>\n",
       "      <td>NaN</td>\n",
       "    </tr>\n",
       "    <tr>\n",
       "      <th>3</th>\n",
       "      <td>00000002_000.png</td>\n",
       "      <td>No Finding</td>\n",
       "      <td>0</td>\n",
       "      <td>2</td>\n",
       "      <td>81</td>\n",
       "      <td>M</td>\n",
       "      <td>PA</td>\n",
       "      <td>2500</td>\n",
       "      <td>2048</td>\n",
       "      <td>0.171</td>\n",
       "      <td>0.171</td>\n",
       "      <td>NaN</td>\n",
       "    </tr>\n",
       "    <tr>\n",
       "      <th>4</th>\n",
       "      <td>00000003_000.png</td>\n",
       "      <td>Hernia</td>\n",
       "      <td>0</td>\n",
       "      <td>3</td>\n",
       "      <td>81</td>\n",
       "      <td>F</td>\n",
       "      <td>PA</td>\n",
       "      <td>2582</td>\n",
       "      <td>2991</td>\n",
       "      <td>0.143</td>\n",
       "      <td>0.143</td>\n",
       "      <td>NaN</td>\n",
       "    </tr>\n",
       "  </tbody>\n",
       "</table>\n",
       "</div>"
      ],
      "text/plain": [
       "        Image Index          Finding Labels  Follow-up #  Patient ID  \\\n",
       "0  00000001_000.png            Cardiomegaly            0           1   \n",
       "1  00000001_001.png  Cardiomegaly|Emphysema            1           1   \n",
       "2  00000001_002.png   Cardiomegaly|Effusion            2           1   \n",
       "3  00000002_000.png              No Finding            0           2   \n",
       "4  00000003_000.png                  Hernia            0           3   \n",
       "\n",
       "   Patient Age Patient Gender View Position  OriginalImage[Width  Height]  \\\n",
       "0           58              M            PA                 2682     2749   \n",
       "1           58              M            PA                 2894     2729   \n",
       "2           58              M            PA                 2500     2048   \n",
       "3           81              M            PA                 2500     2048   \n",
       "4           81              F            PA                 2582     2991   \n",
       "\n",
       "   OriginalImagePixelSpacing[x     y]  Unnamed: 11  \n",
       "0                        0.143  0.143          NaN  \n",
       "1                        0.143  0.143          NaN  \n",
       "2                        0.168  0.168          NaN  \n",
       "3                        0.171  0.171          NaN  \n",
       "4                        0.143  0.143          NaN  "
      ]
     },
     "execution_count": 4,
     "metadata": {},
     "output_type": "execute_result"
    }
   ],
   "source": [
    "labels_df.head()"
   ]
  },
  {
   "cell_type": "code",
   "execution_count": 5,
   "metadata": {
    "colab": {
     "base_uri": "https://localhost:8080/"
    },
    "execution": {
     "iopub.execute_input": "2025-01-17T21:51:46.855851Z",
     "iopub.status.busy": "2025-01-17T21:51:46.855538Z",
     "iopub.status.idle": "2025-01-17T21:51:46.860917Z",
     "shell.execute_reply": "2025-01-17T21:51:46.860115Z",
     "shell.execute_reply.started": "2025-01-17T21:51:46.855828Z"
    },
    "executionInfo": {
     "elapsed": 653,
     "status": "ok",
     "timestamp": 1737118925141,
     "user": {
      "displayName": "Loris Salsi",
      "userId": "03149293264146914157"
     },
     "user_tz": -60
    },
    "id": "lt_luG2egkrt",
    "outputId": "19d99d44-4584-433e-a54d-f0c38202a821",
    "trusted": true
   },
   "outputs": [
    {
     "data": {
      "text/plain": [
       "(112120, 12)"
      ]
     },
     "execution_count": 5,
     "metadata": {},
     "output_type": "execute_result"
    }
   ],
   "source": [
    "labels_df.shape"
   ]
  },
  {
   "cell_type": "code",
   "execution_count": 6,
   "metadata": {
    "colab": {
     "base_uri": "https://localhost:8080/",
     "height": 489
    },
    "execution": {
     "iopub.execute_input": "2025-01-17T21:51:46.862009Z",
     "iopub.status.busy": "2025-01-17T21:51:46.861791Z",
     "iopub.status.idle": "2025-01-17T21:51:46.883391Z",
     "shell.execute_reply": "2025-01-17T21:51:46.882454Z",
     "shell.execute_reply.started": "2025-01-17T21:51:46.861990Z"
    },
    "executionInfo": {
     "elapsed": 9,
     "status": "ok",
     "timestamp": 1737118925141,
     "user": {
      "displayName": "Loris Salsi",
      "userId": "03149293264146914157"
     },
     "user_tz": -60
    },
    "id": "dTnF4zPdgt-1",
    "outputId": "1947e322-e61f-47c7-c968-66dec08756cd",
    "trusted": true
   },
   "outputs": [
    {
     "data": {
      "text/plain": [
       "Finding Labels\n",
       "No Finding                                                                      60361\n",
       "Infiltration                                                                     9547\n",
       "Atelectasis                                                                      4215\n",
       "Effusion                                                                         3955\n",
       "Nodule                                                                           2705\n",
       "                                                                                ...  \n",
       "Consolidation|Edema|Effusion|Mass|Nodule                                            1\n",
       "Edema|Infiltration|Mass|Pneumonia|Pneumothorax                                      1\n",
       "Consolidation|Effusion|Infiltration|Mass|Nodule|Pleural_Thickening|Pneumonia        1\n",
       "Consolidation|Mass|Nodule|Pneumothorax                                              1\n",
       "Cardiomegaly|Edema|Effusion|Fibrosis|Infiltration                                   1\n",
       "Name: count, Length: 836, dtype: int64"
      ]
     },
     "execution_count": 6,
     "metadata": {},
     "output_type": "execute_result"
    }
   ],
   "source": [
    "labels_df['Finding Labels'].value_counts()"
   ]
  },
  {
   "cell_type": "code",
   "execution_count": 7,
   "metadata": {
    "colab": {
     "base_uri": "https://localhost:8080/"
    },
    "execution": {
     "iopub.execute_input": "2025-01-17T21:51:46.884535Z",
     "iopub.status.busy": "2025-01-17T21:51:46.884242Z",
     "iopub.status.idle": "2025-01-17T21:51:46.923474Z",
     "shell.execute_reply": "2025-01-17T21:51:46.922679Z",
     "shell.execute_reply.started": "2025-01-17T21:51:46.884514Z"
    },
    "executionInfo": {
     "elapsed": 970,
     "status": "ok",
     "timestamp": 1737118927972,
     "user": {
      "displayName": "Loris Salsi",
      "userId": "03149293264146914157"
     },
     "user_tz": -60
    },
    "id": "TNsdqb46tAfF",
    "outputId": "8c0c69cf-9b54-47d3-8cd2-1b56b7851d9c",
    "trusted": true
   },
   "outputs": [
    {
     "name": "stdout",
     "output_type": "stream",
     "text": [
      "Class 1 (Infiltration): 19894\n",
      "Class 0 (Not Infiltration): 92226\n"
     ]
    }
   ],
   "source": [
    "num_class_1 = sum([\"Infiltration\" in r[\"labels\"] for r in data_tot])\n",
    "num_class_0 = sum([\"Infiltration\" not in r[\"labels\"] for r in data_tot])\n",
    "\n",
    "print(f\"Class 1 (Infiltration): {num_class_1}\")\n",
    "print(f\"Class 0 (Not Infiltration): {num_class_0}\")"
   ]
  },
  {
   "cell_type": "code",
   "execution_count": 8,
   "metadata": {
    "colab": {
     "base_uri": "https://localhost:8080/"
    },
    "execution": {
     "iopub.execute_input": "2025-01-17T21:51:46.924845Z",
     "iopub.status.busy": "2025-01-17T21:51:46.924486Z",
     "iopub.status.idle": "2025-01-17T21:51:46.978906Z",
     "shell.execute_reply": "2025-01-17T21:51:46.978183Z",
     "shell.execute_reply.started": "2025-01-17T21:51:46.924811Z"
    },
    "executionInfo": {
     "elapsed": 5,
     "status": "ok",
     "timestamp": 1737118929739,
     "user": {
      "displayName": "Loris Salsi",
      "userId": "03149293264146914157"
     },
     "user_tz": -60
    },
    "id": "hOjCvitIw7pd",
    "outputId": "b9470672-0923-493e-f36d-9e7de50e9e61",
    "trusted": true
   },
   "outputs": [
    {
     "name": "stdout",
     "output_type": "stream",
     "text": [
      "New Class 1 (Infiltration): 6000\n",
      "New Class 0 (Not Infiltration): 8000\n"
     ]
    }
   ],
   "source": [
    "class_1_data = [r for r in data_tot if \"Infiltration\" in r[\"labels\"]]\n",
    "class_0_data = [r for r in data_tot if \"Infiltration\" not in r[\"labels\"]]\n",
    "\n",
    "random.seed(42)\n",
    "class_1_sampled = random.sample(class_1_data, 6000)\n",
    "class_0_sampled = random.sample(class_0_data, 8000)\n",
    "\n",
    "balanced_data = class_0_sampled + class_1_sampled\n",
    "\n",
    "new_num_class_1 = sum([\"Infiltration\" in r[\"labels\"] for r in balanced_data])\n",
    "new_num_class_0 = sum([\"Infiltration\" not in r[\"labels\"] for r in balanced_data])\n",
    "\n",
    "print(f\"New Class 1 (Infiltration): {new_num_class_1}\")\n",
    "print(f\"New Class 0 (Not Infiltration): {new_num_class_0}\")"
   ]
  },
  {
   "cell_type": "code",
   "execution_count": 9,
   "metadata": {
    "execution": {
     "iopub.execute_input": "2025-01-17T21:51:46.979921Z",
     "iopub.status.busy": "2025-01-17T21:51:46.979713Z",
     "iopub.status.idle": "2025-01-17T21:51:47.097798Z",
     "shell.execute_reply": "2025-01-17T21:51:47.096691Z",
     "shell.execute_reply.started": "2025-01-17T21:51:46.979903Z"
    },
    "executionInfo": {
     "elapsed": 547,
     "status": "ok",
     "timestamp": 1737118932202,
     "user": {
      "displayName": "Loris Salsi",
      "userId": "03149293264146914157"
     },
     "user_tz": -60
    },
    "id": "jAjEU-farESL",
    "trusted": true
   },
   "outputs": [],
   "source": [
    "torch.manual_seed(42)\n",
    "random.seed(42)\n",
    "np.random.seed(42)\n",
    "if torch.cuda.is_available():\n",
    "    torch.cuda.manual_seed(42)\n",
    "    torch.cuda.manual_seed_all(42)  # For multi-GPU\n",
    "    torch.backends.cudnn.deterministic = True\n",
    "    torch.backends.cudnn.benchmark = False"
   ]
  },
  {
   "cell_type": "code",
   "execution_count": 10,
   "metadata": {
    "execution": {
     "iopub.execute_input": "2025-01-17T21:51:47.099164Z",
     "iopub.status.busy": "2025-01-17T21:51:47.098819Z",
     "iopub.status.idle": "2025-01-17T21:51:47.103581Z",
     "shell.execute_reply": "2025-01-17T21:51:47.102609Z",
     "shell.execute_reply.started": "2025-01-17T21:51:47.099133Z"
    },
    "executionInfo": {
     "elapsed": 3,
     "status": "ok",
     "timestamp": 1737118932637,
     "user": {
      "displayName": "Loris Salsi",
      "userId": "03149293264146914157"
     },
     "user_tz": -60
    },
    "id": "KD0IK5ndrFrZ",
    "trusted": true
   },
   "outputs": [],
   "source": [
    "tf.random.set_seed(42)\n",
    "np.random.seed(42)\n",
    "random.seed(42)"
   ]
  },
  {
   "cell_type": "markdown",
   "metadata": {
    "id": "3ouT3OP-jDUj"
   },
   "source": [
    "**MobileNetV1** introduced **Depthwise Separable Convolutions**, splitting standard convolutions into two steps: a **depthwise convolution** (applying filters per channel) and a **pointwise convolution** (1x1 to combine channels). This drastically reduced computational cost and parameters compared to traditional CNNs, making the model efficient for mobile devices.\n",
    "\n",
    "**MobileNetV2** improved upon MobileNetV1 with **inverted residuals** and **linear bottlenecks**. Inverted residuals connect bottlenecks (with fewer channels) via shortcuts, reducing computation, while linear bottlenecks avoid non-linear activations in compressed layers to preserve critical information. These innovations increased efficiency and accuracy, further optimizing MobileNetV2 for resource-constrained environments."
   ]
  },
  {
   "cell_type": "markdown",
   "metadata": {
    "id": "obXi_Ijtovpy"
   },
   "source": [
    "# TensorFlow Keras / MobileNetV2"
   ]
  },
  {
   "cell_type": "code",
   "execution_count": 11,
   "metadata": {
    "execution": {
     "iopub.execute_input": "2025-01-17T21:51:47.104617Z",
     "iopub.status.busy": "2025-01-17T21:51:47.104391Z",
     "iopub.status.idle": "2025-01-17T21:51:47.920211Z",
     "shell.execute_reply": "2025-01-17T21:51:47.919176Z",
     "shell.execute_reply.started": "2025-01-17T21:51:47.104598Z"
    },
    "id": "NhOAknxt0uxM",
    "trusted": true
   },
   "outputs": [],
   "source": [
    "def preprocess_item(image_path, label):\n",
    "    image = tf.io.read_file(image_path)\n",
    "    image = tf.image.decode_png(image, channels=3)\n",
    "    image = tf.image.resize(image, [224, 224]) / 255.0\n",
    "    return image, label\n",
    "\n",
    "paths = [item['image_path'] for item in balanced_data]\n",
    "labels = [1 if \"Infiltration\" in item[\"labels\"] else 0 for item in balanced_data]\n",
    "\n",
    "dataset = tf.data.Dataset.from_tensor_slices((paths, labels))\n",
    "# Maps the preprocess_item function over the dataset with parallel processing to improve speed\n",
    "# (num_parallel_calls=tf.data.AUTOTUNE)\n",
    "dataset = dataset.map(lambda x, y: preprocess_item(x, y), num_parallel_calls=tf.data.AUTOTUNE)"
   ]
  },
  {
   "cell_type": "code",
   "execution_count": 12,
   "metadata": {
    "execution": {
     "iopub.execute_input": "2025-01-17T21:51:47.921687Z",
     "iopub.status.busy": "2025-01-17T21:51:47.921303Z",
     "iopub.status.idle": "2025-01-17T21:51:50.288407Z",
     "shell.execute_reply": "2025-01-17T21:51:50.287403Z",
     "shell.execute_reply.started": "2025-01-17T21:51:47.921631Z"
    },
    "id": "Ef3lW3BxsfjE",
    "trusted": true
   },
   "outputs": [],
   "source": [
    "# Shuffle to improve your workout\n",
    "dataset = dataset.shuffle(buffer_size=len(balanced_data))\n",
    "dataset_nobatch = dataset\n",
    "# Batch creation. Prefetch to load next batch in parallel\n",
    "dataset = dataset.batch(64).prefetch(tf.data.AUTOTUNE)"
   ]
  },
  {
   "cell_type": "code",
   "execution_count": 13,
   "metadata": {
    "colab": {
     "base_uri": "https://localhost:8080/"
    },
    "execution": {
     "iopub.execute_input": "2025-01-17T21:51:50.291965Z",
     "iopub.status.busy": "2025-01-17T21:51:50.291723Z",
     "iopub.status.idle": "2025-01-17T21:53:34.345362Z",
     "shell.execute_reply": "2025-01-17T21:53:34.344543Z",
     "shell.execute_reply.started": "2025-01-17T21:51:50.291945Z"
    },
    "executionInfo": {
     "elapsed": 1896594,
     "status": "ok",
     "timestamp": 1736959529396,
     "user": {
      "displayName": "Loris Salsi",
      "userId": "03149293264146914157"
     },
     "user_tz": -60
    },
    "id": "qUmewFwJ1CW6",
    "outputId": "0c3cefd5-ad4b-42d1-dcb7-8eb40fb2340d",
    "trusted": true
   },
   "outputs": [
    {
     "name": "stdout",
     "output_type": "stream",
     "text": [
      "Batch shape: (64, 224, 224, 3), Labels shape: (64,)\n"
     ]
    }
   ],
   "source": [
    "for images, labels in dataset.take(1):\n",
    "    print(f\"Batch shape: {images.shape}, Labels shape: {labels.shape}\")"
   ]
  },
  {
   "cell_type": "code",
   "execution_count": 14,
   "metadata": {
    "colab": {
     "base_uri": "https://localhost:8080/"
    },
    "execution": {
     "iopub.execute_input": "2025-01-17T21:53:34.347793Z",
     "iopub.status.busy": "2025-01-17T21:53:34.347499Z",
     "iopub.status.idle": "2025-01-17T21:54:59.986150Z",
     "shell.execute_reply": "2025-01-17T21:54:59.985260Z",
     "shell.execute_reply.started": "2025-01-17T21:53:34.347770Z"
    },
    "executionInfo": {
     "elapsed": 52015,
     "status": "ok",
     "timestamp": 1736959581405,
     "user": {
      "displayName": "Loris Salsi",
      "userId": "03149293264146914157"
     },
     "user_tz": -60
    },
    "id": "bszIW7AZ2Fbr",
    "outputId": "301bd464-a16b-4eca-8317-11b56358f7ce",
    "trusted": true
   },
   "outputs": [
    {
     "name": "stdout",
     "output_type": "stream",
     "text": [
      "Total_number_of: 14000\n"
     ]
    }
   ],
   "source": [
    "total_images = 0\n",
    "for images, labels in dataset:\n",
    "   total_images += images.shape[0]\n",
    "\n",
    "print(f\"Total_number_of: {total_images}\")"
   ]
  },
  {
   "cell_type": "markdown",
   "metadata": {
    "id": "yFiZbA1BXgGJ"
   },
   "source": [
    "**Model Description - Fine Tuning**  \n",
    "A binary classification model is defined using MobileNetV2 as the base, pretrained on ImageNet. The base model is used as a feature extractor with its weights frozen (trainable=False).\n",
    "\n",
    "Key components include:  \n",
    "- GlobalAveragePooling2D.   \n",
    "- A fully connected layer with 64 units and ReLU activation.\n",
    "- An output layer with 1 unit and sigmoid activation for binary classification.  \n",
    "- Optimizer: Adam, configured with a learning rate of 0.001.\n",
    "- Loss function: Binary crossentropy, suitable for binary classification tasks.\n",
    "- Metric: Accuracy, to evaluate the model’s performance."
   ]
  },
  {
   "cell_type": "code",
   "execution_count": 15,
   "metadata": {
    "colab": {
     "base_uri": "https://localhost:8080/"
    },
    "execution": {
     "iopub.execute_input": "2025-01-17T21:54:59.987881Z",
     "iopub.status.busy": "2025-01-17T21:54:59.987504Z",
     "iopub.status.idle": "2025-01-17T21:55:02.576349Z",
     "shell.execute_reply": "2025-01-17T21:55:02.575407Z",
     "shell.execute_reply.started": "2025-01-17T21:54:59.987848Z"
    },
    "executionInfo": {
     "elapsed": 3304,
     "status": "ok",
     "timestamp": 1736959584685,
     "user": {
      "displayName": "Loris Salsi",
      "userId": "03149293264146914157"
     },
     "user_tz": -60
    },
    "id": "NwFzd11s-PR6",
    "outputId": "9caf6572-5ffb-48d0-bd03-137023e42800",
    "trusted": true
   },
   "outputs": [
    {
     "name": "stdout",
     "output_type": "stream",
     "text": [
      "Downloading data from https://storage.googleapis.com/tensorflow/keras-applications/mobilenet_v2/mobilenet_v2_weights_tf_dim_ordering_tf_kernels_1.0_224_no_top.h5\n",
      "\u001b[1m9406464/9406464\u001b[0m \u001b[32m━━━━━━━━━━━━━━━━━━━━\u001b[0m\u001b[37m\u001b[0m \u001b[1m0s\u001b[0m 0us/step\n"
     ]
    }
   ],
   "source": [
    "base_model = tf.keras.applications.MobileNetV2(input_shape=(224, 224, 3), include_top=False, weights='imagenet')\n",
    "# the pre-trained model uses weights derived from training on ImageNet\n",
    "base_model.trainable = False\n",
    "\n",
    "model_tf = tf.keras.Sequential([base_model,\n",
    "    tf.keras.layers.GlobalAveragePooling2D(),\n",
    "    tf.keras.layers.Dense(64, activation='relu'),\n",
    "    tf.keras.layers.Dense(1, activation='sigmoid')])\n",
    "\n",
    "optimizer = tf.keras.optimizers.Adam(learning_rate=0.001)"
   ]
  },
  {
   "cell_type": "code",
   "execution_count": 16,
   "metadata": {
    "execution": {
     "iopub.execute_input": "2025-01-17T21:55:02.577388Z",
     "iopub.status.busy": "2025-01-17T21:55:02.577149Z",
     "iopub.status.idle": "2025-01-17T21:55:02.587950Z",
     "shell.execute_reply": "2025-01-17T21:55:02.586714Z",
     "shell.execute_reply.started": "2025-01-17T21:55:02.577368Z"
    },
    "id": "_1cJyEG1-yO2",
    "trusted": true
   },
   "outputs": [],
   "source": [
    "model_tf.compile(optimizer=optimizer,loss='binary_crossentropy',metrics=['accuracy'])"
   ]
  },
  {
   "cell_type": "code",
   "execution_count": 17,
   "metadata": {
    "execution": {
     "iopub.execute_input": "2025-01-17T21:55:02.589678Z",
     "iopub.status.busy": "2025-01-17T21:55:02.589252Z",
     "iopub.status.idle": "2025-01-17T21:55:02.613277Z",
     "shell.execute_reply": "2025-01-17T21:55:02.612473Z",
     "shell.execute_reply.started": "2025-01-17T21:55:02.589621Z"
    },
    "id": "otmksIiIx1sG",
    "trusted": true
   },
   "outputs": [],
   "source": [
    "dataset = dataset.shuffle(buffer_size=len(balanced_data))\n",
    "dataset_size = len(dataset)\n",
    "\n",
    "test_size = int(dataset_size * 0.2)\n",
    "train_size = dataset_size - test_size\n",
    "\n",
    "test_set = dataset.take(test_size)  # Top 20% for the test\n",
    "train_set = dataset.skip(test_size)  # Remaining 80% for training"
   ]
  },
  {
   "cell_type": "code",
   "execution_count": 18,
   "metadata": {
    "colab": {
     "base_uri": "https://localhost:8080/"
    },
    "execution": {
     "iopub.execute_input": "2025-01-17T21:55:02.615190Z",
     "iopub.status.busy": "2025-01-17T21:55:02.614847Z",
     "iopub.status.idle": "2025-01-17T21:55:02.622374Z",
     "shell.execute_reply": "2025-01-17T21:55:02.621101Z",
     "shell.execute_reply.started": "2025-01-17T21:55:02.615154Z"
    },
    "executionInfo": {
     "elapsed": 13,
     "status": "ok",
     "timestamp": 1736959584686,
     "user": {
      "displayName": "Loris Salsi",
      "userId": "03149293264146914157"
     },
     "user_tz": -60
    },
    "id": "GQtLdrL58WFv",
    "outputId": "a6c4aa1e-94f1-49e7-8d04-80ce5aa08f00",
    "trusted": true
   },
   "outputs": [
    {
     "name": "stdout",
     "output_type": "stream",
     "text": [
      "Dataset (batch): 219\n",
      "Test set (batch): 43\n",
      "Training set (batch): 176\n"
     ]
    }
   ],
   "source": [
    "print(f\"Dataset (batch): {dataset_size}\")\n",
    "print(f\"Test set (batch): {test_size}\")\n",
    "print(f\"Training set (batch): {train_size}\")"
   ]
  },
  {
   "cell_type": "code",
   "execution_count": 19,
   "metadata": {
    "colab": {
     "base_uri": "https://localhost:8080/"
    },
    "execution": {
     "iopub.execute_input": "2025-01-17T21:55:02.624072Z",
     "iopub.status.busy": "2025-01-17T21:55:02.623711Z",
     "iopub.status.idle": "2025-01-17T22:01:38.127356Z",
     "shell.execute_reply": "2025-01-17T22:01:38.126191Z",
     "shell.execute_reply.started": "2025-01-17T21:55:02.624038Z"
    },
    "executionInfo": {
     "elapsed": 263384,
     "status": "ok",
     "timestamp": 1736959848061,
     "user": {
      "displayName": "Loris Salsi",
      "userId": "03149293264146914157"
     },
     "user_tz": -60
    },
    "id": "ok8_Fxvb-7x3",
    "outputId": "9fda767f-9f27-415c-9ddd-0f9be8bf6538",
    "trusted": true
   },
   "outputs": [
    {
     "name": "stdout",
     "output_type": "stream",
     "text": [
      "Epoch 1/4\n",
      "\u001b[1m176/176\u001b[0m \u001b[32m━━━━━━━━━━━━━━━━━━━━\u001b[0m\u001b[37m\u001b[0m \u001b[1m115s\u001b[0m 88ms/step - accuracy: 0.6074 - loss: 0.6763\n",
      "Epoch 2/4\n",
      "\u001b[1m176/176\u001b[0m \u001b[32m━━━━━━━━━━━━━━━━━━━━\u001b[0m\u001b[37m\u001b[0m \u001b[1m94s\u001b[0m 56ms/step - accuracy: 0.6365 - loss: 0.6391\n",
      "Epoch 3/4\n",
      "\u001b[1m176/176\u001b[0m \u001b[32m━━━━━━━━━━━━━━━━━━━━\u001b[0m\u001b[37m\u001b[0m \u001b[1m94s\u001b[0m 56ms/step - accuracy: 0.6556 - loss: 0.6299\n",
      "Epoch 4/4\n",
      "\u001b[1m176/176\u001b[0m \u001b[32m━━━━━━━━━━━━━━━━━━━━\u001b[0m\u001b[37m\u001b[0m \u001b[1m93s\u001b[0m 56ms/step - accuracy: 0.6468 - loss: 0.6358\n"
     ]
    }
   ],
   "source": [
    "history = model_tf.fit(train_set, epochs=4)"
   ]
  },
  {
   "cell_type": "code",
   "execution_count": 20,
   "metadata": {
    "colab": {
     "base_uri": "https://localhost:8080/"
    },
    "execution": {
     "iopub.execute_input": "2025-01-17T22:01:38.128687Z",
     "iopub.status.busy": "2025-01-17T22:01:38.128405Z",
     "iopub.status.idle": "2025-01-17T22:03:06.093330Z",
     "shell.execute_reply": "2025-01-17T22:03:06.092473Z",
     "shell.execute_reply.started": "2025-01-17T22:01:38.128651Z"
    },
    "executionInfo": {
     "elapsed": 56403,
     "status": "ok",
     "timestamp": 1736959904431,
     "user": {
      "displayName": "Loris Salsi",
      "userId": "03149293264146914157"
     },
     "user_tz": -60
    },
    "id": "QBN_pYAN_Fq0",
    "outputId": "17c0284c-10f9-4056-88dc-d0174b672016",
    "trusted": true
   },
   "outputs": [
    {
     "name": "stdout",
     "output_type": "stream",
     "text": [
      "\u001b[1m43/43\u001b[0m \u001b[32m━━━━━━━━━━━━━━━━━━━━\u001b[0m\u001b[37m\u001b[0m \u001b[1m87s\u001b[0m 56ms/step - accuracy: 0.6748 - loss: 0.6134\n",
      "Test Loss: 0.6101019978523254, Test Accuracy: 0.6809592843055725\n"
     ]
    }
   ],
   "source": [
    "test_loss, test_accuracy = model_tf.evaluate(test_set)\n",
    "print(f\"Test Loss: {test_loss}, Test Accuracy: {test_accuracy}\")"
   ]
  },
  {
   "cell_type": "code",
   "execution_count": 21,
   "metadata": {
    "colab": {
     "base_uri": "https://localhost:8080/"
    },
    "execution": {
     "iopub.execute_input": "2025-01-17T22:03:06.094564Z",
     "iopub.status.busy": "2025-01-17T22:03:06.094311Z",
     "iopub.status.idle": "2025-01-17T22:04:37.138869Z",
     "shell.execute_reply": "2025-01-17T22:04:37.137915Z",
     "shell.execute_reply.started": "2025-01-17T22:03:06.094543Z"
    },
    "executionInfo": {
     "elapsed": 61551,
     "status": "ok",
     "timestamp": 1736959965956,
     "user": {
      "displayName": "Loris Salsi",
      "userId": "03149293264146914157"
     },
     "user_tz": -60
    },
    "id": "KPv6X-_LCAYm",
    "outputId": "db18358e-104b-4bb7-f4a3-52889c048471",
    "trusted": true
   },
   "outputs": [
    {
     "name": "stdout",
     "output_type": "stream",
     "text": [
      "\u001b[1m2/2\u001b[0m \u001b[32m━━━━━━━━━━━━━━━━━━━━\u001b[0m\u001b[37m\u001b[0m \u001b[1m5s\u001b[0m 13ms/step\n",
      "\u001b[1m2/2\u001b[0m \u001b[32m━━━━━━━━━━━━━━━━━━━━\u001b[0m\u001b[37m\u001b[0m \u001b[1m0s\u001b[0m 22ms/step\n",
      "\u001b[1m2/2\u001b[0m \u001b[32m━━━━━━━━━━━━━━━━━━━━\u001b[0m\u001b[37m\u001b[0m \u001b[1m0s\u001b[0m 22ms/step\n",
      "\u001b[1m2/2\u001b[0m \u001b[32m━━━━━━━━━━━━━━━━━━━━\u001b[0m\u001b[37m\u001b[0m \u001b[1m0s\u001b[0m 22ms/step\n",
      "\u001b[1m2/2\u001b[0m \u001b[32m━━━━━━━━━━━━━━━━━━━━\u001b[0m\u001b[37m\u001b[0m \u001b[1m0s\u001b[0m 21ms/step\n",
      "\u001b[1m2/2\u001b[0m \u001b[32m━━━━━━━━━━━━━━━━━━━━\u001b[0m\u001b[37m\u001b[0m \u001b[1m0s\u001b[0m 21ms/step\n",
      "\u001b[1m2/2\u001b[0m \u001b[32m━━━━━━━━━━━━━━━━━━━━\u001b[0m\u001b[37m\u001b[0m \u001b[1m0s\u001b[0m 24ms/step\n",
      "\u001b[1m2/2\u001b[0m \u001b[32m━━━━━━━━━━━━━━━━━━━━\u001b[0m\u001b[37m\u001b[0m \u001b[1m0s\u001b[0m 22ms/step\n",
      "\u001b[1m2/2\u001b[0m \u001b[32m━━━━━━━━━━━━━━━━━━━━\u001b[0m\u001b[37m\u001b[0m \u001b[1m0s\u001b[0m 22ms/step\n",
      "\u001b[1m2/2\u001b[0m \u001b[32m━━━━━━━━━━━━━━━━━━━━\u001b[0m\u001b[37m\u001b[0m \u001b[1m0s\u001b[0m 22ms/step\n",
      "\u001b[1m2/2\u001b[0m \u001b[32m━━━━━━━━━━━━━━━━━━━━\u001b[0m\u001b[37m\u001b[0m \u001b[1m0s\u001b[0m 22ms/step\n",
      "\u001b[1m2/2\u001b[0m \u001b[32m━━━━━━━━━━━━━━━━━━━━\u001b[0m\u001b[37m\u001b[0m \u001b[1m0s\u001b[0m 22ms/step\n",
      "\u001b[1m2/2\u001b[0m \u001b[32m━━━━━━━━━━━━━━━━━━━━\u001b[0m\u001b[37m\u001b[0m \u001b[1m0s\u001b[0m 22ms/step\n",
      "\u001b[1m2/2\u001b[0m \u001b[32m━━━━━━━━━━━━━━━━━━━━\u001b[0m\u001b[37m\u001b[0m \u001b[1m0s\u001b[0m 22ms/step\n",
      "\u001b[1m2/2\u001b[0m \u001b[32m━━━━━━━━━━━━━━━━━━━━\u001b[0m\u001b[37m\u001b[0m \u001b[1m0s\u001b[0m 21ms/step\n",
      "\u001b[1m2/2\u001b[0m \u001b[32m━━━━━━━━━━━━━━━━━━━━\u001b[0m\u001b[37m\u001b[0m \u001b[1m0s\u001b[0m 22ms/step\n",
      "\u001b[1m2/2\u001b[0m \u001b[32m━━━━━━━━━━━━━━━━━━━━\u001b[0m\u001b[37m\u001b[0m \u001b[1m0s\u001b[0m 21ms/step\n",
      "\u001b[1m2/2\u001b[0m \u001b[32m━━━━━━━━━━━━━━━━━━━━\u001b[0m\u001b[37m\u001b[0m \u001b[1m0s\u001b[0m 22ms/step\n",
      "\u001b[1m2/2\u001b[0m \u001b[32m━━━━━━━━━━━━━━━━━━━━\u001b[0m\u001b[37m\u001b[0m \u001b[1m0s\u001b[0m 22ms/step\n",
      "\u001b[1m2/2\u001b[0m \u001b[32m━━━━━━━━━━━━━━━━━━━━\u001b[0m\u001b[37m\u001b[0m \u001b[1m0s\u001b[0m 22ms/step\n",
      "\u001b[1m2/2\u001b[0m \u001b[32m━━━━━━━━━━━━━━━━━━━━\u001b[0m\u001b[37m\u001b[0m \u001b[1m0s\u001b[0m 22ms/step\n",
      "\u001b[1m2/2\u001b[0m \u001b[32m━━━━━━━━━━━━━━━━━━━━\u001b[0m\u001b[37m\u001b[0m \u001b[1m0s\u001b[0m 22ms/step\n",
      "\u001b[1m2/2\u001b[0m \u001b[32m━━━━━━━━━━━━━━━━━━━━\u001b[0m\u001b[37m\u001b[0m \u001b[1m0s\u001b[0m 22ms/step\n",
      "\u001b[1m2/2\u001b[0m \u001b[32m━━━━━━━━━━━━━━━━━━━━\u001b[0m\u001b[37m\u001b[0m \u001b[1m0s\u001b[0m 22ms/step\n",
      "\u001b[1m2/2\u001b[0m \u001b[32m━━━━━━━━━━━━━━━━━━━━\u001b[0m\u001b[37m\u001b[0m \u001b[1m0s\u001b[0m 22ms/step\n",
      "\u001b[1m2/2\u001b[0m \u001b[32m━━━━━━━━━━━━━━━━━━━━\u001b[0m\u001b[37m\u001b[0m \u001b[1m0s\u001b[0m 22ms/step\n",
      "\u001b[1m2/2\u001b[0m \u001b[32m━━━━━━━━━━━━━━━━━━━━\u001b[0m\u001b[37m\u001b[0m \u001b[1m0s\u001b[0m 22ms/step\n",
      "\u001b[1m2/2\u001b[0m \u001b[32m━━━━━━━━━━━━━━━━━━━━\u001b[0m\u001b[37m\u001b[0m \u001b[1m0s\u001b[0m 21ms/step\n",
      "\u001b[1m2/2\u001b[0m \u001b[32m━━━━━━━━━━━━━━━━━━━━\u001b[0m\u001b[37m\u001b[0m \u001b[1m0s\u001b[0m 22ms/step\n",
      "\u001b[1m2/2\u001b[0m \u001b[32m━━━━━━━━━━━━━━━━━━━━\u001b[0m\u001b[37m\u001b[0m \u001b[1m0s\u001b[0m 22ms/step\n",
      "\u001b[1m2/2\u001b[0m \u001b[32m━━━━━━━━━━━━━━━━━━━━\u001b[0m\u001b[37m\u001b[0m \u001b[1m0s\u001b[0m 22ms/step\n",
      "\u001b[1m2/2\u001b[0m \u001b[32m━━━━━━━━━━━━━━━━━━━━\u001b[0m\u001b[37m\u001b[0m \u001b[1m0s\u001b[0m 21ms/step\n",
      "\u001b[1m2/2\u001b[0m \u001b[32m━━━━━━━━━━━━━━━━━━━━\u001b[0m\u001b[37m\u001b[0m \u001b[1m0s\u001b[0m 22ms/step\n",
      "\u001b[1m2/2\u001b[0m \u001b[32m━━━━━━━━━━━━━━━━━━━━\u001b[0m\u001b[37m\u001b[0m \u001b[1m0s\u001b[0m 22ms/step\n",
      "\u001b[1m2/2\u001b[0m \u001b[32m━━━━━━━━━━━━━━━━━━━━\u001b[0m\u001b[37m\u001b[0m \u001b[1m0s\u001b[0m 21ms/step\n",
      "\u001b[1m2/2\u001b[0m \u001b[32m━━━━━━━━━━━━━━━━━━━━\u001b[0m\u001b[37m\u001b[0m \u001b[1m0s\u001b[0m 22ms/step\n",
      "\u001b[1m2/2\u001b[0m \u001b[32m━━━━━━━━━━━━━━━━━━━━\u001b[0m\u001b[37m\u001b[0m \u001b[1m0s\u001b[0m 22ms/step\n",
      "\u001b[1m2/2\u001b[0m \u001b[32m━━━━━━━━━━━━━━━━━━━━\u001b[0m\u001b[37m\u001b[0m \u001b[1m0s\u001b[0m 22ms/step\n",
      "\u001b[1m2/2\u001b[0m \u001b[32m━━━━━━━━━━━━━━━━━━━━\u001b[0m\u001b[37m\u001b[0m \u001b[1m0s\u001b[0m 22ms/step\n",
      "\u001b[1m2/2\u001b[0m \u001b[32m━━━━━━━━━━━━━━━━━━━━\u001b[0m\u001b[37m\u001b[0m \u001b[1m0s\u001b[0m 21ms/step\n",
      "\u001b[1m2/2\u001b[0m \u001b[32m━━━━━━━━━━━━━━━━━━━━\u001b[0m\u001b[37m\u001b[0m \u001b[1m0s\u001b[0m 22ms/step\n",
      "\u001b[1m2/2\u001b[0m \u001b[32m━━━━━━━━━━━━━━━━━━━━\u001b[0m\u001b[37m\u001b[0m \u001b[1m0s\u001b[0m 22ms/step\n",
      "\u001b[1m2/2\u001b[0m \u001b[32m━━━━━━━━━━━━━━━━━━━━\u001b[0m\u001b[37m\u001b[0m \u001b[1m0s\u001b[0m 22ms/step\n",
      "              precision    recall  f1-score   support\n",
      "\n",
      "           0       0.65      0.86      0.74      1539\n",
      "           1       0.70      0.41      0.51      1213\n",
      "\n",
      "    accuracy                           0.66      2752\n",
      "   macro avg       0.67      0.63      0.63      2752\n",
      "weighted avg       0.67      0.66      0.64      2752\n",
      "\n"
     ]
    }
   ],
   "source": [
    "y_true = []\n",
    "y_pred = []\n",
    "for images, labels in test_set:\n",
    "    preds = model_tf.predict(images)\n",
    "    y_true.extend(labels.numpy())\n",
    "    y_pred.extend((preds > 0.5).astype(int).flatten())\n",
    "\n",
    "print(classification_report(y_true, y_pred))"
   ]
  },
  {
   "cell_type": "markdown",
   "metadata": {
    "id": "dkQkK-NvWBA2"
   },
   "source": [
    "### **Precision**:\n",
    "- **Class 0 (Not Infiltration)**: 65% → The model is moderately effective at correctly classifying negatives.\n",
    "- **Class 1 (Infiltration)**: 70% → Good precision, but there is a significant number of false positives.\n",
    "\n",
    "### **Recall**:\n",
    "- **Class 0**: 86% → High ability to correctly identify negatives.\n",
    "- **Class 1**: 41% → Low ability to capture all positives, indicating many false negatives."
   ]
  },
  {
   "cell_type": "markdown",
   "metadata": {
    "id": "dRjn9PgjNzAh"
   },
   "source": [
    "# Pytorch / MobileNetV2\n",
    "\n"
   ]
  },
  {
   "cell_type": "code",
   "execution_count": 22,
   "metadata": {
    "execution": {
     "iopub.execute_input": "2025-01-17T22:04:37.140009Z",
     "iopub.status.busy": "2025-01-17T22:04:37.139765Z",
     "iopub.status.idle": "2025-01-17T22:04:37.145379Z",
     "shell.execute_reply": "2025-01-17T22:04:37.144618Z",
     "shell.execute_reply.started": "2025-01-17T22:04:37.139987Z"
    },
    "executionInfo": {
     "elapsed": 494,
     "status": "ok",
     "timestamp": 1737118951358,
     "user": {
      "displayName": "Loris Salsi",
      "userId": "03149293264146914157"
     },
     "user_tz": -60
    },
    "id": "JCkz6uhxN7la",
    "trusted": true
   },
   "outputs": [],
   "source": [
    "class ChestXRayDataset(Dataset):\n",
    "    def __init__(self, data, transform=None):\n",
    "        self.data = data\n",
    "        self.transform = transform\n",
    "\n",
    "    def __len__(self):\n",
    "        return len(self.data)\n",
    "\n",
    "    def __getitem__(self, idx):\n",
    "        image_path = self.data[idx]['image_path']\n",
    "        label = 1 if \"Infiltration\" in self.data[idx]['labels'] else 0\n",
    "        image = Image.open(image_path).convert(\"RGB\")\n",
    "\n",
    "        if self.transform:\n",
    "            image = self.transform(image)\n",
    "\n",
    "        return image, label"
   ]
  },
  {
   "cell_type": "code",
   "execution_count": 23,
   "metadata": {
    "execution": {
     "iopub.execute_input": "2025-01-17T22:04:37.146619Z",
     "iopub.status.busy": "2025-01-17T22:04:37.146298Z",
     "iopub.status.idle": "2025-01-17T22:04:37.230208Z",
     "shell.execute_reply": "2025-01-17T22:04:37.229480Z",
     "shell.execute_reply.started": "2025-01-17T22:04:37.146588Z"
    },
    "executionInfo": {
     "elapsed": 988,
     "status": "ok",
     "timestamp": 1737118959017,
     "user": {
      "displayName": "Loris Salsi",
      "userId": "03149293264146914157"
     },
     "user_tz": -60
    },
    "id": "ag4Npg9OZYvu",
    "trusted": true
   },
   "outputs": [],
   "source": [
    "# Transformations\n",
    "transform = transforms.Compose([\n",
    "    transforms.Resize((224, 224)),\n",
    "    transforms.ToTensor()])\n",
    "\n",
    "dataset_pytorch = ChestXRayDataset(balanced_data, transform=transform)\n",
    "train_size = int(0.8 * len(dataset_pytorch))\n",
    "test_size = len(dataset_pytorch) - train_size\n",
    "\n",
    "train_dataset, test_dataset = torch.utils.data.random_split(dataset_pytorch, [train_size, test_size])\n",
    "train_loader = DataLoader(train_dataset, batch_size=64, shuffle=True)\n",
    "test_loader = DataLoader(test_dataset, batch_size=64, shuffle=False)"
   ]
  },
  {
   "cell_type": "markdown",
   "metadata": {
    "id": "4c_TIogewSQi"
   },
   "source": [
    "**Model Description - Fine Tuning**  \n",
    "A binary classification model is defined using MobileNetV2 as the base, pretrained on ImageNet. The base model is used as a feature extractor with its weights retained from the pretraining.\n",
    "\n",
    "Key components include:\n",
    "  \n",
    "- A linear classifier, replacing the original output layer, with a single output logit for binary classification.\n",
    "- Loss function: BCEWithLogitsLoss, which combines sigmoid activation and binary crossentropy for stable handling of logits.\n",
    "- Optimizer: Adam, configured with a learning rate of 0.001."
   ]
  },
  {
   "cell_type": "code",
   "execution_count": 24,
   "metadata": {
    "colab": {
     "base_uri": "https://localhost:8080/"
    },
    "execution": {
     "iopub.execute_input": "2025-01-17T22:04:37.231210Z",
     "iopub.status.busy": "2025-01-17T22:04:37.230968Z",
     "iopub.status.idle": "2025-01-17T22:04:37.744748Z",
     "shell.execute_reply": "2025-01-17T22:04:37.743936Z",
     "shell.execute_reply.started": "2025-01-17T22:04:37.231191Z"
    },
    "executionInfo": {
     "elapsed": 1086,
     "status": "ok",
     "timestamp": 1737118968589,
     "user": {
      "displayName": "Loris Salsi",
      "userId": "03149293264146914157"
     },
     "user_tz": -60
    },
    "id": "mTmkGr1aZcSC",
    "outputId": "fc12ff20-379e-4393-eb8e-c97ce1689802",
    "trusted": true
   },
   "outputs": [
    {
     "name": "stderr",
     "output_type": "stream",
     "text": [
      "/usr/local/lib/python3.10/dist-packages/torchvision/models/_utils.py:208: UserWarning: The parameter 'pretrained' is deprecated since 0.13 and may be removed in the future, please use 'weights' instead.\n",
      "  warnings.warn(\n",
      "/usr/local/lib/python3.10/dist-packages/torchvision/models/_utils.py:223: UserWarning: Arguments other than a weight enum or `None` for 'weights' are deprecated since 0.13 and may be removed in the future. The current behavior is equivalent to passing `weights=MobileNet_V2_Weights.IMAGENET1K_V1`. You can also use `weights=MobileNet_V2_Weights.DEFAULT` to get the most up-to-date weights.\n",
      "  warnings.warn(msg)\n",
      "Downloading: \"https://download.pytorch.org/models/mobilenet_v2-b0353104.pth\" to /root/.cache/torch/hub/checkpoints/mobilenet_v2-b0353104.pth\n",
      "100%|██████████| 13.6M/13.6M [00:00<00:00, 111MB/s] \n"
     ]
    }
   ],
   "source": [
    "# Pre-trained model\n",
    "model = models.mobilenet_v2(pretrained=True)\n",
    "model.classifier[1] = nn.Linear(model.last_channel, 1)  # Binary output\n",
    "device = torch.device(\"cuda\" if torch.cuda.is_available() else \"cpu\")\n",
    "model = model.to(device)\n",
    "\n",
    "# Loss and optimizer\n",
    "criterion = nn.BCEWithLogitsLoss()\n",
    "optimizer = optim.Adam(model.parameters(), lr=0.001)"
   ]
  },
  {
   "cell_type": "code",
   "execution_count": 25,
   "metadata": {
    "execution": {
     "iopub.execute_input": "2025-01-17T22:04:37.746005Z",
     "iopub.status.busy": "2025-01-17T22:04:37.745616Z",
     "iopub.status.idle": "2025-01-17T22:23:04.528766Z",
     "shell.execute_reply": "2025-01-17T22:23:04.527851Z",
     "shell.execute_reply.started": "2025-01-17T22:04:37.745973Z"
    },
    "id": "zhsouOD4bH4d",
    "trusted": true
   },
   "outputs": [
    {
     "name": "stdout",
     "output_type": "stream",
     "text": [
      "Epoch 1/4, Loss: 0.6517\n",
      "Epoch 2/4, Loss: 0.6311\n",
      "Epoch 3/4, Loss: 0.6210\n",
      "Epoch 4/4, Loss: 0.6119\n"
     ]
    }
   ],
   "source": [
    "# Training\n",
    "num_epochs = 4\n",
    "\n",
    "for epoch in range(num_epochs):\n",
    "    model.train()\n",
    "    running_loss = 0.0\n",
    "    for images, labels in train_loader:\n",
    "        images, labels = images.to(device), labels.to(device).float()\n",
    "        optimizer.zero_grad()\n",
    "        outputs = model(images).squeeze()\n",
    "        loss = criterion(outputs, labels)\n",
    "        loss.backward()\n",
    "        optimizer.step()\n",
    "        running_loss += loss.item()\n",
    "\n",
    "    print(f\"Epoch {epoch+1}/{num_epochs}, Loss: {running_loss/len(train_loader):.4f}\")"
   ]
  },
  {
   "cell_type": "code",
   "execution_count": 26,
   "metadata": {
    "execution": {
     "iopub.execute_input": "2025-01-17T22:23:04.530066Z",
     "iopub.status.busy": "2025-01-17T22:23:04.529747Z",
     "iopub.status.idle": "2025-01-17T22:24:05.598777Z",
     "shell.execute_reply": "2025-01-17T22:24:05.597958Z",
     "shell.execute_reply.started": "2025-01-17T22:23:04.530036Z"
    },
    "id": "Q_xsLrd-b8H5",
    "trusted": true
   },
   "outputs": [
    {
     "name": "stdout",
     "output_type": "stream",
     "text": [
      "Test Classification Report:\n",
      "              precision    recall  f1-score   support\n",
      "\n",
      "           0       0.66      0.80      0.73      1590\n",
      "           1       0.64      0.47      0.54      1210\n",
      "\n",
      "    accuracy                           0.66      2800\n",
      "   macro avg       0.65      0.64      0.63      2800\n",
      "weighted avg       0.66      0.66      0.65      2800\n",
      "\n"
     ]
    }
   ],
   "source": [
    "# Validation\n",
    "model.eval()\n",
    "y_true, y_pred = [], []\n",
    "with torch.no_grad():\n",
    "    for images, labels in test_loader:\n",
    "        images, labels = images.to(device), labels.to(device)\n",
    "        outputs = model(images).squeeze()\n",
    "        preds = (torch.sigmoid(outputs) > 0.5).int()\n",
    "        y_true.extend(labels.cpu().numpy())\n",
    "        y_pred.extend(preds.cpu().numpy())\n",
    "\n",
    "print(\"Test Classification Report:\")\n",
    "print(classification_report(y_true, y_pred))"
   ]
  },
  {
   "cell_type": "markdown",
   "metadata": {
    "id": "W2etUnBlWg1w"
   },
   "source": [
    "### **Precision**:\n",
    "- **Class 0 (Not Infiltration)**: 66% → The model performs reasonably well at correctly classifying negatives.\n",
    "- **Class 1 (Infiltration)**: 64% → Moderate precision, with a noticeable number of false positives.\n",
    "\n",
    "### **Recall**:\n",
    "- **Class 0**: 80% → Good ability to identify negatives correctly.\n",
    "- **Class 1**: 47% → Limited ability to capture all positives, indicating a significant number of false negatives."
   ]
  },
  {
   "cell_type": "markdown",
   "metadata": {
    "id": "KvYl-6cQaNy5"
   },
   "source": [
    "# Data Augmentation and Balancing for Class 1  \n",
    "This section implements data augmentation techniques to balance the dataset and improve the model's ability to detect positive cases (Class 1 - \"Infiltration\"). Augmentation is applied selectively to Class 1 images, and the augmented data is combined with the original dataset for training."
   ]
  },
  {
   "cell_type": "markdown",
   "metadata": {
    "id": "gE92LJTye8on"
   },
   "source": [
    "## TensorFlow Keras / MobileNetV2 (with Data Augmentation)"
   ]
  },
  {
   "cell_type": "code",
   "execution_count": 27,
   "metadata": {
    "colab": {
     "base_uri": "https://localhost:8080/"
    },
    "execution": {
     "iopub.execute_input": "2025-01-17T22:24:05.599924Z",
     "iopub.status.busy": "2025-01-17T22:24:05.599606Z",
     "iopub.status.idle": "2025-01-17T22:24:05.606287Z",
     "shell.execute_reply": "2025-01-17T22:24:05.605571Z",
     "shell.execute_reply.started": "2025-01-17T22:24:05.599888Z"
    },
    "executionInfo": {
     "elapsed": 13,
     "status": "ok",
     "timestamp": 1736961176821,
     "user": {
      "displayName": "Loris Salsi",
      "userId": "03149293264146914157"
     },
     "user_tz": -60
    },
    "id": "-me3D_MdObB_",
    "outputId": "f972dd96-473b-4d9a-d283-4ae481eb7e90",
    "trusted": true
   },
   "outputs": [
    {
     "name": "stdout",
     "output_type": "stream",
     "text": [
      "2000\n"
     ]
    }
   ],
   "source": [
    "class_1_sampled_to_augment = random.sample(class_1_sampled, 2000)\n",
    "print(len(class_1_sampled_to_augment))"
   ]
  },
  {
   "cell_type": "code",
   "execution_count": 28,
   "metadata": {
    "execution": {
     "iopub.execute_input": "2025-01-17T22:24:05.607508Z",
     "iopub.status.busy": "2025-01-17T22:24:05.607178Z",
     "iopub.status.idle": "2025-01-17T22:24:05.796573Z",
     "shell.execute_reply": "2025-01-17T22:24:05.795948Z",
     "shell.execute_reply.started": "2025-01-17T22:24:05.607478Z"
    },
    "id": "3S6XTEEHOx15",
    "trusted": true
   },
   "outputs": [],
   "source": [
    "def augment_image(image):\n",
    "    # Augmentation operations\n",
    "    image = tf.image.random_flip_left_right(image)  # Horizontal Flip\n",
    "    image = tf.image.random_flip_up_down(image)    # Vertical Flip\n",
    "    image = tf.image.rot90(image, k=np.random.randint(1, 4))  # Random rotation\n",
    "    return image\n",
    "\n",
    "# Preprocessing and augmentation function\n",
    "def preprocess_and_augment(image_path, label):\n",
    "    image = tf.io.read_file(image_path)\n",
    "    image = tf.image.decode_png(image, channels=3)\n",
    "    image = tf.image.resize(image, [224, 224]) / 255.0\n",
    "    image = augment_image(image)\n",
    "    return image, label\n",
    "\n",
    "class_1_paths_to_augment = [item['image_path'] for item in class_1_sampled_to_augment]\n",
    "class_1_labels_to_augment = [1] * len(class_1_paths_to_augment)\n",
    "class_1_sampled_to_augment = tf.data.Dataset.from_tensor_slices((class_1_paths_to_augment, class_1_labels_to_augment))\n",
    "\n",
    "class_1_sampled_augmented = class_1_sampled_to_augment.map(preprocess_and_augment, num_parallel_calls=tf.data.AUTOTUNE)"
   ]
  },
  {
   "cell_type": "code",
   "execution_count": 29,
   "metadata": {
    "colab": {
     "base_uri": "https://localhost:8080/"
    },
    "execution": {
     "iopub.execute_input": "2025-01-17T22:24:05.797522Z",
     "iopub.status.busy": "2025-01-17T22:24:05.797308Z",
     "iopub.status.idle": "2025-01-17T22:24:16.372978Z",
     "shell.execute_reply": "2025-01-17T22:24:16.372080Z",
     "shell.execute_reply.started": "2025-01-17T22:24:05.797503Z"
    },
    "executionInfo": {
     "elapsed": 7332,
     "status": "ok",
     "timestamp": 1736961184147,
     "user": {
      "displayName": "Loris Salsi",
      "userId": "03149293264146914157"
     },
     "user_tz": -60
    },
    "id": "8jI8a0vN9ybR",
    "outputId": "ca64fca3-fcf1-4971-c0ef-eb4beb6ef5d5",
    "trusted": true
   },
   "outputs": [
    {
     "name": "stdout",
     "output_type": "stream",
     "text": [
      "Number of augmented samples: 2000\n"
     ]
    }
   ],
   "source": [
    "augmented_count = sum(1 for _ in class_1_sampled_augmented)\n",
    "print(f\"Number of augmented samples: {augmented_count}\")"
   ]
  },
  {
   "cell_type": "code",
   "execution_count": 30,
   "metadata": {
    "colab": {
     "base_uri": "https://localhost:8080/"
    },
    "execution": {
     "iopub.execute_input": "2025-01-17T22:24:16.373994Z",
     "iopub.status.busy": "2025-01-17T22:24:16.373777Z",
     "iopub.status.idle": "2025-01-17T22:24:16.384398Z",
     "shell.execute_reply": "2025-01-17T22:24:16.383392Z",
     "shell.execute_reply.started": "2025-01-17T22:24:16.373974Z"
    },
    "executionInfo": {
     "elapsed": 18,
     "status": "ok",
     "timestamp": 1736961184147,
     "user": {
      "displayName": "Loris Salsi",
      "userId": "03149293264146914157"
     },
     "user_tz": -60
    },
    "id": "nwaNec1UVc5Q",
    "outputId": "4c8c8f84-a459-4bc8-f180-49c099ae92f8",
    "trusted": true
   },
   "outputs": [
    {
     "name": "stdout",
     "output_type": "stream",
     "text": [
      "16000\n"
     ]
    }
   ],
   "source": [
    "final_dataset = dataset_nobatch.concatenate(class_1_sampled_augmented)\n",
    "print(len(final_dataset))"
   ]
  },
  {
   "cell_type": "code",
   "execution_count": 31,
   "metadata": {
    "execution": {
     "iopub.execute_input": "2025-01-17T22:24:16.385797Z",
     "iopub.status.busy": "2025-01-17T22:24:16.385461Z",
     "iopub.status.idle": "2025-01-17T22:24:16.400384Z",
     "shell.execute_reply": "2025-01-17T22:24:16.399581Z",
     "shell.execute_reply.started": "2025-01-17T22:24:16.385765Z"
    },
    "id": "1hUEnEe8X93s",
    "trusted": true
   },
   "outputs": [],
   "source": [
    "# Apply shuffle and batching to the combined dataset\n",
    "final_dataset = final_dataset.shuffle(buffer_size=len(final_dataset))\n",
    "final_dataset = final_dataset.batch(64).prefetch(tf.data.AUTOTUNE)"
   ]
  },
  {
   "cell_type": "code",
   "execution_count": 32,
   "metadata": {
    "execution": {
     "iopub.execute_input": "2025-01-17T22:24:16.401190Z",
     "iopub.status.busy": "2025-01-17T22:24:16.401003Z",
     "iopub.status.idle": "2025-01-17T22:24:16.408791Z",
     "shell.execute_reply": "2025-01-17T22:24:16.407987Z",
     "shell.execute_reply.started": "2025-01-17T22:24:16.401173Z"
    },
    "id": "7h5SFQQdyesh",
    "trusted": true
   },
   "outputs": [],
   "source": [
    "dataset_size = len(final_dataset)\n",
    "test_size = int(dataset_size * 0.2)\n",
    "train_size = dataset_size - test_size\n",
    "\n",
    "test_set = final_dataset.take(test_size)  # Top 20% for the test\n",
    "train_set = final_dataset.skip(test_size)  # Remaining 80% for training"
   ]
  },
  {
   "cell_type": "code",
   "execution_count": 33,
   "metadata": {
    "colab": {
     "base_uri": "https://localhost:8080/"
    },
    "execution": {
     "iopub.execute_input": "2025-01-17T22:24:16.409844Z",
     "iopub.status.busy": "2025-01-17T22:24:16.409613Z",
     "iopub.status.idle": "2025-01-17T22:24:16.421416Z",
     "shell.execute_reply": "2025-01-17T22:24:16.420740Z",
     "shell.execute_reply.started": "2025-01-17T22:24:16.409825Z"
    },
    "executionInfo": {
     "elapsed": 15,
     "status": "ok",
     "timestamp": 1736961184149,
     "user": {
      "displayName": "Loris Salsi",
      "userId": "03149293264146914157"
     },
     "user_tz": -60
    },
    "id": "8dymz0-ix2Px",
    "outputId": "c437c21f-8a97-421c-d2fd-23909ed0b5b7",
    "trusted": true
   },
   "outputs": [
    {
     "name": "stdout",
     "output_type": "stream",
     "text": [
      "Dataset totale: 250\n",
      "Test set: 50\n",
      "Training set: 200\n"
     ]
    }
   ],
   "source": [
    "print(f\"Dataset totale: {dataset_size}\")\n",
    "print(f\"Test set: {test_size}\")\n",
    "print(f\"Training set: {train_size}\")"
   ]
  },
  {
   "cell_type": "code",
   "execution_count": 34,
   "metadata": {
    "execution": {
     "iopub.execute_input": "2025-01-17T22:24:16.422672Z",
     "iopub.status.busy": "2025-01-17T22:24:16.422322Z",
     "iopub.status.idle": "2025-01-17T22:24:16.439117Z",
     "shell.execute_reply": "2025-01-17T22:24:16.438485Z",
     "shell.execute_reply.started": "2025-01-17T22:24:16.422619Z"
    },
    "id": "70I2YunzrtIB",
    "trusted": true
   },
   "outputs": [],
   "source": [
    "optimizer = tf.keras.optimizers.Adam(learning_rate=0.001)\n",
    "model_tf.compile(optimizer=optimizer, loss='binary_crossentropy', metrics=['accuracy'])"
   ]
  },
  {
   "cell_type": "code",
   "execution_count": 35,
   "metadata": {
    "colab": {
     "base_uri": "https://localhost:8080/"
    },
    "execution": {
     "iopub.execute_input": "2025-01-17T22:24:16.440115Z",
     "iopub.status.busy": "2025-01-17T22:24:16.439882Z",
     "iopub.status.idle": "2025-01-17T22:37:09.199900Z",
     "shell.execute_reply": "2025-01-17T22:37:09.199094Z",
     "shell.execute_reply.started": "2025-01-17T22:24:16.440096Z"
    },
    "executionInfo": {
     "elapsed": 520284,
     "status": "ok",
     "timestamp": 1736961704420,
     "user": {
      "displayName": "Loris Salsi",
      "userId": "03149293264146914157"
     },
     "user_tz": -60
    },
    "id": "WQ0zEdcPzP3T",
    "outputId": "64fd97b8-b473-4299-f319-8be03e753d0a",
    "trusted": true
   },
   "outputs": [
    {
     "name": "stdout",
     "output_type": "stream",
     "text": [
      "Epoch 1/4\n",
      "\u001b[1m200/200\u001b[0m \u001b[32m━━━━━━━━━━━━━━━━━━━━\u001b[0m\u001b[37m\u001b[0m \u001b[1m194s\u001b[0m 512ms/step - accuracy: 0.6846 - loss: 0.5752 - val_accuracy: 0.7044 - val_loss: 0.5433\n",
      "Epoch 2/4\n",
      "\u001b[1m200/200\u001b[0m \u001b[32m━━━━━━━━━━━━━━━━━━━━\u001b[0m\u001b[37m\u001b[0m \u001b[1m186s\u001b[0m 510ms/step - accuracy: 0.6988 - loss: 0.5467 - val_accuracy: 0.7131 - val_loss: 0.5383\n",
      "Epoch 3/4\n",
      "\u001b[1m200/200\u001b[0m \u001b[32m━━━━━━━━━━━━━━━━━━━━\u001b[0m\u001b[37m\u001b[0m \u001b[1m197s\u001b[0m 532ms/step - accuracy: 0.7039 - loss: 0.5419 - val_accuracy: 0.7047 - val_loss: 0.5342\n",
      "Epoch 4/4\n",
      "\u001b[1m200/200\u001b[0m \u001b[32m━━━━━━━━━━━━━━━━━━━━\u001b[0m\u001b[37m\u001b[0m \u001b[1m195s\u001b[0m 527ms/step - accuracy: 0.7040 - loss: 0.5389 - val_accuracy: 0.7013 - val_loss: 0.5390\n"
     ]
    }
   ],
   "source": [
    "history = model_tf.fit(train_set, epochs=4, validation_data = test_set)"
   ]
  },
  {
   "cell_type": "code",
   "execution_count": 36,
   "metadata": {
    "colab": {
     "base_uri": "https://localhost:8080/"
    },
    "execution": {
     "iopub.execute_input": "2025-01-17T22:37:09.201491Z",
     "iopub.status.busy": "2025-01-17T22:37:09.201151Z",
     "iopub.status.idle": "2025-01-17T22:38:41.227613Z",
     "shell.execute_reply": "2025-01-17T22:38:41.226685Z",
     "shell.execute_reply.started": "2025-01-17T22:37:09.201453Z"
    },
    "executionInfo": {
     "elapsed": 59320,
     "status": "ok",
     "timestamp": 1736961763717,
     "user": {
      "displayName": "Loris Salsi",
      "userId": "03149293264146914157"
     },
     "user_tz": -60
    },
    "id": "r0STPpIBzRLa",
    "outputId": "4051260f-1cc8-41da-de99-bbf8e363e504",
    "trusted": true
   },
   "outputs": [
    {
     "name": "stdout",
     "output_type": "stream",
     "text": [
      "\u001b[1m50/50\u001b[0m \u001b[32m━━━━━━━━━━━━━━━━━━━━\u001b[0m\u001b[37m\u001b[0m \u001b[1m92s\u001b[0m 64ms/step - accuracy: 0.6980 - loss: 0.5511\n",
      "Test Loss: 0.5373219847679138, Test Accuracy: 0.7065625190734863\n"
     ]
    }
   ],
   "source": [
    "test_loss, test_accuracy = model_tf.evaluate(test_set)\n",
    "print(f\"Test Loss: {test_loss}, Test Accuracy: {test_accuracy}\")"
   ]
  },
  {
   "cell_type": "code",
   "execution_count": 37,
   "metadata": {
    "colab": {
     "base_uri": "https://localhost:8080/"
    },
    "execution": {
     "iopub.execute_input": "2025-01-17T22:38:41.228812Z",
     "iopub.status.busy": "2025-01-17T22:38:41.228520Z",
     "iopub.status.idle": "2025-01-17T22:40:21.869775Z",
     "shell.execute_reply": "2025-01-17T22:40:21.868781Z",
     "shell.execute_reply.started": "2025-01-17T22:38:41.228787Z"
    },
    "executionInfo": {
     "elapsed": 64419,
     "status": "ok",
     "timestamp": 1736961828114,
     "user": {
      "displayName": "Loris Salsi",
      "userId": "03149293264146914157"
     },
     "user_tz": -60
    },
    "id": "v5CELpEyC7we",
    "outputId": "1f4e6ab8-8c3f-4c86-8831-e046f2cf5170",
    "trusted": true
   },
   "outputs": [
    {
     "name": "stdout",
     "output_type": "stream",
     "text": [
      "\u001b[1m2/2\u001b[0m \u001b[32m━━━━━━━━━━━━━━━━━━━━\u001b[0m\u001b[37m\u001b[0m \u001b[1m3s\u001b[0m 23ms/step\n",
      "\u001b[1m2/2\u001b[0m \u001b[32m━━━━━━━━━━━━━━━━━━━━\u001b[0m\u001b[37m\u001b[0m \u001b[1m0s\u001b[0m 32ms/step\n",
      "\u001b[1m2/2\u001b[0m \u001b[32m━━━━━━━━━━━━━━━━━━━━\u001b[0m\u001b[37m\u001b[0m \u001b[1m0s\u001b[0m 32ms/step\n",
      "\u001b[1m2/2\u001b[0m \u001b[32m━━━━━━━━━━━━━━━━━━━━\u001b[0m\u001b[37m\u001b[0m \u001b[1m0s\u001b[0m 31ms/step\n",
      "\u001b[1m2/2\u001b[0m \u001b[32m━━━━━━━━━━━━━━━━━━━━\u001b[0m\u001b[37m\u001b[0m \u001b[1m0s\u001b[0m 32ms/step\n",
      "\u001b[1m2/2\u001b[0m \u001b[32m━━━━━━━━━━━━━━━━━━━━\u001b[0m\u001b[37m\u001b[0m \u001b[1m0s\u001b[0m 32ms/step\n",
      "\u001b[1m2/2\u001b[0m \u001b[32m━━━━━━━━━━━━━━━━━━━━\u001b[0m\u001b[37m\u001b[0m \u001b[1m0s\u001b[0m 26ms/step\n",
      "\u001b[1m2/2\u001b[0m \u001b[32m━━━━━━━━━━━━━━━━━━━━\u001b[0m\u001b[37m\u001b[0m \u001b[1m0s\u001b[0m 26ms/step\n",
      "\u001b[1m2/2\u001b[0m \u001b[32m━━━━━━━━━━━━━━━━━━━━\u001b[0m\u001b[37m\u001b[0m \u001b[1m0s\u001b[0m 26ms/step\n",
      "\u001b[1m2/2\u001b[0m \u001b[32m━━━━━━━━━━━━━━━━━━━━\u001b[0m\u001b[37m\u001b[0m \u001b[1m0s\u001b[0m 26ms/step\n",
      "\u001b[1m2/2\u001b[0m \u001b[32m━━━━━━━━━━━━━━━━━━━━\u001b[0m\u001b[37m\u001b[0m \u001b[1m0s\u001b[0m 24ms/step\n",
      "\u001b[1m2/2\u001b[0m \u001b[32m━━━━━━━━━━━━━━━━━━━━\u001b[0m\u001b[37m\u001b[0m \u001b[1m0s\u001b[0m 25ms/step\n",
      "\u001b[1m2/2\u001b[0m \u001b[32m━━━━━━━━━━━━━━━━━━━━\u001b[0m\u001b[37m\u001b[0m \u001b[1m0s\u001b[0m 24ms/step\n",
      "\u001b[1m2/2\u001b[0m \u001b[32m━━━━━━━━━━━━━━━━━━━━\u001b[0m\u001b[37m\u001b[0m \u001b[1m0s\u001b[0m 24ms/step\n",
      "\u001b[1m2/2\u001b[0m \u001b[32m━━━━━━━━━━━━━━━━━━━━\u001b[0m\u001b[37m\u001b[0m \u001b[1m0s\u001b[0m 25ms/step\n",
      "\u001b[1m2/2\u001b[0m \u001b[32m━━━━━━━━━━━━━━━━━━━━\u001b[0m\u001b[37m\u001b[0m \u001b[1m0s\u001b[0m 24ms/step\n",
      "\u001b[1m2/2\u001b[0m \u001b[32m━━━━━━━━━━━━━━━━━━━━\u001b[0m\u001b[37m\u001b[0m \u001b[1m0s\u001b[0m 24ms/step\n",
      "\u001b[1m2/2\u001b[0m \u001b[32m━━━━━━━━━━━━━━━━━━━━\u001b[0m\u001b[37m\u001b[0m \u001b[1m0s\u001b[0m 24ms/step\n",
      "\u001b[1m2/2\u001b[0m \u001b[32m━━━━━━━━━━━━━━━━━━━━\u001b[0m\u001b[37m\u001b[0m \u001b[1m0s\u001b[0m 24ms/step\n",
      "\u001b[1m2/2\u001b[0m \u001b[32m━━━━━━━━━━━━━━━━━━━━\u001b[0m\u001b[37m\u001b[0m \u001b[1m0s\u001b[0m 22ms/step\n",
      "\u001b[1m2/2\u001b[0m \u001b[32m━━━━━━━━━━━━━━━━━━━━\u001b[0m\u001b[37m\u001b[0m \u001b[1m0s\u001b[0m 23ms/step\n",
      "\u001b[1m2/2\u001b[0m \u001b[32m━━━━━━━━━━━━━━━━━━━━\u001b[0m\u001b[37m\u001b[0m \u001b[1m0s\u001b[0m 23ms/step\n",
      "\u001b[1m2/2\u001b[0m \u001b[32m━━━━━━━━━━━━━━━━━━━━\u001b[0m\u001b[37m\u001b[0m \u001b[1m0s\u001b[0m 23ms/step\n",
      "\u001b[1m2/2\u001b[0m \u001b[32m━━━━━━━━━━━━━━━━━━━━\u001b[0m\u001b[37m\u001b[0m \u001b[1m0s\u001b[0m 23ms/step\n",
      "\u001b[1m2/2\u001b[0m \u001b[32m━━━━━━━━━━━━━━━━━━━━\u001b[0m\u001b[37m\u001b[0m \u001b[1m0s\u001b[0m 23ms/step\n",
      "\u001b[1m2/2\u001b[0m \u001b[32m━━━━━━━━━━━━━━━━━━━━\u001b[0m\u001b[37m\u001b[0m \u001b[1m0s\u001b[0m 23ms/step\n",
      "\u001b[1m2/2\u001b[0m \u001b[32m━━━━━━━━━━━━━━━━━━━━\u001b[0m\u001b[37m\u001b[0m \u001b[1m0s\u001b[0m 23ms/step\n",
      "\u001b[1m2/2\u001b[0m \u001b[32m━━━━━━━━━━━━━━━━━━━━\u001b[0m\u001b[37m\u001b[0m \u001b[1m0s\u001b[0m 23ms/step\n",
      "\u001b[1m2/2\u001b[0m \u001b[32m━━━━━━━━━━━━━━━━━━━━\u001b[0m\u001b[37m\u001b[0m \u001b[1m0s\u001b[0m 23ms/step\n",
      "\u001b[1m2/2\u001b[0m \u001b[32m━━━━━━━━━━━━━━━━━━━━\u001b[0m\u001b[37m\u001b[0m \u001b[1m0s\u001b[0m 23ms/step\n",
      "\u001b[1m2/2\u001b[0m \u001b[32m━━━━━━━━━━━━━━━━━━━━\u001b[0m\u001b[37m\u001b[0m \u001b[1m0s\u001b[0m 22ms/step\n",
      "\u001b[1m2/2\u001b[0m \u001b[32m━━━━━━━━━━━━━━━━━━━━\u001b[0m\u001b[37m\u001b[0m \u001b[1m0s\u001b[0m 23ms/step\n",
      "\u001b[1m2/2\u001b[0m \u001b[32m━━━━━━━━━━━━━━━━━━━━\u001b[0m\u001b[37m\u001b[0m \u001b[1m0s\u001b[0m 23ms/step\n",
      "\u001b[1m2/2\u001b[0m \u001b[32m━━━━━━━━━━━━━━━━━━━━\u001b[0m\u001b[37m\u001b[0m \u001b[1m0s\u001b[0m 23ms/step\n",
      "\u001b[1m2/2\u001b[0m \u001b[32m━━━━━━━━━━━━━━━━━━━━\u001b[0m\u001b[37m\u001b[0m \u001b[1m0s\u001b[0m 23ms/step\n",
      "\u001b[1m2/2\u001b[0m \u001b[32m━━━━━━━━━━━━━━━━━━━━\u001b[0m\u001b[37m\u001b[0m \u001b[1m0s\u001b[0m 23ms/step\n",
      "\u001b[1m2/2\u001b[0m \u001b[32m━━━━━━━━━━━━━━━━━━━━\u001b[0m\u001b[37m\u001b[0m \u001b[1m0s\u001b[0m 23ms/step\n",
      "\u001b[1m2/2\u001b[0m \u001b[32m━━━━━━━━━━━━━━━━━━━━\u001b[0m\u001b[37m\u001b[0m \u001b[1m0s\u001b[0m 22ms/step\n",
      "\u001b[1m2/2\u001b[0m \u001b[32m━━━━━━━━━━━━━━━━━━━━\u001b[0m\u001b[37m\u001b[0m \u001b[1m0s\u001b[0m 23ms/step\n",
      "\u001b[1m2/2\u001b[0m \u001b[32m━━━━━━━━━━━━━━━━━━━━\u001b[0m\u001b[37m\u001b[0m \u001b[1m0s\u001b[0m 22ms/step\n",
      "\u001b[1m2/2\u001b[0m \u001b[32m━━━━━━━━━━━━━━━━━━━━\u001b[0m\u001b[37m\u001b[0m \u001b[1m0s\u001b[0m 22ms/step\n",
      "\u001b[1m2/2\u001b[0m \u001b[32m━━━━━━━━━━━━━━━━━━━━\u001b[0m\u001b[37m\u001b[0m \u001b[1m0s\u001b[0m 22ms/step\n",
      "\u001b[1m2/2\u001b[0m \u001b[32m━━━━━━━━━━━━━━━━━━━━\u001b[0m\u001b[37m\u001b[0m \u001b[1m0s\u001b[0m 22ms/step\n",
      "\u001b[1m2/2\u001b[0m \u001b[32m━━━━━━━━━━━━━━━━━━━━\u001b[0m\u001b[37m\u001b[0m \u001b[1m0s\u001b[0m 22ms/step\n",
      "\u001b[1m2/2\u001b[0m \u001b[32m━━━━━━━━━━━━━━━━━━━━\u001b[0m\u001b[37m\u001b[0m \u001b[1m0s\u001b[0m 22ms/step\n",
      "\u001b[1m2/2\u001b[0m \u001b[32m━━━━━━━━━━━━━━━━━━━━\u001b[0m\u001b[37m\u001b[0m \u001b[1m0s\u001b[0m 22ms/step\n",
      "\u001b[1m2/2\u001b[0m \u001b[32m━━━━━━━━━━━━━━━━━━━━\u001b[0m\u001b[37m\u001b[0m \u001b[1m0s\u001b[0m 23ms/step\n",
      "\u001b[1m2/2\u001b[0m \u001b[32m━━━━━━━━━━━━━━━━━━━━\u001b[0m\u001b[37m\u001b[0m \u001b[1m0s\u001b[0m 22ms/step\n",
      "\u001b[1m2/2\u001b[0m \u001b[32m━━━━━━━━━━━━━━━━━━━━\u001b[0m\u001b[37m\u001b[0m \u001b[1m0s\u001b[0m 23ms/step\n",
      "\u001b[1m2/2\u001b[0m \u001b[32m━━━━━━━━━━━━━━━━━━━━\u001b[0m\u001b[37m\u001b[0m \u001b[1m0s\u001b[0m 22ms/step\n",
      "Classification report for threshold = 0.4\n",
      "              precision    recall  f1-score   support\n",
      "\n",
      "           0       0.69      0.79      0.73      1589\n",
      "           1       0.76      0.64      0.69      1611\n",
      "\n",
      "    accuracy                           0.72      3200\n",
      "   macro avg       0.72      0.72      0.71      3200\n",
      "weighted avg       0.72      0.72      0.71      3200\n",
      "\n",
      "Classification report for threshold = 0.5\n",
      "              precision    recall  f1-score   support\n",
      "\n",
      "           0       0.65      0.90      0.75      1589\n",
      "           1       0.85      0.52      0.64      1611\n",
      "\n",
      "    accuracy                           0.71      3200\n",
      "   macro avg       0.75      0.71      0.70      3200\n",
      "weighted avg       0.75      0.71      0.70      3200\n",
      "\n"
     ]
    }
   ],
   "source": [
    "y_true = []\n",
    "y_pred = []\n",
    "\n",
    "for images, labels in test_set:\n",
    "    preds = model_tf.predict(images)\n",
    "    y_true.extend(labels.numpy())\n",
    "    y_pred.extend(preds.flatten())\n",
    "\n",
    "y_true = np.array(y_true)\n",
    "y_pred = np.array(y_pred)\n",
    "\n",
    "thresholds = [0.4, 0.5]\n",
    "for threshold in thresholds:\n",
    "    y_pred_class = (y_pred > threshold).astype(int)\n",
    "    print(f\"Classification report for threshold = {threshold}\")\n",
    "    print(classification_report(y_true, y_pred_class))"
   ]
  },
  {
   "cell_type": "markdown",
   "metadata": {},
   "source": [
    "### **Precision**:\n",
    "- **Class 0 (Not Infiltration)**: 65%\n",
    "- **Class 1 (Infiltration)**: 85%\n",
    "\n",
    "### **Recall**:\n",
    "- **Class 0**: 90%\n",
    "- **Class 1**: 52%"
   ]
  },
  {
   "cell_type": "code",
   "execution_count": 39,
   "metadata": {
    "execution": {
     "iopub.execute_input": "2025-01-17T22:49:17.681189Z",
     "iopub.status.busy": "2025-01-17T22:49:17.680811Z",
     "iopub.status.idle": "2025-01-17T22:49:18.045356Z",
     "shell.execute_reply": "2025-01-17T22:49:18.044271Z",
     "shell.execute_reply.started": "2025-01-17T22:49:17.681163Z"
    },
    "trusted": true
   },
   "outputs": [
    {
     "data": {
      "image/png": "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",
      "text/plain": [
       "<Figure size 640x480 with 2 Axes>"
      ]
     },
     "metadata": {},
     "output_type": "display_data"
    }
   ],
   "source": [
    "threshold = 0.5\n",
    "y_pred_class = (y_pred > threshold).astype(int)\n",
    "cm = confusion_matrix(y_true, y_pred_class)\n",
    "\n",
    "disp = ConfusionMatrixDisplay(confusion_matrix=cm, display_labels=['Class 0', 'Class 1'])\n",
    "disp.plot(cmap='Blues', values_format='d')\n",
    "plt.title(f'Confusion Matrix (Threshold = {threshold})')\n",
    "plt.show()"
   ]
  },
  {
   "cell_type": "markdown",
   "metadata": {
    "id": "C3L-2GYM-HJc"
   },
   "source": [
    "**Model Description - Fine Tuning**   \n",
    "A binary classification model is defined using MobileNetV2 as the base, pretrained on ImageNet. The base model is used as a feature extractor with its weights frozen (trainable=False).\n",
    "\n",
    "Key components include:  \n",
    "- GlobalMaxPooling2D.   \n",
    "- A fully connected layer with 64 units and ReLU activation.\n",
    "- An output layer with 1 unit and sigmoid activation for binary classification.  \n",
    "- Optimizer: Adam, configured with a learning rate of 0.001.\n",
    "- Loss function: Binary crossentropy, suitable for binary classification tasks.\n",
    "- Metric: Accuracy, to evaluate the model’s performance."
   ]
  },
  {
   "cell_type": "code",
   "execution_count": 42,
   "metadata": {
    "execution": {
     "iopub.execute_input": "2025-01-17T22:50:29.389341Z",
     "iopub.status.busy": "2025-01-17T22:50:29.389026Z",
     "iopub.status.idle": "2025-01-17T22:50:29.414298Z",
     "shell.execute_reply": "2025-01-17T22:50:29.413566Z",
     "shell.execute_reply.started": "2025-01-17T22:50:29.389316Z"
    },
    "id": "V_8cFFGWl300",
    "trusted": true
   },
   "outputs": [],
   "source": [
    "model_tf_max = tf.keras.Sequential([base_model,\n",
    "    tf.keras.layers.GlobalMaxPooling2D(),\n",
    "    tf.keras.layers.Dense(64, activation='relu'),\n",
    "    tf.keras.layers.Dense(1, activation='sigmoid')])"
   ]
  },
  {
   "cell_type": "code",
   "execution_count": 43,
   "metadata": {
    "execution": {
     "iopub.execute_input": "2025-01-17T22:50:33.893490Z",
     "iopub.status.busy": "2025-01-17T22:50:33.893124Z",
     "iopub.status.idle": "2025-01-17T22:50:33.902723Z",
     "shell.execute_reply": "2025-01-17T22:50:33.901737Z",
     "shell.execute_reply.started": "2025-01-17T22:50:33.893461Z"
    },
    "id": "Jpycp1KimGCl",
    "trusted": true
   },
   "outputs": [],
   "source": [
    "optimizer = tf.keras.optimizers.Adam(learning_rate=0.001)\n",
    "model_tf_max.compile(optimizer=optimizer, loss='binary_crossentropy', metrics=['accuracy'])"
   ]
  },
  {
   "cell_type": "code",
   "execution_count": 44,
   "metadata": {
    "execution": {
     "iopub.execute_input": "2025-01-17T22:50:36.612584Z",
     "iopub.status.busy": "2025-01-17T22:50:36.612289Z",
     "iopub.status.idle": "2025-01-17T23:08:12.854429Z",
     "shell.execute_reply": "2025-01-17T23:08:12.853591Z",
     "shell.execute_reply.started": "2025-01-17T22:50:36.612560Z"
    },
    "id": "b5B4uxZTqZqy",
    "trusted": true
   },
   "outputs": [
    {
     "name": "stdout",
     "output_type": "stream",
     "text": [
      "Epoch 1/5\n",
      "\u001b[1m200/200\u001b[0m \u001b[32m━━━━━━━━━━━━━━━━━━━━\u001b[0m\u001b[37m\u001b[0m \u001b[1m205s\u001b[0m 546ms/step - accuracy: 0.5953 - loss: 1.2118 - val_accuracy: 0.6837 - val_loss: 0.5745\n",
      "Epoch 2/5\n",
      "\u001b[1m200/200\u001b[0m \u001b[32m━━━━━━━━━━━━━━━━━━━━\u001b[0m\u001b[37m\u001b[0m \u001b[1m192s\u001b[0m 520ms/step - accuracy: 0.6688 - loss: 0.5872 - val_accuracy: 0.6869 - val_loss: 0.5609\n",
      "Epoch 3/5\n",
      "\u001b[1m200/200\u001b[0m \u001b[32m━━━━━━━━━━━━━━━━━━━━\u001b[0m\u001b[37m\u001b[0m \u001b[1m192s\u001b[0m 523ms/step - accuracy: 0.6662 - loss: 0.5799 - val_accuracy: 0.6928 - val_loss: 0.5583\n",
      "Epoch 4/5\n",
      "\u001b[1m200/200\u001b[0m \u001b[32m━━━━━━━━━━━━━━━━━━━━\u001b[0m\u001b[37m\u001b[0m \u001b[1m187s\u001b[0m 505ms/step - accuracy: 0.6764 - loss: 0.5697 - val_accuracy: 0.6553 - val_loss: 0.5810\n",
      "Epoch 5/5\n",
      "\u001b[1m200/200\u001b[0m \u001b[32m━━━━━━━━━━━━━━━━━━━━\u001b[0m\u001b[37m\u001b[0m \u001b[1m188s\u001b[0m 513ms/step - accuracy: 0.6804 - loss: 0.5607 - val_accuracy: 0.6834 - val_loss: 0.5569\n",
      "\u001b[1m50/50\u001b[0m \u001b[32m━━━━━━━━━━━━━━━━━━━━\u001b[0m\u001b[37m\u001b[0m \u001b[1m93s\u001b[0m 64ms/step - accuracy: 0.6804 - loss: 0.5600\n",
      "Test Loss: 0.5648374557495117, Test Accuracy: 0.6781250238418579\n"
     ]
    }
   ],
   "source": [
    "history = model_tf_max.fit(train_set, epochs=5,validation_data=test_set)\n",
    "\n",
    "test_loss, test_accuracy = model_tf_max.evaluate(test_set)\n",
    "print(f\"Test Loss: {test_loss}, Test Accuracy: {test_accuracy}\")"
   ]
  },
  {
   "cell_type": "code",
   "execution_count": 45,
   "metadata": {
    "execution": {
     "iopub.execute_input": "2025-01-17T23:08:12.950294Z",
     "iopub.status.busy": "2025-01-17T23:08:12.949944Z",
     "iopub.status.idle": "2025-01-17T23:09:46.333154Z",
     "shell.execute_reply": "2025-01-17T23:09:46.332327Z",
     "shell.execute_reply.started": "2025-01-17T23:08:12.950266Z"
    },
    "id": "k-cQLvtLsvGZ",
    "trusted": true
   },
   "outputs": [
    {
     "name": "stdout",
     "output_type": "stream",
     "text": [
      "\u001b[1m2/2\u001b[0m \u001b[32m━━━━━━━━━━━━━━━━━━━━\u001b[0m\u001b[37m\u001b[0m \u001b[1m3s\u001b[0m 25ms/step\n",
      "\u001b[1m2/2\u001b[0m \u001b[32m━━━━━━━━━━━━━━━━━━━━\u001b[0m\u001b[37m\u001b[0m \u001b[1m0s\u001b[0m 32ms/step\n",
      "\u001b[1m2/2\u001b[0m \u001b[32m━━━━━━━━━━━━━━━━━━━━\u001b[0m\u001b[37m\u001b[0m \u001b[1m0s\u001b[0m 31ms/step\n",
      "\u001b[1m2/2\u001b[0m \u001b[32m━━━━━━━━━━━━━━━━━━━━\u001b[0m\u001b[37m\u001b[0m \u001b[1m0s\u001b[0m 32ms/step\n",
      "\u001b[1m2/2\u001b[0m \u001b[32m━━━━━━━━━━━━━━━━━━━━\u001b[0m\u001b[37m\u001b[0m \u001b[1m0s\u001b[0m 26ms/step\n",
      "\u001b[1m2/2\u001b[0m \u001b[32m━━━━━━━━━━━━━━━━━━━━\u001b[0m\u001b[37m\u001b[0m \u001b[1m0s\u001b[0m 25ms/step\n",
      "\u001b[1m2/2\u001b[0m \u001b[32m━━━━━━━━━━━━━━━━━━━━\u001b[0m\u001b[37m\u001b[0m \u001b[1m0s\u001b[0m 26ms/step\n",
      "\u001b[1m2/2\u001b[0m \u001b[32m━━━━━━━━━━━━━━━━━━━━\u001b[0m\u001b[37m\u001b[0m \u001b[1m0s\u001b[0m 24ms/step\n",
      "\u001b[1m2/2\u001b[0m \u001b[32m━━━━━━━━━━━━━━━━━━━━\u001b[0m\u001b[37m\u001b[0m \u001b[1m0s\u001b[0m 22ms/step\n",
      "\u001b[1m2/2\u001b[0m \u001b[32m━━━━━━━━━━━━━━━━━━━━\u001b[0m\u001b[37m\u001b[0m \u001b[1m0s\u001b[0m 24ms/step\n",
      "\u001b[1m2/2\u001b[0m \u001b[32m━━━━━━━━━━━━━━━━━━━━\u001b[0m\u001b[37m\u001b[0m \u001b[1m0s\u001b[0m 23ms/step\n",
      "\u001b[1m2/2\u001b[0m \u001b[32m━━━━━━━━━━━━━━━━━━━━\u001b[0m\u001b[37m\u001b[0m \u001b[1m0s\u001b[0m 23ms/step\n",
      "\u001b[1m2/2\u001b[0m \u001b[32m━━━━━━━━━━━━━━━━━━━━\u001b[0m\u001b[37m\u001b[0m \u001b[1m0s\u001b[0m 114ms/step\n",
      "\u001b[1m2/2\u001b[0m \u001b[32m━━━━━━━━━━━━━━━━━━━━\u001b[0m\u001b[37m\u001b[0m \u001b[1m0s\u001b[0m 22ms/step\n",
      "\u001b[1m2/2\u001b[0m \u001b[32m━━━━━━━━━━━━━━━━━━━━\u001b[0m\u001b[37m\u001b[0m \u001b[1m0s\u001b[0m 23ms/step\n",
      "\u001b[1m2/2\u001b[0m \u001b[32m━━━━━━━━━━━━━━━━━━━━\u001b[0m\u001b[37m\u001b[0m \u001b[1m0s\u001b[0m 23ms/step\n",
      "\u001b[1m2/2\u001b[0m \u001b[32m━━━━━━━━━━━━━━━━━━━━\u001b[0m\u001b[37m\u001b[0m \u001b[1m0s\u001b[0m 24ms/step\n",
      "\u001b[1m2/2\u001b[0m \u001b[32m━━━━━━━━━━━━━━━━━━━━\u001b[0m\u001b[37m\u001b[0m \u001b[1m0s\u001b[0m 22ms/step\n",
      "\u001b[1m2/2\u001b[0m \u001b[32m━━━━━━━━━━━━━━━━━━━━\u001b[0m\u001b[37m\u001b[0m \u001b[1m0s\u001b[0m 22ms/step\n",
      "\u001b[1m2/2\u001b[0m \u001b[32m━━━━━━━━━━━━━━━━━━━━\u001b[0m\u001b[37m\u001b[0m \u001b[1m0s\u001b[0m 22ms/step\n",
      "\u001b[1m2/2\u001b[0m \u001b[32m━━━━━━━━━━━━━━━━━━━━\u001b[0m\u001b[37m\u001b[0m \u001b[1m0s\u001b[0m 23ms/step\n",
      "\u001b[1m2/2\u001b[0m \u001b[32m━━━━━━━━━━━━━━━━━━━━\u001b[0m\u001b[37m\u001b[0m \u001b[1m0s\u001b[0m 22ms/step\n",
      "\u001b[1m2/2\u001b[0m \u001b[32m━━━━━━━━━━━━━━━━━━━━\u001b[0m\u001b[37m\u001b[0m \u001b[1m0s\u001b[0m 22ms/step\n",
      "\u001b[1m2/2\u001b[0m \u001b[32m━━━━━━━━━━━━━━━━━━━━\u001b[0m\u001b[37m\u001b[0m \u001b[1m0s\u001b[0m 22ms/step\n",
      "\u001b[1m2/2\u001b[0m \u001b[32m━━━━━━━━━━━━━━━━━━━━\u001b[0m\u001b[37m\u001b[0m \u001b[1m0s\u001b[0m 22ms/step\n",
      "\u001b[1m2/2\u001b[0m \u001b[32m━━━━━━━━━━━━━━━━━━━━\u001b[0m\u001b[37m\u001b[0m \u001b[1m0s\u001b[0m 22ms/step\n",
      "\u001b[1m2/2\u001b[0m \u001b[32m━━━━━━━━━━━━━━━━━━━━\u001b[0m\u001b[37m\u001b[0m \u001b[1m0s\u001b[0m 22ms/step\n",
      "\u001b[1m2/2\u001b[0m \u001b[32m━━━━━━━━━━━━━━━━━━━━\u001b[0m\u001b[37m\u001b[0m \u001b[1m0s\u001b[0m 22ms/step\n",
      "\u001b[1m2/2\u001b[0m \u001b[32m━━━━━━━━━━━━━━━━━━━━\u001b[0m\u001b[37m\u001b[0m \u001b[1m0s\u001b[0m 23ms/step\n",
      "\u001b[1m2/2\u001b[0m \u001b[32m━━━━━━━━━━━━━━━━━━━━\u001b[0m\u001b[37m\u001b[0m \u001b[1m0s\u001b[0m 22ms/step\n",
      "\u001b[1m2/2\u001b[0m \u001b[32m━━━━━━━━━━━━━━━━━━━━\u001b[0m\u001b[37m\u001b[0m \u001b[1m0s\u001b[0m 22ms/step\n",
      "\u001b[1m2/2\u001b[0m \u001b[32m━━━━━━━━━━━━━━━━━━━━\u001b[0m\u001b[37m\u001b[0m \u001b[1m0s\u001b[0m 22ms/step\n",
      "\u001b[1m2/2\u001b[0m \u001b[32m━━━━━━━━━━━━━━━━━━━━\u001b[0m\u001b[37m\u001b[0m \u001b[1m0s\u001b[0m 22ms/step\n",
      "\u001b[1m2/2\u001b[0m \u001b[32m━━━━━━━━━━━━━━━━━━━━\u001b[0m\u001b[37m\u001b[0m \u001b[1m0s\u001b[0m 22ms/step\n",
      "\u001b[1m2/2\u001b[0m \u001b[32m━━━━━━━━━━━━━━━━━━━━\u001b[0m\u001b[37m\u001b[0m \u001b[1m0s\u001b[0m 22ms/step\n",
      "\u001b[1m2/2\u001b[0m \u001b[32m━━━━━━━━━━━━━━━━━━━━\u001b[0m\u001b[37m\u001b[0m \u001b[1m0s\u001b[0m 22ms/step\n",
      "\u001b[1m2/2\u001b[0m \u001b[32m━━━━━━━━━━━━━━━━━━━━\u001b[0m\u001b[37m\u001b[0m \u001b[1m0s\u001b[0m 22ms/step\n",
      "\u001b[1m2/2\u001b[0m \u001b[32m━━━━━━━━━━━━━━━━━━━━\u001b[0m\u001b[37m\u001b[0m \u001b[1m0s\u001b[0m 22ms/step\n",
      "\u001b[1m2/2\u001b[0m \u001b[32m━━━━━━━━━━━━━━━━━━━━\u001b[0m\u001b[37m\u001b[0m \u001b[1m0s\u001b[0m 22ms/step\n",
      "\u001b[1m2/2\u001b[0m \u001b[32m━━━━━━━━━━━━━━━━━━━━\u001b[0m\u001b[37m\u001b[0m \u001b[1m0s\u001b[0m 22ms/step\n",
      "\u001b[1m2/2\u001b[0m \u001b[32m━━━━━━━━━━━━━━━━━━━━\u001b[0m\u001b[37m\u001b[0m \u001b[1m0s\u001b[0m 23ms/step\n",
      "\u001b[1m2/2\u001b[0m \u001b[32m━━━━━━━━━━━━━━━━━━━━\u001b[0m\u001b[37m\u001b[0m \u001b[1m0s\u001b[0m 22ms/step\n",
      "\u001b[1m2/2\u001b[0m \u001b[32m━━━━━━━━━━━━━━━━━━━━\u001b[0m\u001b[37m\u001b[0m \u001b[1m0s\u001b[0m 22ms/step\n",
      "\u001b[1m2/2\u001b[0m \u001b[32m━━━━━━━━━━━━━━━━━━━━\u001b[0m\u001b[37m\u001b[0m \u001b[1m0s\u001b[0m 22ms/step\n",
      "\u001b[1m2/2\u001b[0m \u001b[32m━━━━━━━━━━━━━━━━━━━━\u001b[0m\u001b[37m\u001b[0m \u001b[1m0s\u001b[0m 22ms/step\n",
      "\u001b[1m2/2\u001b[0m \u001b[32m━━━━━━━━━━━━━━━━━━━━\u001b[0m\u001b[37m\u001b[0m \u001b[1m0s\u001b[0m 22ms/step\n",
      "\u001b[1m2/2\u001b[0m \u001b[32m━━━━━━━━━━━━━━━━━━━━\u001b[0m\u001b[37m\u001b[0m \u001b[1m0s\u001b[0m 22ms/step\n",
      "\u001b[1m2/2\u001b[0m \u001b[32m━━━━━━━━━━━━━━━━━━━━\u001b[0m\u001b[37m\u001b[0m \u001b[1m0s\u001b[0m 22ms/step\n",
      "\u001b[1m2/2\u001b[0m \u001b[32m━━━━━━━━━━━━━━━━━━━━\u001b[0m\u001b[37m\u001b[0m \u001b[1m0s\u001b[0m 22ms/step\n",
      "\u001b[1m2/2\u001b[0m \u001b[32m━━━━━━━━━━━━━━━━━━━━\u001b[0m\u001b[37m\u001b[0m \u001b[1m0s\u001b[0m 21ms/step\n",
      "Classification report for threshold = 0.4\n",
      "              precision    recall  f1-score   support\n",
      "\n",
      "           0       0.76      0.38      0.50      1592\n",
      "           1       0.59      0.88      0.71      1608\n",
      "\n",
      "    accuracy                           0.63      3200\n",
      "   macro avg       0.67      0.63      0.60      3200\n",
      "weighted avg       0.67      0.63      0.60      3200\n",
      "\n",
      "Classification report for threshold = 0.5\n",
      "              precision    recall  f1-score   support\n",
      "\n",
      "           0       0.71      0.60      0.65      1592\n",
      "           1       0.66      0.75      0.70      1608\n",
      "\n",
      "    accuracy                           0.68      3200\n",
      "   macro avg       0.68      0.68      0.67      3200\n",
      "weighted avg       0.68      0.68      0.67      3200\n",
      "\n"
     ]
    }
   ],
   "source": [
    "y_true = []\n",
    "y_pred = []\n",
    "\n",
    "for images, labels in test_set:\n",
    "    preds = model_tf_max.predict(images)\n",
    "    y_true.extend(labels.numpy())\n",
    "    y_pred.extend(preds.flatten())\n",
    "\n",
    "y_true = np.array(y_true)\n",
    "y_pred = np.array(y_pred)\n",
    "\n",
    "thresholds = [0.4, 0.5]\n",
    "for threshold in thresholds:\n",
    "    y_pred_class = (y_pred > threshold).astype(int)\n",
    "    print(f\"Classification report for threshold = {threshold}\")\n",
    "    print(classification_report(y_true, y_pred_class))"
   ]
  },
  {
   "cell_type": "markdown",
   "metadata": {},
   "source": [
    "### **Precision**:\n",
    "- **Class 0 (Not Infiltration)**: 71%  \n",
    "- **Class 1 (Infiltration)**: 66%  \n",
    "\n",
    "### **Recall**:\n",
    "- **Class 0**: 60%\n",
    "- **Class 1**: 75% "
   ]
  },
  {
   "cell_type": "code",
   "execution_count": 46,
   "metadata": {
    "execution": {
     "iopub.execute_input": "2025-01-17T23:09:46.334760Z",
     "iopub.status.busy": "2025-01-17T23:09:46.334446Z",
     "iopub.status.idle": "2025-01-17T23:09:46.554273Z",
     "shell.execute_reply": "2025-01-17T23:09:46.553329Z",
     "shell.execute_reply.started": "2025-01-17T23:09:46.334737Z"
    },
    "trusted": true
   },
   "outputs": [
    {
     "data": {
      "image/png": "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",
      "text/plain": [
       "<Figure size 640x480 with 2 Axes>"
      ]
     },
     "metadata": {},
     "output_type": "display_data"
    }
   ],
   "source": [
    "threshold = 0.5\n",
    "y_pred_class = (y_pred > threshold).astype(int)\n",
    "cm = confusion_matrix(y_true, y_pred_class)\n",
    "\n",
    "disp = ConfusionMatrixDisplay(confusion_matrix=cm, display_labels=['Class 0', 'Class 1'])\n",
    "disp.plot(cmap='Blues', values_format='d')\n",
    "plt.title(f'Confusion Matrix (Threshold = {threshold})')\n",
    "plt.show()"
   ]
  },
  {
   "cell_type": "markdown",
   "metadata": {
    "id": "LqEAIcv8Rm87"
   },
   "source": [
    "## Pytorch / MobileNetV2 (with Data Augmentation)\n"
   ]
  },
  {
   "cell_type": "code",
   "execution_count": 47,
   "metadata": {
    "execution": {
     "iopub.execute_input": "2025-01-17T23:09:46.555580Z",
     "iopub.status.busy": "2025-01-17T23:09:46.555365Z",
     "iopub.status.idle": "2025-01-17T23:09:46.560891Z",
     "shell.execute_reply": "2025-01-17T23:09:46.559823Z",
     "shell.execute_reply.started": "2025-01-17T23:09:46.555561Z"
    },
    "id": "4pudLRZjZqGo",
    "trusted": true
   },
   "outputs": [],
   "source": [
    "# Transformations with Data Augmentation\n",
    "augmentation_transforms = transforms.Compose([\n",
    "    transforms.RandomHorizontalFlip(p=0.5),  # Horizontal Flip\n",
    "    transforms.RandomVerticalFlip(p=0.5),    # Vertical Flip\n",
    "    transforms.RandomRotation(degrees=90),   # Random rotation\n",
    "    transforms.Resize((224, 224)),\n",
    "    transforms.ToTensor()])\n",
    "\n",
    "# Basic transformations (without augmentation)\n",
    "base_transforms = transforms.Compose([\n",
    "    transforms.Resize((224, 224)),\n",
    "    transforms.ToTensor()])\n",
    "\n",
    "# Original dataset with basic transformations\n",
    "base_dataset = ChestXRayDataset(balanced_data, transform=base_transforms)"
   ]
  },
  {
   "cell_type": "code",
   "execution_count": 48,
   "metadata": {
    "execution": {
     "iopub.execute_input": "2025-01-17T23:09:46.561995Z",
     "iopub.status.busy": "2025-01-17T23:09:46.561721Z",
     "iopub.status.idle": "2025-01-17T23:09:46.579664Z",
     "shell.execute_reply": "2025-01-17T23:09:46.578963Z",
     "shell.execute_reply.started": "2025-01-17T23:09:46.561974Z"
    },
    "id": "QEjbTgaGO8X9",
    "trusted": true
   },
   "outputs": [
    {
     "name": "stdout",
     "output_type": "stream",
     "text": [
      "2000\n",
      "16000\n"
     ]
    }
   ],
   "source": [
    "# Dataset augmented for class 1 only\n",
    "class_1_sampled_to_augment = random.sample(class_1_sampled, 2000)\n",
    "class_1_data_augmented = ChestXRayDataset(class_1_sampled_to_augment, transform=augmentation_transforms)\n",
    "print(len(class_1_data_augmented))\n",
    "\n",
    "# Combine the original and augmented dataset\n",
    "combined_dataset = ConcatDataset([base_dataset, class_1_data_augmented])\n",
    "print(len(combined_dataset))"
   ]
  },
  {
   "cell_type": "code",
   "execution_count": 55,
   "metadata": {
    "execution": {
     "iopub.execute_input": "2025-01-18T00:43:28.485794Z",
     "iopub.status.busy": "2025-01-18T00:43:28.485410Z",
     "iopub.status.idle": "2025-01-18T00:43:28.491750Z",
     "shell.execute_reply": "2025-01-18T00:43:28.491083Z",
     "shell.execute_reply.started": "2025-01-18T00:43:28.485762Z"
    },
    "id": "klJLhhZDPJMj",
    "trusted": true
   },
   "outputs": [],
   "source": [
    "# DataLoader\n",
    "train_size = int(0.8 * len(combined_dataset))\n",
    "test_size = len(combined_dataset) - train_size\n",
    "\n",
    "train_dataset, test_dataset = torch.utils.data.random_split(combined_dataset, [train_size, test_size])\n",
    "train_loader = DataLoader(train_dataset, batch_size=64, shuffle=True)\n",
    "test_loader = DataLoader(test_dataset, batch_size=64, shuffle=False)"
   ]
  },
  {
   "cell_type": "code",
   "execution_count": null,
   "metadata": {
    "execution": {
     "iopub.execute_input": "2025-01-17T23:09:46.621790Z",
     "iopub.status.busy": "2025-01-17T23:09:46.621465Z"
    },
    "id": "G_0nsfuzduL7",
    "trusted": true
   },
   "outputs": [
    {
     "name": "stderr",
     "output_type": "stream",
     "text": [
      "Downloading: \"https://download.pytorch.org/models/mobilenet_v2-7ebf99e0.pth\" to /root/.cache/torch/hub/checkpoints/mobilenet_v2-7ebf99e0.pth\n",
      "100%|██████████| 13.6M/13.6M [00:00<00:00, 114MB/s] \n"
     ]
    },
    {
     "name": "stdout",
     "output_type": "stream",
     "text": [
      "\n",
      "--- Training with Learning Rate: 0.001 ---\n",
      "Epoch 1/5, Training Loss: 0.6297, Test Loss: 0.5999\n",
      "Epoch 2/5, Training Loss: 0.6060, Test Loss: 0.5944\n",
      "Epoch 3/5, Training Loss: 0.5957, Test Loss: 0.5920\n",
      "Epoch 4/5, Training Loss: 0.5914, Test Loss: 0.5940\n",
      "Epoch 5/5, Training Loss: 0.5883, Test Loss: 0.5927\n",
      "Classification report for threshold = 0.4\n",
      "              precision    recall  f1-score   support\n",
      "\n",
      "           0       0.68      0.55      0.61      1599\n",
      "           1       0.62      0.74      0.68      1601\n",
      "\n",
      "    accuracy                           0.65      3200\n",
      "   macro avg       0.65      0.65      0.64      3200\n",
      "weighted avg       0.65      0.65      0.64      3200\n",
      "\n",
      "Classification report for threshold = 0.5\n",
      "              precision    recall  f1-score   support\n",
      "\n",
      "           0       0.64      0.75      0.69      1599\n",
      "           1       0.70      0.58      0.63      1601\n",
      "\n",
      "    accuracy                           0.67      3200\n",
      "   macro avg       0.67      0.67      0.66      3200\n",
      "weighted avg       0.67      0.67      0.66      3200\n",
      "\n"
     ]
    },
    {
     "data": {
      "image/png": "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",
      "text/plain": [
       "<Figure size 640x480 with 1 Axes>"
      ]
     },
     "metadata": {},
     "output_type": "display_data"
    },
    {
     "name": "stdout",
     "output_type": "stream",
     "text": [
      "\n",
      "--- Training with Learning Rate: 0.0001 ---\n",
      "Epoch 1/5, Training Loss: 0.6723, Test Loss: 0.6533\n",
      "Epoch 2/5, Training Loss: 0.6474, Test Loss: 0.6349\n",
      "Epoch 3/5, Training Loss: 0.6337, Test Loss: 0.6247\n",
      "Epoch 4/5, Training Loss: 0.6241, Test Loss: 0.6201\n",
      "Epoch 5/5, Training Loss: 0.6197, Test Loss: 0.6142\n",
      "Classification report for threshold = 0.4\n",
      "              precision    recall  f1-score   support\n",
      "\n",
      "           0       0.68      0.43      0.52      1599\n",
      "           1       0.58      0.80      0.68      1601\n",
      "\n",
      "    accuracy                           0.61      3200\n",
      "   macro avg       0.63      0.61      0.60      3200\n",
      "weighted avg       0.63      0.61      0.60      3200\n",
      "\n",
      "Classification report for threshold = 0.5\n",
      "              precision    recall  f1-score   support\n",
      "\n",
      "           0       0.65      0.72      0.68      1599\n",
      "           1       0.68      0.61      0.64      1601\n",
      "\n",
      "    accuracy                           0.66      3200\n",
      "   macro avg       0.66      0.66      0.66      3200\n",
      "weighted avg       0.66      0.66      0.66      3200\n",
      "\n"
     ]
    }
   ],
   "source": [
    "# Define a function to calculate test loss\n",
    "def evaluate_model_loss(model, criterion, data_loader, device):\n",
    "    model.eval()\n",
    "    test_loss = 0.0\n",
    "    with torch.no_grad():\n",
    "        for images, labels in data_loader:\n",
    "            images, labels = images.to(device), labels.to(device).float()\n",
    "            outputs = model(images).squeeze()\n",
    "            loss = criterion(outputs, labels)\n",
    "            test_loss += loss.item()\n",
    "    return test_loss / len(data_loader)\n",
    "\n",
    "# Update train_and_evaluate function\n",
    "def train_and_evaluate(model, optimizer, learning_rate, num_epochs, train_loader, test_loader, thresholds=[0.4, 0.5]):\n",
    "    print(f\"\\n--- Training with Learning Rate: {learning_rate} ---\")\n",
    "    training_losses = []\n",
    "    test_losses = []\n",
    "\n",
    "    for epoch in range(num_epochs):\n",
    "        # Training\n",
    "        model.train()\n",
    "        running_loss = 0.0\n",
    "        for images, labels in train_loader:\n",
    "            images, labels = images.to(device), labels.to(device).float()\n",
    "            optimizer.zero_grad()\n",
    "            outputs = model(images).squeeze()\n",
    "            loss = criterion(outputs, labels)\n",
    "            loss.backward()\n",
    "            optimizer.step()\n",
    "            running_loss += loss.item()\n",
    "\n",
    "        # Calculate average training loss\n",
    "        training_loss = running_loss / len(train_loader)\n",
    "        training_losses.append(training_loss)\n",
    "\n",
    "        # Calculate test loss\n",
    "        test_loss = evaluate_model_loss(model, criterion, test_loader, device)\n",
    "        test_losses.append(test_loss)\n",
    "\n",
    "        print(f\"Epoch {epoch+1}/{num_epochs}, Training Loss: {training_loss:.4f}, Test Loss: {test_loss:.4f}\")\n",
    "\n",
    "    # Evaluation\n",
    "    model.eval()\n",
    "    y_true, y_pred = [], []\n",
    "    with torch.no_grad():\n",
    "        for images, labels in test_loader:\n",
    "            images, labels = images.to(device), labels.to(device)\n",
    "            outputs = model(images).squeeze()\n",
    "            probs = torch.sigmoid(outputs)\n",
    "            y_true.extend(labels.cpu().numpy())\n",
    "            y_pred.extend(probs.cpu().numpy())\n",
    "\n",
    "    y_true = np.array(y_true)\n",
    "    y_pred = np.array(y_pred)\n",
    "\n",
    "    # Metrics for each threshold\n",
    "    for threshold in thresholds:\n",
    "        y_pred_class = (y_pred > threshold).astype(int)\n",
    "        print(f\"Classification report for threshold = {threshold}\")\n",
    "        print(classification_report(y_true, y_pred_class))\n",
    "\n",
    "    # Return metrics and losses for analysis\n",
    "    return y_true, y_pred, training_losses, test_losses\n",
    "\n",
    "# Initialize models, optimizers, and train\n",
    "results = {}\n",
    "learning_rates = [0.001, 0.0001]\n",
    "\n",
    "for lr in learning_rates:\n",
    "    # Clone the base model\n",
    "    model = mobilenet_v2(weights=MobileNet_V2_Weights.DEFAULT)\n",
    "    model.classifier[1] = nn.Linear(model.last_channel, 1)\n",
    "    model = model.to(device)\n",
    "\n",
    "    # Define optimizer\n",
    "    optimizer = optim.Adam(model.classifier.parameters(), lr=lr)\n",
    "\n",
    "    # Train and evaluate\n",
    "    y_true, y_pred, training_losses, test_losses = train_and_evaluate(model, optimizer, lr, num_epochs=5, train_loader=train_loader, test_loader=test_loader)\n",
    "\n",
    "    # Store results for further analysis\n",
    "    results[lr] = (y_true, y_pred, training_losses, test_losses)\n",
    "\n",
    "    # Plot Training vs Test Loss for this learning rate\n",
    "    plt.figure()\n",
    "    plt.plot(range(1, len(training_losses) + 1), training_losses, label=\"Training Loss\")\n",
    "    plt.plot(range(1, len(test_losses) + 1), test_losses, label=\"Test Loss\")\n",
    "    plt.xlabel(\"Epochs\")\n",
    "    plt.ylabel(\"Loss\")\n",
    "    plt.title(f\"Training vs Test Loss for Learning Rate {lr}\")\n",
    "    plt.legend()\n",
    "    plt.show()"
   ]
  },
  {
   "cell_type": "code",
   "execution_count": null,
   "metadata": {
    "id": "nAcvD6FXqp0f",
    "trusted": true
   },
   "outputs": [],
   "source": [
    "y_true, y_pred = results[0.001][:2]\n",
    "print(y_true, y_pred)"
   ]
  },
  {
   "cell_type": "code",
   "execution_count": null,
   "metadata": {
    "id": "mgWu3YdCqpwy",
    "trusted": true
   },
   "outputs": [],
   "source": [
    "# ROC Curve\n",
    "fpr, tpr, thresholds_roc = roc_curve(y_true, y_pred)\n",
    "roc_auc = auc(fpr, tpr)\n",
    "\n",
    "plt.figure()\n",
    "plt.plot(fpr, tpr, color='darkorange', lw=2, label=f'ROC curve (AUC = {roc_auc:.2f})')\n",
    "plt.plot([0, 1], [0, 1], color='navy', lw=2, linestyle='--')\n",
    "plt.xlabel('False Positive Rate')\n",
    "plt.ylabel('True Positive Rate')\n",
    "plt.title('Receiver Operating Characteristic (Learning Rate = 0.01)')\n",
    "plt.legend(loc='lower right')\n",
    "plt.show()"
   ]
  },
  {
   "cell_type": "code",
   "execution_count": null,
   "metadata": {
    "id": "QmbEkD16RKtM",
    "trusted": true
   },
   "outputs": [],
   "source": [
    "for i, (thr, fp, tp) in enumerate(zip(thresholds_roc, fpr, tpr)):\n",
    "    if i % 25 == 0:  # Print key thresholds\n",
    "        print(f\"Threshold: {thr:.2f}, FPR: {fp:.2f}, TPR: {tp:.2f}\")"
   ]
  },
  {
   "cell_type": "code",
   "execution_count": 57,
   "metadata": {
    "execution": {
     "iopub.execute_input": "2025-01-18T00:45:28.239400Z",
     "iopub.status.busy": "2025-01-18T00:45:28.239075Z",
     "iopub.status.idle": "2025-01-18T00:45:28.445253Z",
     "shell.execute_reply": "2025-01-18T00:45:28.444176Z",
     "shell.execute_reply.started": "2025-01-18T00:45:28.239374Z"
    },
    "id": "rjTGNC49q7tB",
    "trusted": true
   },
   "outputs": [
    {
     "data": {
      "image/png": "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",
      "text/plain": [
       "<Figure size 640x480 with 2 Axes>"
      ]
     },
     "metadata": {},
     "output_type": "display_data"
    }
   ],
   "source": [
    "# Confusion Matrix for threshold = 0.5\n",
    "threshold = 0.5\n",
    "y_pred_class = (y_pred > threshold).astype(int)\n",
    "cm = confusion_matrix(y_true, y_pred_class)\n",
    "\n",
    "disp = ConfusionMatrixDisplay(confusion_matrix=cm, display_labels=['Class 0', 'Class 1'])\n",
    "disp.plot(cmap='Blues', values_format='d')\n",
    "plt.title('Confusion Matrix (Learning Rate = 0.001, Threshold = 0.5)')\n",
    "plt.show()"
   ]
  }
 ],
 "metadata": {
  "accelerator": "GPU",
  "colab": {
   "collapsed_sections": [
    "ddCCa-o5chE0"
   ],
   "gpuType": "T4",
   "machine_shape": "hm",
   "provenance": []
  },
  "kaggle": {
   "accelerator": "nvidiaTeslaT4",
   "dataSources": [
    {
     "datasetId": 5839,
     "sourceId": 18613,
     "sourceType": "datasetVersion"
    }
   ],
   "dockerImageVersionId": 30840,
   "isGpuEnabled": true,
   "isInternetEnabled": true,
   "language": "python",
   "sourceType": "notebook"
  },
  "kernelspec": {
   "display_name": "Python 3",
   "language": "python",
   "name": "python3"
  },
  "language_info": {
   "codemirror_mode": {
    "name": "ipython",
    "version": 3
   },
   "file_extension": ".py",
   "mimetype": "text/x-python",
   "name": "python",
   "nbconvert_exporter": "python",
   "pygments_lexer": "ipython3",
   "version": "3.10.12"
  }
 },
 "nbformat": 4,
 "nbformat_minor": 4
=======
  "cells": [
    {
      "cell_type": "markdown",
      "metadata": {
        "id": "ddCCa-o5chE0"
      },
      "source": [
        "# Chest X-Ray Classification Project: Leveraging Deep Learning for Medical Image Analysis"
      ]
    },
    {
      "cell_type": "code",
      "execution_count": 1,
      "metadata": {
        "id": "_wF0EoXkFxf0"
      },
      "outputs": [],
      "source": [
        "import numpy as np\n",
        "import pandas as pd\n",
        "import matplotlib.pyplot as plt\n",
        "import matplotlib.image as pli\n",
        "import seaborn as sns\n",
        "import os\n",
        "import tensorflow as tf\n",
        "from PIL import Image\n",
        "import torch\n",
        "from torch import nn\n",
        "from tqdm import tqdm\n",
        "import torch.nn as nn\n",
        "import torch.optim as optim\n",
        "from torch.utils.data import Dataset, DataLoader\n",
        "from torchvision import transforms, models\n",
        "import pandas as pd\n",
        "from sklearn.metrics import classification_report\n",
        "from google.colab import drive\n",
        "from torchvision import transforms\n",
        "from torch.utils.data import ConcatDataset\n",
        "from torchvision.models import mobilenet_v2, MobileNet_V2_Weights\n",
        "import random\n",
        "import torch"
      ]
    },
    {
      "cell_type": "markdown",
      "metadata": {},
      "source": [
        "# Test"
      ]
    },
    {
      "cell_type": "code",
      "execution_count": 2,
      "metadata": {
        "colab": {
          "base_uri": "https://localhost:8080/"
        },
        "id": "vV_3BcLMwXLD",
        "outputId": "c4137610-ad78-4828-dab2-dbfecbd2569d"
      },
      "outputs": [
        {
          "name": "stdout",
          "output_type": "stream",
          "text": [
            "Mounted at /content/drive\n"
          ]
        }
      ],
      "source": [
        "drive.mount('/content/drive')"
      ]
    },
    {
      "cell_type": "code",
      "execution_count": 3,
      "metadata": {
        "colab": {
          "base_uri": "https://localhost:8080/"
        },
        "id": "DkZBYKPXsq0F",
        "outputId": "3888a5fb-503c-4c81-839e-ebaf5a50b7f8"
      },
      "outputs": [
        {
          "name": "stdout",
          "output_type": "stream",
          "text": [
            "[{'image_path': '/content/drive/My Drive/xrays_tot/images_001/images/00000001_000.png', 'labels': ['Cardiomegaly']}, {'image_path': '/content/drive/My Drive/xrays_tot/images_001/images/00000001_001.png', 'labels': ['Cardiomegaly', 'Emphysema']}, {'image_path': '/content/drive/My Drive/xrays_tot/images_001/images/00000001_002.png', 'labels': ['Cardiomegaly', 'Effusion']}, {'image_path': '/content/drive/My Drive/xrays_tot/images_001/images/00000002_000.png', 'labels': ['No Finding']}, {'image_path': '/content/drive/My Drive/xrays_tot/images_001/images/00000003_000.png', 'labels': ['Hernia']}]\n"
          ]
        }
      ],
      "source": [
        "base_path = \"/content/drive/My Drive/xrays_tot\"\n",
        "labels_file = os.path.join(base_path, \"Data_Entry_2017.csv\")\n",
        "\n",
        "labels_df = pd.read_csv(labels_file)\n",
        "image_folders = [f\"images_{str(i).zfill(3)}\" for i in range(1, 11)]\n",
        "\n",
        "data_tot = []\n",
        "for _, row in labels_df.iterrows():\n",
        "    image_name = row[\"Image Index\"]\n",
        "    labels = row[\"Finding Labels\"].split('|')\n",
        "\n",
        "    image_path = None\n",
        "    for folder in image_folders:\n",
        "        potential_path = os.path.join(base_path, folder, \"images\", image_name)\n",
        "        if os.path.exists(potential_path):\n",
        "            image_path = potential_path\n",
        "            break\n",
        "\n",
        "    if image_path:\n",
        "        data_tot.append({'image_path': image_path, 'labels': labels})\n",
        "\n",
        "print(data_tot[:5])"
      ]
    },
    {
      "cell_type": "code",
      "execution_count": 4,
      "metadata": {
        "colab": {
          "base_uri": "https://localhost:8080/"
        },
        "id": "Ell-epsFgiTp",
        "outputId": "3e9deb99-0469-400f-f1d9-f284591b1e78"
      },
      "outputs": [
        {
          "name": "stdout",
          "output_type": "stream",
          "text": [
            "<class 'pandas.core.frame.DataFrame'>\n",
            "RangeIndex: 112120 entries, 0 to 112119\n",
            "Data columns (total 12 columns):\n",
            " #   Column                       Non-Null Count   Dtype  \n",
            "---  ------                       --------------   -----  \n",
            " 0   Image Index                  112120 non-null  object \n",
            " 1   Finding Labels               112120 non-null  object \n",
            " 2   Follow-up #                  112120 non-null  int64  \n",
            " 3   Patient ID                   112120 non-null  int64  \n",
            " 4   Patient Age                  112120 non-null  int64  \n",
            " 5   Patient Gender               112120 non-null  object \n",
            " 6   View Position                112120 non-null  object \n",
            " 7   OriginalImage[Width          112120 non-null  int64  \n",
            " 8   Height]                      112120 non-null  int64  \n",
            " 9   OriginalImagePixelSpacing[x  112120 non-null  float64\n",
            " 10  y]                           112120 non-null  float64\n",
            " 11  Unnamed: 11                  0 non-null       float64\n",
            "dtypes: float64(3), int64(5), object(4)\n",
            "memory usage: 10.3+ MB\n"
          ]
        }
      ],
      "source": [
        "labels_df.info()"
      ]
    },
    {
      "cell_type": "code",
      "execution_count": 5,
      "metadata": {
        "colab": {
          "base_uri": "https://localhost:8080/",
          "height": 243
        },
        "id": "0gGBBM1hggaB",
        "outputId": "27b44214-43e4-42c0-bdea-69a57dda5cf6"
      },
      "outputs": [
        {
          "data": {
            "application/vnd.google.colaboratory.intrinsic+json": {
              "type": "dataframe",
              "variable_name": "labels_df"
            },
            "text/html": [
              "\n",
              "  <div id=\"df-e2b5bfba-51f7-4b42-a381-ac898ad4cfa7\" class=\"colab-df-container\">\n",
              "    <div>\n",
              "<style scoped>\n",
              "    .dataframe tbody tr th:only-of-type {\n",
              "        vertical-align: middle;\n",
              "    }\n",
              "\n",
              "    .dataframe tbody tr th {\n",
              "        vertical-align: top;\n",
              "    }\n",
              "\n",
              "    .dataframe thead th {\n",
              "        text-align: right;\n",
              "    }\n",
              "</style>\n",
              "<table border=\"1\" class=\"dataframe\">\n",
              "  <thead>\n",
              "    <tr style=\"text-align: right;\">\n",
              "      <th></th>\n",
              "      <th>Image Index</th>\n",
              "      <th>Finding Labels</th>\n",
              "      <th>Follow-up #</th>\n",
              "      <th>Patient ID</th>\n",
              "      <th>Patient Age</th>\n",
              "      <th>Patient Gender</th>\n",
              "      <th>View Position</th>\n",
              "      <th>OriginalImage[Width</th>\n",
              "      <th>Height]</th>\n",
              "      <th>OriginalImagePixelSpacing[x</th>\n",
              "      <th>y]</th>\n",
              "      <th>Unnamed: 11</th>\n",
              "    </tr>\n",
              "  </thead>\n",
              "  <tbody>\n",
              "    <tr>\n",
              "      <th>0</th>\n",
              "      <td>00000001_000.png</td>\n",
              "      <td>Cardiomegaly</td>\n",
              "      <td>0</td>\n",
              "      <td>1</td>\n",
              "      <td>58</td>\n",
              "      <td>M</td>\n",
              "      <td>PA</td>\n",
              "      <td>2682</td>\n",
              "      <td>2749</td>\n",
              "      <td>0.143</td>\n",
              "      <td>0.143</td>\n",
              "      <td>NaN</td>\n",
              "    </tr>\n",
              "    <tr>\n",
              "      <th>1</th>\n",
              "      <td>00000001_001.png</td>\n",
              "      <td>Cardiomegaly|Emphysema</td>\n",
              "      <td>1</td>\n",
              "      <td>1</td>\n",
              "      <td>58</td>\n",
              "      <td>M</td>\n",
              "      <td>PA</td>\n",
              "      <td>2894</td>\n",
              "      <td>2729</td>\n",
              "      <td>0.143</td>\n",
              "      <td>0.143</td>\n",
              "      <td>NaN</td>\n",
              "    </tr>\n",
              "    <tr>\n",
              "      <th>2</th>\n",
              "      <td>00000001_002.png</td>\n",
              "      <td>Cardiomegaly|Effusion</td>\n",
              "      <td>2</td>\n",
              "      <td>1</td>\n",
              "      <td>58</td>\n",
              "      <td>M</td>\n",
              "      <td>PA</td>\n",
              "      <td>2500</td>\n",
              "      <td>2048</td>\n",
              "      <td>0.168</td>\n",
              "      <td>0.168</td>\n",
              "      <td>NaN</td>\n",
              "    </tr>\n",
              "    <tr>\n",
              "      <th>3</th>\n",
              "      <td>00000002_000.png</td>\n",
              "      <td>No Finding</td>\n",
              "      <td>0</td>\n",
              "      <td>2</td>\n",
              "      <td>81</td>\n",
              "      <td>M</td>\n",
              "      <td>PA</td>\n",
              "      <td>2500</td>\n",
              "      <td>2048</td>\n",
              "      <td>0.171</td>\n",
              "      <td>0.171</td>\n",
              "      <td>NaN</td>\n",
              "    </tr>\n",
              "    <tr>\n",
              "      <th>4</th>\n",
              "      <td>00000003_000.png</td>\n",
              "      <td>Hernia</td>\n",
              "      <td>0</td>\n",
              "      <td>3</td>\n",
              "      <td>81</td>\n",
              "      <td>F</td>\n",
              "      <td>PA</td>\n",
              "      <td>2582</td>\n",
              "      <td>2991</td>\n",
              "      <td>0.143</td>\n",
              "      <td>0.143</td>\n",
              "      <td>NaN</td>\n",
              "    </tr>\n",
              "  </tbody>\n",
              "</table>\n",
              "</div>\n",
              "    <div class=\"colab-df-buttons\">\n",
              "\n",
              "  <div class=\"colab-df-container\">\n",
              "    <button class=\"colab-df-convert\" onclick=\"convertToInteractive('df-e2b5bfba-51f7-4b42-a381-ac898ad4cfa7')\"\n",
              "            title=\"Convert this dataframe to an interactive table.\"\n",
              "            style=\"display:none;\">\n",
              "\n",
              "  <svg xmlns=\"http://www.w3.org/2000/svg\" height=\"24px\" viewBox=\"0 -960 960 960\">\n",
              "    <path d=\"M120-120v-720h720v720H120Zm60-500h600v-160H180v160Zm220 220h160v-160H400v160Zm0 220h160v-160H400v160ZM180-400h160v-160H180v160Zm440 0h160v-160H620v160ZM180-180h160v-160H180v160Zm440 0h160v-160H620v160Z\"/>\n",
              "  </svg>\n",
              "    </button>\n",
              "\n",
              "  <style>\n",
              "    .colab-df-container {\n",
              "      display:flex;\n",
              "      gap: 12px;\n",
              "    }\n",
              "\n",
              "    .colab-df-convert {\n",
              "      background-color: #E8F0FE;\n",
              "      border: none;\n",
              "      border-radius: 50%;\n",
              "      cursor: pointer;\n",
              "      display: none;\n",
              "      fill: #1967D2;\n",
              "      height: 32px;\n",
              "      padding: 0 0 0 0;\n",
              "      width: 32px;\n",
              "    }\n",
              "\n",
              "    .colab-df-convert:hover {\n",
              "      background-color: #E2EBFA;\n",
              "      box-shadow: 0px 1px 2px rgba(60, 64, 67, 0.3), 0px 1px 3px 1px rgba(60, 64, 67, 0.15);\n",
              "      fill: #174EA6;\n",
              "    }\n",
              "\n",
              "    .colab-df-buttons div {\n",
              "      margin-bottom: 4px;\n",
              "    }\n",
              "\n",
              "    [theme=dark] .colab-df-convert {\n",
              "      background-color: #3B4455;\n",
              "      fill: #D2E3FC;\n",
              "    }\n",
              "\n",
              "    [theme=dark] .colab-df-convert:hover {\n",
              "      background-color: #434B5C;\n",
              "      box-shadow: 0px 1px 3px 1px rgba(0, 0, 0, 0.15);\n",
              "      filter: drop-shadow(0px 1px 2px rgba(0, 0, 0, 0.3));\n",
              "      fill: #FFFFFF;\n",
              "    }\n",
              "  </style>\n",
              "\n",
              "    <script>\n",
              "      const buttonEl =\n",
              "        document.querySelector('#df-e2b5bfba-51f7-4b42-a381-ac898ad4cfa7 button.colab-df-convert');\n",
              "      buttonEl.style.display =\n",
              "        google.colab.kernel.accessAllowed ? 'block' : 'none';\n",
              "\n",
              "      async function convertToInteractive(key) {\n",
              "        const element = document.querySelector('#df-e2b5bfba-51f7-4b42-a381-ac898ad4cfa7');\n",
              "        const dataTable =\n",
              "          await google.colab.kernel.invokeFunction('convertToInteractive',\n",
              "                                                    [key], {});\n",
              "        if (!dataTable) return;\n",
              "\n",
              "        const docLinkHtml = 'Like what you see? Visit the ' +\n",
              "          '<a target=\"_blank\" href=https://colab.research.google.com/notebooks/data_table.ipynb>data table notebook</a>'\n",
              "          + ' to learn more about interactive tables.';\n",
              "        element.innerHTML = '';\n",
              "        dataTable['output_type'] = 'display_data';\n",
              "        await google.colab.output.renderOutput(dataTable, element);\n",
              "        const docLink = document.createElement('div');\n",
              "        docLink.innerHTML = docLinkHtml;\n",
              "        element.appendChild(docLink);\n",
              "      }\n",
              "    </script>\n",
              "  </div>\n",
              "\n",
              "\n",
              "<div id=\"df-e41ec928-e020-4663-9a03-4860d76ea9e9\">\n",
              "  <button class=\"colab-df-quickchart\" onclick=\"quickchart('df-e41ec928-e020-4663-9a03-4860d76ea9e9')\"\n",
              "            title=\"Suggest charts\"\n",
              "            style=\"display:none;\">\n",
              "\n",
              "<svg xmlns=\"http://www.w3.org/2000/svg\" height=\"24px\"viewBox=\"0 0 24 24\"\n",
              "     width=\"24px\">\n",
              "    <g>\n",
              "        <path d=\"M19 3H5c-1.1 0-2 .9-2 2v14c0 1.1.9 2 2 2h14c1.1 0 2-.9 2-2V5c0-1.1-.9-2-2-2zM9 17H7v-7h2v7zm4 0h-2V7h2v10zm4 0h-2v-4h2v4z\"/>\n",
              "    </g>\n",
              "</svg>\n",
              "  </button>\n",
              "\n",
              "<style>\n",
              "  .colab-df-quickchart {\n",
              "      --bg-color: #E8F0FE;\n",
              "      --fill-color: #1967D2;\n",
              "      --hover-bg-color: #E2EBFA;\n",
              "      --hover-fill-color: #174EA6;\n",
              "      --disabled-fill-color: #AAA;\n",
              "      --disabled-bg-color: #DDD;\n",
              "  }\n",
              "\n",
              "  [theme=dark] .colab-df-quickchart {\n",
              "      --bg-color: #3B4455;\n",
              "      --fill-color: #D2E3FC;\n",
              "      --hover-bg-color: #434B5C;\n",
              "      --hover-fill-color: #FFFFFF;\n",
              "      --disabled-bg-color: #3B4455;\n",
              "      --disabled-fill-color: #666;\n",
              "  }\n",
              "\n",
              "  .colab-df-quickchart {\n",
              "    background-color: var(--bg-color);\n",
              "    border: none;\n",
              "    border-radius: 50%;\n",
              "    cursor: pointer;\n",
              "    display: none;\n",
              "    fill: var(--fill-color);\n",
              "    height: 32px;\n",
              "    padding: 0;\n",
              "    width: 32px;\n",
              "  }\n",
              "\n",
              "  .colab-df-quickchart:hover {\n",
              "    background-color: var(--hover-bg-color);\n",
              "    box-shadow: 0 1px 2px rgba(60, 64, 67, 0.3), 0 1px 3px 1px rgba(60, 64, 67, 0.15);\n",
              "    fill: var(--button-hover-fill-color);\n",
              "  }\n",
              "\n",
              "  .colab-df-quickchart-complete:disabled,\n",
              "  .colab-df-quickchart-complete:disabled:hover {\n",
              "    background-color: var(--disabled-bg-color);\n",
              "    fill: var(--disabled-fill-color);\n",
              "    box-shadow: none;\n",
              "  }\n",
              "\n",
              "  .colab-df-spinner {\n",
              "    border: 2px solid var(--fill-color);\n",
              "    border-color: transparent;\n",
              "    border-bottom-color: var(--fill-color);\n",
              "    animation:\n",
              "      spin 1s steps(1) infinite;\n",
              "  }\n",
              "\n",
              "  @keyframes spin {\n",
              "    0% {\n",
              "      border-color: transparent;\n",
              "      border-bottom-color: var(--fill-color);\n",
              "      border-left-color: var(--fill-color);\n",
              "    }\n",
              "    20% {\n",
              "      border-color: transparent;\n",
              "      border-left-color: var(--fill-color);\n",
              "      border-top-color: var(--fill-color);\n",
              "    }\n",
              "    30% {\n",
              "      border-color: transparent;\n",
              "      border-left-color: var(--fill-color);\n",
              "      border-top-color: var(--fill-color);\n",
              "      border-right-color: var(--fill-color);\n",
              "    }\n",
              "    40% {\n",
              "      border-color: transparent;\n",
              "      border-right-color: var(--fill-color);\n",
              "      border-top-color: var(--fill-color);\n",
              "    }\n",
              "    60% {\n",
              "      border-color: transparent;\n",
              "      border-right-color: var(--fill-color);\n",
              "    }\n",
              "    80% {\n",
              "      border-color: transparent;\n",
              "      border-right-color: var(--fill-color);\n",
              "      border-bottom-color: var(--fill-color);\n",
              "    }\n",
              "    90% {\n",
              "      border-color: transparent;\n",
              "      border-bottom-color: var(--fill-color);\n",
              "    }\n",
              "  }\n",
              "</style>\n",
              "\n",
              "  <script>\n",
              "    async function quickchart(key) {\n",
              "      const quickchartButtonEl =\n",
              "        document.querySelector('#' + key + ' button');\n",
              "      quickchartButtonEl.disabled = true;  // To prevent multiple clicks.\n",
              "      quickchartButtonEl.classList.add('colab-df-spinner');\n",
              "      try {\n",
              "        const charts = await google.colab.kernel.invokeFunction(\n",
              "            'suggestCharts', [key], {});\n",
              "      } catch (error) {\n",
              "        console.error('Error during call to suggestCharts:', error);\n",
              "      }\n",
              "      quickchartButtonEl.classList.remove('colab-df-spinner');\n",
              "      quickchartButtonEl.classList.add('colab-df-quickchart-complete');\n",
              "    }\n",
              "    (() => {\n",
              "      let quickchartButtonEl =\n",
              "        document.querySelector('#df-e41ec928-e020-4663-9a03-4860d76ea9e9 button');\n",
              "      quickchartButtonEl.style.display =\n",
              "        google.colab.kernel.accessAllowed ? 'block' : 'none';\n",
              "    })();\n",
              "  </script>\n",
              "</div>\n",
              "\n",
              "    </div>\n",
              "  </div>\n"
            ],
            "text/plain": [
              "        Image Index          Finding Labels  Follow-up #  Patient ID  \\\n",
              "0  00000001_000.png            Cardiomegaly            0           1   \n",
              "1  00000001_001.png  Cardiomegaly|Emphysema            1           1   \n",
              "2  00000001_002.png   Cardiomegaly|Effusion            2           1   \n",
              "3  00000002_000.png              No Finding            0           2   \n",
              "4  00000003_000.png                  Hernia            0           3   \n",
              "\n",
              "   Patient Age Patient Gender View Position  OriginalImage[Width  Height]  \\\n",
              "0           58              M            PA                 2682     2749   \n",
              "1           58              M            PA                 2894     2729   \n",
              "2           58              M            PA                 2500     2048   \n",
              "3           81              M            PA                 2500     2048   \n",
              "4           81              F            PA                 2582     2991   \n",
              "\n",
              "   OriginalImagePixelSpacing[x     y]  Unnamed: 11  \n",
              "0                        0.143  0.143          NaN  \n",
              "1                        0.143  0.143          NaN  \n",
              "2                        0.168  0.168          NaN  \n",
              "3                        0.171  0.171          NaN  \n",
              "4                        0.143  0.143          NaN  "
            ]
          },
          "execution_count": 5,
          "metadata": {},
          "output_type": "execute_result"
        }
      ],
      "source": [
        "labels_df.head()"
      ]
    },
    {
      "cell_type": "code",
      "execution_count": 6,
      "metadata": {
        "colab": {
          "base_uri": "https://localhost:8080/"
        },
        "id": "lt_luG2egkrt",
        "outputId": "4fa13cf7-f9ed-4883-bb6b-9af2cf0a7ca7"
      },
      "outputs": [
        {
          "data": {
            "text/plain": [
              "(112120, 12)"
            ]
          },
          "execution_count": 6,
          "metadata": {},
          "output_type": "execute_result"
        }
      ],
      "source": [
        "labels_df.shape"
      ]
    },
    {
      "cell_type": "code",
      "execution_count": 7,
      "metadata": {
        "colab": {
          "base_uri": "https://localhost:8080/",
          "height": 489
        },
        "id": "dTnF4zPdgt-1",
        "outputId": "f1ca0281-e4c3-48b7-9e5e-82836b3f3062"
      },
      "outputs": [
        {
          "data": {
            "text/html": [
              "<div>\n",
              "<style scoped>\n",
              "    .dataframe tbody tr th:only-of-type {\n",
              "        vertical-align: middle;\n",
              "    }\n",
              "\n",
              "    .dataframe tbody tr th {\n",
              "        vertical-align: top;\n",
              "    }\n",
              "\n",
              "    .dataframe thead th {\n",
              "        text-align: right;\n",
              "    }\n",
              "</style>\n",
              "<table border=\"1\" class=\"dataframe\">\n",
              "  <thead>\n",
              "    <tr style=\"text-align: right;\">\n",
              "      <th></th>\n",
              "      <th>count</th>\n",
              "    </tr>\n",
              "    <tr>\n",
              "      <th>Finding Labels</th>\n",
              "      <th></th>\n",
              "    </tr>\n",
              "  </thead>\n",
              "  <tbody>\n",
              "    <tr>\n",
              "      <th>No Finding</th>\n",
              "      <td>60361</td>\n",
              "    </tr>\n",
              "    <tr>\n",
              "      <th>Infiltration</th>\n",
              "      <td>9547</td>\n",
              "    </tr>\n",
              "    <tr>\n",
              "      <th>Atelectasis</th>\n",
              "      <td>4215</td>\n",
              "    </tr>\n",
              "    <tr>\n",
              "      <th>Effusion</th>\n",
              "      <td>3955</td>\n",
              "    </tr>\n",
              "    <tr>\n",
              "      <th>Nodule</th>\n",
              "      <td>2705</td>\n",
              "    </tr>\n",
              "    <tr>\n",
              "      <th>...</th>\n",
              "      <td>...</td>\n",
              "    </tr>\n",
              "    <tr>\n",
              "      <th>Atelectasis|Consolidation|Edema|Effusion|Infiltration|Pneumonia</th>\n",
              "      <td>1</td>\n",
              "    </tr>\n",
              "    <tr>\n",
              "      <th>Atelectasis|Consolidation|Effusion|Emphysema|Mass|Pneumothorax</th>\n",
              "      <td>1</td>\n",
              "    </tr>\n",
              "    <tr>\n",
              "      <th>Cardiomegaly|Effusion|Pleural_Thickening|Pneumothorax</th>\n",
              "      <td>1</td>\n",
              "    </tr>\n",
              "    <tr>\n",
              "      <th>Edema|Infiltration|Pneumothorax</th>\n",
              "      <td>1</td>\n",
              "    </tr>\n",
              "    <tr>\n",
              "      <th>Atelectasis|Consolidation|Mass|Pleural_Thickening|Pneumothorax</th>\n",
              "      <td>1</td>\n",
              "    </tr>\n",
              "  </tbody>\n",
              "</table>\n",
              "<p>836 rows × 1 columns</p>\n",
              "</div><br><label><b>dtype:</b> int64</label>"
            ],
            "text/plain": [
              "Finding Labels\n",
              "No Finding                                                         60361\n",
              "Infiltration                                                        9547\n",
              "Atelectasis                                                         4215\n",
              "Effusion                                                            3955\n",
              "Nodule                                                              2705\n",
              "                                                                   ...  \n",
              "Atelectasis|Consolidation|Edema|Effusion|Infiltration|Pneumonia        1\n",
              "Atelectasis|Consolidation|Effusion|Emphysema|Mass|Pneumothorax         1\n",
              "Cardiomegaly|Effusion|Pleural_Thickening|Pneumothorax                  1\n",
              "Edema|Infiltration|Pneumothorax                                        1\n",
              "Atelectasis|Consolidation|Mass|Pleural_Thickening|Pneumothorax         1\n",
              "Name: count, Length: 836, dtype: int64"
            ]
          },
          "execution_count": 7,
          "metadata": {},
          "output_type": "execute_result"
        }
      ],
      "source": [
        "labels_df['Finding Labels'].value_counts()"
      ]
    },
    {
      "cell_type": "code",
      "execution_count": 8,
      "metadata": {
        "colab": {
          "base_uri": "https://localhost:8080/"
        },
        "id": "TNsdqb46tAfF",
        "outputId": "eb69d651-230e-47df-a330-3edee40bb99b"
      },
      "outputs": [
        {
          "name": "stdout",
          "output_type": "stream",
          "text": [
            "Class 1 (Infiltration): 15845\n",
            "Class 0 (Not Infiltration): 75599\n"
          ]
        }
      ],
      "source": [
        "num_class_1 = sum([\"Infiltration\" in r[\"labels\"] for r in data_tot])\n",
        "num_class_0 = sum([\"Infiltration\" not in r[\"labels\"] for r in data_tot])\n",
        "\n",
        "print(f\"Class 1 (Infiltration): {num_class_1}\")\n",
        "print(f\"Class 0 (Not Infiltration): {num_class_0}\")"
      ]
    },
    {
      "cell_type": "code",
      "execution_count": 9,
      "metadata": {
        "colab": {
          "base_uri": "https://localhost:8080/"
        },
        "id": "hOjCvitIw7pd",
        "outputId": "c5a48a0a-3608-4a9c-e6b7-8df611fbde45"
      },
      "outputs": [
        {
          "name": "stdout",
          "output_type": "stream",
          "text": [
            "New Class 1 (Infiltration): 5000\n",
            "New Class 0 (Not Infiltration): 6000\n"
          ]
        }
      ],
      "source": [
        "class_1_data = [r for r in data_tot if \"Infiltration\" in r[\"labels\"]]\n",
        "class_0_data = [r for r in data_tot if \"Infiltration\" not in r[\"labels\"]]\n",
        "\n",
        "random.seed(42)\n",
        "class_1_sampled = random.sample(class_1_data, 5000)\n",
        "class_0_sampled = random.sample(class_0_data, 6000)\n",
        "\n",
        "balanced_data = class_0_sampled + class_1_sampled\n",
        "\n",
        "new_num_class_1 = sum([\"Infiltration\" in r[\"labels\"] for r in balanced_data])\n",
        "new_num_class_0 = sum([\"Infiltration\" not in r[\"labels\"] for r in balanced_data])\n",
        "\n",
        "print(f\"New Class 1 (Infiltration): {new_num_class_1}\")\n",
        "print(f\"New Class 0 (Not Infiltration): {new_num_class_0}\")"
      ]
    },
    {
      "cell_type": "code",
      "execution_count": 10,
      "metadata": {
        "id": "jAjEU-farESL"
      },
      "outputs": [],
      "source": [
        "torch.manual_seed(42)\n",
        "random.seed(42)\n",
        "np.random.seed(42)\n",
        "if torch.cuda.is_available():\n",
        "    torch.cuda.manual_seed(42)\n",
        "    torch.cuda.manual_seed_all(42)  # For multi-GPU\n",
        "    torch.backends.cudnn.deterministic = True\n",
        "    torch.backends.cudnn.benchmark = False"
      ]
    },
    {
      "cell_type": "code",
      "execution_count": 11,
      "metadata": {
        "id": "KD0IK5ndrFrZ"
      },
      "outputs": [],
      "source": [
        "tf.random.set_seed(42)\n",
        "np.random.seed(42)\n",
        "random.seed(42)"
      ]
    },
    {
      "cell_type": "markdown",
      "metadata": {
        "id": "obXi_Ijtovpy"
      },
      "source": [
        "# TensorFlow Keras / MobileNetV2"
      ]
    },
    {
      "cell_type": "code",
      "execution_count": 12,
      "metadata": {
        "id": "NhOAknxt0uxM"
      },
      "outputs": [],
      "source": [
        "def preprocess_item(image_path, label):\n",
        "    image = tf.io.read_file(image_path)\n",
        "    image = tf.image.decode_png(image, channels=3)\n",
        "    image = tf.image.resize(image, [224, 224]) / 255.0\n",
        "    return image, label\n",
        "\n",
        "paths = [item['image_path'] for item in balanced_data]\n",
        "labels = [1 if \"Infiltration\" in item[\"labels\"] else 0 for item in balanced_data]\n",
        "\n",
        "dataset = tf.data.Dataset.from_tensor_slices((paths, labels))\n",
        "# Maps the preprocess_item function over the dataset with parallel processing to improve speed\n",
        "# (num_parallel_calls=tf.data.AUTOTUNE)\n",
        "dataset = dataset.map(lambda x, y: preprocess_item(x, y), num_parallel_calls=tf.data.AUTOTUNE)\n",
        "\n",
        "dataset_nobatch = dataset"
      ]
    },
    {
      "cell_type": "code",
      "execution_count": 13,
      "metadata": {
        "id": "Ef3lW3BxsfjE"
      },
      "outputs": [],
      "source": [
        "# Shuffle to improve your workout\n",
        "dataset = dataset.shuffle(buffer_size=3000)\n",
        "\n",
        "# Batch creation. Prefetch to load next batch in parallel\n",
        "dataset = dataset.batch(64).prefetch(tf.data.AUTOTUNE)"
      ]
    },
    {
      "cell_type": "code",
      "execution_count": 14,
      "metadata": {
        "colab": {
          "base_uri": "https://localhost:8080/"
        },
        "id": "qUmewFwJ1CW6",
        "outputId": "5a80339c-a5f1-4996-8bad-940d40e4e1d7"
      },
      "outputs": [
        {
          "name": "stdout",
          "output_type": "stream",
          "text": [
            "Batch shape: (64, 224, 224, 3), Labels shape: (64,)\n"
          ]
        }
      ],
      "source": [
        "for images, labels in dataset.take(1):\n",
        "    print(f\"Batch shape: {images.shape}, Labels shape: {labels.shape}\")"
      ]
    },
    {
      "cell_type": "code",
      "execution_count": 15,
      "metadata": {
        "colab": {
          "base_uri": "https://localhost:8080/"
        },
        "id": "bszIW7AZ2Fbr",
        "outputId": "ed4ed0a7-47c6-4b9a-efa9-a75516e14162"
      },
      "outputs": [
        {
          "name": "stdout",
          "output_type": "stream",
          "text": [
            "Total_number_of: 11000\n"
          ]
        }
      ],
      "source": [
        "total_images = 0\n",
        "for images, labels in dataset:\n",
        "   total_images += images.shape[0]\n",
        "\n",
        "print(f\"Total_number_of: {total_images}\")"
      ]
    },
    {
      "cell_type": "markdown",
      "metadata": {
        "id": "yFiZbA1BXgGJ"
      },
      "source": [
        "**Model Description**  \n",
        "A binary classification model is defined using MobileNetV2 as the base, pretrained on ImageNet. The base model is used as a feature extractor with its weights frozen (trainable=False).\n",
        "\n",
        "Key components include:  \n",
        "- GlobalAveragePooling2D.   \n",
        "- A fully connected layer with 64 units and ReLU activation.\n",
        "- An output layer with 1 unit and sigmoid activation for binary classification.  \n",
        "- Optimizer: Adam, configured with a learning rate of 0.001.\n",
        "- Loss function: Binary crossentropy, suitable for binary classification tasks.\n",
        "- Metric: Accuracy, to evaluate the model’s performance."
      ]
    },
    {
      "cell_type": "code",
      "execution_count": 16,
      "metadata": {
        "colab": {
          "base_uri": "https://localhost:8080/"
        },
        "id": "NwFzd11s-PR6",
        "outputId": "36538dc2-082a-4a39-fb64-e97ae2fcc83c"
      },
      "outputs": [
        {
          "name": "stdout",
          "output_type": "stream",
          "text": [
            "Downloading data from https://storage.googleapis.com/tensorflow/keras-applications/mobilenet_v2/mobilenet_v2_weights_tf_dim_ordering_tf_kernels_1.0_224_no_top.h5\n",
            "\u001b[1m9406464/9406464\u001b[0m \u001b[32m━━━━━━━━━━━━━━━━━━━━\u001b[0m\u001b[37m\u001b[0m \u001b[1m0s\u001b[0m 0us/step\n"
          ]
        }
      ],
      "source": [
        "base_model = tf.keras.applications.MobileNetV2(input_shape=(224, 224, 3), include_top=False, weights='imagenet')\n",
        "# the pre-trained model uses weights derived from training on ImageNet\n",
        "base_model.trainable = False\n",
        "\n",
        "model_tf = tf.keras.Sequential([base_model,\n",
        "    tf.keras.layers.GlobalAveragePooling2D(),\n",
        "    tf.keras.layers.Dense(64, activation='relu'),\n",
        "    tf.keras.layers.Dense(1, activation='sigmoid')])\n",
        "\n",
        "optimizer = tf.keras.optimizers.Adam(learning_rate=0.001)"
      ]
    },
    {
      "cell_type": "code",
      "execution_count": 17,
      "metadata": {
        "id": "_1cJyEG1-yO2"
      },
      "outputs": [],
      "source": [
        "model_tf.compile(optimizer=optimizer,loss='binary_crossentropy',metrics=['accuracy'])"
      ]
    },
    {
      "cell_type": "code",
      "execution_count": 18,
      "metadata": {
        "id": "otmksIiIx1sG"
      },
      "outputs": [],
      "source": [
        "dataset = dataset.shuffle(buffer_size=len(balanced_data))\n",
        "dataset_size = len(dataset)\n",
        "\n",
        "test_size = int(dataset_size * 0.2)\n",
        "train_size = dataset_size - test_size\n",
        "\n",
        "test_set = dataset.take(test_size)  # Top 20% for the test\n",
        "train_set = dataset.skip(test_size)  # Remaining 80% for training"
      ]
    },
    {
      "cell_type": "code",
      "execution_count": 19,
      "metadata": {
        "colab": {
          "base_uri": "https://localhost:8080/"
        },
        "id": "GQtLdrL58WFv",
        "outputId": "c701dc3b-470e-40f4-e839-f95c4784bced"
      },
      "outputs": [
        {
          "name": "stdout",
          "output_type": "stream",
          "text": [
            "Dataset (batch): 172\n",
            "Test set (batch): 34\n",
            "Training set (batch): 138\n"
          ]
        }
      ],
      "source": [
        "print(f\"Dataset (batch): {dataset_size}\")\n",
        "print(f\"Test set (batch): {test_size}\")\n",
        "print(f\"Training set (batch): {train_size}\")"
      ]
    },
    {
      "cell_type": "code",
      "execution_count": 20,
      "metadata": {
        "colab": {
          "base_uri": "https://localhost:8080/"
        },
        "id": "ok8_Fxvb-7x3",
        "outputId": "4127dfdc-0875-43f1-9863-422fe3360762"
      },
      "outputs": [
        {
          "name": "stdout",
          "output_type": "stream",
          "text": [
            "Epoch 1/4\n",
            "\u001b[1m138/138\u001b[0m \u001b[32m━━━━━━━━━━━━━━━━━━━━\u001b[0m\u001b[37m\u001b[0m \u001b[1m68s\u001b[0m 99ms/step - accuracy: 0.5565 - loss: 0.7758\n",
            "Epoch 2/4\n",
            "\u001b[1m138/138\u001b[0m \u001b[32m━━━━━━━━━━━━━━━━━━━━\u001b[0m\u001b[37m\u001b[0m \u001b[1m49s\u001b[0m 56ms/step - accuracy: 0.5628 - loss: 0.7054\n",
            "Epoch 3/4\n",
            "\u001b[1m138/138\u001b[0m \u001b[32m━━━━━━━━━━━━━━━━━━━━\u001b[0m\u001b[37m\u001b[0m \u001b[1m49s\u001b[0m 56ms/step - accuracy: 0.5970 - loss: 0.6669\n",
            "Epoch 4/4\n",
            "\u001b[1m138/138\u001b[0m \u001b[32m━━━━━━━━━━━━━━━━━━━━\u001b[0m\u001b[37m\u001b[0m \u001b[1m48s\u001b[0m 56ms/step - accuracy: 0.5949 - loss: 0.6630\n"
          ]
        }
      ],
      "source": [
        "history = model_tf.fit(train_set, epochs=4)"
      ]
    },
    {
      "cell_type": "code",
      "execution_count": 21,
      "metadata": {
        "colab": {
          "base_uri": "https://localhost:8080/"
        },
        "id": "QBN_pYAN_Fq0",
        "outputId": "b719dfd2-7ae9-4e02-b36f-3c1f765ebf0e"
      },
      "outputs": [
        {
          "name": "stdout",
          "output_type": "stream",
          "text": [
            "\u001b[1m34/34\u001b[0m \u001b[32m━━━━━━━━━━━━━━━━━━━━\u001b[0m\u001b[37m\u001b[0m \u001b[1m47s\u001b[0m 101ms/step - accuracy: 0.6112 - loss: 0.6513\n",
            "Test Loss: 0.6461013555526733, Test Accuracy: 0.6240774989128113\n"
          ]
        }
      ],
      "source": [
        "test_loss, test_accuracy = model_tf.evaluate(test_set)\n",
        "print(f\"Test Loss: {test_loss}, Test Accuracy: {test_accuracy}\")"
      ]
    },
    {
      "cell_type": "code",
      "execution_count": 22,
      "metadata": {
        "colab": {
          "base_uri": "https://localhost:8080/"
        },
        "id": "KPv6X-_LCAYm",
        "outputId": "0372ac70-5fc8-4e60-ea38-96d5b10d64f4"
      },
      "outputs": [
        {
          "name": "stdout",
          "output_type": "stream",
          "text": [
            "\u001b[1m2/2\u001b[0m \u001b[32m━━━━━━━━━━━━━━━━━━━━\u001b[0m\u001b[37m\u001b[0m \u001b[1m9s\u001b[0m 4s/step\n",
            "\u001b[1m2/2\u001b[0m \u001b[32m━━━━━━━━━━━━━━━━━━━━\u001b[0m\u001b[37m\u001b[0m \u001b[1m0s\u001b[0m 22ms/step\n",
            "\u001b[1m2/2\u001b[0m \u001b[32m━━━━━━━━━━━━━━━━━━━━\u001b[0m\u001b[37m\u001b[0m \u001b[1m0s\u001b[0m 22ms/step\n",
            "\u001b[1m2/2\u001b[0m \u001b[32m━━━━━━━━━━━━━━━━━━━━\u001b[0m\u001b[37m\u001b[0m \u001b[1m0s\u001b[0m 22ms/step\n",
            "\u001b[1m2/2\u001b[0m \u001b[32m━━━━━━━━━━━━━━━━━━━━\u001b[0m\u001b[37m\u001b[0m \u001b[1m0s\u001b[0m 22ms/step\n",
            "\u001b[1m2/2\u001b[0m \u001b[32m━━━━━━━━━━━━━━━━━━━━\u001b[0m\u001b[37m\u001b[0m \u001b[1m0s\u001b[0m 22ms/step\n",
            "\u001b[1m2/2\u001b[0m \u001b[32m━━━━━━━━━━━━━━━━━━━━\u001b[0m\u001b[37m\u001b[0m \u001b[1m0s\u001b[0m 22ms/step\n",
            "\u001b[1m2/2\u001b[0m \u001b[32m━━━━━━━━━━━━━━━━━━━━\u001b[0m\u001b[37m\u001b[0m \u001b[1m0s\u001b[0m 22ms/step\n",
            "\u001b[1m2/2\u001b[0m \u001b[32m━━━━━━━━━━━━━━━━━━━━\u001b[0m\u001b[37m\u001b[0m \u001b[1m0s\u001b[0m 22ms/step\n",
            "\u001b[1m2/2\u001b[0m \u001b[32m━━━━━━━━━━━━━━━━━━━━\u001b[0m\u001b[37m\u001b[0m \u001b[1m0s\u001b[0m 22ms/step\n",
            "\u001b[1m2/2\u001b[0m \u001b[32m━━━━━━━━━━━━━━━━━━━━\u001b[0m\u001b[37m\u001b[0m \u001b[1m0s\u001b[0m 22ms/step\n",
            "\u001b[1m2/2\u001b[0m \u001b[32m━━━━━━━━━━━━━━━━━━━━\u001b[0m\u001b[37m\u001b[0m \u001b[1m0s\u001b[0m 22ms/step\n",
            "\u001b[1m2/2\u001b[0m \u001b[32m━━━━━━━━━━━━━━━━━━━━\u001b[0m\u001b[37m\u001b[0m \u001b[1m0s\u001b[0m 22ms/step\n",
            "\u001b[1m2/2\u001b[0m \u001b[32m━━━━━━━━━━━━━━━━━━━━\u001b[0m\u001b[37m\u001b[0m \u001b[1m0s\u001b[0m 22ms/step\n",
            "\u001b[1m2/2\u001b[0m \u001b[32m━━━━━━━━━━━━━━━━━━━━\u001b[0m\u001b[37m\u001b[0m \u001b[1m0s\u001b[0m 22ms/step\n",
            "\u001b[1m2/2\u001b[0m \u001b[32m━━━━━━━━━━━━━━━━━━━━\u001b[0m\u001b[37m\u001b[0m \u001b[1m0s\u001b[0m 22ms/step\n",
            "\u001b[1m2/2\u001b[0m \u001b[32m━━━━━━━━━━━━━━━━━━━━\u001b[0m\u001b[37m\u001b[0m \u001b[1m0s\u001b[0m 22ms/step\n",
            "\u001b[1m2/2\u001b[0m \u001b[32m━━━━━━━━━━━━━━━━━━━━\u001b[0m\u001b[37m\u001b[0m \u001b[1m0s\u001b[0m 22ms/step\n",
            "\u001b[1m2/2\u001b[0m \u001b[32m━━━━━━━━━━━━━━━━━━━━\u001b[0m\u001b[37m\u001b[0m \u001b[1m0s\u001b[0m 22ms/step\n",
            "\u001b[1m2/2\u001b[0m \u001b[32m━━━━━━━━━━━━━━━━━━━━\u001b[0m\u001b[37m\u001b[0m \u001b[1m0s\u001b[0m 22ms/step\n",
            "\u001b[1m2/2\u001b[0m \u001b[32m━━━━━━━━━━━━━━━━━━━━\u001b[0m\u001b[37m\u001b[0m \u001b[1m0s\u001b[0m 22ms/step\n",
            "\u001b[1m2/2\u001b[0m \u001b[32m━━━━━━━━━━━━━━━━━━━━\u001b[0m\u001b[37m\u001b[0m \u001b[1m0s\u001b[0m 22ms/step\n",
            "\u001b[1m2/2\u001b[0m \u001b[32m━━━━━━━━━━━━━━━━━━━━\u001b[0m\u001b[37m\u001b[0m \u001b[1m0s\u001b[0m 22ms/step\n",
            "\u001b[1m2/2\u001b[0m \u001b[32m━━━━━━━━━━━━━━━━━━━━\u001b[0m\u001b[37m\u001b[0m \u001b[1m0s\u001b[0m 22ms/step\n",
            "\u001b[1m2/2\u001b[0m \u001b[32m━━━━━━━━━━━━━━━━━━━━\u001b[0m\u001b[37m\u001b[0m \u001b[1m0s\u001b[0m 22ms/step\n",
            "\u001b[1m2/2\u001b[0m \u001b[32m━━━━━━━━━━━━━━━━━━━━\u001b[0m\u001b[37m\u001b[0m \u001b[1m0s\u001b[0m 22ms/step\n",
            "\u001b[1m2/2\u001b[0m \u001b[32m━━━━━━━━━━━━━━━━━━━━\u001b[0m\u001b[37m\u001b[0m \u001b[1m0s\u001b[0m 22ms/step\n",
            "\u001b[1m2/2\u001b[0m \u001b[32m━━━━━━━━━━━━━━━━━━━━\u001b[0m\u001b[37m\u001b[0m \u001b[1m0s\u001b[0m 22ms/step\n",
            "\u001b[1m2/2\u001b[0m \u001b[32m━━━━━━━━━━━━━━━━━━━━\u001b[0m\u001b[37m\u001b[0m \u001b[1m0s\u001b[0m 22ms/step\n",
            "\u001b[1m2/2\u001b[0m \u001b[32m━━━━━━━━━━━━━━━━━━━━\u001b[0m\u001b[37m\u001b[0m \u001b[1m0s\u001b[0m 22ms/step\n",
            "\u001b[1m2/2\u001b[0m \u001b[32m━━━━━━━━━━━━━━━━━━━━\u001b[0m\u001b[37m\u001b[0m \u001b[1m0s\u001b[0m 22ms/step\n",
            "\u001b[1m2/2\u001b[0m \u001b[32m━━━━━━━━━━━━━━━━━━━━\u001b[0m\u001b[37m\u001b[0m \u001b[1m0s\u001b[0m 22ms/step\n",
            "\u001b[1m2/2\u001b[0m \u001b[32m━━━━━━━━━━━━━━━━━━━━\u001b[0m\u001b[37m\u001b[0m \u001b[1m0s\u001b[0m 22ms/step\n",
            "\u001b[1m2/2\u001b[0m \u001b[32m━━━━━━━━━━━━━━━━━━━━\u001b[0m\u001b[37m\u001b[0m \u001b[1m0s\u001b[0m 22ms/step \n",
            "              precision    recall  f1-score   support\n",
            "\n",
            "           0       0.51      0.81      0.63       951\n",
            "           1       0.73      0.39      0.51      1217\n",
            "\n",
            "    accuracy                           0.58      2168\n",
            "   macro avg       0.62      0.60      0.57      2168\n",
            "weighted avg       0.63      0.58      0.56      2168\n",
            "\n"
          ]
        }
      ],
      "source": [
        "y_true = []\n",
        "y_pred = []\n",
        "for images, labels in test_set:\n",
        "    preds = model_tf.predict(images)\n",
        "    y_true.extend(labels.numpy())\n",
        "    y_pred.extend((preds > 0.5).astype(int).flatten())\n",
        "\n",
        "print(classification_report(y_true, y_pred))"
      ]
    },
    {
      "cell_type": "markdown",
      "metadata": {
        "id": "1HdhOB2rl7OK"
      },
      "source": [
        "This is due to the imbalance of the dataset the model almost always predicts 0, largely failing to detect most of the positive cases.  \n",
        "**Precision for Class 1**:  \n",
        "0.39 indicates that when the model predicts \"Infiltration\", it is correct 39% of the time.  \n",
        "**Recall for Class 1**:  \n",
        "0.14 indicates that the model only identifies 14% of actual \"Infiltration\" cases."
      ]
    },
    {
      "cell_type": "markdown",
      "metadata": {
        "id": "dRjn9PgjNzAh"
      },
      "source": [
        "# Pytorch / MobileNetV2\n",
        "\n"
      ]
    },
    {
      "cell_type": "code",
      "execution_count": 23,
      "metadata": {
        "id": "JCkz6uhxN7la"
      },
      "outputs": [],
      "source": [
        "class ChestXRayDataset(Dataset):\n",
        "    def __init__(self, data, transform=None):\n",
        "        self.data = data\n",
        "        self.transform = transform\n",
        "\n",
        "    def __len__(self):\n",
        "        return len(self.data)\n",
        "\n",
        "    def __getitem__(self, idx):\n",
        "        image_path = self.data[idx]['image_path']\n",
        "        label = 1 if \"Infiltration\" in self.data[idx]['labels'] else 0\n",
        "        image = Image.open(image_path).convert(\"RGB\")\n",
        "\n",
        "        if self.transform:\n",
        "            image = self.transform(image)\n",
        "\n",
        "        return image, label"
      ]
    },
    {
      "cell_type": "code",
      "execution_count": 24,
      "metadata": {
        "id": "ag4Npg9OZYvu"
      },
      "outputs": [],
      "source": [
        "# Transformations\n",
        "transform = transforms.Compose([\n",
        "    transforms.Resize((224, 224)),\n",
        "    transforms.ToTensor()])\n",
        "\n",
        "dataset_pytorch = ChestXRayDataset(balanced_data, transform=transform)\n",
        "train_size = int(0.8 * len(dataset_pytorch))\n",
        "test_size = len(dataset_pytorch) - train_size\n",
        "\n",
        "train_dataset, test_dataset = torch.utils.data.random_split(dataset_pytorch, [train_size, test_size])\n",
        "train_loader = DataLoader(train_dataset, batch_size=64, shuffle=True)\n",
        "test_loader = DataLoader(test_dataset, batch_size=64, shuffle=False)"
      ]
    },
    {
      "cell_type": "markdown",
      "metadata": {
        "id": "4c_TIogewSQi"
      },
      "source": [
        "**Model Description**  \n",
        "A binary classification model is defined using MobileNetV2 as the base, pretrained on ImageNet. The base model is used as a feature extractor with its weights retained from the pretraining.\n",
        "\n",
        "Key components include:\n",
        "  \n",
        "- A linear classifier, replacing the original output layer, with a single output logit for binary classification.\n",
        "- Loss function: BCEWithLogitsLoss, which combines sigmoid activation and binary crossentropy for stable handling of logits.\n",
        "- Optimizer: Adam, configured with a learning rate of 0.001."
      ]
    },
    {
      "cell_type": "code",
      "execution_count": 25,
      "metadata": {
        "colab": {
          "base_uri": "https://localhost:8080/"
        },
        "id": "mTmkGr1aZcSC",
        "outputId": "7a6af66a-581f-495a-8b59-3476ccdf0bb6"
      },
      "outputs": [
        {
          "name": "stderr",
          "output_type": "stream",
          "text": [
            "/usr/local/lib/python3.10/dist-packages/torchvision/models/_utils.py:208: UserWarning: The parameter 'pretrained' is deprecated since 0.13 and may be removed in the future, please use 'weights' instead.\n",
            "  warnings.warn(\n",
            "/usr/local/lib/python3.10/dist-packages/torchvision/models/_utils.py:223: UserWarning: Arguments other than a weight enum or `None` for 'weights' are deprecated since 0.13 and may be removed in the future. The current behavior is equivalent to passing `weights=MobileNet_V2_Weights.IMAGENET1K_V1`. You can also use `weights=MobileNet_V2_Weights.DEFAULT` to get the most up-to-date weights.\n",
            "  warnings.warn(msg)\n",
            "Downloading: \"https://download.pytorch.org/models/mobilenet_v2-b0353104.pth\" to /root/.cache/torch/hub/checkpoints/mobilenet_v2-b0353104.pth\n",
            "100%|██████████| 13.6M/13.6M [00:00<00:00, 113MB/s] \n"
          ]
        }
      ],
      "source": [
        "# Pre-trained model\n",
        "model = models.mobilenet_v2(pretrained=True)\n",
        "model.classifier[1] = nn.Linear(model.last_channel, 1)  # Binary output\n",
        "device = torch.device(\"cuda\" if torch.cuda.is_available() else \"cpu\")\n",
        "model = model.to(device)\n",
        "\n",
        "# Loss and optimizer\n",
        "criterion = nn.BCEWithLogitsLoss()\n",
        "optimizer = optim.Adam(model.parameters(), lr=0.001)"
      ]
    },
    {
      "cell_type": "code",
      "execution_count": 26,
      "metadata": {
        "colab": {
          "base_uri": "https://localhost:8080/"
        },
        "id": "zhsouOD4bH4d",
        "outputId": "39e980e6-9450-4177-9680-12431c71ab17"
      },
      "outputs": [
        {
          "name": "stdout",
          "output_type": "stream",
          "text": [
            "Epoch 1/4, Loss: 0.6560\n",
            "Epoch 2/4, Loss: 0.6276\n",
            "Epoch 3/4, Loss: 0.6128\n",
            "Epoch 4/4, Loss: 0.5998\n"
          ]
        }
      ],
      "source": [
        "# Training\n",
        "num_epochs = 4\n",
        "\n",
        "for epoch in range(num_epochs):\n",
        "    model.train()\n",
        "    running_loss = 0.0\n",
        "    for images, labels in train_loader:\n",
        "        images, labels = images.to(device), labels.to(device).float()\n",
        "        optimizer.zero_grad()\n",
        "        outputs = model(images).squeeze()\n",
        "        loss = criterion(outputs, labels)\n",
        "        loss.backward()\n",
        "        optimizer.step()\n",
        "        running_loss += loss.item()\n",
        "\n",
        "    print(f\"Epoch {epoch+1}/{num_epochs}, Loss: {running_loss/len(train_loader):.4f}\")"
      ]
    },
    {
      "cell_type": "code",
      "execution_count": 27,
      "metadata": {
        "colab": {
          "base_uri": "https://localhost:8080/"
        },
        "id": "Q_xsLrd-b8H5",
        "outputId": "ee27282c-7831-4a6b-ab73-c9e4af6ef194"
      },
      "outputs": [
        {
          "name": "stdout",
          "output_type": "stream",
          "text": [
            "Test Classification Report:\n",
            "              precision    recall  f1-score   support\n",
            "\n",
            "           0       0.63      0.85      0.72      1191\n",
            "           1       0.70      0.40      0.51      1009\n",
            "\n",
            "    accuracy                           0.64      2200\n",
            "   macro avg       0.66      0.62      0.61      2200\n",
            "weighted avg       0.66      0.64      0.62      2200\n",
            "\n"
          ]
        }
      ],
      "source": [
        "# Validation\n",
        "model.eval()\n",
        "y_true, y_pred = [], []\n",
        "with torch.no_grad():\n",
        "    for images, labels in test_loader:\n",
        "        images, labels = images.to(device), labels.to(device)\n",
        "        outputs = model(images).squeeze()\n",
        "        preds = (torch.sigmoid(outputs) > 0.5).int()\n",
        "        y_true.extend(labels.cpu().numpy())\n",
        "        y_pred.extend(preds.cpu().numpy())\n",
        "\n",
        "print(\"Test Classification Report:\")\n",
        "print(classification_report(y_true, y_pred))"
      ]
    },
    {
      "cell_type": "markdown",
      "metadata": {
        "id": "IZrLnI-C2-nQ"
      },
      "source": [
        "The results highlight the significant impact of dataset imbalance on the model's performance.\n",
        "\n",
        "- **Precision for Class 1**:  \n",
        "  With a precision of 0.33, the model is correct 33% of times when it predicts class 1.\n",
        "\n",
        "- **Recall for Class 1**:  \n",
        "  A recall of 0.01 indicates that the model correctly identifies only 1% of actual positive cases.\n",
        "\n",
        "The overall accuracy (83%) and the high performance on **class 0** are driven by the dataset imbalance, as the majority of the samples belong to this class."
      ]
    },
    {
      "cell_type": "markdown",
      "metadata": {
        "id": "KvYl-6cQaNy5"
      },
      "source": [
        "# Data Augmentation and Balancing for Class 1  \n",
        "This section implements data augmentation techniques to balance the dataset and improve the model's ability to detect positive cases (Class 1 - \"Infiltration\"). Augmentation is applied selectively to Class 1 images, and the augmented data is combined with the original dataset for training."
      ]
    },
    {
      "cell_type": "markdown",
      "metadata": {
        "id": "gE92LJTye8on"
      },
      "source": [
        "## TensorFlow Keras / MobileNetV2 (with Data Augmentation)"
      ]
    },
    {
      "cell_type": "code",
      "execution_count": 28,
      "metadata": {
        "colab": {
          "base_uri": "https://localhost:8080/"
        },
        "id": "-me3D_MdObB_",
        "outputId": "90762e2d-22f7-4a71-8f94-bc02d6a0f245"
      },
      "outputs": [
        {
          "name": "stdout",
          "output_type": "stream",
          "text": [
            "1000\n"
          ]
        }
      ],
      "source": [
        "class_1_sampled_to_augment = random.sample(class_1_sampled, 1000)\n",
        "print(len(class_1_sampled_to_augment))"
      ]
    },
    {
      "cell_type": "code",
      "execution_count": 29,
      "metadata": {
        "id": "3S6XTEEHOx15"
      },
      "outputs": [],
      "source": [
        "def augment_image(image):\n",
        "    # Augmentation operations\n",
        "    image = tf.image.random_flip_left_right(image)  # Horizontal Flip\n",
        "    image = tf.image.random_flip_up_down(image)    # Vertical Flip\n",
        "    image = tf.image.rot90(image, k=np.random.randint(1, 4))  # Random rotation\n",
        "    return image\n",
        "\n",
        "# Preprocessing and augmentation function\n",
        "def preprocess_and_augment(image_path, label):\n",
        "    image = tf.io.read_file(image_path)\n",
        "    image = tf.image.decode_png(image, channels=3)\n",
        "    image = tf.image.resize(image, [224, 224]) / 255.0\n",
        "    image = augment_image(image)\n",
        "    return image, label\n",
        "\n",
        "class_1_paths_to_augment = [item['image_path'] for item in class_1_sampled_to_augment]\n",
        "class_1_labels_to_augment = [1] * len(class_1_paths_to_augment)\n",
        "class_1_sampled_to_augment = tf.data.Dataset.from_tensor_slices((class_1_paths_to_augment, class_1_labels_to_augment))\n",
        "\n",
        "class_1_sampled_augmented = class_1_sampled_to_augment.map(preprocess_and_augment, num_parallel_calls=tf.data.AUTOTUNE)"
      ]
    },
    {
      "cell_type": "code",
      "execution_count": 30,
      "metadata": {
        "colab": {
          "base_uri": "https://localhost:8080/"
        },
        "id": "8jI8a0vN9ybR",
        "outputId": "d9c78ff8-774d-4c8d-e47c-0e83f502ad20"
      },
      "outputs": [
        {
          "name": "stdout",
          "output_type": "stream",
          "text": [
            "Number of augmented samples: 1000\n"
          ]
        }
      ],
      "source": [
        "augmented_count = sum(1 for _ in class_1_sampled_augmented)\n",
        "print(f\"Number of augmented samples: {augmented_count}\")"
      ]
    },
    {
      "cell_type": "code",
      "execution_count": 31,
      "metadata": {
        "colab": {
          "base_uri": "https://localhost:8080/"
        },
        "id": "nwaNec1UVc5Q",
        "outputId": "3c9fc7e3-853b-465e-dedb-a2b87629fe98"
      },
      "outputs": [
        {
          "name": "stdout",
          "output_type": "stream",
          "text": [
            "12000\n"
          ]
        }
      ],
      "source": [
        "final_dataset = dataset_nobatch.concatenate(class_1_sampled_augmented)\n",
        "print(len(final_dataset))"
      ]
    },
    {
      "cell_type": "code",
      "execution_count": 32,
      "metadata": {
        "id": "1hUEnEe8X93s"
      },
      "outputs": [],
      "source": [
        "# Apply shuffle and batching to the combined dataset\n",
        "final_dataset = final_dataset.shuffle(buffer_size=len(final_dataset))\n",
        "final_dataset = final_dataset.batch(64).prefetch(tf.data.AUTOTUNE)"
      ]
    },
    {
      "cell_type": "code",
      "execution_count": 33,
      "metadata": {
        "id": "7h5SFQQdyesh"
      },
      "outputs": [],
      "source": [
        "dataset_size = len(final_dataset)\n",
        "test_size = int(dataset_size * 0.2)\n",
        "train_size = dataset_size - test_size\n",
        "\n",
        "test_set = final_dataset.take(test_size)  # Top 20% for the test\n",
        "train_set = final_dataset.skip(test_size)  # Remaining 80% for training"
      ]
    },
    {
      "cell_type": "code",
      "execution_count": 34,
      "metadata": {
        "colab": {
          "base_uri": "https://localhost:8080/"
        },
        "id": "8dymz0-ix2Px",
        "outputId": "3ae58418-14cc-49e6-a0ed-4806ddfcb955"
      },
      "outputs": [
        {
          "name": "stdout",
          "output_type": "stream",
          "text": [
            "Dataset totale: 188\n",
            "Test set: 37\n",
            "Training set: 151\n"
          ]
        }
      ],
      "source": [
        "print(f\"Dataset totale: {dataset_size}\")\n",
        "print(f\"Test set: {test_size}\")\n",
        "print(f\"Training set: {train_size}\")"
      ]
    },
    {
      "cell_type": "code",
      "execution_count": 35,
      "metadata": {
        "id": "70I2YunzrtIB"
      },
      "outputs": [],
      "source": [
        "optimizer = tf.keras.optimizers.Adam(learning_rate=0.001)\n",
        "model_tf.compile(optimizer=optimizer, loss='binary_crossentropy', metrics=['accuracy'])"
      ]
    },
    {
      "cell_type": "code",
      "execution_count": 36,
      "metadata": {
        "colab": {
          "base_uri": "https://localhost:8080/"
        },
        "id": "WQ0zEdcPzP3T",
        "outputId": "387cc282-72d3-4d36-d3fb-1c54595251f2"
      },
      "outputs": [
        {
          "name": "stdout",
          "output_type": "stream",
          "text": [
            "Epoch 1/4\n",
            "\u001b[1m151/151\u001b[0m \u001b[32m━━━━━━━━━━━━━━━━━━━━\u001b[0m\u001b[37m\u001b[0m \u001b[1m61s\u001b[0m 71ms/step - accuracy: 0.6555 - loss: 0.6119\n",
            "Epoch 2/4\n",
            "\u001b[1m151/151\u001b[0m \u001b[32m━━━━━━━━━━━━━━━━━━━━\u001b[0m\u001b[37m\u001b[0m \u001b[1m52s\u001b[0m 58ms/step - accuracy: 0.6728 - loss: 0.5802\n",
            "Epoch 3/4\n",
            "\u001b[1m151/151\u001b[0m \u001b[32m━━━━━━━━━━━━━━━━━━━━\u001b[0m\u001b[37m\u001b[0m \u001b[1m52s\u001b[0m 58ms/step - accuracy: 0.6692 - loss: 0.5824\n",
            "Epoch 4/4\n",
            "\u001b[1m151/151\u001b[0m \u001b[32m━━━━━━━━━━━━━━━━━━━━\u001b[0m\u001b[37m\u001b[0m \u001b[1m52s\u001b[0m 58ms/step - accuracy: 0.6757 - loss: 0.5736\n"
          ]
        }
      ],
      "source": [
        "history = model_tf.fit(train_set, epochs=4)"
      ]
    },
    {
      "cell_type": "code",
      "execution_count": 37,
      "metadata": {
        "colab": {
          "base_uri": "https://localhost:8080/"
        },
        "id": "r0STPpIBzRLa",
        "outputId": "0f8cd113-4a29-4a9d-a7a2-3c3fe3a4bcdf"
      },
      "outputs": [
        {
          "name": "stdout",
          "output_type": "stream",
          "text": [
            "\u001b[1m37/37\u001b[0m \u001b[32m━━━━━━━━━━━━━━━━━━━━\u001b[0m\u001b[37m\u001b[0m \u001b[1m48s\u001b[0m 59ms/step - accuracy: 0.6842 - loss: 0.5612\n",
            "Test Loss: 0.5692644119262695, Test Accuracy: 0.6803209185600281\n"
          ]
        }
      ],
      "source": [
        "test_loss, test_accuracy = model_tf.evaluate(test_set)\n",
        "print(f\"Test Loss: {test_loss}, Test Accuracy: {test_accuracy}\")"
      ]
    },
    {
      "cell_type": "code",
      "execution_count": 38,
      "metadata": {
        "colab": {
          "base_uri": "https://localhost:8080/"
        },
        "id": "v5CELpEyC7we",
        "outputId": "4a10de28-ff5e-4aa6-e9f1-a93d530ee781"
      },
      "outputs": [
        {
          "name": "stdout",
          "output_type": "stream",
          "text": [
            "\u001b[1m2/2\u001b[0m \u001b[32m━━━━━━━━━━━━━━━━━━━━\u001b[0m\u001b[37m\u001b[0m \u001b[1m2s\u001b[0m 24ms/step\n",
            "\u001b[1m2/2\u001b[0m \u001b[32m━━━━━━━━━━━━━━━━━━━━\u001b[0m\u001b[37m\u001b[0m \u001b[1m0s\u001b[0m 32ms/step\n",
            "\u001b[1m2/2\u001b[0m \u001b[32m━━━━━━━━━━━━━━━━━━━━\u001b[0m\u001b[37m\u001b[0m \u001b[1m0s\u001b[0m 32ms/step\n",
            "\u001b[1m2/2\u001b[0m \u001b[32m━━━━━━━━━━━━━━━━━━━━\u001b[0m\u001b[37m\u001b[0m \u001b[1m0s\u001b[0m 27ms/step\n",
            "\u001b[1m2/2\u001b[0m \u001b[32m━━━━━━━━━━━━━━━━━━━━\u001b[0m\u001b[37m\u001b[0m \u001b[1m0s\u001b[0m 27ms/step\n",
            "\u001b[1m2/2\u001b[0m \u001b[32m━━━━━━━━━━━━━━━━━━━━\u001b[0m\u001b[37m\u001b[0m \u001b[1m0s\u001b[0m 27ms/step\n",
            "\u001b[1m2/2\u001b[0m \u001b[32m━━━━━━━━━━━━━━━━━━━━\u001b[0m\u001b[37m\u001b[0m \u001b[1m0s\u001b[0m 25ms/step\n",
            "\u001b[1m2/2\u001b[0m \u001b[32m━━━━━━━━━━━━━━━━━━━━\u001b[0m\u001b[37m\u001b[0m \u001b[1m0s\u001b[0m 24ms/step\n",
            "\u001b[1m2/2\u001b[0m \u001b[32m━━━━━━━━━━━━━━━━━━━━\u001b[0m\u001b[37m\u001b[0m \u001b[1m0s\u001b[0m 24ms/step\n",
            "\u001b[1m2/2\u001b[0m \u001b[32m━━━━━━━━━━━━━━━━━━━━\u001b[0m\u001b[37m\u001b[0m \u001b[1m0s\u001b[0m 24ms/step\n",
            "\u001b[1m2/2\u001b[0m \u001b[32m━━━━━━━━━━━━━━━━━━━━\u001b[0m\u001b[37m\u001b[0m \u001b[1m0s\u001b[0m 24ms/step\n",
            "\u001b[1m2/2\u001b[0m \u001b[32m━━━━━━━━━━━━━━━━━━━━\u001b[0m\u001b[37m\u001b[0m \u001b[1m0s\u001b[0m 24ms/step\n",
            "\u001b[1m2/2\u001b[0m \u001b[32m━━━━━━━━━━━━━━━━━━━━\u001b[0m\u001b[37m\u001b[0m \u001b[1m0s\u001b[0m 24ms/step\n",
            "\u001b[1m2/2\u001b[0m \u001b[32m━━━━━━━━━━━━━━━━━━━━\u001b[0m\u001b[37m\u001b[0m \u001b[1m0s\u001b[0m 23ms/step\n",
            "\u001b[1m2/2\u001b[0m \u001b[32m━━━━━━━━━━━━━━━━━━━━\u001b[0m\u001b[37m\u001b[0m \u001b[1m0s\u001b[0m 23ms/step\n",
            "\u001b[1m2/2\u001b[0m \u001b[32m━━━━━━━━━━━━━━━━━━━━\u001b[0m\u001b[37m\u001b[0m \u001b[1m0s\u001b[0m 23ms/step\n",
            "\u001b[1m2/2\u001b[0m \u001b[32m━━━━━━━━━━━━━━━━━━━━\u001b[0m\u001b[37m\u001b[0m \u001b[1m0s\u001b[0m 22ms/step\n",
            "\u001b[1m2/2\u001b[0m \u001b[32m━━━━━━━━━━━━━━━━━━━━\u001b[0m\u001b[37m\u001b[0m \u001b[1m0s\u001b[0m 22ms/step\n",
            "\u001b[1m2/2\u001b[0m \u001b[32m━━━━━━━━━━━━━━━━━━━━\u001b[0m\u001b[37m\u001b[0m \u001b[1m0s\u001b[0m 22ms/step\n",
            "\u001b[1m2/2\u001b[0m \u001b[32m━━━━━━━━━━━━━━━━━━━━\u001b[0m\u001b[37m\u001b[0m \u001b[1m0s\u001b[0m 22ms/step\n",
            "\u001b[1m2/2\u001b[0m \u001b[32m━━━━━━━━━━━━━━━━━━━━\u001b[0m\u001b[37m\u001b[0m \u001b[1m0s\u001b[0m 22ms/step\n",
            "\u001b[1m2/2\u001b[0m \u001b[32m━━━━━━━━━━━━━━━━━━━━\u001b[0m\u001b[37m\u001b[0m \u001b[1m0s\u001b[0m 22ms/step\n",
            "\u001b[1m2/2\u001b[0m \u001b[32m━━━━━━━━━━━━━━━━━━━━\u001b[0m\u001b[37m\u001b[0m \u001b[1m0s\u001b[0m 23ms/step\n",
            "\u001b[1m2/2\u001b[0m \u001b[32m━━━━━━━━━━━━━━━━━━━━\u001b[0m\u001b[37m\u001b[0m \u001b[1m0s\u001b[0m 22ms/step\n",
            "\u001b[1m2/2\u001b[0m \u001b[32m━━━━━━━━━━━━━━━━━━━━\u001b[0m\u001b[37m\u001b[0m \u001b[1m0s\u001b[0m 22ms/step\n",
            "\u001b[1m2/2\u001b[0m \u001b[32m━━━━━━━━━━━━━━━━━━━━\u001b[0m\u001b[37m\u001b[0m \u001b[1m0s\u001b[0m 22ms/step\n",
            "\u001b[1m2/2\u001b[0m \u001b[32m━━━━━━━━━━━━━━━━━━━━\u001b[0m\u001b[37m\u001b[0m \u001b[1m0s\u001b[0m 22ms/step\n",
            "\u001b[1m2/2\u001b[0m \u001b[32m━━━━━━━━━━━━━━━━━━━━\u001b[0m\u001b[37m\u001b[0m \u001b[1m0s\u001b[0m 22ms/step\n",
            "\u001b[1m2/2\u001b[0m \u001b[32m━━━━━━━━━━━━━━━━━━━━\u001b[0m\u001b[37m\u001b[0m \u001b[1m0s\u001b[0m 22ms/step\n",
            "\u001b[1m2/2\u001b[0m \u001b[32m━━━━━━━━━━━━━━━━━━━━\u001b[0m\u001b[37m\u001b[0m \u001b[1m0s\u001b[0m 22ms/step\n",
            "\u001b[1m2/2\u001b[0m \u001b[32m━━━━━━━━━━━━━━━━━━━━\u001b[0m\u001b[37m\u001b[0m \u001b[1m0s\u001b[0m 22ms/step\n",
            "\u001b[1m2/2\u001b[0m \u001b[32m━━━━━━━━━━━━━━━━━━━━\u001b[0m\u001b[37m\u001b[0m \u001b[1m0s\u001b[0m 22ms/step\n",
            "\u001b[1m2/2\u001b[0m \u001b[32m━━━━━━━━━━━━━━━━━━━━\u001b[0m\u001b[37m\u001b[0m \u001b[1m0s\u001b[0m 22ms/step\n",
            "\u001b[1m2/2\u001b[0m \u001b[32m━━━━━━━━━━━━━━━━━━━━\u001b[0m\u001b[37m\u001b[0m \u001b[1m0s\u001b[0m 23ms/step\n",
            "\u001b[1m2/2\u001b[0m \u001b[32m━━━━━━━━━━━━━━━━━━━━\u001b[0m\u001b[37m\u001b[0m \u001b[1m0s\u001b[0m 22ms/step\n",
            "\u001b[1m2/2\u001b[0m \u001b[32m━━━━━━━━━━━━━━━━━━━━\u001b[0m\u001b[37m\u001b[0m \u001b[1m0s\u001b[0m 23ms/step\n",
            "\u001b[1m2/2\u001b[0m \u001b[32m━━━━━━━━━━━━━━━━━━━━\u001b[0m\u001b[37m\u001b[0m \u001b[1m0s\u001b[0m 22ms/step\n",
            "Classification report for threshold = 0.4\n",
            "              precision    recall  f1-score   support\n",
            "\n",
            "           0       0.73      0.59      0.65      1152\n",
            "           1       0.67      0.79      0.73      1216\n",
            "\n",
            "    accuracy                           0.69      2368\n",
            "   macro avg       0.70      0.69      0.69      2368\n",
            "weighted avg       0.70      0.69      0.69      2368\n",
            "\n",
            "Classification report for threshold = 0.5\n",
            "              precision    recall  f1-score   support\n",
            "\n",
            "           0       0.67      0.77      0.71      1152\n",
            "           1       0.74      0.63      0.68      1216\n",
            "\n",
            "    accuracy                           0.70      2368\n",
            "   macro avg       0.70      0.70      0.70      2368\n",
            "weighted avg       0.71      0.70      0.70      2368\n",
            "\n"
          ]
        }
      ],
      "source": [
        "y_true = []\n",
        "y_pred = []\n",
        "\n",
        "for images, labels in test_set:\n",
        "    preds = model_tf.predict(images)\n",
        "    y_true.extend(labels.numpy())\n",
        "    y_pred.extend(preds.flatten())\n",
        "\n",
        "y_true = np.array(y_true)\n",
        "y_pred = np.array(y_pred)\n",
        "\n",
        "thresholds = [0.4, 0.5]\n",
        "for threshold in thresholds:\n",
        "    y_pred_class = (y_pred > threshold).astype(int)\n",
        "    print(f\"Classification report for threshold = {threshold}\")\n",
        "    print(classification_report(y_true, y_pred_class))\n"
      ]
    },
    {
      "cell_type": "markdown",
      "metadata": {
        "id": "9hR9SZJ_JeZK"
      },
      "source": [
        "The results demonstrate the impact of varying thresholds on the model's performance and its handling of class imbalance. At a low threshold of 0.3, the model achieves high recall for Class 1 (74%) but at the cost of low precision (20%), resulting in many false positives. Increasing the threshold to 0.4 improves overall balance, with Class 1 recall dropping to 57% but precision rising to 23%. At the standard threshold of 0.5, precision for Class 1 improves further (27%), but recall decreases to 44%. These results highlight the trade-off between precision and recall for Class 1 and underscore the need for careful threshold selection and strategies to address dataset imbalance."
      ]
    },
    {
      "cell_type": "markdown",
      "metadata": {
        "id": "LqEAIcv8Rm87"
      },
      "source": [
        "## Pytorch / MobileNetV2 (with Data Augmentation)\n"
      ]
    },
    {
      "cell_type": "code",
      "execution_count": 39,
      "metadata": {
        "id": "4pudLRZjZqGo"
      },
      "outputs": [],
      "source": [
        "# Transformations with Data Augmentation\n",
        "augmentation_transforms = transforms.Compose([\n",
        "    transforms.RandomHorizontalFlip(p=0.5),  # Horizontal Flip\n",
        "    transforms.RandomVerticalFlip(p=0.5),    # Vertical Flip\n",
        "    transforms.RandomRotation(degrees=90),   # Random rotation within 45°\n",
        "    transforms.Resize((224, 224)),\n",
        "    transforms.ToTensor()])\n",
        "\n",
        "# Basic transformations (without augmentation)\n",
        "base_transforms = transforms.Compose([\n",
        "    transforms.Resize((224, 224)),\n",
        "    transforms.ToTensor()])\n",
        "\n",
        "# Original dataset with basic transformations\n",
        "base_dataset = ChestXRayDataset(balanced_data, transform=base_transforms)"
      ]
    },
    {
      "cell_type": "code",
      "execution_count": 40,
      "metadata": {
        "colab": {
          "base_uri": "https://localhost:8080/"
        },
        "id": "QEjbTgaGO8X9",
        "outputId": "90d6b57a-0120-4c97-8180-791dabbf79b5"
      },
      "outputs": [
        {
          "name": "stdout",
          "output_type": "stream",
          "text": [
            "1000\n",
            "12000\n"
          ]
        }
      ],
      "source": [
        "# Dataset augmented for class 1 only\n",
        "class_1_sampled_to_augment = random.sample(class_1_sampled, 1000)\n",
        "class_1_data_augmented = ChestXRayDataset(class_1_sampled_to_augment, transform=augmentation_transforms)\n",
        "print(len(class_1_data_augmented))\n",
        "\n",
        "# Combine the original and augmented dataset\n",
        "combined_dataset = ConcatDataset([base_dataset, class_1_data_augmented])\n",
        "print(len(combined_dataset))"
      ]
    },
    {
      "cell_type": "code",
      "execution_count": 41,
      "metadata": {
        "id": "klJLhhZDPJMj"
      },
      "outputs": [],
      "source": [
        "# DataLoader\n",
        "train_size = int(0.8 * len(combined_dataset))\n",
        "test_size = len(combined_dataset) - train_size\n",
        "\n",
        "train_dataset, test_dataset = torch.utils.data.random_split(combined_dataset, [train_size, test_size])\n",
        "train_loader = DataLoader(train_dataset, batch_size=64, shuffle=True)\n",
        "test_loader = DataLoader(test_dataset, batch_size=64, shuffle=False)"
      ]
    },
    {
      "cell_type": "markdown",
      "metadata": {
        "id": "b1r7kQPK9nQN"
      },
      "source": [
        "______________________________________________________________________________________________________________________________________"
      ]
    },
    {
      "cell_type": "code",
      "execution_count": 42,
      "metadata": {
        "colab": {
          "base_uri": "https://localhost:8080/",
          "height": 1000
        },
        "id": "G_0nsfuzduL7",
        "outputId": "49ceccfa-0d2a-406c-f476-d797fe8c8786"
      },
      "outputs": [
        {
          "name": "stderr",
          "output_type": "stream",
          "text": [
            "Downloading: \"https://download.pytorch.org/models/mobilenet_v2-7ebf99e0.pth\" to /root/.cache/torch/hub/checkpoints/mobilenet_v2-7ebf99e0.pth\n",
            "100%|██████████| 13.6M/13.6M [00:00<00:00, 104MB/s] \n"
          ]
        },
        {
          "name": "stdout",
          "output_type": "stream",
          "text": [
            "\n",
            "--- Training with Learning Rate: 0.01 ---\n",
            "Epoch 1/4, Training Loss: 0.6574, Test Loss: 0.6475\n",
            "Epoch 2/4, Training Loss: 0.6389, Test Loss: 0.6487\n",
            "Epoch 3/4, Training Loss: 0.6424, Test Loss: 0.6415\n",
            "Epoch 4/4, Training Loss: 0.6415, Test Loss: 0.6378\n",
            "Classification report for threshold = 0.4\n",
            "              precision    recall  f1-score   support\n",
            "\n",
            "           0       0.66      0.48      0.56      1208\n",
            "           1       0.59      0.75      0.66      1192\n",
            "\n",
            "    accuracy                           0.61      2400\n",
            "   macro avg       0.62      0.61      0.61      2400\n",
            "weighted avg       0.62      0.61      0.61      2400\n",
            "\n",
            "Classification report for threshold = 0.5\n",
            "              precision    recall  f1-score   support\n",
            "\n",
            "           0       0.63      0.67      0.65      1208\n",
            "           1       0.64      0.60      0.62      1192\n",
            "\n",
            "    accuracy                           0.63      2400\n",
            "   macro avg       0.63      0.63      0.63      2400\n",
            "weighted avg       0.63      0.63      0.63      2400\n",
            "\n"
          ]
        },
        {
          "data": {
            "image/png": "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",
            "text/plain": [
              "<Figure size 640x480 with 1 Axes>"
            ]
          },
          "metadata": {},
          "output_type": "display_data"
        },
        {
          "name": "stdout",
          "output_type": "stream",
          "text": [
            "\n",
            "--- Training with Learning Rate: 0.001 ---\n",
            "Epoch 1/4, Training Loss: 0.6479, Test Loss: 0.6344\n",
            "Epoch 2/4, Training Loss: 0.6257, Test Loss: 0.6265\n",
            "Epoch 3/4, Training Loss: 0.6168, Test Loss: 0.6303\n",
            "Epoch 4/4, Training Loss: 0.6119, Test Loss: 0.6233\n",
            "Classification report for threshold = 0.4\n",
            "              precision    recall  f1-score   support\n",
            "\n",
            "           0       0.69      0.38      0.49      1208\n",
            "           1       0.57      0.83      0.68      1192\n",
            "\n",
            "    accuracy                           0.60      2400\n",
            "   macro avg       0.63      0.61      0.58      2400\n",
            "weighted avg       0.63      0.60      0.58      2400\n",
            "\n",
            "Classification report for threshold = 0.5\n",
            "              precision    recall  f1-score   support\n",
            "\n",
            "           0       0.65      0.62      0.63      1208\n",
            "           1       0.63      0.66      0.64      1192\n",
            "\n",
            "    accuracy                           0.64      2400\n",
            "   macro avg       0.64      0.64      0.64      2400\n",
            "weighted avg       0.64      0.64      0.64      2400\n",
            "\n"
          ]
        },
        {
          "data": {
            "image/png": "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",
            "text/plain": [
              "<Figure size 640x480 with 1 Axes>"
            ]
          },
          "metadata": {},
          "output_type": "display_data"
        }
      ],
      "source": [
        "# Define a function to calculate test loss\n",
        "def evaluate_model_loss(model, criterion, data_loader, device):\n",
        "    model.eval()\n",
        "    test_loss = 0.0\n",
        "    with torch.no_grad():\n",
        "        for images, labels in data_loader:\n",
        "            images, labels = images.to(device), labels.to(device).float()\n",
        "            outputs = model(images).squeeze()\n",
        "            loss = criterion(outputs, labels)\n",
        "            test_loss += loss.item()\n",
        "    return test_loss / len(data_loader)\n",
        "\n",
        "# Update train_and_evaluate function\n",
        "def train_and_evaluate(model, optimizer, learning_rate, num_epochs, train_loader, test_loader, thresholds=[0.4, 0.5]):\n",
        "    print(f\"\\n--- Training with Learning Rate: {learning_rate} ---\")\n",
        "    training_losses = []\n",
        "    test_losses = []\n",
        "\n",
        "    for epoch in range(num_epochs):\n",
        "        # Training\n",
        "        model.train()\n",
        "        running_loss = 0.0\n",
        "        for images, labels in train_loader:\n",
        "            images, labels = images.to(device), labels.to(device).float()\n",
        "            optimizer.zero_grad()\n",
        "            outputs = model(images).squeeze()\n",
        "            loss = criterion(outputs, labels)\n",
        "            loss.backward()\n",
        "            optimizer.step()\n",
        "            running_loss += loss.item()\n",
        "\n",
        "        # Calculate average training loss\n",
        "        training_loss = running_loss / len(train_loader)\n",
        "        training_losses.append(training_loss)\n",
        "\n",
        "        # Calculate test loss\n",
        "        test_loss = evaluate_model_loss(model, criterion, test_loader, device)\n",
        "        test_losses.append(test_loss)\n",
        "\n",
        "        print(f\"Epoch {epoch+1}/{num_epochs}, Training Loss: {training_loss:.4f}, Test Loss: {test_loss:.4f}\")\n",
        "\n",
        "    # Evaluation\n",
        "    model.eval()\n",
        "    y_true, y_pred = [], []\n",
        "    with torch.no_grad():\n",
        "        for images, labels in test_loader:\n",
        "            images, labels = images.to(device), labels.to(device)\n",
        "            outputs = model(images).squeeze()\n",
        "            probs = torch.sigmoid(outputs)\n",
        "            y_true.extend(labels.cpu().numpy())\n",
        "            y_pred.extend(probs.cpu().numpy())\n",
        "\n",
        "    y_true = np.array(y_true)\n",
        "    y_pred = np.array(y_pred)\n",
        "\n",
        "    # Metrics for each threshold\n",
        "    for threshold in thresholds:\n",
        "        y_pred_class = (y_pred > threshold).astype(int)\n",
        "        print(f\"Classification report for threshold = {threshold}\")\n",
        "        print(classification_report(y_true, y_pred_class))\n",
        "\n",
        "    # Return metrics and losses for analysis\n",
        "    return y_true, y_pred, training_losses, test_losses\n",
        "\n",
        "# Initialize models, optimizers, and train\n",
        "results = {}\n",
        "learning_rates = [0.01, 0.001]\n",
        "\n",
        "for lr in learning_rates:\n",
        "    # Clone the base model\n",
        "    model = mobilenet_v2(weights=MobileNet_V2_Weights.DEFAULT)\n",
        "    model.classifier[1] = nn.Linear(model.last_channel, 1)\n",
        "    model = model.to(device)\n",
        "\n",
        "    # Define optimizer\n",
        "    optimizer = optim.Adam(model.classifier.parameters(), lr=lr)\n",
        "\n",
        "    # Train and evaluate\n",
        "    y_true, y_pred, training_losses, test_losses = train_and_evaluate(model, optimizer, lr, num_epochs=4, train_loader=train_loader, test_loader=test_loader)\n",
        "\n",
        "    # Store results for further analysis\n",
        "    results[lr] = (y_true, y_pred, training_losses, test_losses)\n",
        "\n",
        "    # Plot Training vs Test Loss for this learning rate\n",
        "    plt.figure()\n",
        "    plt.plot(range(1, len(training_losses) + 1), training_losses, label=\"Training Loss\")\n",
        "    plt.plot(range(1, len(test_losses) + 1), test_losses, label=\"Test Loss\")\n",
        "    plt.xlabel(\"Epochs\")\n",
        "    plt.ylabel(\"Loss\")\n",
        "    plt.title(f\"Training vs Test Loss for Learning Rate {lr}\")\n",
        "    plt.legend()\n",
        "    plt.show()"
      ]
    },
    {
      "cell_type": "code",
      "execution_count": 43,
      "metadata": {
        "colab": {
          "base_uri": "https://localhost:8080/"
        },
        "id": "nAcvD6FXqp0f",
        "outputId": "d4d17b4a-ddb5-4323-b179-27cd700b659b"
      },
      "outputs": [
        {
          "name": "stdout",
          "output_type": "stream",
          "text": [
            "[0 0 0 ... 0 0 0] [0.23046397 0.47524658 0.5950423  ... 0.64902633 0.58995247 0.24024668]\n"
          ]
        }
      ],
      "source": [
        "y_true, y_pred = results[0.01][:2]\n",
        "print(y_true, y_pred)"
      ]
    },
    {
      "cell_type": "code",
      "execution_count": 44,
      "metadata": {
        "colab": {
          "base_uri": "https://localhost:8080/",
          "height": 472
        },
        "id": "mgWu3YdCqpwy",
        "outputId": "ad03b274-3462-45e6-b926-8440f5ec8895"
      },
      "outputs": [
        {
          "data": {
            "image/png": "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",
            "text/plain": [
              "<Figure size 640x480 with 1 Axes>"
            ]
          },
          "metadata": {},
          "output_type": "display_data"
        }
      ],
      "source": [
        "from sklearn.metrics import roc_curve, auc, confusion_matrix, ConfusionMatrixDisplay\n",
        "import matplotlib.pyplot as plt\n",
        "\n",
        "# ROC Curve\n",
        "fpr, tpr, thresholds_roc = roc_curve(y_true, y_pred)\n",
        "roc_auc = auc(fpr, tpr)\n",
        "\n",
        "plt.figure()\n",
        "plt.plot(fpr, tpr, color='darkorange', lw=2, label=f'ROC curve (AUC = {roc_auc:.2f})')\n",
        "plt.plot([0, 1], [0, 1], color='navy', lw=2, linestyle='--')\n",
        "plt.xlabel('False Positive Rate')\n",
        "plt.ylabel('True Positive Rate')\n",
        "plt.title('Receiver Operating Characteristic (Learning Rate = 0.01)')\n",
        "plt.legend(loc='lower right')\n",
        "plt.show()"
      ]
    },
    {
      "cell_type": "code",
      "execution_count": 46,
      "metadata": {
        "colab": {
          "base_uri": "https://localhost:8080/",
          "height": 1000
        },
        "id": "rjTGNC49q7tB",
        "outputId": "51372dd0-673e-4a79-c2be-f6dcebfb36d8"
      },
      "outputs": [
        {
          "name": "stdout",
          "output_type": "stream",
          "text": [
            "Threshold: inf, FPR: 0.00, TPR: 0.00\n",
            "Threshold: 0.84, FPR: 0.01, TPR: 0.15\n",
            "Threshold: 0.79, FPR: 0.03, TPR: 0.19\n",
            "Threshold: 0.77, FPR: 0.04, TPR: 0.21\n",
            "Threshold: 0.75, FPR: 0.06, TPR: 0.24\n",
            "Threshold: 0.72, FPR: 0.07, TPR: 0.28\n",
            "Threshold: 0.70, FPR: 0.09, TPR: 0.30\n",
            "Threshold: 0.68, FPR: 0.11, TPR: 0.33\n",
            "Threshold: 0.66, FPR: 0.13, TPR: 0.35\n",
            "Threshold: 0.65, FPR: 0.14, TPR: 0.37\n",
            "Threshold: 0.63, FPR: 0.17, TPR: 0.39\n",
            "Threshold: 0.62, FPR: 0.19, TPR: 0.41\n",
            "Threshold: 0.60, FPR: 0.21, TPR: 0.44\n",
            "Threshold: 0.58, FPR: 0.23, TPR: 0.47\n",
            "Threshold: 0.57, FPR: 0.25, TPR: 0.49\n",
            "Threshold: 0.55, FPR: 0.27, TPR: 0.51\n",
            "Threshold: 0.54, FPR: 0.29, TPR: 0.53\n",
            "Threshold: 0.52, FPR: 0.30, TPR: 0.55\n",
            "Threshold: 0.50, FPR: 0.33, TPR: 0.59\n",
            "Threshold: 0.50, FPR: 0.35, TPR: 0.61\n",
            "Threshold: 0.48, FPR: 0.37, TPR: 0.63\n",
            "Threshold: 0.47, FPR: 0.39, TPR: 0.65\n",
            "Threshold: 0.46, FPR: 0.41, TPR: 0.67\n",
            "Threshold: 0.44, FPR: 0.44, TPR: 0.68\n",
            "Threshold: 0.43, FPR: 0.47, TPR: 0.70\n",
            "Threshold: 0.42, FPR: 0.49, TPR: 0.73\n",
            "Threshold: 0.40, FPR: 0.51, TPR: 0.75\n",
            "Threshold: 0.39, FPR: 0.55, TPR: 0.76\n",
            "Threshold: 0.37, FPR: 0.57, TPR: 0.78\n",
            "Threshold: 0.36, FPR: 0.59, TPR: 0.80\n",
            "Threshold: 0.35, FPR: 0.63, TPR: 0.82\n",
            "Threshold: 0.33, FPR: 0.66, TPR: 0.85\n",
            "Threshold: 0.32, FPR: 0.69, TPR: 0.86\n",
            "Threshold: 0.30, FPR: 0.71, TPR: 0.88\n",
            "Threshold: 0.29, FPR: 0.72, TPR: 0.90\n",
            "Threshold: 0.27, FPR: 0.77, TPR: 0.91\n",
            "Threshold: 0.26, FPR: 0.79, TPR: 0.93\n",
            "Threshold: 0.24, FPR: 0.83, TPR: 0.94\n",
            "Threshold: 0.22, FPR: 0.86, TPR: 0.95\n",
            "Threshold: 0.19, FPR: 0.91, TPR: 0.97\n",
            "Threshold: 0.15, FPR: 0.95, TPR: 0.98\n",
            "Threshold: 0.11, FPR: 0.99, TPR: 0.99\n"
          ]
        },
        {
          "data": {
            "image/png": "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",
            "text/plain": [
              "<Figure size 640x480 with 2 Axes>"
            ]
          },
          "metadata": {},
          "output_type": "display_data"
        }
      ],
      "source": [
        "for i, (thr, fp, tp) in enumerate(zip(thresholds_roc, fpr, tpr)):\n",
        "    if i % 25 == 0:  # Print key thresholds\n",
        "        print(f\"Threshold: {thr:.2f}, FPR: {fp:.2f}, TPR: {tp:.2f}\")\n",
        "\n",
        "# Confusion Matrix for threshold = 0.4\n",
        "threshold = 0.5\n",
        "y_pred_class = (y_pred > threshold).astype(int)\n",
        "cm = confusion_matrix(y_true, y_pred_class)\n",
        "\n",
        "disp = ConfusionMatrixDisplay(confusion_matrix=cm, display_labels=['Class 0', 'Class 1'])\n",
        "disp.plot(cmap='Blues', values_format='d')\n",
        "plt.title('Confusion Matrix (Learning Rate = 0.01, Threshold = 0.4)')\n",
        "plt.show()"
      ]
    },
    {
      "cell_type": "markdown",
      "metadata": {
        "id": "S4tWatrEsn_9"
      },
      "source": [
        "The model demonstrates a good balance in recognizing **Class 0**, with a low false positive rate and high accuracy (87.3%). However, its performance on **Class 1** is disappointing, as it correctly identifies only about 50% of positive cases while misclassifying the other half as false negatives. Although it might seem like the model is \"guessing\" on **Class 1**, it is not entirely equivalent to flipping a coin, given its strong performance on **Class 0**. That said, if the primary goal is to identify **Class 1**, the model is far from reliable. This version, while the best I have been able to achieve with the current dataset and methods, is not suitable for practical applications. Significant improvements, particularly in addressing dataset imbalance and optimizing performance on **Class 1**, are required."
      ]
    }
  ],
  "metadata": {
    "accelerator": "GPU",
    "colab": {
      "collapsed_sections": [
        "dRjn9PgjNzAh"
      ],
      "gpuType": "T4",
      "machine_shape": "hm",
      "provenance": []
    },
    "kernelspec": {
      "display_name": "Python 3",
      "name": "python3"
    },
    "language_info": {
      "name": "python"
    }
  },
  "nbformat": 4,
  "nbformat_minor": 0
>>>>>>> dd8deb7e4be8a7f4d22635131d6ad8b1b1ead28c
}
